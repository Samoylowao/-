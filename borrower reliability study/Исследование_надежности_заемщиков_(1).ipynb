{
  "cells": [
    {
      "cell_type": "markdown",
      "id": "c81daeeb",
      "metadata": {
        "deletable": false,
        "editable": false,
        "id": "c81daeeb"
      },
      "source": [
        "# Исследование надежности заемщиков\n"
      ]
    },
    {
      "cell_type": "markdown",
      "id": "744d7639",
      "metadata": {
        "deletable": false,
        "editable": false,
        "id": "744d7639"
      },
      "source": [
        "## Откройте таблицу и изучите общую информацию о данных"
      ]
    },
    {
      "cell_type": "markdown",
      "id": "e7a14c31",
      "metadata": {
        "deletable": false,
        "editable": false,
        "id": "e7a14c31"
      },
      "source": [
        "Импортируем библиотеку и сохраним датафрейм в переменную"
      ]
    },
    {
      "cell_type": "code",
      "execution_count": null,
      "id": "7bcf75c9",
      "metadata": {
        "deletable": false,
        "id": "7bcf75c9"
      },
      "outputs": [],
      "source": [
        "import pandas as pd\n",
        "\n",
        "try:\n",
        "    data = pd.read_csv('/datasets/data.csv')\n",
        "except:\n",
        "    data = pd.read_csv('https://code.s3.yandex.net/datasets/data.csv')"
      ]
    },
    {
      "cell_type": "markdown",
      "id": "b8038fe3",
      "metadata": {
        "deletable": false,
        "editable": false,
        "id": "b8038fe3"
      },
      "source": [
        "Выведем первые 20 строчек датафрейма `data` на экран."
      ]
    },
    {
      "cell_type": "code",
      "execution_count": null,
      "id": "2a7cab99",
      "metadata": {
        "deletable": false,
        "id": "2a7cab99",
        "outputId": "1a8f3ef2-d323-4ec2-ddf7-89670b5944c4",
        "scrolled": false
      },
      "outputs": [
        {
          "data": {
            "text/html": [
              "<div>\n",
              "<style scoped>\n",
              "    .dataframe tbody tr th:only-of-type {\n",
              "        vertical-align: middle;\n",
              "    }\n",
              "\n",
              "    .dataframe tbody tr th {\n",
              "        vertical-align: top;\n",
              "    }\n",
              "\n",
              "    .dataframe thead th {\n",
              "        text-align: right;\n",
              "    }\n",
              "</style>\n",
              "<table border=\"1\" class=\"dataframe\">\n",
              "  <thead>\n",
              "    <tr style=\"text-align: right;\">\n",
              "      <th></th>\n",
              "      <th>children</th>\n",
              "      <th>days_employed</th>\n",
              "      <th>dob_years</th>\n",
              "      <th>education</th>\n",
              "      <th>education_id</th>\n",
              "      <th>family_status</th>\n",
              "      <th>family_status_id</th>\n",
              "      <th>gender</th>\n",
              "      <th>income_type</th>\n",
              "      <th>debt</th>\n",
              "      <th>total_income</th>\n",
              "      <th>purpose</th>\n",
              "    </tr>\n",
              "  </thead>\n",
              "  <tbody>\n",
              "    <tr>\n",
              "      <th>0</th>\n",
              "      <td>1</td>\n",
              "      <td>-8437.673028</td>\n",
              "      <td>42</td>\n",
              "      <td>высшее</td>\n",
              "      <td>0</td>\n",
              "      <td>женат / замужем</td>\n",
              "      <td>0</td>\n",
              "      <td>F</td>\n",
              "      <td>сотрудник</td>\n",
              "      <td>0</td>\n",
              "      <td>253875.639453</td>\n",
              "      <td>покупка жилья</td>\n",
              "    </tr>\n",
              "    <tr>\n",
              "      <th>1</th>\n",
              "      <td>1</td>\n",
              "      <td>-4024.803754</td>\n",
              "      <td>36</td>\n",
              "      <td>среднее</td>\n",
              "      <td>1</td>\n",
              "      <td>женат / замужем</td>\n",
              "      <td>0</td>\n",
              "      <td>F</td>\n",
              "      <td>сотрудник</td>\n",
              "      <td>0</td>\n",
              "      <td>112080.014102</td>\n",
              "      <td>приобретение автомобиля</td>\n",
              "    </tr>\n",
              "    <tr>\n",
              "      <th>2</th>\n",
              "      <td>0</td>\n",
              "      <td>-5623.422610</td>\n",
              "      <td>33</td>\n",
              "      <td>Среднее</td>\n",
              "      <td>1</td>\n",
              "      <td>женат / замужем</td>\n",
              "      <td>0</td>\n",
              "      <td>M</td>\n",
              "      <td>сотрудник</td>\n",
              "      <td>0</td>\n",
              "      <td>145885.952297</td>\n",
              "      <td>покупка жилья</td>\n",
              "    </tr>\n",
              "    <tr>\n",
              "      <th>3</th>\n",
              "      <td>3</td>\n",
              "      <td>-4124.747207</td>\n",
              "      <td>32</td>\n",
              "      <td>среднее</td>\n",
              "      <td>1</td>\n",
              "      <td>женат / замужем</td>\n",
              "      <td>0</td>\n",
              "      <td>M</td>\n",
              "      <td>сотрудник</td>\n",
              "      <td>0</td>\n",
              "      <td>267628.550329</td>\n",
              "      <td>дополнительное образование</td>\n",
              "    </tr>\n",
              "    <tr>\n",
              "      <th>4</th>\n",
              "      <td>0</td>\n",
              "      <td>340266.072047</td>\n",
              "      <td>53</td>\n",
              "      <td>среднее</td>\n",
              "      <td>1</td>\n",
              "      <td>гражданский брак</td>\n",
              "      <td>1</td>\n",
              "      <td>F</td>\n",
              "      <td>пенсионер</td>\n",
              "      <td>0</td>\n",
              "      <td>158616.077870</td>\n",
              "      <td>сыграть свадьбу</td>\n",
              "    </tr>\n",
              "    <tr>\n",
              "      <th>5</th>\n",
              "      <td>0</td>\n",
              "      <td>-926.185831</td>\n",
              "      <td>27</td>\n",
              "      <td>высшее</td>\n",
              "      <td>0</td>\n",
              "      <td>гражданский брак</td>\n",
              "      <td>1</td>\n",
              "      <td>M</td>\n",
              "      <td>компаньон</td>\n",
              "      <td>0</td>\n",
              "      <td>255763.565419</td>\n",
              "      <td>покупка жилья</td>\n",
              "    </tr>\n",
              "    <tr>\n",
              "      <th>6</th>\n",
              "      <td>0</td>\n",
              "      <td>-2879.202052</td>\n",
              "      <td>43</td>\n",
              "      <td>высшее</td>\n",
              "      <td>0</td>\n",
              "      <td>женат / замужем</td>\n",
              "      <td>0</td>\n",
              "      <td>F</td>\n",
              "      <td>компаньон</td>\n",
              "      <td>0</td>\n",
              "      <td>240525.971920</td>\n",
              "      <td>операции с жильем</td>\n",
              "    </tr>\n",
              "    <tr>\n",
              "      <th>7</th>\n",
              "      <td>0</td>\n",
              "      <td>-152.779569</td>\n",
              "      <td>50</td>\n",
              "      <td>СРЕДНЕЕ</td>\n",
              "      <td>1</td>\n",
              "      <td>женат / замужем</td>\n",
              "      <td>0</td>\n",
              "      <td>M</td>\n",
              "      <td>сотрудник</td>\n",
              "      <td>0</td>\n",
              "      <td>135823.934197</td>\n",
              "      <td>образование</td>\n",
              "    </tr>\n",
              "    <tr>\n",
              "      <th>8</th>\n",
              "      <td>2</td>\n",
              "      <td>-6929.865299</td>\n",
              "      <td>35</td>\n",
              "      <td>ВЫСШЕЕ</td>\n",
              "      <td>0</td>\n",
              "      <td>гражданский брак</td>\n",
              "      <td>1</td>\n",
              "      <td>F</td>\n",
              "      <td>сотрудник</td>\n",
              "      <td>0</td>\n",
              "      <td>95856.832424</td>\n",
              "      <td>на проведение свадьбы</td>\n",
              "    </tr>\n",
              "    <tr>\n",
              "      <th>9</th>\n",
              "      <td>0</td>\n",
              "      <td>-2188.756445</td>\n",
              "      <td>41</td>\n",
              "      <td>среднее</td>\n",
              "      <td>1</td>\n",
              "      <td>женат / замужем</td>\n",
              "      <td>0</td>\n",
              "      <td>M</td>\n",
              "      <td>сотрудник</td>\n",
              "      <td>0</td>\n",
              "      <td>144425.938277</td>\n",
              "      <td>покупка жилья для семьи</td>\n",
              "    </tr>\n",
              "    <tr>\n",
              "      <th>10</th>\n",
              "      <td>2</td>\n",
              "      <td>-4171.483647</td>\n",
              "      <td>36</td>\n",
              "      <td>высшее</td>\n",
              "      <td>0</td>\n",
              "      <td>женат / замужем</td>\n",
              "      <td>0</td>\n",
              "      <td>M</td>\n",
              "      <td>компаньон</td>\n",
              "      <td>0</td>\n",
              "      <td>113943.491460</td>\n",
              "      <td>покупка недвижимости</td>\n",
              "    </tr>\n",
              "    <tr>\n",
              "      <th>11</th>\n",
              "      <td>0</td>\n",
              "      <td>-792.701887</td>\n",
              "      <td>40</td>\n",
              "      <td>среднее</td>\n",
              "      <td>1</td>\n",
              "      <td>женат / замужем</td>\n",
              "      <td>0</td>\n",
              "      <td>F</td>\n",
              "      <td>сотрудник</td>\n",
              "      <td>0</td>\n",
              "      <td>77069.234271</td>\n",
              "      <td>покупка коммерческой недвижимости</td>\n",
              "    </tr>\n",
              "    <tr>\n",
              "      <th>12</th>\n",
              "      <td>0</td>\n",
              "      <td>NaN</td>\n",
              "      <td>65</td>\n",
              "      <td>среднее</td>\n",
              "      <td>1</td>\n",
              "      <td>гражданский брак</td>\n",
              "      <td>1</td>\n",
              "      <td>M</td>\n",
              "      <td>пенсионер</td>\n",
              "      <td>0</td>\n",
              "      <td>NaN</td>\n",
              "      <td>сыграть свадьбу</td>\n",
              "    </tr>\n",
              "    <tr>\n",
              "      <th>13</th>\n",
              "      <td>0</td>\n",
              "      <td>-1846.641941</td>\n",
              "      <td>54</td>\n",
              "      <td>неоконченное высшее</td>\n",
              "      <td>2</td>\n",
              "      <td>женат / замужем</td>\n",
              "      <td>0</td>\n",
              "      <td>F</td>\n",
              "      <td>сотрудник</td>\n",
              "      <td>0</td>\n",
              "      <td>130458.228857</td>\n",
              "      <td>приобретение автомобиля</td>\n",
              "    </tr>\n",
              "    <tr>\n",
              "      <th>14</th>\n",
              "      <td>0</td>\n",
              "      <td>-1844.956182</td>\n",
              "      <td>56</td>\n",
              "      <td>высшее</td>\n",
              "      <td>0</td>\n",
              "      <td>гражданский брак</td>\n",
              "      <td>1</td>\n",
              "      <td>F</td>\n",
              "      <td>компаньон</td>\n",
              "      <td>1</td>\n",
              "      <td>165127.911772</td>\n",
              "      <td>покупка жилой недвижимости</td>\n",
              "    </tr>\n",
              "    <tr>\n",
              "      <th>15</th>\n",
              "      <td>1</td>\n",
              "      <td>-972.364419</td>\n",
              "      <td>26</td>\n",
              "      <td>среднее</td>\n",
              "      <td>1</td>\n",
              "      <td>женат / замужем</td>\n",
              "      <td>0</td>\n",
              "      <td>F</td>\n",
              "      <td>сотрудник</td>\n",
              "      <td>0</td>\n",
              "      <td>116820.904450</td>\n",
              "      <td>строительство собственной недвижимости</td>\n",
              "    </tr>\n",
              "    <tr>\n",
              "      <th>16</th>\n",
              "      <td>0</td>\n",
              "      <td>-1719.934226</td>\n",
              "      <td>35</td>\n",
              "      <td>среднее</td>\n",
              "      <td>1</td>\n",
              "      <td>женат / замужем</td>\n",
              "      <td>0</td>\n",
              "      <td>F</td>\n",
              "      <td>сотрудник</td>\n",
              "      <td>0</td>\n",
              "      <td>289202.704229</td>\n",
              "      <td>недвижимость</td>\n",
              "    </tr>\n",
              "    <tr>\n",
              "      <th>17</th>\n",
              "      <td>0</td>\n",
              "      <td>-2369.999720</td>\n",
              "      <td>33</td>\n",
              "      <td>высшее</td>\n",
              "      <td>0</td>\n",
              "      <td>гражданский брак</td>\n",
              "      <td>1</td>\n",
              "      <td>M</td>\n",
              "      <td>сотрудник</td>\n",
              "      <td>0</td>\n",
              "      <td>90410.586745</td>\n",
              "      <td>строительство недвижимости</td>\n",
              "    </tr>\n",
              "    <tr>\n",
              "      <th>18</th>\n",
              "      <td>0</td>\n",
              "      <td>400281.136913</td>\n",
              "      <td>53</td>\n",
              "      <td>среднее</td>\n",
              "      <td>1</td>\n",
              "      <td>вдовец / вдова</td>\n",
              "      <td>2</td>\n",
              "      <td>F</td>\n",
              "      <td>пенсионер</td>\n",
              "      <td>0</td>\n",
              "      <td>56823.777243</td>\n",
              "      <td>на покупку подержанного автомобиля</td>\n",
              "    </tr>\n",
              "    <tr>\n",
              "      <th>19</th>\n",
              "      <td>0</td>\n",
              "      <td>-10038.818549</td>\n",
              "      <td>48</td>\n",
              "      <td>СРЕДНЕЕ</td>\n",
              "      <td>1</td>\n",
              "      <td>в разводе</td>\n",
              "      <td>3</td>\n",
              "      <td>F</td>\n",
              "      <td>сотрудник</td>\n",
              "      <td>0</td>\n",
              "      <td>242831.107982</td>\n",
              "      <td>на покупку своего автомобиля</td>\n",
              "    </tr>\n",
              "  </tbody>\n",
              "</table>\n",
              "</div>"
            ],
            "text/plain": [
              "    children  days_employed  dob_years            education  education_id  \\\n",
              "0          1   -8437.673028         42               высшее             0   \n",
              "1          1   -4024.803754         36              среднее             1   \n",
              "2          0   -5623.422610         33              Среднее             1   \n",
              "3          3   -4124.747207         32              среднее             1   \n",
              "4          0  340266.072047         53              среднее             1   \n",
              "5          0    -926.185831         27               высшее             0   \n",
              "6          0   -2879.202052         43               высшее             0   \n",
              "7          0    -152.779569         50              СРЕДНЕЕ             1   \n",
              "8          2   -6929.865299         35               ВЫСШЕЕ             0   \n",
              "9          0   -2188.756445         41              среднее             1   \n",
              "10         2   -4171.483647         36               высшее             0   \n",
              "11         0    -792.701887         40              среднее             1   \n",
              "12         0            NaN         65              среднее             1   \n",
              "13         0   -1846.641941         54  неоконченное высшее             2   \n",
              "14         0   -1844.956182         56               высшее             0   \n",
              "15         1    -972.364419         26              среднее             1   \n",
              "16         0   -1719.934226         35              среднее             1   \n",
              "17         0   -2369.999720         33               высшее             0   \n",
              "18         0  400281.136913         53              среднее             1   \n",
              "19         0  -10038.818549         48              СРЕДНЕЕ             1   \n",
              "\n",
              "       family_status  family_status_id gender income_type  debt  \\\n",
              "0    женат / замужем                 0      F   сотрудник     0   \n",
              "1    женат / замужем                 0      F   сотрудник     0   \n",
              "2    женат / замужем                 0      M   сотрудник     0   \n",
              "3    женат / замужем                 0      M   сотрудник     0   \n",
              "4   гражданский брак                 1      F   пенсионер     0   \n",
              "5   гражданский брак                 1      M   компаньон     0   \n",
              "6    женат / замужем                 0      F   компаньон     0   \n",
              "7    женат / замужем                 0      M   сотрудник     0   \n",
              "8   гражданский брак                 1      F   сотрудник     0   \n",
              "9    женат / замужем                 0      M   сотрудник     0   \n",
              "10   женат / замужем                 0      M   компаньон     0   \n",
              "11   женат / замужем                 0      F   сотрудник     0   \n",
              "12  гражданский брак                 1      M   пенсионер     0   \n",
              "13   женат / замужем                 0      F   сотрудник     0   \n",
              "14  гражданский брак                 1      F   компаньон     1   \n",
              "15   женат / замужем                 0      F   сотрудник     0   \n",
              "16   женат / замужем                 0      F   сотрудник     0   \n",
              "17  гражданский брак                 1      M   сотрудник     0   \n",
              "18    вдовец / вдова                 2      F   пенсионер     0   \n",
              "19         в разводе                 3      F   сотрудник     0   \n",
              "\n",
              "     total_income                                 purpose  \n",
              "0   253875.639453                           покупка жилья  \n",
              "1   112080.014102                 приобретение автомобиля  \n",
              "2   145885.952297                           покупка жилья  \n",
              "3   267628.550329              дополнительное образование  \n",
              "4   158616.077870                         сыграть свадьбу  \n",
              "5   255763.565419                           покупка жилья  \n",
              "6   240525.971920                       операции с жильем  \n",
              "7   135823.934197                             образование  \n",
              "8    95856.832424                   на проведение свадьбы  \n",
              "9   144425.938277                 покупка жилья для семьи  \n",
              "10  113943.491460                    покупка недвижимости  \n",
              "11   77069.234271       покупка коммерческой недвижимости  \n",
              "12            NaN                         сыграть свадьбу  \n",
              "13  130458.228857                 приобретение автомобиля  \n",
              "14  165127.911772              покупка жилой недвижимости  \n",
              "15  116820.904450  строительство собственной недвижимости  \n",
              "16  289202.704229                            недвижимость  \n",
              "17   90410.586745              строительство недвижимости  \n",
              "18   56823.777243      на покупку подержанного автомобиля  \n",
              "19  242831.107982            на покупку своего автомобиля  "
            ]
          },
          "execution_count": 2,
          "metadata": {},
          "output_type": "execute_result"
        }
      ],
      "source": [
        "data.head(20)"
      ]
    },
    {
      "cell_type": "markdown",
      "id": "1c12e233",
      "metadata": {
        "deletable": false,
        "editable": false,
        "id": "1c12e233"
      },
      "source": [
        "Выведем основную информацию о датафрейме."
      ]
    },
    {
      "cell_type": "code",
      "execution_count": null,
      "id": "2b757bca",
      "metadata": {
        "deletable": false,
        "id": "2b757bca",
        "outputId": "15376089-8dad-46c9-b520-c05248d43158"
      },
      "outputs": [
        {
          "name": "stdout",
          "output_type": "stream",
          "text": [
            "<class 'pandas.core.frame.DataFrame'>\n",
            "RangeIndex: 21525 entries, 0 to 21524\n",
            "Data columns (total 12 columns):\n",
            " #   Column            Non-Null Count  Dtype  \n",
            "---  ------            --------------  -----  \n",
            " 0   children          21525 non-null  int64  \n",
            " 1   days_employed     19351 non-null  float64\n",
            " 2   dob_years         21525 non-null  int64  \n",
            " 3   education         21525 non-null  object \n",
            " 4   education_id      21525 non-null  int64  \n",
            " 5   family_status     21525 non-null  object \n",
            " 6   family_status_id  21525 non-null  int64  \n",
            " 7   gender            21525 non-null  object \n",
            " 8   income_type       21525 non-null  object \n",
            " 9   debt              21525 non-null  int64  \n",
            " 10  total_income      19351 non-null  float64\n",
            " 11  purpose           21525 non-null  object \n",
            "dtypes: float64(2), int64(5), object(5)\n",
            "memory usage: 2.0+ MB\n"
          ]
        }
      ],
      "source": [
        "data.info()"
      ]
    },
    {
      "cell_type": "markdown",
      "id": "333ec665",
      "metadata": {
        "deletable": false,
        "editable": false,
        "id": "333ec665"
      },
      "source": [
        "## Предобработка данных"
      ]
    },
    {
      "cell_type": "markdown",
      "id": "02d92d53",
      "metadata": {
        "deletable": false,
        "editable": false,
        "id": "02d92d53"
      },
      "source": [
        "### Удаление пропусков"
      ]
    },
    {
      "cell_type": "markdown",
      "id": "cd84967c",
      "metadata": {
        "deletable": false,
        "editable": false,
        "id": "cd84967c"
      },
      "source": [
        "Выведем количество пропущенных значений для каждого столбца. "
      ]
    },
    {
      "cell_type": "code",
      "execution_count": null,
      "id": "7f9b2309",
      "metadata": {
        "deletable": false,
        "id": "7f9b2309",
        "outputId": "81f4d817-781c-465c-ed15-91ce4446810d"
      },
      "outputs": [
        {
          "data": {
            "text/plain": [
              "children               0\n",
              "days_employed       2174\n",
              "dob_years              0\n",
              "education              0\n",
              "education_id           0\n",
              "family_status          0\n",
              "family_status_id       0\n",
              "gender                 0\n",
              "income_type            0\n",
              "debt                   0\n",
              "total_income        2174\n",
              "purpose                0\n",
              "dtype: int64"
            ]
          },
          "execution_count": 4,
          "metadata": {},
          "output_type": "execute_result"
        }
      ],
      "source": [
        "data.isna().sum()"
      ]
    },
    {
      "cell_type": "markdown",
      "id": "db86e27b",
      "metadata": {
        "deletable": false,
        "editable": false,
        "id": "db86e27b"
      },
      "source": [
        "Заполним пропуски в столбце total_income медианой"
      ]
    },
    {
      "cell_type": "code",
      "execution_count": null,
      "id": "42006a93",
      "metadata": {
        "deletable": false,
        "id": "42006a93"
      },
      "outputs": [],
      "source": [
        "for t in data['income_type'].unique():\n",
        "    data.loc[(data['income_type'] == t) & (data['total_income'].isna()), 'total_income'] = \\\n",
        "    data.loc[(data['income_type'] == t), 'total_income'].median()"
      ]
    },
    {
      "cell_type": "markdown",
      "id": "89da5ece",
      "metadata": {
        "deletable": false,
        "editable": false,
        "id": "89da5ece"
      },
      "source": [
        "### Обработка аномальных значений"
      ]
    },
    {
      "cell_type": "markdown",
      "id": "57964554",
      "metadata": {
        "deletable": false,
        "editable": false,
        "id": "57964554"
      },
      "source": [
        "Заменим все отрицательные значения положительными с помощью метода."
      ]
    },
    {
      "cell_type": "code",
      "execution_count": null,
      "id": "f6f055bf",
      "metadata": {
        "deletable": false,
        "id": "f6f055bf"
      },
      "outputs": [],
      "source": [
        "data['days_employed'] = data['days_employed'].abs()"
      ]
    },
    {
      "cell_type": "markdown",
      "id": "6107dd2f",
      "metadata": {
        "deletable": false,
        "editable": false,
        "id": "6107dd2f"
      },
      "source": [
        "Для каждого типа занятости выведем медианное значение трудового стажа `days_employed` в днях."
      ]
    },
    {
      "cell_type": "code",
      "execution_count": null,
      "id": "85a5faf6",
      "metadata": {
        "deletable": false,
        "id": "85a5faf6",
        "outputId": "801ef80e-522b-4668-f34e-565af7432bcf"
      },
      "outputs": [
        {
          "data": {
            "text/plain": [
              "income_type\n",
              "безработный        366413.652744\n",
              "в декрете            3296.759962\n",
              "госслужащий          2689.368353\n",
              "компаньон            1547.382223\n",
              "пенсионер          365213.306266\n",
              "предприниматель       520.848083\n",
              "сотрудник            1574.202821\n",
              "студент               578.751554\n",
              "Name: days_employed, dtype: float64"
            ]
          },
          "execution_count": 7,
          "metadata": {},
          "output_type": "execute_result"
        }
      ],
      "source": [
        "data.groupby('income_type')['days_employed'].agg('median')"
      ]
    },
    {
      "cell_type": "markdown",
      "id": "38d1a030",
      "metadata": {
        "deletable": false,
        "editable": false,
        "id": "38d1a030"
      },
      "source": [
        "У двух типов (безработные и пенсионеры) получатся аномально большие значения. Однако мы оставим их."
      ]
    },
    {
      "cell_type": "markdown",
      "id": "d8a9f147",
      "metadata": {
        "deletable": false,
        "editable": false,
        "id": "d8a9f147"
      },
      "source": [
        "Выведем перечень уникальных значений столбца `children`."
      ]
    },
    {
      "cell_type": "code",
      "execution_count": null,
      "id": "ef5056eb",
      "metadata": {
        "deletable": false,
        "id": "ef5056eb",
        "outputId": "6975b15c-7f95-4697-d16d-a0c79b657b03"
      },
      "outputs": [
        {
          "data": {
            "text/plain": [
              "array([ 1,  0,  3,  2, -1,  4, 20,  5])"
            ]
          },
          "execution_count": 8,
          "metadata": {},
          "output_type": "execute_result"
        }
      ],
      "source": [
        "data['children'].unique()"
      ]
    },
    {
      "cell_type": "markdown",
      "id": "40b9ebf2",
      "metadata": {
        "deletable": false,
        "editable": false,
        "id": "40b9ebf2"
      },
      "source": [
        "Удалим строки, в которых встречаются такие аномальные значения из датафрейма `data`.**"
      ]
    },
    {
      "cell_type": "code",
      "execution_count": null,
      "id": "3ff9801d",
      "metadata": {
        "deletable": false,
        "id": "3ff9801d"
      },
      "outputs": [],
      "source": [
        "data = data[(data['children'] != -1) & (data['children'] != 20)]"
      ]
    },
    {
      "cell_type": "markdown",
      "id": "bbc4d0ce",
      "metadata": {
        "deletable": false,
        "editable": false,
        "id": "bbc4d0ce"
      },
      "source": [
        "Выведем еще раз перечень уникальных значений столбца `children`, чтобы убедиться, что артефакты удалены.**"
      ]
    },
    {
      "cell_type": "code",
      "execution_count": null,
      "id": "ad4fa8b7",
      "metadata": {
        "deletable": false,
        "id": "ad4fa8b7",
        "outputId": "b2097101-d49d-44d9-901b-32a65c9463d1"
      },
      "outputs": [
        {
          "data": {
            "text/plain": [
              "array([1, 0, 3, 2, 4, 5])"
            ]
          },
          "execution_count": 10,
          "metadata": {},
          "output_type": "execute_result"
        }
      ],
      "source": [
        "data['children'].unique()"
      ]
    },
    {
      "cell_type": "markdown",
      "id": "75440b63",
      "metadata": {
        "deletable": false,
        "editable": false,
        "id": "75440b63"
      },
      "source": [
        "### Удаление пропусков (продолжение)"
      ]
    },
    {
      "cell_type": "markdown",
      "id": "f4ea573f",
      "metadata": {
        "deletable": false,
        "editable": false,
        "id": "f4ea573f"
      },
      "source": [
        "Заполним пропуски в столбце `days_employed` медианными значениями по каждого типа занятости `income_type`."
      ]
    },
    {
      "cell_type": "code",
      "execution_count": null,
      "id": "af6b1a7e",
      "metadata": {
        "deletable": false,
        "id": "af6b1a7e"
      },
      "outputs": [],
      "source": [
        "for t in data['income_type'].unique():\n",
        "    data.loc[(data['income_type'] == t) & (data['days_employed'].isna()), 'days_employed'] = \\\n",
        "    data.loc[(data['income_type'] == t), 'days_employed'].median()"
      ]
    },
    {
      "cell_type": "markdown",
      "id": "2753f40d",
      "metadata": {
        "deletable": false,
        "editable": false,
        "id": "2753f40d"
      },
      "source": [
        "Проверим количество пропущенных значений."
      ]
    },
    {
      "cell_type": "code",
      "execution_count": null,
      "id": "55f78bc2",
      "metadata": {
        "deletable": false,
        "id": "55f78bc2",
        "outputId": "8da1e4e1-358e-4e87-98c9-f261bce0a7b2",
        "scrolled": true
      },
      "outputs": [
        {
          "data": {
            "text/plain": [
              "children            0\n",
              "days_employed       0\n",
              "dob_years           0\n",
              "education           0\n",
              "education_id        0\n",
              "family_status       0\n",
              "family_status_id    0\n",
              "gender              0\n",
              "income_type         0\n",
              "debt                0\n",
              "total_income        0\n",
              "purpose             0\n",
              "dtype: int64"
            ]
          },
          "execution_count": 12,
          "metadata": {},
          "output_type": "execute_result"
        }
      ],
      "source": [
        "data.isna().sum()"
      ]
    },
    {
      "cell_type": "markdown",
      "id": "ddc81e43",
      "metadata": {
        "deletable": false,
        "editable": false,
        "id": "ddc81e43"
      },
      "source": [
        "### Изменение типов данных"
      ]
    },
    {
      "cell_type": "markdown",
      "id": "42d19d24",
      "metadata": {
        "deletable": false,
        "editable": false,
        "id": "42d19d24"
      },
      "source": [
        "Заменим вещественный тип данных в столбце `total_income` на целочисленный с помощью метода `astype()`.**"
      ]
    },
    {
      "cell_type": "code",
      "execution_count": null,
      "id": "920b65ad",
      "metadata": {
        "deletable": false,
        "id": "920b65ad"
      },
      "outputs": [],
      "source": [
        "data['total_income'] = data['total_income'].astype(int)"
      ]
    },
    {
      "cell_type": "markdown",
      "id": "80c420ba",
      "metadata": {
        "deletable": false,
        "editable": false,
        "id": "80c420ba"
      },
      "source": [
        "### Обработка дубликатов"
      ]
    },
    {
      "cell_type": "markdown",
      "id": "b7eb215a",
      "metadata": {
        "deletable": false,
        "editable": false,
        "id": "b7eb215a"
      },
      "source": [
        "Обработаем неявные дубликаты в столбце `education`. "
      ]
    },
    {
      "cell_type": "code",
      "execution_count": null,
      "id": "2c470ebd",
      "metadata": {
        "deletable": false,
        "id": "2c470ebd"
      },
      "outputs": [],
      "source": [
        "data['education'] = data['education'].str.lower()"
      ]
    },
    {
      "cell_type": "markdown",
      "id": "dc587695",
      "metadata": {
        "deletable": false,
        "editable": false,
        "id": "dc587695"
      },
      "source": [
        "Выведем на экран количество строк-дубликатов в данных. И удалим их, если присутствуют."
      ]
    },
    {
      "cell_type": "code",
      "execution_count": null,
      "id": "3ee445e4",
      "metadata": {
        "deletable": false,
        "id": "3ee445e4",
        "outputId": "9684deba-1934-42d1-99e1-cda61740f822"
      },
      "outputs": [
        {
          "data": {
            "text/plain": [
              "71"
            ]
          },
          "execution_count": 15,
          "metadata": {},
          "output_type": "execute_result"
        }
      ],
      "source": [
        "data.duplicated().sum()"
      ]
    },
    {
      "cell_type": "code",
      "execution_count": null,
      "id": "8575fe05",
      "metadata": {
        "deletable": false,
        "id": "8575fe05"
      },
      "outputs": [],
      "source": [
        "data = data.drop_duplicates()"
      ]
    },
    {
      "cell_type": "markdown",
      "id": "9904cf55",
      "metadata": {
        "deletable": false,
        "editable": false,
        "id": "9904cf55"
      },
      "source": [
        "### Категоризация данных"
      ]
    },
    {
      "cell_type": "markdown",
      "id": "72fcc8a2",
      "metadata": {
        "deletable": false,
        "editable": false,
        "id": "72fcc8a2"
      },
      "source": [
        "На основании диапазонов, указанных ниже, создайте в датафрейме `data` столбец `total_income_category` с категориями:\n",
        "\n",
        "- 0–30000 — `'E'`;\n",
        "- 30001–50000 — `'D'`;\n",
        "- 50001–200000 — `'C'`;\n",
        "- 200001–1000000 — `'B'`;\n",
        "- 1000001 и выше — `'A'`.\n"
      ]
    },
    {
      "cell_type": "code",
      "execution_count": null,
      "id": "e1771346",
      "metadata": {
        "deletable": false,
        "id": "e1771346"
      },
      "outputs": [],
      "source": [
        "def categorize_income(income):\n",
        "    try:\n",
        "        if 0 <= income <= 30000:\n",
        "            return 'E'\n",
        "        elif 30001 <= income <= 50000:\n",
        "            return 'D'\n",
        "        elif 50001 <= income <= 200000:\n",
        "            return 'C'\n",
        "        elif 200001 <= income <= 1000000:\n",
        "            return 'B'\n",
        "        elif income >= 1000001:\n",
        "            return 'A'\n",
        "    except:\n",
        "        pass"
      ]
    },
    {
      "cell_type": "code",
      "execution_count": null,
      "id": "d5f3586d",
      "metadata": {
        "deletable": false,
        "id": "d5f3586d"
      },
      "outputs": [],
      "source": [
        "data['total_income_category'] = data['total_income'].apply(categorize_income)"
      ]
    },
    {
      "cell_type": "markdown",
      "id": "dde49b5c",
      "metadata": {
        "deletable": false,
        "editable": false,
        "id": "dde49b5c"
      },
      "source": [
        "Выведем перечень уникальных целей взятия кредита из столбца `purpose`."
      ]
    },
    {
      "cell_type": "code",
      "execution_count": null,
      "id": "f67ce9b3",
      "metadata": {
        "deletable": false,
        "id": "f67ce9b3",
        "outputId": "673c12d9-7d7e-4ae0-9812-c622c89dd244"
      },
      "outputs": [
        {
          "data": {
            "text/plain": [
              "array(['покупка жилья', 'приобретение автомобиля',\n",
              "       'дополнительное образование', 'сыграть свадьбу',\n",
              "       'операции с жильем', 'образование', 'на проведение свадьбы',\n",
              "       'покупка жилья для семьи', 'покупка недвижимости',\n",
              "       'покупка коммерческой недвижимости', 'покупка жилой недвижимости',\n",
              "       'строительство собственной недвижимости', 'недвижимость',\n",
              "       'строительство недвижимости', 'на покупку подержанного автомобиля',\n",
              "       'на покупку своего автомобиля',\n",
              "       'операции с коммерческой недвижимостью',\n",
              "       'строительство жилой недвижимости', 'жилье',\n",
              "       'операции со своей недвижимостью', 'автомобили',\n",
              "       'заняться образованием', 'сделка с подержанным автомобилем',\n",
              "       'получение образования', 'автомобиль', 'свадьба',\n",
              "       'получение дополнительного образования', 'покупка своего жилья',\n",
              "       'операции с недвижимостью', 'получение высшего образования',\n",
              "       'свой автомобиль', 'сделка с автомобилем',\n",
              "       'профильное образование', 'высшее образование',\n",
              "       'покупка жилья для сдачи', 'на покупку автомобиля', 'ремонт жилью',\n",
              "       'заняться высшим образованием'], dtype=object)"
            ]
          },
          "execution_count": 19,
          "metadata": {},
          "output_type": "execute_result"
        }
      ],
      "source": [
        "data['purpose'].unique()"
      ]
    },
    {
      "cell_type": "markdown",
      "id": "85d0aef0",
      "metadata": {
        "deletable": false,
        "editable": false,
        "id": "85d0aef0"
      },
      "source": [
        "Создадим функцию, которая на основании данных из столбца `purpose` сформирует новый столбец `purpose_category`, в который войдут следующие категории:\n",
        "\n",
        "- `'операции с автомобилем'`,\n",
        "- `'операции с недвижимостью'`,\n",
        "- `'проведение свадьбы'`,\n",
        "- `'получение образования'`.\n"
      ]
    },
    {
      "cell_type": "code",
      "execution_count": null,
      "id": "e149fab4",
      "metadata": {
        "deletable": false,
        "id": "e149fab4"
      },
      "outputs": [],
      "source": [
        "def categorize_purpose(row):\n",
        "    try:\n",
        "        if 'автом' in row:\n",
        "            return 'операции с автомобилем'\n",
        "        elif 'жил' in row or 'недвиж' in row:\n",
        "            return 'операции с недвижимостью'\n",
        "        elif 'свад' in row:\n",
        "            return 'проведение свадьбы'\n",
        "        elif 'образов' in row:\n",
        "            return 'получение образования'\n",
        "    except:\n",
        "        return 'нет категории'"
      ]
    },
    {
      "cell_type": "code",
      "execution_count": null,
      "id": "bf36e69b",
      "metadata": {
        "deletable": false,
        "id": "bf36e69b"
      },
      "outputs": [],
      "source": [
        "data['purpose_category'] = data['purpose'].apply(categorize_purpose)"
      ]
    },
    {
      "cell_type": "markdown",
      "id": "09b242bf",
      "metadata": {
        "deletable": false,
        "editable": false,
        "id": "09b242bf"
      },
      "source": [
        "### Шаг 3. Исследуйте данные и ответьте на вопросы"
      ]
    },
    {
      "cell_type": "markdown",
      "id": "c5d66278",
      "metadata": {
        "deletable": false,
        "editable": false,
        "id": "c5d66278"
      },
      "source": [
        "#### 3.1 Есть ли зависимость между количеством детей и возвратом кредита в срок?"
      ]
    },
    {
      "cell_type": "code",
      "execution_count": null,
      "id": "2cacfc4a",
      "metadata": {
        "deletable": false,
        "id": "2cacfc4a"
      },
      "outputs": [],
      "source": [
        "\n",
        "#функция для разделения на категории по количеству детей\n",
        "def categorize_children(children):\n",
        "    try:\n",
        "        if children <= 0 :\n",
        "            return 'Бездетный'\n",
        "        elif children <= 2:\n",
        "            return 'Малодетный'       \n",
        "        return 'Многодетный'        \n",
        "    except:\n",
        "        return 'нет категории'"
      ]
    },
    {
      "cell_type": "code",
      "execution_count": null,
      "id": "eec48b33",
      "metadata": {
        "id": "eec48b33"
      },
      "outputs": [],
      "source": [
        "#добавление нового столбца с категориями\n",
        "data['children_categorize'] = data['children'].apply(categorize_children)"
      ]
    },
    {
      "cell_type": "code",
      "execution_count": null,
      "id": "67e0eade",
      "metadata": {
        "scrolled": true,
        "id": "67e0eade",
        "outputId": "567442c8-2239-451a-b2ca-3923f6497ba7"
      },
      "outputs": [
        {
          "data": {
            "text/html": [
              "<div>\n",
              "<style scoped>\n",
              "    .dataframe tbody tr th:only-of-type {\n",
              "        vertical-align: middle;\n",
              "    }\n",
              "\n",
              "    .dataframe tbody tr th {\n",
              "        vertical-align: top;\n",
              "    }\n",
              "\n",
              "    .dataframe thead th {\n",
              "        text-align: right;\n",
              "    }\n",
              "</style>\n",
              "<table border=\"1\" class=\"dataframe\">\n",
              "  <thead>\n",
              "    <tr style=\"text-align: right;\">\n",
              "      <th></th>\n",
              "      <th>Количество</th>\n",
              "      <th>Сумма</th>\n",
              "      <th>Доля просрочки</th>\n",
              "    </tr>\n",
              "    <tr>\n",
              "      <th>children_categorize</th>\n",
              "      <th></th>\n",
              "      <th></th>\n",
              "      <th></th>\n",
              "    </tr>\n",
              "  </thead>\n",
              "  <tbody>\n",
              "    <tr>\n",
              "      <th>Бездетный</th>\n",
              "      <td>14091</td>\n",
              "      <td>1063</td>\n",
              "      <td>0.075438</td>\n",
              "    </tr>\n",
              "    <tr>\n",
              "      <th>Малодетный</th>\n",
              "      <td>6860</td>\n",
              "      <td>638</td>\n",
              "      <td>0.093003</td>\n",
              "    </tr>\n",
              "    <tr>\n",
              "      <th>Многодетный</th>\n",
              "      <td>380</td>\n",
              "      <td>31</td>\n",
              "      <td>0.081579</td>\n",
              "    </tr>\n",
              "  </tbody>\n",
              "</table>\n",
              "</div>"
            ],
            "text/plain": [
              "                     Количество  Сумма  Доля просрочки\n",
              "children_categorize                                   \n",
              "Бездетный                 14091   1063        0.075438\n",
              "Малодетный                 6860    638        0.093003\n",
              "Многодетный                 380     31        0.081579"
            ]
          },
          "metadata": {},
          "output_type": "display_data"
        }
      ],
      "source": [
        "#сводная таблица с данными по к-ву детей и возвратом кредита в срок\n",
        "child_categorize = data.pivot_table(index='children_categorize', values='debt', aggfunc=['count','sum','mean']) \n",
        "child_categorize.columns=['Количество', 'Сумма', 'Доля просрочки']\n",
        "display(child_categorize)\n"
      ]
    },
    {
      "cell_type": "markdown",
      "id": "3a6b99ec",
      "metadata": {
        "deletable": false,
        "editable": false,
        "id": "3a6b99ec"
      },
      "source": [
        "**Вывод:** "
      ]
    },
    {
      "cell_type": "markdown",
      "id": "ef19caeb",
      "metadata": {
        "id": "ef19caeb"
      },
      "source": [
        "Можно сделать вывод, что есть небольшая зависимость между количеством детей и и возвратом кредита в срок. Люди, не имеющие детей, наиболее часто возвращают кредиты в срок. Однако малодетные наиболее часто просрочивают кредиты в сравнении с многодетными. Это выглядит неоднозначно, возможно, нужно иметь больше данных для этой зависимости."
      ]
    },
    {
      "cell_type": "markdown",
      "id": "97be82ca",
      "metadata": {
        "deletable": false,
        "editable": false,
        "id": "97be82ca"
      },
      "source": [
        "#### 3.2 Есть ли зависимость между семейным положением и возвратом кредита в срок?"
      ]
    },
    {
      "cell_type": "code",
      "execution_count": null,
      "id": "dc3f7ee8",
      "metadata": {
        "deletable": false,
        "id": "dc3f7ee8",
        "outputId": "654e067e-b4e3-4675-8cb2-c7bdd28357cd"
      },
      "outputs": [
        {
          "data": {
            "text/html": [
              "<div>\n",
              "<style scoped>\n",
              "    .dataframe tbody tr th:only-of-type {\n",
              "        vertical-align: middle;\n",
              "    }\n",
              "\n",
              "    .dataframe tbody tr th {\n",
              "        vertical-align: top;\n",
              "    }\n",
              "\n",
              "    .dataframe thead th {\n",
              "        text-align: right;\n",
              "    }\n",
              "</style>\n",
              "<table border=\"1\" class=\"dataframe\">\n",
              "  <thead>\n",
              "    <tr style=\"text-align: right;\">\n",
              "      <th></th>\n",
              "      <th>Количество</th>\n",
              "      <th>Сумма</th>\n",
              "      <th>Доля просрочки</th>\n",
              "    </tr>\n",
              "    <tr>\n",
              "      <th>family_status</th>\n",
              "      <th></th>\n",
              "      <th></th>\n",
              "      <th></th>\n",
              "    </tr>\n",
              "  </thead>\n",
              "  <tbody>\n",
              "    <tr>\n",
              "      <th>Не женат / не замужем</th>\n",
              "      <td>2796</td>\n",
              "      <td>273</td>\n",
              "      <td>0.097639</td>\n",
              "    </tr>\n",
              "    <tr>\n",
              "      <th>в разводе</th>\n",
              "      <td>1189</td>\n",
              "      <td>84</td>\n",
              "      <td>0.070648</td>\n",
              "    </tr>\n",
              "    <tr>\n",
              "      <th>вдовец / вдова</th>\n",
              "      <td>951</td>\n",
              "      <td>63</td>\n",
              "      <td>0.066246</td>\n",
              "    </tr>\n",
              "    <tr>\n",
              "      <th>гражданский брак</th>\n",
              "      <td>4134</td>\n",
              "      <td>385</td>\n",
              "      <td>0.093130</td>\n",
              "    </tr>\n",
              "    <tr>\n",
              "      <th>женат / замужем</th>\n",
              "      <td>12261</td>\n",
              "      <td>927</td>\n",
              "      <td>0.075606</td>\n",
              "    </tr>\n",
              "  </tbody>\n",
              "</table>\n",
              "</div>"
            ],
            "text/plain": [
              "                       Количество  Сумма  Доля просрочки\n",
              "family_status                                           \n",
              "Не женат / не замужем        2796    273        0.097639\n",
              "в разводе                    1189     84        0.070648\n",
              "вдовец / вдова                951     63        0.066246\n",
              "гражданский брак             4134    385        0.093130\n",
              "женат / замужем             12261    927        0.075606"
            ]
          },
          "metadata": {},
          "output_type": "display_data"
        }
      ],
      "source": [
        "\n",
        "#сводная таблица с даными по семейному положению и возвратом кредита в срок \n",
        "data_pivot = data.pivot_table(index='family_status', values='debt', aggfunc=['count','sum','mean']) \n",
        "data_pivot.columns=['Количество', 'Сумма', 'Доля просрочки']\n",
        "display(data_pivot)"
      ]
    },
    {
      "cell_type": "markdown",
      "id": "1cef7837",
      "metadata": {
        "deletable": false,
        "editable": false,
        "id": "1cef7837"
      },
      "source": [
        "**Вывод:** "
      ]
    },
    {
      "cell_type": "markdown",
      "id": "bf1c93be",
      "metadata": {
        "id": "bf1c93be"
      },
      "source": [
        "Исходя из результатов сводной таблицы, можно сделать вывод, что зависимость есть. Люди, которые проживают в гражданском браке или никогда не были в браке, имеют наиболее высокий процент невозврата кредита в срок. Вдовцы/вдовы в свою очередь наиболее часто возвращают кредиты в срок. "
      ]
    },
    {
      "cell_type": "markdown",
      "id": "1e8b2fca",
      "metadata": {
        "deletable": false,
        "editable": false,
        "id": "1e8b2fca"
      },
      "source": [
        "#### 3.3 Есть ли зависимость между уровнем дохода и возвратом кредита в срок?"
      ]
    },
    {
      "cell_type": "code",
      "execution_count": null,
      "id": "cd7e3720",
      "metadata": {
        "deletable": false,
        "id": "cd7e3720",
        "scrolled": true,
        "outputId": "f31788a0-633d-402d-9937-4e7a549bb35f"
      },
      "outputs": [
        {
          "name": "stdout",
          "output_type": "stream",
          "text": [
            "                       Количество  Сумма  Доля просрочки\n",
            "total_income_category                                   \n",
            "A                              25      2        0.080000\n",
            "B                            5014    354        0.070602\n",
            "C                           15921   1353        0.084982\n",
            "D                             349     21        0.060172\n",
            "E                              22      2        0.090909\n"
          ]
        }
      ],
      "source": [
        "\n",
        "#Сводная таблица с категориями по уровням дохода и возвратом кредита в срок\n",
        "income_category = data.pivot_table(index='total_income_category', values='debt', aggfunc=['count','sum','mean'])\n",
        "income_category.columns=['Количество', 'Сумма', 'Доля просрочки']\n",
        "print(income_category)"
      ]
    },
    {
      "cell_type": "markdown",
      "id": "e8593def",
      "metadata": {
        "deletable": false,
        "editable": false,
        "id": "e8593def"
      },
      "source": [
        "**Вывод:** "
      ]
    },
    {
      "cell_type": "markdown",
      "id": "27a75e30",
      "metadata": {
        "id": "27a75e30"
      },
      "source": [
        "Исходя из данных сводной таблицы, можно сделать вывод, что наиболее часто в срок возвращают кредиты люди с уровенем дохода 'D', т.е. от 30 001 до 50 000. Задерживать же выплату наиболее склонны люди с уровнем дохода 'E', т.е. до 30 000. Однако их общее количество в таблице по сравнению с другими уровнями дохода меньше, поэтому говорить об определенной зависимости нельзя. "
      ]
    },
    {
      "cell_type": "markdown",
      "id": "99ecbd1f",
      "metadata": {
        "deletable": false,
        "editable": false,
        "id": "99ecbd1f"
      },
      "source": [
        "#### 3.4 Как разные цели кредита влияют на его возврат в срок?"
      ]
    },
    {
      "cell_type": "code",
      "execution_count": null,
      "id": "2b687290",
      "metadata": {
        "deletable": false,
        "id": "2b687290",
        "scrolled": true,
        "outputId": "a4c4804d-8114-4dad-817c-3081ea51ba3c"
      },
      "outputs": [
        {
          "name": "stdout",
          "output_type": "stream",
          "text": [
            "                          Количество  Сумма  Доля просрочки\n",
            "purpose_category                                           \n",
            "операции с автомобилем          4279    400        0.093480\n",
            "операции с недвижимостью       10751    780        0.072551\n",
            "получение образования           3988    369        0.092528\n",
            "проведение свадьбы              2313    183        0.079118\n"
          ]
        }
      ],
      "source": [
        "\n",
        "purpose_category = data.pivot_table(index='purpose_category', values='debt', aggfunc=['count','sum','mean'])\n",
        "purpose_category.columns=['Количество', 'Сумма', 'Доля просрочки']\n",
        "print(purpose_category)"
      ]
    },
    {
      "cell_type": "markdown",
      "id": "b4bb2ce6",
      "metadata": {
        "deletable": false,
        "editable": false,
        "id": "b4bb2ce6"
      },
      "source": [
        "**Вывод:** "
      ]
    },
    {
      "cell_type": "markdown",
      "id": "e3b598b9",
      "metadata": {
        "id": "e3b598b9"
      },
      "source": [
        "Исходя из результатов таблицы, можно сделать вывод, что люди, у которых цель кредита - недвижимость, наиболее часто возвращают кредиты в срок. А также люди, берущие кредит на свадьбу, также склонны возвращать кредит во время. "
      ]
    },
    {
      "cell_type": "markdown",
      "id": "09c3ac4c",
      "metadata": {
        "deletable": false,
        "editable": false,
        "id": "09c3ac4c"
      },
      "source": [
        "#### 3.5 Приведите возможные причины появления пропусков в исходных данных."
      ]
    },
    {
      "cell_type": "markdown",
      "id": "9da2ceda",
      "metadata": {
        "deletable": false,
        "editable": false,
        "id": "9da2ceda"
      },
      "source": [
        "*Ответ:* "
      ]
    },
    {
      "cell_type": "markdown",
      "id": "850b630c",
      "metadata": {
        "id": "850b630c"
      },
      "source": [
        "Возможно, пользователь или человек, который предоставлял информацию, не указал о себе какие-либо данные. Или же данные могли повредиться при выгрузке. Если же данные собирались автоматически, также может быть сбой в этой системе. "
      ]
    },
    {
      "cell_type": "markdown",
      "id": "7b0487d6",
      "metadata": {
        "deletable": false,
        "editable": false,
        "id": "7b0487d6"
      },
      "source": [
        "#### 3.6 Объясните, почему заполнить пропуски медианным значением — лучшее решение для количественных переменных."
      ]
    },
    {
      "cell_type": "markdown",
      "id": "895f666d",
      "metadata": {
        "id": "895f666d"
      },
      "source": [
        "Ответ: Если в данных присутствуют значения, которые выделяются из общей массы или значения во все пропущены, то с помощью медианы можно нивелировать их влияние. Тогда при  дальнейшем анализе мы получим более объективную информацию."
      ]
    },
    {
      "cell_type": "markdown",
      "id": "6db5255a",
      "metadata": {
        "deletable": false,
        "editable": false,
        "id": "6db5255a"
      },
      "source": [
        "### Шаг 4: общий вывод."
      ]
    },
    {
      "cell_type": "markdown",
      "id": "bad65432",
      "metadata": {
        "deletable": false,
        "editable": false,
        "id": "bad65432"
      },
      "source": []
    },
    {
      "cell_type": "markdown",
      "id": "e838d487",
      "metadata": {
        "id": "e838d487"
      },
      "source": [
        "Таким образом, можно сделать вывод, что количество детей влияет на срок оплаты. У людей, не имеющих детей, наименее вероятна задержка платежей. Семейное положение также влияет на вероятность платежей по кредиту в срок. Вдовцы/вдовы и разведенные в наиболее часто возвращают кредиты в срок, в отличие от людей, которые проживают гражданским браком или никогда не были в браке. Они в свою очередь склонны задерживать платежи. \n",
        "В срок также более вероятно вернут кредит взятый на недвижимость и свадьбу, а кредиты на автомобили и образование наиболее склонны возвращать не в срок. \n",
        "Однако зависимости между уровнями дохода и возвращением кредитов в срок не было обнаружено.\n",
        "Можно сказать что для банка наиболее удачным клиентом будет являться: Разведенный человек, не имеющий детей или вдовец/вдова без детей. Наиболее рискованным клиентом в свою очередь является: Человек, проживающий гражданским браком, с детьми или же человек с детьми, который никогда не был в браке. "
      ]
    }
  ],
  "metadata": {
    "ExecuteTimeLog": [
      {
        "duration": 43,
        "start_time": "2022-08-08T06:58:50.236Z"
      },
      {
        "duration": 675,
        "start_time": "2022-08-08T06:59:04.320Z"
      },
      {
        "duration": 20,
        "start_time": "2022-08-08T06:59:07.759Z"
      },
      {
        "duration": 20,
        "start_time": "2022-08-08T06:59:11.558Z"
      },
      {
        "duration": 9,
        "start_time": "2022-08-08T06:59:14.879Z"
      },
      {
        "duration": 29,
        "start_time": "2022-08-08T06:59:25.207Z"
      },
      {
        "duration": 3,
        "start_time": "2022-08-08T06:59:28.272Z"
      },
      {
        "duration": 9,
        "start_time": "2022-08-08T06:59:31.539Z"
      },
      {
        "duration": 4,
        "start_time": "2022-08-08T06:59:35.103Z"
      },
      {
        "duration": 9,
        "start_time": "2022-08-08T06:59:37.540Z"
      },
      {
        "duration": 5,
        "start_time": "2022-08-08T06:59:40.720Z"
      },
      {
        "duration": 29,
        "start_time": "2022-08-08T06:59:43.653Z"
      },
      {
        "duration": 8,
        "start_time": "2022-08-08T06:59:46.294Z"
      },
      {
        "duration": 4,
        "start_time": "2022-08-08T06:59:49.420Z"
      },
      {
        "duration": 11,
        "start_time": "2022-08-08T06:59:52.330Z"
      },
      {
        "duration": 18,
        "start_time": "2022-08-08T06:59:55.594Z"
      },
      {
        "duration": 17,
        "start_time": "2022-08-08T06:59:58.155Z"
      },
      {
        "duration": 4,
        "start_time": "2022-08-08T07:00:01.349Z"
      },
      {
        "duration": 11,
        "start_time": "2022-08-08T07:00:03.905Z"
      },
      {
        "duration": 6,
        "start_time": "2022-08-08T07:00:06.550Z"
      },
      {
        "duration": 3,
        "start_time": "2022-08-08T07:00:10.320Z"
      },
      {
        "duration": 8,
        "start_time": "2022-08-08T07:00:12.785Z"
      },
      {
        "duration": 25,
        "start_time": "2022-08-08T07:00:16.420Z"
      },
      {
        "duration": 28,
        "start_time": "2022-08-08T07:07:33.666Z"
      },
      {
        "duration": 35,
        "start_time": "2022-08-08T07:16:26.942Z"
      },
      {
        "duration": 73,
        "start_time": "2022-08-08T07:16:40.582Z"
      },
      {
        "duration": 7,
        "start_time": "2022-08-08T07:18:07.179Z"
      },
      {
        "duration": 13,
        "start_time": "2022-08-08T07:18:17.246Z"
      },
      {
        "duration": 12,
        "start_time": "2022-08-08T07:19:03.953Z"
      },
      {
        "duration": 2,
        "start_time": "2022-08-08T07:21:34.855Z"
      },
      {
        "duration": 4,
        "start_time": "2022-08-08T07:40:49.639Z"
      },
      {
        "duration": 7,
        "start_time": "2022-08-08T07:40:51.220Z"
      },
      {
        "duration": 29,
        "start_time": "2022-08-08T07:40:55.824Z"
      },
      {
        "duration": 989,
        "start_time": "2022-08-08T07:46:54.300Z"
      },
      {
        "duration": 22,
        "start_time": "2022-08-08T07:53:33.566Z"
      },
      {
        "duration": 17,
        "start_time": "2022-08-08T07:55:05.932Z"
      },
      {
        "duration": 39,
        "start_time": "2022-08-08T07:56:11.526Z"
      },
      {
        "duration": 18,
        "start_time": "2022-08-08T07:56:34.183Z"
      },
      {
        "duration": 18,
        "start_time": "2022-08-08T07:59:44.471Z"
      },
      {
        "duration": 1180,
        "start_time": "2022-08-08T08:00:12.426Z"
      },
      {
        "duration": 903,
        "start_time": "2022-08-08T08:00:54.627Z"
      },
      {
        "duration": 11,
        "start_time": "2022-08-08T08:01:48.776Z"
      },
      {
        "duration": 37,
        "start_time": "2022-08-08T08:02:02.828Z"
      },
      {
        "duration": 28,
        "start_time": "2022-08-08T08:02:10.560Z"
      },
      {
        "duration": 14,
        "start_time": "2022-08-08T08:02:29.793Z"
      },
      {
        "duration": 20,
        "start_time": "2022-08-08T08:03:19.623Z"
      },
      {
        "duration": 1002,
        "start_time": "2022-08-08T08:03:58.943Z"
      },
      {
        "duration": 2,
        "start_time": "2022-08-08T08:04:09.747Z"
      },
      {
        "duration": 36,
        "start_time": "2022-08-08T08:08:12.889Z"
      },
      {
        "duration": 214,
        "start_time": "2022-08-08T08:09:04.316Z"
      },
      {
        "duration": 24,
        "start_time": "2022-08-08T08:09:15.405Z"
      },
      {
        "duration": 25,
        "start_time": "2022-08-08T08:11:06.816Z"
      },
      {
        "duration": 9,
        "start_time": "2022-08-08T08:11:39.857Z"
      },
      {
        "duration": 18,
        "start_time": "2022-08-08T08:11:50.235Z"
      },
      {
        "duration": 15,
        "start_time": "2022-08-08T08:12:34.922Z"
      },
      {
        "duration": 3,
        "start_time": "2022-08-08T08:12:49.242Z"
      },
      {
        "duration": 29,
        "start_time": "2022-08-08T08:20:50.385Z"
      },
      {
        "duration": 913,
        "start_time": "2022-08-08T08:30:30.979Z"
      },
      {
        "duration": 153,
        "start_time": "2022-08-08T08:30:54.614Z"
      },
      {
        "duration": 128,
        "start_time": "2022-08-08T08:31:31.163Z"
      },
      {
        "duration": 2,
        "start_time": "2022-08-08T08:31:52.280Z"
      },
      {
        "duration": 877,
        "start_time": "2022-08-08T08:34:21.319Z"
      },
      {
        "duration": 1220,
        "start_time": "2022-08-08T08:34:33.241Z"
      },
      {
        "duration": 2,
        "start_time": "2022-08-08T08:34:45.267Z"
      },
      {
        "duration": 4,
        "start_time": "2022-08-08T08:53:38.326Z"
      },
      {
        "duration": 8,
        "start_time": "2022-08-08T08:53:39.996Z"
      },
      {
        "duration": 24,
        "start_time": "2022-08-08T08:53:50.425Z"
      },
      {
        "duration": 60,
        "start_time": "2022-08-08T10:47:54.347Z"
      },
      {
        "duration": 1097,
        "start_time": "2022-08-08T10:48:06.067Z"
      },
      {
        "duration": 22,
        "start_time": "2022-08-08T10:48:09.203Z"
      },
      {
        "duration": 15,
        "start_time": "2022-08-08T10:48:12.682Z"
      },
      {
        "duration": 9,
        "start_time": "2022-08-08T10:48:16.503Z"
      },
      {
        "duration": 33,
        "start_time": "2022-08-08T10:48:19.868Z"
      },
      {
        "duration": 3,
        "start_time": "2022-08-08T10:48:22.781Z"
      },
      {
        "duration": 8,
        "start_time": "2022-08-08T10:48:25.802Z"
      },
      {
        "duration": 5,
        "start_time": "2022-08-08T10:48:29.470Z"
      },
      {
        "duration": 7,
        "start_time": "2022-08-08T10:48:32.568Z"
      },
      {
        "duration": 4,
        "start_time": "2022-08-08T10:48:35.141Z"
      },
      {
        "duration": 32,
        "start_time": "2022-08-08T10:48:38.001Z"
      },
      {
        "duration": 14,
        "start_time": "2022-08-08T10:48:40.923Z"
      },
      {
        "duration": 5,
        "start_time": "2022-08-08T10:48:43.942Z"
      },
      {
        "duration": 12,
        "start_time": "2022-08-08T10:48:46.357Z"
      },
      {
        "duration": 23,
        "start_time": "2022-08-08T10:48:49.418Z"
      },
      {
        "duration": 18,
        "start_time": "2022-08-08T10:48:51.214Z"
      },
      {
        "duration": 4,
        "start_time": "2022-08-08T10:48:54.347Z"
      },
      {
        "duration": 10,
        "start_time": "2022-08-08T10:48:55.865Z"
      },
      {
        "duration": 6,
        "start_time": "2022-08-08T10:48:58.760Z"
      },
      {
        "duration": 4,
        "start_time": "2022-08-08T10:49:02.430Z"
      },
      {
        "duration": 10,
        "start_time": "2022-08-08T10:49:04.410Z"
      },
      {
        "duration": 3,
        "start_time": "2022-08-08T10:49:07.065Z"
      },
      {
        "duration": 7,
        "start_time": "2022-08-08T10:49:09.131Z"
      },
      {
        "duration": 35,
        "start_time": "2022-08-08T10:49:10.755Z"
      },
      {
        "duration": 30,
        "start_time": "2022-08-08T10:49:16.701Z"
      },
      {
        "duration": 51,
        "start_time": "2022-08-08T10:49:19.873Z"
      },
      {
        "duration": 9,
        "start_time": "2022-08-08T10:49:41.741Z"
      },
      {
        "duration": 26,
        "start_time": "2022-08-08T10:49:48.013Z"
      },
      {
        "duration": 30,
        "start_time": "2022-08-08T10:50:00.603Z"
      },
      {
        "duration": 8,
        "start_time": "2022-08-08T10:50:03.447Z"
      },
      {
        "duration": 20,
        "start_time": "2022-08-08T10:50:18.325Z"
      },
      {
        "duration": 1669,
        "start_time": "2022-08-08T10:50:56.842Z"
      },
      {
        "duration": 18,
        "start_time": "2022-08-08T10:51:40.145Z"
      },
      {
        "duration": 33,
        "start_time": "2022-08-08T10:54:10.009Z"
      },
      {
        "duration": 34,
        "start_time": "2022-08-08T10:54:17.079Z"
      },
      {
        "duration": 29,
        "start_time": "2022-08-08T10:54:35.106Z"
      },
      {
        "duration": 5,
        "start_time": "2022-08-08T11:02:10.885Z"
      },
      {
        "duration": 9,
        "start_time": "2022-08-08T11:02:12.482Z"
      },
      {
        "duration": 27,
        "start_time": "2022-08-08T11:02:28.469Z"
      },
      {
        "duration": 25,
        "start_time": "2022-08-08T11:02:42.541Z"
      },
      {
        "duration": 988,
        "start_time": "2022-08-08T11:26:16.483Z"
      },
      {
        "duration": 19,
        "start_time": "2022-08-08T11:26:36.664Z"
      },
      {
        "duration": 833,
        "start_time": "2022-08-08T11:27:40.813Z"
      },
      {
        "duration": 25,
        "start_time": "2022-08-08T11:28:00.602Z"
      },
      {
        "duration": 17,
        "start_time": "2022-08-08T11:28:12.322Z"
      },
      {
        "duration": 16,
        "start_time": "2022-08-08T11:28:59.798Z"
      },
      {
        "duration": 3,
        "start_time": "2022-08-08T11:29:20.146Z"
      },
      {
        "duration": 19,
        "start_time": "2022-08-08T11:31:33.912Z"
      },
      {
        "duration": 17,
        "start_time": "2022-08-08T11:40:19.012Z"
      },
      {
        "duration": 3,
        "start_time": "2022-08-08T11:43:04.552Z"
      },
      {
        "duration": 60,
        "start_time": "2022-08-09T10:00:26.156Z"
      },
      {
        "duration": 576,
        "start_time": "2022-08-09T10:00:41.270Z"
      },
      {
        "duration": 25,
        "start_time": "2022-08-09T10:00:43.748Z"
      },
      {
        "duration": 16,
        "start_time": "2022-08-09T10:00:48.007Z"
      },
      {
        "duration": 10,
        "start_time": "2022-08-09T10:00:52.825Z"
      },
      {
        "duration": 42,
        "start_time": "2022-08-09T10:00:56.992Z"
      },
      {
        "duration": 4,
        "start_time": "2022-08-09T10:01:00.409Z"
      },
      {
        "duration": 9,
        "start_time": "2022-08-09T10:01:04.062Z"
      },
      {
        "duration": 5,
        "start_time": "2022-08-09T10:01:07.624Z"
      },
      {
        "duration": 9,
        "start_time": "2022-08-09T10:01:11.484Z"
      },
      {
        "duration": 5,
        "start_time": "2022-08-09T10:01:14.396Z"
      },
      {
        "duration": 38,
        "start_time": "2022-08-09T10:01:17.748Z"
      },
      {
        "duration": 11,
        "start_time": "2022-08-09T10:01:21.086Z"
      },
      {
        "duration": 3,
        "start_time": "2022-08-09T10:01:24.384Z"
      },
      {
        "duration": 13,
        "start_time": "2022-08-09T10:01:27.027Z"
      },
      {
        "duration": 21,
        "start_time": "2022-08-09T10:01:29.566Z"
      },
      {
        "duration": 19,
        "start_time": "2022-08-09T10:01:33.219Z"
      },
      {
        "duration": 4,
        "start_time": "2022-08-09T10:01:35.988Z"
      },
      {
        "duration": 10,
        "start_time": "2022-08-09T10:01:39.088Z"
      },
      {
        "duration": 7,
        "start_time": "2022-08-09T10:01:41.854Z"
      },
      {
        "duration": 4,
        "start_time": "2022-08-09T10:01:48.478Z"
      },
      {
        "duration": 12,
        "start_time": "2022-08-09T10:01:54.558Z"
      },
      {
        "duration": 4,
        "start_time": "2022-08-09T10:02:00.162Z"
      },
      {
        "duration": 7,
        "start_time": "2022-08-09T10:02:01.761Z"
      },
      {
        "duration": 36,
        "start_time": "2022-08-09T10:02:04.159Z"
      },
      {
        "duration": 40,
        "start_time": "2022-08-09T10:02:19.775Z"
      },
      {
        "duration": 33,
        "start_time": "2022-08-09T10:02:34.952Z"
      },
      {
        "duration": 26,
        "start_time": "2022-08-09T10:02:57.122Z"
      },
      {
        "duration": 39,
        "start_time": "2022-08-09T10:03:19.413Z"
      },
      {
        "duration": 468,
        "start_time": "2022-08-09T10:50:13.361Z"
      },
      {
        "duration": 33,
        "start_time": "2022-08-09T10:50:13.831Z"
      },
      {
        "duration": 15,
        "start_time": "2022-08-09T10:50:13.867Z"
      },
      {
        "duration": 9,
        "start_time": "2022-08-09T10:50:13.883Z"
      },
      {
        "duration": 30,
        "start_time": "2022-08-09T10:50:13.894Z"
      },
      {
        "duration": 22,
        "start_time": "2022-08-09T10:50:13.926Z"
      },
      {
        "duration": 27,
        "start_time": "2022-08-09T10:50:13.949Z"
      },
      {
        "duration": 7,
        "start_time": "2022-08-09T10:50:13.978Z"
      },
      {
        "duration": 8,
        "start_time": "2022-08-09T10:50:13.987Z"
      },
      {
        "duration": 11,
        "start_time": "2022-08-09T10:50:13.996Z"
      },
      {
        "duration": 35,
        "start_time": "2022-08-09T10:50:14.008Z"
      },
      {
        "duration": 14,
        "start_time": "2022-08-09T10:50:14.045Z"
      },
      {
        "duration": 14,
        "start_time": "2022-08-09T10:50:14.060Z"
      },
      {
        "duration": 11,
        "start_time": "2022-08-09T10:50:14.077Z"
      },
      {
        "duration": 16,
        "start_time": "2022-08-09T10:50:14.090Z"
      },
      {
        "duration": 15,
        "start_time": "2022-08-09T10:50:14.108Z"
      },
      {
        "duration": 24,
        "start_time": "2022-08-09T10:50:14.124Z"
      },
      {
        "duration": 21,
        "start_time": "2022-08-09T10:50:14.154Z"
      },
      {
        "duration": 5,
        "start_time": "2022-08-09T10:50:14.176Z"
      },
      {
        "duration": 3,
        "start_time": "2022-08-09T10:50:14.182Z"
      },
      {
        "duration": 10,
        "start_time": "2022-08-09T10:50:14.186Z"
      },
      {
        "duration": 531,
        "start_time": "2022-08-09T10:50:14.197Z"
      },
      {
        "duration": 3,
        "start_time": "2022-08-09T10:50:14.729Z"
      },
      {
        "duration": 39,
        "start_time": "2022-08-09T10:50:14.734Z"
      },
      {
        "duration": 32,
        "start_time": "2022-08-09T10:50:14.774Z"
      },
      {
        "duration": 68,
        "start_time": "2022-08-09T10:50:14.807Z"
      },
      {
        "duration": 25,
        "start_time": "2022-08-09T10:50:14.877Z"
      },
      {
        "duration": 45,
        "start_time": "2022-08-09T10:50:14.903Z"
      },
      {
        "duration": 71,
        "start_time": "2022-08-09T10:50:24.727Z"
      },
      {
        "duration": 67,
        "start_time": "2022-08-09T10:50:41.565Z"
      },
      {
        "duration": 467,
        "start_time": "2022-08-09T10:50:54.065Z"
      },
      {
        "duration": 34,
        "start_time": "2022-08-09T10:50:54.534Z"
      },
      {
        "duration": 25,
        "start_time": "2022-08-09T10:50:54.570Z"
      },
      {
        "duration": 8,
        "start_time": "2022-08-09T10:50:54.596Z"
      },
      {
        "duration": 42,
        "start_time": "2022-08-09T10:50:54.606Z"
      },
      {
        "duration": 4,
        "start_time": "2022-08-09T10:50:54.650Z"
      },
      {
        "duration": 25,
        "start_time": "2022-08-09T10:50:54.656Z"
      },
      {
        "duration": 14,
        "start_time": "2022-08-09T10:50:54.682Z"
      },
      {
        "duration": 12,
        "start_time": "2022-08-09T10:50:54.697Z"
      },
      {
        "duration": 20,
        "start_time": "2022-08-09T10:50:54.710Z"
      },
      {
        "duration": 62,
        "start_time": "2022-08-09T10:50:54.731Z"
      },
      {
        "duration": 8,
        "start_time": "2022-08-09T10:50:54.794Z"
      },
      {
        "duration": 9,
        "start_time": "2022-08-09T10:50:54.804Z"
      },
      {
        "duration": 15,
        "start_time": "2022-08-09T10:50:54.815Z"
      },
      {
        "duration": 47,
        "start_time": "2022-08-09T10:50:54.831Z"
      },
      {
        "duration": 14,
        "start_time": "2022-08-09T10:50:54.879Z"
      },
      {
        "duration": 2,
        "start_time": "2022-08-09T10:50:54.895Z"
      },
      {
        "duration": 10,
        "start_time": "2022-08-09T10:50:54.899Z"
      },
      {
        "duration": 5,
        "start_time": "2022-08-09T10:50:54.910Z"
      },
      {
        "duration": 6,
        "start_time": "2022-08-09T10:50:54.917Z"
      },
      {
        "duration": 48,
        "start_time": "2022-08-09T10:50:54.925Z"
      },
      {
        "duration": 550,
        "start_time": "2022-08-09T10:50:54.975Z"
      },
      {
        "duration": 3,
        "start_time": "2022-08-09T10:50:55.526Z"
      },
      {
        "duration": 42,
        "start_time": "2022-08-09T10:50:55.530Z"
      },
      {
        "duration": 30,
        "start_time": "2022-08-09T10:50:55.573Z"
      },
      {
        "duration": 73,
        "start_time": "2022-08-09T10:50:55.604Z"
      },
      {
        "duration": 23,
        "start_time": "2022-08-09T10:50:55.678Z"
      },
      {
        "duration": 23,
        "start_time": "2022-08-09T10:50:55.702Z"
      },
      {
        "duration": 426,
        "start_time": "2022-08-09T10:52:30.904Z"
      },
      {
        "duration": 35,
        "start_time": "2022-08-09T10:52:31.332Z"
      },
      {
        "duration": 32,
        "start_time": "2022-08-09T10:52:31.369Z"
      },
      {
        "duration": 12,
        "start_time": "2022-08-09T10:52:31.403Z"
      },
      {
        "duration": 54,
        "start_time": "2022-08-09T10:52:31.416Z"
      },
      {
        "duration": 3,
        "start_time": "2022-08-09T10:52:31.471Z"
      },
      {
        "duration": 10,
        "start_time": "2022-08-09T10:52:31.476Z"
      },
      {
        "duration": 13,
        "start_time": "2022-08-09T10:52:31.488Z"
      },
      {
        "duration": 31,
        "start_time": "2022-08-09T10:52:31.502Z"
      },
      {
        "duration": 32,
        "start_time": "2022-08-09T10:52:31.535Z"
      },
      {
        "duration": 42,
        "start_time": "2022-08-09T10:52:31.568Z"
      },
      {
        "duration": 8,
        "start_time": "2022-08-09T10:52:31.611Z"
      },
      {
        "duration": 6,
        "start_time": "2022-08-09T10:52:31.621Z"
      },
      {
        "duration": 27,
        "start_time": "2022-08-09T10:52:31.629Z"
      },
      {
        "duration": 28,
        "start_time": "2022-08-09T10:52:31.663Z"
      },
      {
        "duration": 15,
        "start_time": "2022-08-09T10:52:31.693Z"
      },
      {
        "duration": 3,
        "start_time": "2022-08-09T10:52:31.710Z"
      },
      {
        "duration": 14,
        "start_time": "2022-08-09T10:52:31.715Z"
      },
      {
        "duration": 36,
        "start_time": "2022-08-09T10:52:31.731Z"
      },
      {
        "duration": 3,
        "start_time": "2022-08-09T10:52:31.769Z"
      },
      {
        "duration": 16,
        "start_time": "2022-08-09T10:52:31.773Z"
      },
      {
        "duration": 538,
        "start_time": "2022-08-09T10:52:31.791Z"
      },
      {
        "duration": 3,
        "start_time": "2022-08-09T10:52:32.331Z"
      },
      {
        "duration": 36,
        "start_time": "2022-08-09T10:52:32.336Z"
      },
      {
        "duration": 29,
        "start_time": "2022-08-09T10:52:32.374Z"
      },
      {
        "duration": 42,
        "start_time": "2022-08-09T10:52:32.441Z"
      },
      {
        "duration": 22,
        "start_time": "2022-08-09T10:52:32.484Z"
      },
      {
        "duration": 59,
        "start_time": "2022-08-09T10:52:32.509Z"
      }
    ],
    "colab": {
      "provenance": []
    },
    "kernelspec": {
      "display_name": "Python 3 (ipykernel)",
      "language": "python",
      "name": "python3"
    },
    "language_info": {
      "codemirror_mode": {
        "name": "ipython",
        "version": 3
      },
      "file_extension": ".py",
      "mimetype": "text/x-python",
      "name": "python",
      "nbconvert_exporter": "python",
      "pygments_lexer": "ipython3",
      "version": "3.9.13"
    },
    "toc": {
      "base_numbering": 1,
      "nav_menu": {},
      "number_sections": true,
      "sideBar": true,
      "skip_h1_title": true,
      "title_cell": "Table of Contents",
      "title_sidebar": "Contents",
      "toc_cell": false,
      "toc_position": {},
      "toc_section_display": true,
      "toc_window_display": false
    }
  },
  "nbformat": 4,
  "nbformat_minor": 5
}