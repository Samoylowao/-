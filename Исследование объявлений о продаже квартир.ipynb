{
 "cells": [
  {
   "cell_type": "markdown",
   "metadata": {},
   "source": [
    "# Исследование объявлений о продаже квартир\n",
    "\n",
    "В вашем распоряжении данные сервиса Яндекс.Недвижимость — архив объявлений о продаже квартир в Санкт-Петербурге и соседних населённых пунктов за несколько лет. Нужно научиться определять рыночную стоимость объектов недвижимости. Ваша задача — установить параметры. Это позволит построить автоматизированную систему: она отследит аномалии и мошенническую деятельность. \n",
    "\n",
    "По каждой квартире на продажу доступны два вида данных. Первые вписаны пользователем, вторые — получены автоматически на основе картографических данных. Например, расстояние до центра, аэропорта, ближайшего парка и водоёма. "
   ]
  },
  {
   "cell_type": "markdown",
   "metadata": {},
   "source": [
    "Основные задачи:"
   ]
  },
  {
   "cell_type": "markdown",
   "metadata": {},
   "source": [
    "1. Открытие файла и изучение основной информации(первые 5 строк таблицы, info, гистограммы всего датасета)\n",
    "2. Предобработка данных:\n",
    "  2.1. Аномалии\n",
    "  2.2. Пропуски\n",
    "  2.3. Неявные дубликаты\n",
    "  2.4. Изменение типов данных\n",
    "3. Добавление в таблицу новых столбцов:\n",
    "  3.1. цена одного кв.м.\n",
    "  3.2. день,месяц,год объявления\n",
    "  3.3. тип этажа\n",
    "  3.4. расстояние до центра в км.\n",
    "4. Исследовательский анализ данных:\n",
    "  4.1. Гистограммы основных параметров\n",
    "  4.2. как быстро продавались квартиры\n",
    "  4.3. взаимосвязь факторов\n",
    "  4.4. Средняя цена одного квадратного метра в 10 населённых пунктах с наибольшим числом объявлений\n",
    "  4.5. Как стоимость объектов зависит от расстояния до центра города."
   ]
  },
  {
   "cell_type": "markdown",
   "metadata": {},
   "source": [
    "### Откройте файл с данными и изучите общую информацию. "
   ]
  },
  {
   "cell_type": "code",
   "execution_count": 1,
   "metadata": {},
   "outputs": [],
   "source": [
    "import matplotlib.pyplot as plt"
   ]
  },
  {
   "cell_type": "code",
   "execution_count": 2,
   "metadata": {},
   "outputs": [],
   "source": [
    "import pandas as pd"
   ]
  },
  {
   "cell_type": "code",
   "execution_count": 3,
   "metadata": {},
   "outputs": [],
   "source": [
    "data = pd.read_csv('/datasets/real_estate_data.csv', sep = '\\t') "
   ]
  },
  {
   "cell_type": "code",
   "execution_count": 4,
   "metadata": {
    "scrolled": false
   },
   "outputs": [
    {
     "data": {
      "text/html": [
       "<div>\n",
       "<style scoped>\n",
       "    .dataframe tbody tr th:only-of-type {\n",
       "        vertical-align: middle;\n",
       "    }\n",
       "\n",
       "    .dataframe tbody tr th {\n",
       "        vertical-align: top;\n",
       "    }\n",
       "\n",
       "    .dataframe thead th {\n",
       "        text-align: right;\n",
       "    }\n",
       "</style>\n",
       "<table border=\"1\" class=\"dataframe\">\n",
       "  <thead>\n",
       "    <tr style=\"text-align: right;\">\n",
       "      <th></th>\n",
       "      <th>total_images</th>\n",
       "      <th>last_price</th>\n",
       "      <th>total_area</th>\n",
       "      <th>first_day_exposition</th>\n",
       "      <th>rooms</th>\n",
       "      <th>ceiling_height</th>\n",
       "      <th>floors_total</th>\n",
       "      <th>living_area</th>\n",
       "      <th>floor</th>\n",
       "      <th>is_apartment</th>\n",
       "      <th>...</th>\n",
       "      <th>kitchen_area</th>\n",
       "      <th>balcony</th>\n",
       "      <th>locality_name</th>\n",
       "      <th>airports_nearest</th>\n",
       "      <th>cityCenters_nearest</th>\n",
       "      <th>parks_around3000</th>\n",
       "      <th>parks_nearest</th>\n",
       "      <th>ponds_around3000</th>\n",
       "      <th>ponds_nearest</th>\n",
       "      <th>days_exposition</th>\n",
       "    </tr>\n",
       "  </thead>\n",
       "  <tbody>\n",
       "    <tr>\n",
       "      <th>0</th>\n",
       "      <td>20</td>\n",
       "      <td>13000000.0</td>\n",
       "      <td>108.0</td>\n",
       "      <td>2019-03-07T00:00:00</td>\n",
       "      <td>3</td>\n",
       "      <td>2.70</td>\n",
       "      <td>16.0</td>\n",
       "      <td>51.0</td>\n",
       "      <td>8</td>\n",
       "      <td>NaN</td>\n",
       "      <td>...</td>\n",
       "      <td>25.0</td>\n",
       "      <td>NaN</td>\n",
       "      <td>Санкт-Петербург</td>\n",
       "      <td>18863.0</td>\n",
       "      <td>16028.0</td>\n",
       "      <td>1.0</td>\n",
       "      <td>482.0</td>\n",
       "      <td>2.0</td>\n",
       "      <td>755.0</td>\n",
       "      <td>NaN</td>\n",
       "    </tr>\n",
       "    <tr>\n",
       "      <th>1</th>\n",
       "      <td>7</td>\n",
       "      <td>3350000.0</td>\n",
       "      <td>40.4</td>\n",
       "      <td>2018-12-04T00:00:00</td>\n",
       "      <td>1</td>\n",
       "      <td>NaN</td>\n",
       "      <td>11.0</td>\n",
       "      <td>18.6</td>\n",
       "      <td>1</td>\n",
       "      <td>NaN</td>\n",
       "      <td>...</td>\n",
       "      <td>11.0</td>\n",
       "      <td>2.0</td>\n",
       "      <td>посёлок Шушары</td>\n",
       "      <td>12817.0</td>\n",
       "      <td>18603.0</td>\n",
       "      <td>0.0</td>\n",
       "      <td>NaN</td>\n",
       "      <td>0.0</td>\n",
       "      <td>NaN</td>\n",
       "      <td>81.0</td>\n",
       "    </tr>\n",
       "    <tr>\n",
       "      <th>2</th>\n",
       "      <td>10</td>\n",
       "      <td>5196000.0</td>\n",
       "      <td>56.0</td>\n",
       "      <td>2015-08-20T00:00:00</td>\n",
       "      <td>2</td>\n",
       "      <td>NaN</td>\n",
       "      <td>5.0</td>\n",
       "      <td>34.3</td>\n",
       "      <td>4</td>\n",
       "      <td>NaN</td>\n",
       "      <td>...</td>\n",
       "      <td>8.3</td>\n",
       "      <td>0.0</td>\n",
       "      <td>Санкт-Петербург</td>\n",
       "      <td>21741.0</td>\n",
       "      <td>13933.0</td>\n",
       "      <td>1.0</td>\n",
       "      <td>90.0</td>\n",
       "      <td>2.0</td>\n",
       "      <td>574.0</td>\n",
       "      <td>558.0</td>\n",
       "    </tr>\n",
       "    <tr>\n",
       "      <th>3</th>\n",
       "      <td>0</td>\n",
       "      <td>64900000.0</td>\n",
       "      <td>159.0</td>\n",
       "      <td>2015-07-24T00:00:00</td>\n",
       "      <td>3</td>\n",
       "      <td>NaN</td>\n",
       "      <td>14.0</td>\n",
       "      <td>NaN</td>\n",
       "      <td>9</td>\n",
       "      <td>NaN</td>\n",
       "      <td>...</td>\n",
       "      <td>NaN</td>\n",
       "      <td>0.0</td>\n",
       "      <td>Санкт-Петербург</td>\n",
       "      <td>28098.0</td>\n",
       "      <td>6800.0</td>\n",
       "      <td>2.0</td>\n",
       "      <td>84.0</td>\n",
       "      <td>3.0</td>\n",
       "      <td>234.0</td>\n",
       "      <td>424.0</td>\n",
       "    </tr>\n",
       "    <tr>\n",
       "      <th>4</th>\n",
       "      <td>2</td>\n",
       "      <td>10000000.0</td>\n",
       "      <td>100.0</td>\n",
       "      <td>2018-06-19T00:00:00</td>\n",
       "      <td>2</td>\n",
       "      <td>3.03</td>\n",
       "      <td>14.0</td>\n",
       "      <td>32.0</td>\n",
       "      <td>13</td>\n",
       "      <td>NaN</td>\n",
       "      <td>...</td>\n",
       "      <td>41.0</td>\n",
       "      <td>NaN</td>\n",
       "      <td>Санкт-Петербург</td>\n",
       "      <td>31856.0</td>\n",
       "      <td>8098.0</td>\n",
       "      <td>2.0</td>\n",
       "      <td>112.0</td>\n",
       "      <td>1.0</td>\n",
       "      <td>48.0</td>\n",
       "      <td>121.0</td>\n",
       "    </tr>\n",
       "  </tbody>\n",
       "</table>\n",
       "<p>5 rows × 22 columns</p>\n",
       "</div>"
      ],
      "text/plain": [
       "   total_images  last_price  total_area first_day_exposition  rooms  \\\n",
       "0            20  13000000.0       108.0  2019-03-07T00:00:00      3   \n",
       "1             7   3350000.0        40.4  2018-12-04T00:00:00      1   \n",
       "2            10   5196000.0        56.0  2015-08-20T00:00:00      2   \n",
       "3             0  64900000.0       159.0  2015-07-24T00:00:00      3   \n",
       "4             2  10000000.0       100.0  2018-06-19T00:00:00      2   \n",
       "\n",
       "   ceiling_height  floors_total  living_area  floor is_apartment  ...  \\\n",
       "0            2.70          16.0         51.0      8          NaN  ...   \n",
       "1             NaN          11.0         18.6      1          NaN  ...   \n",
       "2             NaN           5.0         34.3      4          NaN  ...   \n",
       "3             NaN          14.0          NaN      9          NaN  ...   \n",
       "4            3.03          14.0         32.0     13          NaN  ...   \n",
       "\n",
       "   kitchen_area  balcony    locality_name  airports_nearest  \\\n",
       "0          25.0      NaN  Санкт-Петербург           18863.0   \n",
       "1          11.0      2.0   посёлок Шушары           12817.0   \n",
       "2           8.3      0.0  Санкт-Петербург           21741.0   \n",
       "3           NaN      0.0  Санкт-Петербург           28098.0   \n",
       "4          41.0      NaN  Санкт-Петербург           31856.0   \n",
       "\n",
       "  cityCenters_nearest  parks_around3000  parks_nearest  ponds_around3000  \\\n",
       "0             16028.0               1.0          482.0               2.0   \n",
       "1             18603.0               0.0            NaN               0.0   \n",
       "2             13933.0               1.0           90.0               2.0   \n",
       "3              6800.0               2.0           84.0               3.0   \n",
       "4              8098.0               2.0          112.0               1.0   \n",
       "\n",
       "   ponds_nearest  days_exposition  \n",
       "0          755.0              NaN  \n",
       "1            NaN             81.0  \n",
       "2          574.0            558.0  \n",
       "3          234.0            424.0  \n",
       "4           48.0            121.0  \n",
       "\n",
       "[5 rows x 22 columns]"
      ]
     },
     "metadata": {},
     "output_type": "display_data"
    }
   ],
   "source": [
    "display(data.head()) # выводим первые 5 строк таблицы"
   ]
  },
  {
   "cell_type": "code",
   "execution_count": 5,
   "metadata": {
    "scrolled": false
   },
   "outputs": [
    {
     "data": {
      "text/plain": [
       "array([[<AxesSubplot:title={'center':'total_images'}>,\n",
       "        <AxesSubplot:title={'center':'last_price'}>,\n",
       "        <AxesSubplot:title={'center':'total_area'}>,\n",
       "        <AxesSubplot:title={'center':'rooms'}>],\n",
       "       [<AxesSubplot:title={'center':'ceiling_height'}>,\n",
       "        <AxesSubplot:title={'center':'floors_total'}>,\n",
       "        <AxesSubplot:title={'center':'living_area'}>,\n",
       "        <AxesSubplot:title={'center':'floor'}>],\n",
       "       [<AxesSubplot:title={'center':'kitchen_area'}>,\n",
       "        <AxesSubplot:title={'center':'balcony'}>,\n",
       "        <AxesSubplot:title={'center':'airports_nearest'}>,\n",
       "        <AxesSubplot:title={'center':'cityCenters_nearest'}>],\n",
       "       [<AxesSubplot:title={'center':'parks_around3000'}>,\n",
       "        <AxesSubplot:title={'center':'parks_nearest'}>,\n",
       "        <AxesSubplot:title={'center':'ponds_around3000'}>,\n",
       "        <AxesSubplot:title={'center':'ponds_nearest'}>],\n",
       "       [<AxesSubplot:title={'center':'days_exposition'}>, <AxesSubplot:>,\n",
       "        <AxesSubplot:>, <AxesSubplot:>]], dtype=object)"
      ]
     },
     "execution_count": 5,
     "metadata": {},
     "output_type": "execute_result"
    },
    {
     "data": {
      "image/png": "[encoded data removed]",
      "text/plain": [
       "<Figure size 1080x1440 with 20 Axes>"
      ]
     },
     "metadata": {
      "needs_background": "light"
     },
     "output_type": "display_data"
    }
   ],
   "source": [
    "data.hist(figsize=(15, 20)) #изучение основной информации "
   ]
  },
  {
   "cell_type": "markdown",
   "metadata": {},
   "source": [
    "### Предобработка данных"
   ]
  },
  {
   "cell_type": "code",
   "execution_count": 6,
   "metadata": {
    "scrolled": false
   },
   "outputs": [
    {
     "data": {
      "text/plain": [
       "total_images                0\n",
       "last_price                  0\n",
       "total_area                  0\n",
       "first_day_exposition        0\n",
       "rooms                       0\n",
       "ceiling_height           9195\n",
       "floors_total               86\n",
       "living_area              1903\n",
       "floor                       0\n",
       "is_apartment            20924\n",
       "studio                      0\n",
       "open_plan                   0\n",
       "kitchen_area             2278\n",
       "balcony                 11519\n",
       "locality_name              49\n",
       "airports_nearest         5542\n",
       "cityCenters_nearest      5519\n",
       "parks_around3000         5518\n",
       "parks_nearest           15620\n",
       "ponds_around3000         5518\n",
       "ponds_nearest           14589\n",
       "days_exposition          3181\n",
       "dtype: int64"
      ]
     },
     "execution_count": 6,
     "metadata": {},
     "output_type": "execute_result"
    }
   ],
   "source": [
    "data.isna().sum() #к-во пропусков в каждом столбце"
   ]
  },
  {
   "cell_type": "code",
   "execution_count": 7,
   "metadata": {},
   "outputs": [],
   "source": [
    "# check\n",
    "# пропущенные значения бары\n",
    "\n",
    "def pass_value_barh(df):\n",
    "    try:\n",
    "        (\n",
    "            (df.isna().mean()*100)\n",
    "            .to_frame()\n",
    "            .rename(columns = {0:'space'})\n",
    "            .query('space > 0')\n",
    "            .sort_values(by = 'space', ascending = True)\n",
    "            .plot(kind= 'barh', figsize=(19,6), rot = -5, legend = False, fontsize = 16)\n",
    "            .set_title('Пример' + \"\\n\", fontsize = 22, color = 'SteelBlue')    \n",
    "        );    \n",
    "    except:\n",
    "        print('пропусков не осталось :) ')"
   ]
  },
  {
   "cell_type": "code",
   "execution_count": 8,
   "metadata": {},
   "outputs": [
    {
     "data": {
      "image/png": "[encoded data removed]",
      "text/plain": [
       "<Figure size 1368x432 with 1 Axes>"
      ]
     },
     "metadata": {
      "needs_background": "light"
     },
     "output_type": "display_data"
    }
   ],
   "source": [
    "pass_value_barh(data)"
   ]
  },
  {
   "cell_type": "code",
   "execution_count": 9,
   "metadata": {},
   "outputs": [],
   "source": [
    "data['balcony'] = data['balcony'].fillna(0).astype('int') #заменим пропуски в столбце на 0"
   ]
  },
  {
   "cell_type": "code",
   "execution_count": 10,
   "metadata": {},
   "outputs": [],
   "source": [
    "#заменим пропуски в столбце ponds_around3000 на 0\n",
    "data['ponds_around3000'] = data['ponds_around3000'].fillna(0).astype('int')\n",
    "#заменим пропуски в столбце parks_around3000 на 0\n",
    "data['parks_around3000'] = data['parks_around3000'].fillna(0).astype('int')\n"
   ]
  },
  {
   "cell_type": "markdown",
   "metadata": {},
   "source": [
    "Были заменены пропуски на 0 для количества балконов, дней, парков и озер на 0, потому что скорее всего если их не указали, то значит что их просто нет. Тип данных в этих столбцах был изменен, т.к. такие значения могут быть только целыми."
   ]
  },
  {
   "cell_type": "code",
   "execution_count": 11,
   "metadata": {},
   "outputs": [],
   "source": [
    "# заменим в столбце first_day_exposition на формат даты без времени\n",
    "data['first_day_exposition'] = pd.to_datetime(data['first_day_exposition'], format = '%Y-%m-%d')"
   ]
  },
  {
   "cell_type": "markdown",
   "metadata": {},
   "source": [
    "Поскольку везде время было 00:00 решила вовсе изменить формат даты."
   ]
  },
  {
   "cell_type": "code",
   "execution_count": 12,
   "metadata": {},
   "outputs": [],
   "source": [
    "#заменим значения площади кухни на 0 для студий\n",
    "data.loc[(data['studio'] ==1) & (data['kitchen_area'].isna()), 'kitchen_area'] = 0"
   ]
  },
  {
   "cell_type": "code",
   "execution_count": 13,
   "metadata": {},
   "outputs": [],
   "source": [
    "#заменим пропуски в столбце на False\n",
    "data['is_apartment'] = data['is_apartment'].fillna(False)"
   ]
  },
  {
   "cell_type": "code",
   "execution_count": 14,
   "metadata": {},
   "outputs": [],
   "source": [
    "# в столбцах 'airports_nearest', 'parks_nearest', 'ponds_nearest' пропуски замним на 0\n",
    "columns = ['airports_nearest', 'parks_nearest', 'ponds_nearest']\n",
    "data[columns] = data[columns].fillna(0)"
   ]
  },
  {
   "cell_type": "code",
   "execution_count": 15,
   "metadata": {},
   "outputs": [],
   "source": [
    "#устранение неявных дубликатов\n",
    "data['locality_name']=data['locality_name'].str.replace('посёлок','поселок')\n",
    "data['locality_name']=data['locality_name'].str.replace('поселок городского типа','поселок')"
   ]
  },
  {
   "cell_type": "code",
   "execution_count": 16,
   "metadata": {},
   "outputs": [
    {
     "data": {
      "text/plain": [
       "329"
      ]
     },
     "execution_count": 16,
     "metadata": {},
     "output_type": "execute_result"
    }
   ],
   "source": [
    "# check\n",
    "data['locality_name'].nunique()"
   ]
  },
  {
   "cell_type": "code",
   "execution_count": 17,
   "metadata": {},
   "outputs": [
    {
     "data": {
      "text/plain": [
       "(0.0, 10.0)"
      ]
     },
     "execution_count": 17,
     "metadata": {},
     "output_type": "execute_result"
    },
    {
     "data": {
      "image/png": "[encoded data removed]",
      "text/plain": [
       "<Figure size 432x288 with 1 Axes>"
      ]
     },
     "metadata": {
      "needs_background": "light"
     },
     "output_type": "display_data"
    }
   ],
   "source": [
    "#построим диаграмму размаха для столбца rooms, чтобы посмотреть выбросы\n",
    "data.boxplot(column='rooms')\n",
    "plt.ylim(0,10)"
   ]
  },
  {
   "cell_type": "code",
   "execution_count": 18,
   "metadata": {
    "scrolled": true
   },
   "outputs": [
    {
     "data": {
      "text/plain": [
       "(0.0, 10.0)"
      ]
     },
     "execution_count": 18,
     "metadata": {},
     "output_type": "execute_result"
    },
    {
     "data": {
      "image/png": "[encoded data removed]",
      "text/plain": [
       "<Figure size 432x288 with 1 Axes>"
      ]
     },
     "metadata": {
      "needs_background": "light"
     },
     "output_type": "display_data"
    }
   ],
   "source": [
    "#построим диаграмму размаха для столбца ceiling_height, чтобы посмотреть выбросы\n",
    "data.boxplot(column='ceiling_height')\n",
    "plt.ylim(0,10)"
   ]
  },
  {
   "cell_type": "code",
   "execution_count": 19,
   "metadata": {},
   "outputs": [],
   "source": [
    "#заменим пропуски на 0 и заменим тип столбца на int \n",
    "data['floors_total'] = data['floors_total'].fillna(0).astype('int')\n",
    "data = data[data['floors_total'] != 0]"
   ]
  },
  {
   "cell_type": "code",
   "execution_count": 20,
   "metadata": {
    "scrolled": false
   },
   "outputs": [
    {
     "name": "stdout",
     "output_type": "stream",
     "text": [
      "<class 'pandas.core.frame.DataFrame'>\n",
      "Int64Index: 23613 entries, 0 to 23698\n",
      "Data columns (total 22 columns):\n",
      " #   Column                Non-Null Count  Dtype         \n",
      "---  ------                --------------  -----         \n",
      " 0   total_images          23613 non-null  int64         \n",
      " 1   last_price            23613 non-null  float64       \n",
      " 2   total_area            23613 non-null  float64       \n",
      " 3   first_day_exposition  23613 non-null  datetime64[ns]\n",
      " 4   rooms                 23613 non-null  int64         \n",
      " 5   ceiling_height        14495 non-null  float64       \n",
      " 6   floors_total          23613 non-null  int64         \n",
      " 7   living_area           21743 non-null  float64       \n",
      " 8   floor                 23613 non-null  int64         \n",
      " 9   is_apartment          23613 non-null  bool          \n",
      " 10  studio                23613 non-null  bool          \n",
      " 11  open_plan             23613 non-null  bool          \n",
      " 12  kitchen_area          21528 non-null  float64       \n",
      " 13  balcony               23613 non-null  int64         \n",
      " 14  locality_name         23565 non-null  object        \n",
      " 15  airports_nearest      23613 non-null  float64       \n",
      " 16  cityCenters_nearest   18104 non-null  float64       \n",
      " 17  parks_around3000      23613 non-null  int64         \n",
      " 18  parks_nearest         23613 non-null  float64       \n",
      " 19  ponds_around3000      23613 non-null  int64         \n",
      " 20  ponds_nearest         23613 non-null  float64       \n",
      " 21  days_exposition       20441 non-null  float64       \n",
      "dtypes: bool(3), datetime64[ns](1), float64(10), int64(7), object(1)\n",
      "memory usage: 3.7+ MB\n"
     ]
    }
   ],
   "source": [
    "# check\n",
    "data.info()"
   ]
  },
  {
   "cell_type": "code",
   "execution_count": 21,
   "metadata": {},
   "outputs": [],
   "source": [
    "#удалим ананомальные значения в столбце ceiling_height, но сохраним строки с пропусками\n",
    "data = data.loc[(data['ceiling_height'] <= 5) & (data['ceiling_height'] >= 2.2)| (data['ceiling_height'].isna())] "
   ]
  },
  {
   "cell_type": "code",
   "execution_count": 22,
   "metadata": {
    "scrolled": false
   },
   "outputs": [],
   "source": [
    "#удалим ананомальные значения в столбце rooms\n",
    "data = data.loc[(data['rooms'] <= 7) & (data['rooms'] > 0)] "
   ]
  },
  {
   "cell_type": "markdown",
   "metadata": {},
   "source": [
    "Посмотрев данные таблицы и диаграмму размаха, можно сделать вывод что квартир  с количеством комнат больше 7 и высотой потолков больше 5 незначительное количество. Поэтому можно их исключить из анализа. А также квартиры с высотой потолков выше 5 метров исключим из анализа."
   ]
  },
  {
   "cell_type": "code",
   "execution_count": 23,
   "metadata": {},
   "outputs": [
    {
     "data": {
      "text/plain": [
       "(23340, 22)"
      ]
     },
     "execution_count": 23,
     "metadata": {},
     "output_type": "execute_result"
    }
   ],
   "source": [
    "# check\n",
    "data.shape"
   ]
  },
  {
   "cell_type": "code",
   "execution_count": 24,
   "metadata": {
    "scrolled": false
   },
   "outputs": [
    {
     "data": {
      "text/plain": [
       "total_images               0\n",
       "last_price                 0\n",
       "total_area                 0\n",
       "first_day_exposition       0\n",
       "rooms                      0\n",
       "ceiling_height          8997\n",
       "floors_total               0\n",
       "living_area             1854\n",
       "floor                      0\n",
       "is_apartment               0\n",
       "studio                     0\n",
       "open_plan                  0\n",
       "kitchen_area            2013\n",
       "balcony                    0\n",
       "locality_name             48\n",
       "airports_nearest           0\n",
       "cityCenters_nearest     5414\n",
       "parks_around3000           0\n",
       "parks_nearest              0\n",
       "ponds_around3000           0\n",
       "ponds_nearest              0\n",
       "days_exposition         3140\n",
       "dtype: int64"
      ]
     },
     "execution_count": 24,
     "metadata": {},
     "output_type": "execute_result"
    }
   ],
   "source": [
    "#еще раз проверим количество пропусков\n",
    "data.isna().sum()"
   ]
  },
  {
   "cell_type": "code",
   "execution_count": 25,
   "metadata": {},
   "outputs": [],
   "source": [
    "def pass_value_barh(df):\n",
    "    try:\n",
    "        (\n",
    "            (df.isna().mean()*100)\n",
    "            .to_frame()\n",
    "            .rename(columns = {0:'space'})\n",
    "            .query('space > 0')\n",
    "            .sort_values(by = 'space', ascending = True)\n",
    "            .plot(kind= 'barh', figsize=(19,6), rot = -5, legend = False, fontsize = 16)\n",
    "            .set_title('Пример' + \"\\n\", fontsize = 22, color = 'SteelBlue')    \n",
    "        );    \n",
    "    except:\n",
    "        print('пропусков не осталось :) ')"
   ]
  },
  {
   "cell_type": "code",
   "execution_count": 26,
   "metadata": {},
   "outputs": [
    {
     "data": {
      "image/png": "[encoded data removed]",
      "text/plain": [
       "<Figure size 1368x432 with 1 Axes>"
      ]
     },
     "metadata": {
      "needs_background": "light"
     },
     "output_type": "display_data"
    }
   ],
   "source": [
    "pass_value_barh(data)"
   ]
  },
  {
   "cell_type": "code",
   "execution_count": 27,
   "metadata": {},
   "outputs": [],
   "source": [
    "#удалим ананомальные значения в столбце total_area, но сохраним строки с пропусками\n",
    "data = data.loc[(data['total_area'] != 618) & (data['total_area'] >= 20) | (data['total_area'].isna())] "
   ]
  },
  {
   "cell_type": "code",
   "execution_count": 28,
   "metadata": {},
   "outputs": [],
   "source": [
    "#удалим ананомальные значения в столбце floors_total, но сохраним строки с пропусками\n",
    "data = data.loc[(data['floors_total'] <= 30) | (data['floors_total'].isna())] "
   ]
  },
  {
   "cell_type": "code",
   "execution_count": 29,
   "metadata": {},
   "outputs": [],
   "source": [
    "#удалим ананомальные значения в столбце living_area, но сохраним строки с пропусками\n",
    "data = data.loc[(data['living_area'] >= 10) | (data['living_area'].isna())] "
   ]
  },
  {
   "cell_type": "code",
   "execution_count": 30,
   "metadata": {},
   "outputs": [
    {
     "data": {
      "text/plain": [
       "(23270, 22)"
      ]
     },
     "execution_count": 30,
     "metadata": {},
     "output_type": "execute_result"
    }
   ],
   "source": [
    "# check\n",
    "data.shape"
   ]
  },
  {
   "cell_type": "code",
   "execution_count": 31,
   "metadata": {},
   "outputs": [
    {
     "data": {
      "text/html": [
       "<style  type=\"text/css\" >\n",
       "</style><table id=\"T_89de6_\" ><thead>    <tr>        <th class=\"blank level0\" ></th>        <th class=\"col_heading level0 col0\" >rooms</th>        <th class=\"col_heading level0 col1\" >total_area</th>        <th class=\"col_heading level0 col2\" >ceiling_height</th>        <th class=\"col_heading level0 col3\" >days_exposition</th>        <th class=\"col_heading level0 col4\" >last_price</th>        <th class=\"col_heading level0 col5\" >living_area</th>        <th class=\"col_heading level0 col6\" >kitchen_area</th>        <th class=\"col_heading level0 col7\" >floor</th>        <th class=\"col_heading level0 col8\" >floors_total</th>    </tr></thead><tbody>\n",
       "                <tr>\n",
       "                        <th id=\"T_89de6_level0_row0\" class=\"row_heading level0 row0\" >count</th>\n",
       "                        <td id=\"T_89de6_row0_col0\" class=\"data row0 col0\" >23,270.00</td>\n",
       "                        <td id=\"T_89de6_row0_col1\" class=\"data row0 col1\" >23,270.00</td>\n",
       "                        <td id=\"T_89de6_row0_col2\" class=\"data row0 col2\" >14,306.00</td>\n",
       "                        <td id=\"T_89de6_row0_col3\" class=\"data row0 col3\" >20,140.00</td>\n",
       "                        <td id=\"T_89de6_row0_col4\" class=\"data row0 col4\" >23,270.00</td>\n",
       "                        <td id=\"T_89de6_row0_col5\" class=\"data row0 col5\" >21,424.00</td>\n",
       "                        <td id=\"T_89de6_row0_col6\" class=\"data row0 col6\" >21,273.00</td>\n",
       "                        <td id=\"T_89de6_row0_col7\" class=\"data row0 col7\" >23,270.00</td>\n",
       "                        <td id=\"T_89de6_row0_col8\" class=\"data row0 col8\" >23,270.00</td>\n",
       "            </tr>\n",
       "            <tr>\n",
       "                        <th id=\"T_89de6_level0_row1\" class=\"row_heading level0 row1\" >min</th>\n",
       "                        <td id=\"T_89de6_row1_col0\" class=\"data row1 col0\" >1.00</td>\n",
       "                        <td id=\"T_89de6_row1_col1\" class=\"data row1 col1\" >20.00</td>\n",
       "                        <td id=\"T_89de6_row1_col2\" class=\"data row1 col2\" >2.20</td>\n",
       "                        <td id=\"T_89de6_row1_col3\" class=\"data row1 col3\" >1.00</td>\n",
       "                        <td id=\"T_89de6_row1_col4\" class=\"data row1 col4\" >12,190.00</td>\n",
       "                        <td id=\"T_89de6_row1_col5\" class=\"data row1 col5\" >10.00</td>\n",
       "                        <td id=\"T_89de6_row1_col6\" class=\"data row1 col6\" >0.00</td>\n",
       "                        <td id=\"T_89de6_row1_col7\" class=\"data row1 col7\" >1.00</td>\n",
       "                        <td id=\"T_89de6_row1_col8\" class=\"data row1 col8\" >1.00</td>\n",
       "            </tr>\n",
       "            <tr>\n",
       "                        <th id=\"T_89de6_level0_row2\" class=\"row_heading level0 row2\" >max</th>\n",
       "                        <td id=\"T_89de6_row2_col0\" class=\"data row2 col0\" >7.00</td>\n",
       "                        <td id=\"T_89de6_row2_col1\" class=\"data row2 col1\" >631.20</td>\n",
       "                        <td id=\"T_89de6_row2_col2\" class=\"data row2 col2\" >5.00</td>\n",
       "                        <td id=\"T_89de6_row2_col3\" class=\"data row2 col3\" >1,580.00</td>\n",
       "                        <td id=\"T_89de6_row2_col4\" class=\"data row2 col4\" >763,000,000.00</td>\n",
       "                        <td id=\"T_89de6_row2_col5\" class=\"data row2 col5\" >347.50</td>\n",
       "                        <td id=\"T_89de6_row2_col6\" class=\"data row2 col6\" >107.00</td>\n",
       "                        <td id=\"T_89de6_row2_col7\" class=\"data row2 col7\" >27.00</td>\n",
       "                        <td id=\"T_89de6_row2_col8\" class=\"data row2 col8\" >29.00</td>\n",
       "            </tr>\n",
       "    </tbody></table>"
      ],
      "text/plain": [
       "<pandas.io.formats.style.Styler at 0x7feb3eb2d250>"
      ]
     },
     "execution_count": 31,
     "metadata": {},
     "output_type": "execute_result"
    }
   ],
   "source": [
    "# check\n",
    "\n",
    "# Показатели о кол-ве объявлений в датасете, минимальных и максимальных показателях \n",
    "# в выбранных параметрах о продаже квартир\n",
    "# сырые данные\n",
    "\n",
    "(\n",
    "    data[['rooms', 'total_area', 'ceiling_height', 'days_exposition', 'last_price', 'living_area',  'kitchen_area', 'floor',\n",
    "       'floors_total']]\n",
    "    .apply (['count', 'min', 'max'])   \n",
    "    .style.format(\"{:,.2f}\")\n",
    ")"
   ]
  },
  {
   "cell_type": "code",
   "execution_count": 32,
   "metadata": {},
   "outputs": [
    {
     "data": {
      "text/html": [
       "<div>\n",
       "<style scoped>\n",
       "    .dataframe tbody tr th:only-of-type {\n",
       "        vertical-align: middle;\n",
       "    }\n",
       "\n",
       "    .dataframe tbody tr th {\n",
       "        vertical-align: top;\n",
       "    }\n",
       "\n",
       "    .dataframe thead th {\n",
       "        text-align: right;\n",
       "    }\n",
       "</style>\n",
       "<table border=\"1\" class=\"dataframe\">\n",
       "  <thead>\n",
       "    <tr style=\"text-align: right;\">\n",
       "      <th></th>\n",
       "      <th>last_price</th>\n",
       "    </tr>\n",
       "  </thead>\n",
       "  <tbody>\n",
       "    <tr>\n",
       "      <th>4500000.0</th>\n",
       "      <td>341</td>\n",
       "    </tr>\n",
       "    <tr>\n",
       "      <th>3500000.0</th>\n",
       "      <td>287</td>\n",
       "    </tr>\n",
       "    <tr>\n",
       "      <th>4000000.0</th>\n",
       "      <td>257</td>\n",
       "    </tr>\n",
       "    <tr>\n",
       "      <th>4200000.0</th>\n",
       "      <td>257</td>\n",
       "    </tr>\n",
       "    <tr>\n",
       "      <th>4300000.0</th>\n",
       "      <td>256</td>\n",
       "    </tr>\n",
       "    <tr>\n",
       "      <th>...</th>\n",
       "      <td>...</td>\n",
       "    </tr>\n",
       "    <tr>\n",
       "      <th>2228000.0</th>\n",
       "      <td>1</td>\n",
       "    </tr>\n",
       "    <tr>\n",
       "      <th>86738800.0</th>\n",
       "      <td>1</td>\n",
       "    </tr>\n",
       "    <tr>\n",
       "      <th>10430000.0</th>\n",
       "      <td>1</td>\n",
       "    </tr>\n",
       "    <tr>\n",
       "      <th>9917600.0</th>\n",
       "      <td>1</td>\n",
       "    </tr>\n",
       "    <tr>\n",
       "      <th>4386000.0</th>\n",
       "      <td>1</td>\n",
       "    </tr>\n",
       "  </tbody>\n",
       "</table>\n",
       "<p>2909 rows × 1 columns</p>\n",
       "</div>"
      ],
      "text/plain": [
       "            last_price\n",
       "4500000.0          341\n",
       "3500000.0          287\n",
       "4000000.0          257\n",
       "4200000.0          257\n",
       "4300000.0          256\n",
       "...                ...\n",
       "2228000.0            1\n",
       "86738800.0           1\n",
       "10430000.0           1\n",
       "9917600.0            1\n",
       "4386000.0            1\n",
       "\n",
       "[2909 rows x 1 columns]"
      ]
     },
     "execution_count": 32,
     "metadata": {},
     "output_type": "execute_result"
    }
   ],
   "source": [
    "# check\n",
    "data.last_price.value_counts().to_frame()"
   ]
  },
  {
   "cell_type": "code",
   "execution_count": 33,
   "metadata": {},
   "outputs": [
    {
     "data": {
      "text/plain": [
       "total_images               0\n",
       "last_price                 0\n",
       "total_area                 0\n",
       "first_day_exposition       0\n",
       "rooms                      0\n",
       "ceiling_height          8964\n",
       "floors_total               0\n",
       "living_area             1846\n",
       "floor                      0\n",
       "is_apartment               0\n",
       "studio                     0\n",
       "open_plan                  0\n",
       "kitchen_area            1997\n",
       "balcony                    0\n",
       "locality_name             48\n",
       "airports_nearest           0\n",
       "cityCenters_nearest     5409\n",
       "parks_around3000           0\n",
       "parks_nearest              0\n",
       "ponds_around3000           0\n",
       "ponds_nearest              0\n",
       "days_exposition         3130\n",
       "dtype: int64"
      ]
     },
     "execution_count": 33,
     "metadata": {},
     "output_type": "execute_result"
    }
   ],
   "source": [
    "#еще раз проверим количество пропусков\n",
    "data.isna().sum()"
   ]
  },
  {
   "cell_type": "markdown",
   "metadata": {},
   "source": [
    "### Посчитайте и добавьте в таблицу новые столбцы"
   ]
  },
  {
   "cell_type": "code",
   "execution_count": 34,
   "metadata": {},
   "outputs": [],
   "source": [
    "#цена одного квадратного метра\n",
    "data['one_square_meter'] = data['last_price'] / data['total_area']\n"
   ]
  },
  {
   "cell_type": "code",
   "execution_count": 35,
   "metadata": {},
   "outputs": [],
   "source": [
    "#день недели публикации объявления \n",
    "data['week_exposition'] = data['first_day_exposition'].dt.weekday\n"
   ]
  },
  {
   "cell_type": "code",
   "execution_count": 36,
   "metadata": {},
   "outputs": [],
   "source": [
    "#месяц публикации объявления\n",
    "data['month_exposition'] = data['first_day_exposition'].dt.month"
   ]
  },
  {
   "cell_type": "code",
   "execution_count": 37,
   "metadata": {},
   "outputs": [],
   "source": [
    "#год публикации объявления\n",
    "data['year_exposition'] = data['first_day_exposition'].dt.year"
   ]
  },
  {
   "cell_type": "code",
   "execution_count": 38,
   "metadata": {},
   "outputs": [],
   "source": [
    "#тип этажа квартиры\n",
    "def floor_type(row):\n",
    "    floors = row['floors_total']\n",
    "    floor = row['floor']\n",
    "    if floor == 1:\n",
    "        return 'первый'\n",
    "    elif floor == floors:\n",
    "        return 'последний'\n",
    "    elif 1 < floor < floors:\n",
    "        return 'другой'"
   ]
  },
  {
   "cell_type": "code",
   "execution_count": 39,
   "metadata": {},
   "outputs": [],
   "source": [
    "data['floor_types'] = data.apply(floor_type, axis = 1)"
   ]
  },
  {
   "cell_type": "code",
   "execution_count": 40,
   "metadata": {},
   "outputs": [],
   "source": [
    "#расстояние до центра города в километрах  \n",
    "data['km_city_center'] = data['cityCenters_nearest'] / 1000\n",
    "data['km_city_center'] = data['km_city_center'].round(2)\n"
   ]
  },
  {
   "cell_type": "code",
   "execution_count": 41,
   "metadata": {},
   "outputs": [
    {
     "data": {
      "text/plain": [
       "0        16.03\n",
       "1        18.60\n",
       "2        13.93\n",
       "3         6.80\n",
       "4         8.10\n",
       "         ...  \n",
       "23694     4.23\n",
       "23695      NaN\n",
       "23696      NaN\n",
       "23697    10.36\n",
       "23698      NaN\n",
       "Name: km_city_center, Length: 23270, dtype: float64"
      ]
     },
     "execution_count": 41,
     "metadata": {},
     "output_type": "execute_result"
    }
   ],
   "source": [
    "# check\n",
    "data['km_city_center']"
   ]
  },
  {
   "cell_type": "code",
   "execution_count": 42,
   "metadata": {},
   "outputs": [
    {
     "data": {
      "text/plain": [
       "0        20\n",
       "1         7\n",
       "2        10\n",
       "3         0\n",
       "4         2\n",
       "         ..\n",
       "23694     9\n",
       "23695    14\n",
       "23696    18\n",
       "23697    13\n",
       "23698     4\n",
       "Name: total_images, Length: 23270, dtype: int64"
      ]
     },
     "execution_count": 42,
     "metadata": {},
     "output_type": "execute_result"
    }
   ],
   "source": [
    "# check\n",
    "data['total_images']"
   ]
  },
  {
   "cell_type": "markdown",
   "metadata": {},
   "source": [
    "### Проведите исследовательский анализ данных"
   ]
  },
  {
   "cell_type": "code",
   "execution_count": 43,
   "metadata": {
    "scrolled": false
   },
   "outputs": [
    {
     "data": {
      "text/plain": [
       "count    23270.000000\n",
       "mean        60.269594\n",
       "std         33.810067\n",
       "min         20.000000\n",
       "25%         40.200000\n",
       "50%         52.000000\n",
       "75%         70.000000\n",
       "max        631.200000\n",
       "Name: total_area, dtype: float64"
      ]
     },
     "execution_count": 43,
     "metadata": {},
     "output_type": "execute_result"
    },
    {
     "data": {
      "image/png": "[encoded data removed]",
      "text/plain": [
       "<Figure size 432x360 with 1 Axes>"
      ]
     },
     "metadata": {
      "needs_background": "light"
     },
     "output_type": "display_data"
    }
   ],
   "source": [
    "#общая площадь\n",
    "data.plot(y = 'total_area', kind = 'hist', bins = 100, grid=True, figsize = (6,5), range = (0,500))\n",
    "data['total_area'].describe()"
   ]
  },
  {
   "cell_type": "markdown",
   "metadata": {},
   "source": [
    "Вывод: общая площадь квартиры в среднем составляет от 30 до 100 кв. м. Квартиры с большей и меньшей  площадью скорее исключения."
   ]
  },
  {
   "cell_type": "code",
   "execution_count": 44,
   "metadata": {
    "scrolled": false
   },
   "outputs": [
    {
     "data": {
      "text/plain": [
       "count    21424.000000\n",
       "mean        34.394811\n",
       "std         21.029422\n",
       "min         10.000000\n",
       "25%         18.700000\n",
       "50%         30.000000\n",
       "75%         42.400000\n",
       "max        347.500000\n",
       "Name: living_area, dtype: float64"
      ]
     },
     "execution_count": 44,
     "metadata": {},
     "output_type": "execute_result"
    },
    {
     "data": {
      "image/png": "[encoded data removed]",
      "text/plain": [
       "<Figure size 432x360 with 1 Axes>"
      ]
     },
     "metadata": {
      "needs_background": "light"
     },
     "output_type": "display_data"
    }
   ],
   "source": [
    "#жилая площадь\n",
    "data.plot(y = 'living_area', kind = 'hist', bins = 100, grid=True, figsize = (6,5), range = (0,450))\n",
    "data['living_area'].describe()"
   ]
  },
  {
   "cell_type": "markdown",
   "metadata": {},
   "source": [
    "Вывод:На гистограмме видно, что жилая площадь составляет не менее 10 кв.м. и не более 150 кв м. "
   ]
  },
  {
   "cell_type": "code",
   "execution_count": 45,
   "metadata": {
    "scrolled": false
   },
   "outputs": [
    {
     "data": {
      "text/plain": [
       "count    21273.000000\n",
       "mean        10.518236\n",
       "std          5.774956\n",
       "min          0.000000\n",
       "25%          7.000000\n",
       "50%          9.100000\n",
       "75%         12.000000\n",
       "max        107.000000\n",
       "Name: kitchen_area, dtype: float64"
      ]
     },
     "execution_count": 45,
     "metadata": {},
     "output_type": "execute_result"
    },
    {
     "data": {
      "image/png": "[encoded data removed]",
      "text/plain": [
       "<Figure size 432x360 with 1 Axes>"
      ]
     },
     "metadata": {
      "needs_background": "light"
     },
     "output_type": "display_data"
    }
   ],
   "source": [
    "#площадь кухни\n",
    "data.plot(y = 'kitchen_area', kind = 'hist', bins = 100, grid=True, figsize = (6,5), range = (0,500))\n",
    "data['kitchen_area'].describe()"
   ]
  },
  {
   "cell_type": "markdown",
   "metadata": {},
   "source": [
    "Вывод: можно сказать, что площадь кухни в среднем не больше 20 кв.м.На гистограмме видно, что квартир с площадью кухни больше 50 кв.м. практически нет."
   ]
  },
  {
   "cell_type": "code",
   "execution_count": 46,
   "metadata": {},
   "outputs": [
    {
     "data": {
      "text/plain": [
       "count    2.327000e+04\n",
       "mean     6.482996e+06\n",
       "std      1.019867e+07\n",
       "min      1.219000e+04\n",
       "25%      3.450000e+06\n",
       "50%      4.650000e+06\n",
       "75%      6.800000e+06\n",
       "max      7.630000e+08\n",
       "Name: last_price, dtype: float64"
      ]
     },
     "execution_count": 46,
     "metadata": {},
     "output_type": "execute_result"
    },
    {
     "data": {
      "image/png": "[encoded data removed]",
      "text/plain": [
       "<Figure size 432x360 with 1 Axes>"
      ]
     },
     "metadata": {
      "needs_background": "light"
     },
     "output_type": "display_data"
    }
   ],
   "source": [
    "#цена объекта\n",
    "data.plot(y = 'last_price', kind = 'hist', bins = 50, grid=True, figsize = (6,5), range = (0,7000000))\n",
    "data['last_price'].describe()"
   ]
  },
  {
   "cell_type": "code",
   "execution_count": 47,
   "metadata": {
    "scrolled": false
   },
   "outputs": [
    {
     "data": {
      "text/plain": [
       "count    23270.000000\n",
       "mean         2.079115\n",
       "std          1.021774\n",
       "min          1.000000\n",
       "25%          1.000000\n",
       "50%          2.000000\n",
       "75%          3.000000\n",
       "max          7.000000\n",
       "Name: rooms, dtype: float64"
      ]
     },
     "execution_count": 47,
     "metadata": {},
     "output_type": "execute_result"
    },
    {
     "data": {
      "image/png": "[encoded data removed]",
      "text/plain": [
       "<Figure size 432x360 with 1 Axes>"
      ]
     },
     "metadata": {
      "needs_background": "light"
     },
     "output_type": "display_data"
    }
   ],
   "source": [
    "#количество комнат\n",
    "data.plot(y = 'rooms', kind = 'hist', bins = 30, grid=True, figsize = (6,5), range = (0,20))\n",
    "data['rooms'].describe()"
   ]
  },
  {
   "cell_type": "code",
   "execution_count": 48,
   "metadata": {},
   "outputs": [
    {
     "data": {
      "text/plain": [
       "count    14306.000000\n",
       "mean         2.724875\n",
       "std          0.270832\n",
       "min          2.200000\n",
       "25%          2.510000\n",
       "50%          2.650000\n",
       "75%          2.800000\n",
       "max          5.000000\n",
       "Name: ceiling_height, dtype: float64"
      ]
     },
     "execution_count": 48,
     "metadata": {},
     "output_type": "execute_result"
    },
    {
     "data": {
      "image/png": "[encoded data removed]",
      "text/plain": [
       "<Figure size 432x360 with 1 Axes>"
      ]
     },
     "metadata": {
      "needs_background": "light"
     },
     "output_type": "display_data"
    }
   ],
   "source": [
    "#высота потолков\n",
    "data.plot(y = 'ceiling_height', kind = 'hist', bins = 50, range = (1,7), grid=True, figsize = (6,5))\n",
    "data['ceiling_height'].describe()"
   ]
  },
  {
   "cell_type": "code",
   "execution_count": 49,
   "metadata": {
    "scrolled": false
   },
   "outputs": [
    {
     "data": {
      "text/plain": [
       "count    23270.000000\n",
       "mean         5.844951\n",
       "std          4.827955\n",
       "min          1.000000\n",
       "25%          2.000000\n",
       "50%          4.000000\n",
       "75%          8.000000\n",
       "max         27.000000\n",
       "Name: floor, dtype: float64"
      ]
     },
     "execution_count": 49,
     "metadata": {},
     "output_type": "execute_result"
    },
    {
     "data": {
      "image/png": "[encoded data removed]",
      "text/plain": [
       "<Figure size 432x360 with 1 Axes>"
      ]
     },
     "metadata": {
      "needs_background": "light"
     },
     "output_type": "display_data"
    }
   ],
   "source": [
    "#этаж квартиры \n",
    "data.plot(y = 'floor', kind = 'hist', bins = 100, range = (1,5), grid=True, figsize = (6,5))\n",
    "data['floor'].describe()"
   ]
  },
  {
   "cell_type": "markdown",
   "metadata": {},
   "source": [
    "Вывод: Можно сказать, что больше всего продается 2-хкомнатных квартир. Скорее всего они считаются оптимальным выбором.Также активно покупаются 3-4 и 1 комнатные квартиры."
   ]
  },
  {
   "cell_type": "code",
   "execution_count": 50,
   "metadata": {
    "scrolled": true
   },
   "outputs": [
    {
     "data": {
      "text/plain": [
       "<AxesSubplot:>"
      ]
     },
     "execution_count": 50,
     "metadata": {},
     "output_type": "execute_result"
    },
    {
     "data": {
      "image/png": "[encoded data removed]",
      "text/plain": [
       "<Figure size 432x288 with 1 Axes>"
      ]
     },
     "metadata": {
      "needs_background": "light"
     },
     "output_type": "display_data"
    }
   ],
   "source": [
    "#тип этажа квартиры  \n",
    "data['floor_types'].hist()"
   ]
  },
  {
   "cell_type": "markdown",
   "metadata": {},
   "source": [
    "Вывод: Можно сказать что больше всего объявлений квартир, расположенных не на первом и не на последнем этажах."
   ]
  },
  {
   "cell_type": "code",
   "execution_count": 51,
   "metadata": {
    "scrolled": false
   },
   "outputs": [
    {
     "data": {
      "text/plain": [
       "count    23270.000000\n",
       "mean        10.601504\n",
       "std          6.506920\n",
       "min          1.000000\n",
       "25%          5.000000\n",
       "50%          9.000000\n",
       "75%         16.000000\n",
       "max         29.000000\n",
       "Name: floors_total, dtype: float64"
      ]
     },
     "execution_count": 51,
     "metadata": {},
     "output_type": "execute_result"
    },
    {
     "data": {
      "image/png": "[encoded data removed]",
      "text/plain": [
       "<Figure size 432x360 with 1 Axes>"
      ]
     },
     "metadata": {
      "needs_background": "light"
     },
     "output_type": "display_data"
    }
   ],
   "source": [
    "#общее количество этажей в доме \n",
    "data.plot(y = 'floors_total', kind = 'hist', bins = 30, range = (0,34), grid=True, figsize = (6,5))\n",
    "data['floors_total'].describe()"
   ]
  },
  {
   "cell_type": "markdown",
   "metadata": {},
   "source": [
    "Вывод: Можно сказать что 5 и 9 этажные дома наиболее распространенные. Домов же выше 25 этажа значительно меньше."
   ]
  },
  {
   "cell_type": "code",
   "execution_count": 52,
   "metadata": {},
   "outputs": [
    {
     "data": {
      "text/plain": [
       "count    17861.000000\n",
       "mean     14200.482672\n",
       "std       8629.656571\n",
       "min        181.000000\n",
       "25%       9238.000000\n",
       "50%      13092.000000\n",
       "75%      16275.000000\n",
       "max      65968.000000\n",
       "Name: cityCenters_nearest, dtype: float64"
      ]
     },
     "execution_count": 52,
     "metadata": {},
     "output_type": "execute_result"
    },
    {
     "data": {
      "image/png": "[encoded data removed]",
      "text/plain": [
       "<Figure size 432x360 with 1 Axes>"
      ]
     },
     "metadata": {
      "needs_background": "light"
     },
     "output_type": "display_data"
    }
   ],
   "source": [
    "#расстояние до центра города в метрах \n",
    "data.plot(y = 'cityCenters_nearest', kind = 'hist', bins = 30, range = (0,70000), grid=True, figsize = (6,5))\n",
    "data['cityCenters_nearest'].describe()"
   ]
  },
  {
   "cell_type": "markdown",
   "metadata": {},
   "source": [
    "Вывод: можно сказать, что больше всего объектов расположенных дальше от центра, скорее всего это связано с высокой ценой на квартиры в центре и низким спросом на них."
   ]
  },
  {
   "cell_type": "code",
   "execution_count": 53,
   "metadata": {
    "scrolled": false
   },
   "outputs": [
    {
     "data": {
      "text/plain": [
       "count    17837.000000\n",
       "mean     28845.126310\n",
       "std      12633.645244\n",
       "min       6450.000000\n",
       "25%      18573.000000\n",
       "50%      26786.000000\n",
       "75%      37313.000000\n",
       "max      84869.000000\n",
       "Name: airports_nearest, dtype: float64"
      ]
     },
     "execution_count": 53,
     "metadata": {},
     "output_type": "execute_result"
    },
    {
     "data": {
      "image/png": "[encoded data removed]",
      "text/plain": [
       "<Figure size 432x360 with 1 Axes>"
      ]
     },
     "metadata": {
      "needs_background": "light"
     },
     "output_type": "display_data"
    }
   ],
   "source": [
    "#расстояние до ближайшего аэропорта \n",
    "airport_filter = data.query('airports_nearest != 0')\n",
    "airport_filter.plot(y = 'airports_nearest', kind = 'hist', bins = 30, range = (0,90000), grid=True, figsize = (6,5))\n",
    "airport_filter['airports_nearest'].describe()"
   ]
  },
  {
   "cell_type": "markdown",
   "metadata": {},
   "source": [
    "Вывод: Судя по диаграмме можно сделать вывод, что квартиры в целом расположены равномерно далеко от аэропорта. "
   ]
  },
  {
   "cell_type": "code",
   "execution_count": 54,
   "metadata": {},
   "outputs": [
    {
     "data": {
      "text/plain": [
       "count    7953.000000\n",
       "mean      490.139067\n",
       "std       341.539950\n",
       "min         1.000000\n",
       "25%       287.000000\n",
       "50%       454.000000\n",
       "75%       612.000000\n",
       "max      3190.000000\n",
       "Name: parks_nearest, dtype: float64"
      ]
     },
     "execution_count": 54,
     "metadata": {},
     "output_type": "execute_result"
    },
    {
     "data": {
      "image/png": "[encoded data removed]",
      "text/plain": [
       "<Figure size 432x360 with 1 Axes>"
      ]
     },
     "metadata": {
      "needs_background": "light"
     },
     "output_type": "display_data"
    }
   ],
   "source": [
    "#расстояние до ближайшего парка \n",
    "park_filter = data.query('parks_nearest != 0')\n",
    "park_filter.plot(y = 'parks_nearest', kind = 'hist', bins = 10, range = (0,3500), grid=True, figsize = (6,5))\n",
    "park_filter['parks_nearest'].describe()"
   ]
  },
  {
   "cell_type": "markdown",
   "metadata": {},
   "source": [
    "вывод: Можно сказать, что квартир возле парка значительно больше чем на расстоянии от них. Большая часть расположена от 1 до 600 метров."
   ]
  },
  {
   "cell_type": "code",
   "execution_count": 55,
   "metadata": {},
   "outputs": [
    {
     "data": {
      "image/png": "[encoded data removed]",
      "text/plain": [
       "<Figure size 720x432 with 1 Axes>"
      ]
     },
     "metadata": {
      "needs_background": "light"
     },
     "output_type": "display_data"
    }
   ],
   "source": [
    "# check\n",
    "\n",
    "data.plot(y = 'parks_nearest', kind = 'hist', bins = 80, range = (0,3500), grid=True, figsize = (10,6));"
   ]
  },
  {
   "cell_type": "code",
   "execution_count": 56,
   "metadata": {},
   "outputs": [
    {
     "data": {
      "text/plain": [
       "count    23270.000000\n",
       "mean         2.567211\n",
       "std          1.789570\n",
       "min          0.000000\n",
       "25%          1.000000\n",
       "50%          3.000000\n",
       "75%          4.000000\n",
       "max          6.000000\n",
       "Name: week_exposition, dtype: float64"
      ]
     },
     "execution_count": 56,
     "metadata": {},
     "output_type": "execute_result"
    },
    {
     "data": {
      "image/png": "[encoded data removed]",
      "text/plain": [
       "<Figure size 360x216 with 1 Axes>"
      ]
     },
     "metadata": {
      "needs_background": "light"
     },
     "output_type": "display_data"
    }
   ],
   "source": [
    "#день публикации объявления\n",
    "data.plot(y = 'week_exposition', kind = 'hist', bins = 50, range = (0,10), grid=True, figsize = (5,3))\n",
    "data['week_exposition'].describe()"
   ]
  },
  {
   "cell_type": "markdown",
   "metadata": {},
   "source": [
    "Вывод: в целом количество объявлений довольно равномерно по дням, единственное что ближе к 6 дню можно заметить небольшой спад. "
   ]
  },
  {
   "cell_type": "code",
   "execution_count": 57,
   "metadata": {
    "scrolled": false
   },
   "outputs": [
    {
     "data": {
      "text/plain": [
       "count    23270.000000\n",
       "mean         6.395875\n",
       "std          3.491296\n",
       "min          1.000000\n",
       "25%          3.000000\n",
       "50%          6.000000\n",
       "75%         10.000000\n",
       "max         12.000000\n",
       "Name: month_exposition, dtype: float64"
      ]
     },
     "execution_count": 57,
     "metadata": {},
     "output_type": "execute_result"
    },
    {
     "data": {
      "image/png": "[encoded data removed]",
      "text/plain": [
       "<Figure size 360x216 with 1 Axes>"
      ]
     },
     "metadata": {
      "needs_background": "light"
     },
     "output_type": "display_data"
    }
   ],
   "source": [
    "#месяц публикации объявления\n",
    "data.plot(y = 'month_exposition', kind = 'hist', bins = 50, range = (0,13), grid=True, figsize = (5,3))\n",
    "data['month_exposition'].describe()"
   ]
  },
  {
   "cell_type": "markdown",
   "metadata": {},
   "source": [
    "Вывод: Можно заметить небольшой спад в мае изначительный рост в феврале и марте."
   ]
  },
  {
   "cell_type": "markdown",
   "metadata": {},
   "source": [
    "# example 1"
   ]
  },
  {
   "cell_type": "markdown",
   "metadata": {},
   "source": [
    "#### как быстро продавались квартиры"
   ]
  },
  {
   "cell_type": "code",
   "execution_count": 58,
   "metadata": {
    "scrolled": false
   },
   "outputs": [
    {
     "data": {
      "text/plain": [
       "count    20140.000000\n",
       "mean       181.372244\n",
       "std        219.925883\n",
       "min          1.000000\n",
       "25%         45.000000\n",
       "50%         96.000000\n",
       "75%        232.000000\n",
       "max       1580.000000\n",
       "Name: days_exposition, dtype: float64"
      ]
     },
     "execution_count": 58,
     "metadata": {},
     "output_type": "execute_result"
    },
    {
     "data": {
      "image/png": "[encoded data removed]",
      "text/plain": [
       "<Figure size 504x360 with 1 Axes>"
      ]
     },
     "metadata": {
      "needs_background": "light"
     },
     "output_type": "display_data"
    }
   ],
   "source": [
    "#как быстро продавались квартиры\n",
    "data.plot(y = 'days_exposition', kind = 'hist', bins = 30, range = (0,1600), grid=True, figsize = (7,5))\n",
    "data['days_exposition'].describe()"
   ]
  },
  {
   "cell_type": "markdown",
   "metadata": {},
   "source": [
    "Из описания видно, что среднее составляет 181 день, а медиана 96 дней. "
   ]
  },
  {
   "cell_type": "code",
   "execution_count": 59,
   "metadata": {},
   "outputs": [
    {
     "data": {
      "text/plain": [
       "<AxesSubplot:>"
      ]
     },
     "execution_count": 59,
     "metadata": {},
     "output_type": "execute_result"
    },
    {
     "data": {
      "image/png": "[encoded data removed]",
      "text/plain": [
       "<Figure size 432x288 with 1 Axes>"
      ]
     },
     "metadata": {
      "needs_background": "light"
     },
     "output_type": "display_data"
    }
   ],
   "source": [
    "data.boxplot(column='days_exposition')\n",
    "#plt.ylim(0,10)"
   ]
  },
  {
   "cell_type": "code",
   "execution_count": 60,
   "metadata": {
    "scrolled": true
   },
   "outputs": [
    {
     "data": {
      "text/plain": [
       "45.0      865\n",
       "60.0      533\n",
       "7.0       223\n",
       "30.0      201\n",
       "90.0      198\n",
       "         ... \n",
       "818.0       1\n",
       "1.0         1\n",
       "969.0       1\n",
       "1147.0      1\n",
       "1174.0      1\n",
       "Name: days_exposition, Length: 1137, dtype: int64"
      ]
     },
     "execution_count": 60,
     "metadata": {},
     "output_type": "execute_result"
    }
   ],
   "source": [
    "data['days_exposition'].value_counts() "
   ]
  },
  {
   "cell_type": "markdown",
   "metadata": {},
   "source": [
    "Можно заметить огромное количество объявлений в 45,60,7 и 30 дней. "
   ]
  },
  {
   "cell_type": "code",
   "execution_count": 61,
   "metadata": {
    "scrolled": true
   },
   "outputs": [],
   "source": [
    "#Создадим отдельный датасет, чтобы убрать аномалии и расчитать реальную скорость продаж\n",
    "filter_data = data.query('days_exposition != 45 and days_exposition != 30 and days_exposition != 60 and days_exposition != 7 and days_exposition != 0')"
   ]
  },
  {
   "cell_type": "code",
   "execution_count": 62,
   "metadata": {
    "scrolled": false
   },
   "outputs": [
    {
     "data": {
      "text/plain": [
       "count    19183.000000\n",
       "mean       188.357713\n",
       "std        222.999458\n",
       "min          1.000000\n",
       "25%         45.000000\n",
       "50%        104.000000\n",
       "75%        245.000000\n",
       "max       1580.000000\n",
       "Name: days_exposition, dtype: float64"
      ]
     },
     "execution_count": 62,
     "metadata": {},
     "output_type": "execute_result"
    },
    {
     "data": {
      "image/png": "[encoded data removed]",
      "text/plain": [
       "<Figure size 360x216 with 1 Axes>"
      ]
     },
     "metadata": {
      "needs_background": "light"
     },
     "output_type": "display_data"
    }
   ],
   "source": [
    "filter_data.plot(y = 'days_exposition', kind = 'hist', bins = 30, range = (0,1600), grid=True, figsize = (5,3))\n",
    "filter_data['days_exposition'].describe()"
   ]
  },
  {
   "cell_type": "markdown",
   "metadata": {},
   "source": [
    "вывод: после избавления от аномальных значений медиана стала 104, а среднее значение 188.Можно сказать что быстрая продажа может быть от 1 до 104-188 дней, а необычно долгие продажи могут быть до 1580 дней."
   ]
  },
  {
   "cell_type": "markdown",
   "metadata": {},
   "source": [
    "#####  Какие факторы больше всего влияют на общую стоимость объекта"
   ]
  },
  {
   "cell_type": "code",
   "execution_count": 63,
   "metadata": {},
   "outputs": [
    {
     "data": {
      "text/html": [
       "<div>\n",
       "<style scoped>\n",
       "    .dataframe tbody tr th:only-of-type {\n",
       "        vertical-align: middle;\n",
       "    }\n",
       "\n",
       "    .dataframe tbody tr th {\n",
       "        vertical-align: top;\n",
       "    }\n",
       "\n",
       "    .dataframe thead th {\n",
       "        text-align: right;\n",
       "    }\n",
       "</style>\n",
       "<table border=\"1\" class=\"dataframe\">\n",
       "  <thead>\n",
       "    <tr style=\"text-align: right;\">\n",
       "      <th></th>\n",
       "      <th>Количество</th>\n",
       "      <th>Сумма</th>\n",
       "      <th>Среднее</th>\n",
       "    </tr>\n",
       "    <tr>\n",
       "      <th>total_area</th>\n",
       "      <th></th>\n",
       "      <th></th>\n",
       "      <th></th>\n",
       "    </tr>\n",
       "  </thead>\n",
       "  <tbody>\n",
       "    <tr>\n",
       "      <th>20.00</th>\n",
       "      <td>6</td>\n",
       "      <td>13105000.0</td>\n",
       "      <td>2.184167e+06</td>\n",
       "    </tr>\n",
       "    <tr>\n",
       "      <th>20.10</th>\n",
       "      <td>1</td>\n",
       "      <td>2150000.0</td>\n",
       "      <td>2.150000e+06</td>\n",
       "    </tr>\n",
       "    <tr>\n",
       "      <th>20.30</th>\n",
       "      <td>1</td>\n",
       "      <td>2740000.0</td>\n",
       "      <td>2.740000e+06</td>\n",
       "    </tr>\n",
       "    <tr>\n",
       "      <th>20.60</th>\n",
       "      <td>1</td>\n",
       "      <td>2000000.0</td>\n",
       "      <td>2.000000e+06</td>\n",
       "    </tr>\n",
       "    <tr>\n",
       "      <th>20.67</th>\n",
       "      <td>2</td>\n",
       "      <td>3711250.0</td>\n",
       "      <td>1.855625e+06</td>\n",
       "    </tr>\n",
       "    <tr>\n",
       "      <th>...</th>\n",
       "      <td>...</td>\n",
       "      <td>...</td>\n",
       "      <td>...</td>\n",
       "    </tr>\n",
       "    <tr>\n",
       "      <th>500.00</th>\n",
       "      <td>2</td>\n",
       "      <td>380000000.0</td>\n",
       "      <td>1.900000e+08</td>\n",
       "    </tr>\n",
       "    <tr>\n",
       "      <th>507.00</th>\n",
       "      <td>1</td>\n",
       "      <td>84000000.0</td>\n",
       "      <td>8.400000e+07</td>\n",
       "    </tr>\n",
       "    <tr>\n",
       "      <th>517.00</th>\n",
       "      <td>1</td>\n",
       "      <td>50000000.0</td>\n",
       "      <td>5.000000e+07</td>\n",
       "    </tr>\n",
       "    <tr>\n",
       "      <th>631.00</th>\n",
       "      <td>1</td>\n",
       "      <td>140000000.0</td>\n",
       "      <td>1.400000e+08</td>\n",
       "    </tr>\n",
       "    <tr>\n",
       "      <th>631.20</th>\n",
       "      <td>1</td>\n",
       "      <td>140000000.0</td>\n",
       "      <td>1.400000e+08</td>\n",
       "    </tr>\n",
       "  </tbody>\n",
       "</table>\n",
       "<p>2089 rows × 3 columns</p>\n",
       "</div>"
      ],
      "text/plain": [
       "            Количество        Сумма       Среднее\n",
       "total_area                                       \n",
       "20.00                6   13105000.0  2.184167e+06\n",
       "20.10                1    2150000.0  2.150000e+06\n",
       "20.30                1    2740000.0  2.740000e+06\n",
       "20.60                1    2000000.0  2.000000e+06\n",
       "20.67                2    3711250.0  1.855625e+06\n",
       "...                ...          ...           ...\n",
       "500.00               2  380000000.0  1.900000e+08\n",
       "507.00               1   84000000.0  8.400000e+07\n",
       "517.00               1   50000000.0  5.000000e+07\n",
       "631.00               1  140000000.0  1.400000e+08\n",
       "631.20               1  140000000.0  1.400000e+08\n",
       "\n",
       "[2089 rows x 3 columns]"
      ]
     },
     "metadata": {},
     "output_type": "display_data"
    }
   ],
   "source": [
    "#зависимость цены и общей площади квартиры\n",
    "total_square = data.pivot_table(index='total_area', values='last_price', aggfunc=['count','sum','mean']) \n",
    "total_square.columns=['Количество', 'Сумма', 'Среднее']\n",
    "display(total_square)"
   ]
  },
  {
   "cell_type": "code",
   "execution_count": 64,
   "metadata": {
    "scrolled": false
   },
   "outputs": [
    {
     "data": {
      "text/plain": [
       "<AxesSubplot:xlabel='total_area', ylabel='last_price'>"
      ]
     },
     "execution_count": 64,
     "metadata": {},
     "output_type": "execute_result"
    },
    {
     "data": {
      "image/png": "[encoded data removed]",
      "text/plain": [
       "<Figure size 432x288 with 1 Axes>"
      ]
     },
     "metadata": {
      "needs_background": "light"
     },
     "output_type": "display_data"
    }
   ],
   "source": [
    "colors=[\"blue\",\"green\"]\n",
    "data.plot(x='total_area', y='last_price', kind='scatter')\n"
   ]
  },
  {
   "cell_type": "code",
   "execution_count": 65,
   "metadata": {
    "scrolled": false
   },
   "outputs": [
    {
     "name": "stdout",
     "output_type": "stream",
     "text": [
      "Коэффициент корреляции: 0.6343120607410506\n"
     ]
    }
   ],
   "source": [
    "print('Коэффициент корреляции:', data['total_area'].corr(data['last_price']))"
   ]
  },
  {
   "cell_type": "markdown",
   "metadata": {},
   "source": [
    "Вывод: Исходя из графика и корреляции, можно судить об умеренной взаимосвязи между ценой и общей площадью квартиры.Можно сказать, что квартиры с площадью до 100-200 кв м покупают наиболее часто."
   ]
  },
  {
   "cell_type": "code",
   "execution_count": 66,
   "metadata": {},
   "outputs": [
    {
     "data": {
      "text/html": [
       "<div>\n",
       "<style scoped>\n",
       "    .dataframe tbody tr th:only-of-type {\n",
       "        vertical-align: middle;\n",
       "    }\n",
       "\n",
       "    .dataframe tbody tr th {\n",
       "        vertical-align: top;\n",
       "    }\n",
       "\n",
       "    .dataframe thead th {\n",
       "        text-align: right;\n",
       "    }\n",
       "</style>\n",
       "<table border=\"1\" class=\"dataframe\">\n",
       "  <thead>\n",
       "    <tr style=\"text-align: right;\">\n",
       "      <th></th>\n",
       "      <th>Количество</th>\n",
       "      <th>Сумма</th>\n",
       "      <th>Среднее</th>\n",
       "    </tr>\n",
       "    <tr>\n",
       "      <th>living_area</th>\n",
       "      <th></th>\n",
       "      <th></th>\n",
       "      <th></th>\n",
       "    </tr>\n",
       "  </thead>\n",
       "  <tbody>\n",
       "    <tr>\n",
       "      <th>10.00</th>\n",
       "      <td>27</td>\n",
       "      <td>97754297.0</td>\n",
       "      <td>3.620530e+06</td>\n",
       "    </tr>\n",
       "    <tr>\n",
       "      <th>10.08</th>\n",
       "      <td>2</td>\n",
       "      <td>6500000.0</td>\n",
       "      <td>3.250000e+06</td>\n",
       "    </tr>\n",
       "    <tr>\n",
       "      <th>10.30</th>\n",
       "      <td>2</td>\n",
       "      <td>12100000.0</td>\n",
       "      <td>6.050000e+06</td>\n",
       "    </tr>\n",
       "    <tr>\n",
       "      <th>10.40</th>\n",
       "      <td>3</td>\n",
       "      <td>11825000.0</td>\n",
       "      <td>3.941667e+06</td>\n",
       "    </tr>\n",
       "    <tr>\n",
       "      <th>10.50</th>\n",
       "      <td>3</td>\n",
       "      <td>24200000.0</td>\n",
       "      <td>8.066667e+06</td>\n",
       "    </tr>\n",
       "    <tr>\n",
       "      <th>10.52</th>\n",
       "      <td>1</td>\n",
       "      <td>3797250.0</td>\n",
       "      <td>3.797250e+06</td>\n",
       "    </tr>\n",
       "    <tr>\n",
       "      <th>10.55</th>\n",
       "      <td>1</td>\n",
       "      <td>2000000.0</td>\n",
       "      <td>2.000000e+06</td>\n",
       "    </tr>\n",
       "    <tr>\n",
       "      <th>10.60</th>\n",
       "      <td>2</td>\n",
       "      <td>9520000.0</td>\n",
       "      <td>4.760000e+06</td>\n",
       "    </tr>\n",
       "    <tr>\n",
       "      <th>10.70</th>\n",
       "      <td>2</td>\n",
       "      <td>10410136.0</td>\n",
       "      <td>5.205068e+06</td>\n",
       "    </tr>\n",
       "    <tr>\n",
       "      <th>10.76</th>\n",
       "      <td>1</td>\n",
       "      <td>4310000.0</td>\n",
       "      <td>4.310000e+06</td>\n",
       "    </tr>\n",
       "  </tbody>\n",
       "</table>\n",
       "</div>"
      ],
      "text/plain": [
       "             Количество       Сумма       Среднее\n",
       "living_area                                      \n",
       "10.00                27  97754297.0  3.620530e+06\n",
       "10.08                 2   6500000.0  3.250000e+06\n",
       "10.30                 2  12100000.0  6.050000e+06\n",
       "10.40                 3  11825000.0  3.941667e+06\n",
       "10.50                 3  24200000.0  8.066667e+06\n",
       "10.52                 1   3797250.0  3.797250e+06\n",
       "10.55                 1   2000000.0  2.000000e+06\n",
       "10.60                 2   9520000.0  4.760000e+06\n",
       "10.70                 2  10410136.0  5.205068e+06\n",
       "10.76                 1   4310000.0  4.310000e+06"
      ]
     },
     "metadata": {},
     "output_type": "display_data"
    }
   ],
   "source": [
    "#зависимость цены и жилой площади квартиры\n",
    "living_square = data.pivot_table(index='living_area', values='last_price', aggfunc=['count','sum','mean']) \n",
    "living_square.columns=['Количество', 'Сумма', 'Среднее']\n",
    "display(living_square.head(10))"
   ]
  },
  {
   "cell_type": "code",
   "execution_count": 67,
   "metadata": {
    "scrolled": false
   },
   "outputs": [
    {
     "data": {
      "text/plain": [
       "<AxesSubplot:xlabel='living_area', ylabel='last_price'>"
      ]
     },
     "execution_count": 67,
     "metadata": {},
     "output_type": "execute_result"
    },
    {
     "data": {
      "image/png": "[encoded data removed]",
      "text/plain": [
       "<Figure size 432x288 with 1 Axes>"
      ]
     },
     "metadata": {
      "needs_background": "light"
     },
     "output_type": "display_data"
    }
   ],
   "source": [
    "data.plot(x='living_area', y='last_price', kind='scatter')"
   ]
  },
  {
   "cell_type": "code",
   "execution_count": 68,
   "metadata": {
    "scrolled": false
   },
   "outputs": [
    {
     "name": "stdout",
     "output_type": "stream",
     "text": [
      "Коэффициент корреляции: 0.5475750720551805\n"
     ]
    }
   ],
   "source": [
    "print('Коэффициент корреляции:', data['living_area'].corr(data['last_price']))"
   ]
  },
  {
   "cell_type": "markdown",
   "metadata": {},
   "source": [
    "Вывод: Исходя из графика и корреляции, можно судить об умеренной взаимосвязи между ценой и жилой площадью квартиры. Однако все равно можно сказать, что квартиры с жилой площадью от 30 до 100 покупаются более охотно."
   ]
  },
  {
   "cell_type": "code",
   "execution_count": 69,
   "metadata": {
    "scrolled": true
   },
   "outputs": [
    {
     "data": {
      "text/plain": [
       "<AxesSubplot:xlabel='kitchen_area', ylabel='last_price'>"
      ]
     },
     "execution_count": 69,
     "metadata": {},
     "output_type": "execute_result"
    },
    {
     "data": {
      "image/png": "[encoded data removed]",
      "text/plain": [
       "<Figure size 432x288 with 1 Axes>"
      ]
     },
     "metadata": {
      "needs_background": "light"
     },
     "output_type": "display_data"
    }
   ],
   "source": [
    "#зависимость цены и площади кухни\n",
    "data.plot(x='kitchen_area', y='last_price', kind='scatter')"
   ]
  },
  {
   "cell_type": "code",
   "execution_count": 70,
   "metadata": {
    "scrolled": false
   },
   "outputs": [
    {
     "name": "stdout",
     "output_type": "stream",
     "text": [
      "Коэффициент корреляции: 0.5038512175512703\n"
     ]
    }
   ],
   "source": [
    "print('Коэффициент корреляции:', data['kitchen_area'].corr(data['last_price']))"
   ]
  },
  {
   "cell_type": "markdown",
   "metadata": {},
   "source": [
    "Вывод: Можно судить об умеренной связи между площадью кухни и ценой квартиры."
   ]
  },
  {
   "cell_type": "code",
   "execution_count": 71,
   "metadata": {
    "scrolled": false
   },
   "outputs": [
    {
     "data": {
      "text/plain": [
       "<AxesSubplot:xlabel='rooms', ylabel='last_price'>"
      ]
     },
     "execution_count": 71,
     "metadata": {},
     "output_type": "execute_result"
    },
    {
     "data": {
      "image/png": "[encoded data removed]",
      "text/plain": [
       "<Figure size 432x288 with 1 Axes>"
      ]
     },
     "metadata": {
      "needs_background": "light"
     },
     "output_type": "display_data"
    }
   ],
   "source": [
    "#зависимость цены и количества комнат\n",
    "data.plot(x='rooms', y='last_price', kind='scatter')"
   ]
  },
  {
   "cell_type": "code",
   "execution_count": 72,
   "metadata": {
    "scrolled": false
   },
   "outputs": [
    {
     "name": "stdout",
     "output_type": "stream",
     "text": [
      "Коэффициент корреляции: 0.3515872855959396\n"
     ]
    }
   ],
   "source": [
    "print('Коэффициент корреляции:', data['rooms'].corr(data['last_price']))"
   ]
  },
  {
   "cell_type": "markdown",
   "metadata": {},
   "source": [
    "Вывод: также можно говорить об умеренной связи между количеством комнат и ценой квартиры. Можно сказать, что самые дорогие квартиры это 4-5 комнат, а самые дешевые это однушки."
   ]
  },
  {
   "cell_type": "code",
   "execution_count": 73,
   "metadata": {
    "scrolled": true
   },
   "outputs": [
    {
     "data": {
      "text/plain": [
       "<AxesSubplot:xlabel='floor_types'>"
      ]
     },
     "execution_count": 73,
     "metadata": {},
     "output_type": "execute_result"
    },
    {
     "data": {
      "image/png": "[encoded data removed]",
      "text/plain": [
       "<Figure size 432x288 with 1 Axes>"
      ]
     },
     "metadata": {
      "needs_background": "light"
     },
     "output_type": "display_data"
    }
   ],
   "source": [
    "#зависимость цены и типа этажа\n",
    "#data.plot(x='floor_types', y='last_price', kind='scatter')\n",
    "types_floor = data.pivot_table(index = 'floor_types', values = 'last_price', aggfunc = ['mean', 'count', 'median'])\n",
    "types_floor.columns = ['mean', 'count', 'median']\n",
    "types_floor.plot(y = 'median')"
   ]
  },
  {
   "cell_type": "markdown",
   "metadata": {},
   "source": [
    "Вывод: исходя из графика можно сделать вывод, что квартиры на первом этаже значительно дешевле квартир на любом другом этаже. Можно также сказать, что в большинстве своем выбирают не первый и не последний этаж, что объяснимо небольшими сложностями в проживании на них. Также на сайтах по недвижимости даже есть фильтр исключащий эти квартиры."
   ]
  },
  {
   "cell_type": "code",
   "execution_count": 74,
   "metadata": {},
   "outputs": [
    {
     "data": {
      "text/plain": [
       "<AxesSubplot:xlabel='week_exposition', ylabel='last_price'>"
      ]
     },
     "execution_count": 74,
     "metadata": {},
     "output_type": "execute_result"
    },
    {
     "data": {
      "image/png": "[encoded data removed]",
      "text/plain": [
       "<Figure size 432x288 with 1 Axes>"
      ]
     },
     "metadata": {
      "needs_background": "light"
     },
     "output_type": "display_data"
    }
   ],
   "source": [
    "#зависимость цены и дня размещения\n",
    "data.plot(x='week_exposition', y='last_price', kind='scatter')"
   ]
  },
  {
   "cell_type": "markdown",
   "metadata": {},
   "source": [
    "Вывод: связи между днем публикации объявления и ценой квартиры не обнаружено."
   ]
  },
  {
   "cell_type": "code",
   "execution_count": 75,
   "metadata": {
    "scrolled": true
   },
   "outputs": [
    {
     "data": {
      "text/plain": [
       "<AxesSubplot:xlabel='month_exposition', ylabel='last_price'>"
      ]
     },
     "execution_count": 75,
     "metadata": {},
     "output_type": "execute_result"
    },
    {
     "data": {
      "image/png": "[encoded data removed]",
      "text/plain": [
       "<Figure size 432x288 with 1 Axes>"
      ]
     },
     "metadata": {
      "needs_background": "light"
     },
     "output_type": "display_data"
    }
   ],
   "source": [
    "#зависимость цены и месяца размещения\n",
    "data.plot(x='month_exposition', y='last_price', kind='scatter')"
   ]
  },
  {
   "cell_type": "code",
   "execution_count": 76,
   "metadata": {
    "scrolled": true
   },
   "outputs": [
    {
     "name": "stdout",
     "output_type": "stream",
     "text": [
      "Коэффициент корреляции: -0.000542937068974941\n"
     ]
    }
   ],
   "source": [
    "print('Коэффициент корреляции:', data['month_exposition'].corr(data['last_price']))"
   ]
  },
  {
   "cell_type": "markdown",
   "metadata": {},
   "source": [
    "Вывод: связи между месяцем публикации объявления и ценой квартиры не обнаружено."
   ]
  },
  {
   "cell_type": "code",
   "execution_count": 77,
   "metadata": {
    "scrolled": false
   },
   "outputs": [
    {
     "data": {
      "text/html": [
       "<div>\n",
       "<style scoped>\n",
       "    .dataframe tbody tr th:only-of-type {\n",
       "        vertical-align: middle;\n",
       "    }\n",
       "\n",
       "    .dataframe tbody tr th {\n",
       "        vertical-align: top;\n",
       "    }\n",
       "\n",
       "    .dataframe thead th {\n",
       "        text-align: right;\n",
       "    }\n",
       "</style>\n",
       "<table border=\"1\" class=\"dataframe\">\n",
       "  <thead>\n",
       "    <tr style=\"text-align: right;\">\n",
       "      <th></th>\n",
       "      <th>mean</th>\n",
       "      <th>count</th>\n",
       "      <th>median</th>\n",
       "    </tr>\n",
       "    <tr>\n",
       "      <th>year_exposition</th>\n",
       "      <th></th>\n",
       "      <th></th>\n",
       "      <th></th>\n",
       "    </tr>\n",
       "  </thead>\n",
       "  <tbody>\n",
       "    <tr>\n",
       "      <th>2014</th>\n",
       "      <td>1.208714e+07</td>\n",
       "      <td>137</td>\n",
       "      <td>7700000.0</td>\n",
       "    </tr>\n",
       "    <tr>\n",
       "      <th>2015</th>\n",
       "      <td>8.290106e+06</td>\n",
       "      <td>1168</td>\n",
       "      <td>5300500.0</td>\n",
       "    </tr>\n",
       "    <tr>\n",
       "      <th>2019</th>\n",
       "      <td>6.744561e+06</td>\n",
       "      <td>2833</td>\n",
       "      <td>5099000.0</td>\n",
       "    </tr>\n",
       "    <tr>\n",
       "      <th>2018</th>\n",
       "      <td>5.943448e+06</td>\n",
       "      <td>8364</td>\n",
       "      <td>4600000.0</td>\n",
       "    </tr>\n",
       "    <tr>\n",
       "      <th>2016</th>\n",
       "      <td>6.799361e+06</td>\n",
       "      <td>2748</td>\n",
       "      <td>4500000.0</td>\n",
       "    </tr>\n",
       "    <tr>\n",
       "      <th>2017</th>\n",
       "      <td>6.485980e+06</td>\n",
       "      <td>8020</td>\n",
       "      <td>4500000.0</td>\n",
       "    </tr>\n",
       "  </tbody>\n",
       "</table>\n",
       "</div>"
      ],
      "text/plain": [
       "                         mean  count     median\n",
       "year_exposition                                \n",
       "2014             1.208714e+07    137  7700000.0\n",
       "2015             8.290106e+06   1168  5300500.0\n",
       "2019             6.744561e+06   2833  5099000.0\n",
       "2018             5.943448e+06   8364  4600000.0\n",
       "2016             6.799361e+06   2748  4500000.0\n",
       "2017             6.485980e+06   8020  4500000.0"
      ]
     },
     "execution_count": 77,
     "metadata": {},
     "output_type": "execute_result"
    },
    {
     "data": {
      "image/png": "[encoded data removed]",
      "text/plain": [
       "<Figure size 432x288 with 1 Axes>"
      ]
     },
     "metadata": {
      "needs_background": "light"
     },
     "output_type": "display_data"
    }
   ],
   "source": [
    "#зависимость цены и года размещения\n",
    "#data.plot(x='year_exposition', y='last_price', kind='scatter')\n",
    "year_exposition = data.pivot_table(index = 'year_exposition', values = 'last_price', aggfunc = ['mean', 'count', 'median'])\n",
    "year_exposition.columns = ['mean', 'count', 'median']\n",
    "year_exposition.plot(y = 'median')\n",
    "\n",
    "year_exposition.sort_values('median', ascending = False)"
   ]
  },
  {
   "cell_type": "markdown",
   "metadata": {},
   "source": [
    "Вывод: Можно заметить, что по сравнению с 2014-2015 годами произошел спад к 2016-2017 годам. Однако в 2014-2015 годах количество объявлений было небольшим, а цена высокой. Можно заметить, что в 2017-2018 года к-во объявлений значительно выросло, а цена оставалась примерно такой же. В 2019 году мы можем наблюдать падение к-ва объявлений и рост цены."
   ]
  },
  {
   "cell_type": "code",
   "execution_count": 78,
   "metadata": {
    "scrolled": false
   },
   "outputs": [
    {
     "data": {
      "text/html": [
       "<div>\n",
       "<style scoped>\n",
       "    .dataframe tbody tr th:only-of-type {\n",
       "        vertical-align: middle;\n",
       "    }\n",
       "\n",
       "    .dataframe tbody tr th {\n",
       "        vertical-align: top;\n",
       "    }\n",
       "\n",
       "    .dataframe thead th {\n",
       "        text-align: right;\n",
       "    }\n",
       "</style>\n",
       "<table border=\"1\" class=\"dataframe\">\n",
       "  <thead>\n",
       "    <tr style=\"text-align: right;\">\n",
       "      <th></th>\n",
       "      <th>count</th>\n",
       "      <th>mean</th>\n",
       "    </tr>\n",
       "    <tr>\n",
       "      <th>locality_name</th>\n",
       "      <th></th>\n",
       "      <th></th>\n",
       "    </tr>\n",
       "  </thead>\n",
       "  <tbody>\n",
       "    <tr>\n",
       "      <th>Санкт-Петербург</th>\n",
       "      <td>15424</td>\n",
       "      <td>114560.98</td>\n",
       "    </tr>\n",
       "    <tr>\n",
       "      <th>поселок Мурино</th>\n",
       "      <td>525</td>\n",
       "      <td>85066.69</td>\n",
       "    </tr>\n",
       "    <tr>\n",
       "      <th>поселок Шушары</th>\n",
       "      <td>434</td>\n",
       "      <td>78303.21</td>\n",
       "    </tr>\n",
       "    <tr>\n",
       "      <th>Всеволожск</th>\n",
       "      <td>391</td>\n",
       "      <td>68683.76</td>\n",
       "    </tr>\n",
       "    <tr>\n",
       "      <th>Пушкин</th>\n",
       "      <td>368</td>\n",
       "      <td>103081.15</td>\n",
       "    </tr>\n",
       "    <tr>\n",
       "      <th>Колпино</th>\n",
       "      <td>337</td>\n",
       "      <td>75333.30</td>\n",
       "    </tr>\n",
       "    <tr>\n",
       "      <th>поселок Парголово</th>\n",
       "      <td>323</td>\n",
       "      <td>90289.78</td>\n",
       "    </tr>\n",
       "    <tr>\n",
       "      <th>Гатчина</th>\n",
       "      <td>306</td>\n",
       "      <td>68757.68</td>\n",
       "    </tr>\n",
       "    <tr>\n",
       "      <th>деревня Кудрово</th>\n",
       "      <td>283</td>\n",
       "      <td>92297.22</td>\n",
       "    </tr>\n",
       "    <tr>\n",
       "      <th>Выборг</th>\n",
       "      <td>235</td>\n",
       "      <td>58238.14</td>\n",
       "    </tr>\n",
       "  </tbody>\n",
       "</table>\n",
       "</div>"
      ],
      "text/plain": [
       "                   count       mean\n",
       "locality_name                      \n",
       "Санкт-Петербург    15424  114560.98\n",
       "поселок Мурино       525   85066.69\n",
       "поселок Шушары       434   78303.21\n",
       "Всеволожск           391   68683.76\n",
       "Пушкин               368  103081.15\n",
       "Колпино              337   75333.30\n",
       "поселок Парголово    323   90289.78\n",
       "Гатчина              306   68757.68\n",
       "деревня Кудрово      283   92297.22\n",
       "Выборг               235   58238.14"
      ]
     },
     "metadata": {},
     "output_type": "display_data"
    }
   ],
   "source": [
    "#Среднюю цена одного квадратного метра в 10 населённых пунктах с наибольшим числом объявлений\n",
    "ave_price_one_m2 = data.pivot_table(index = 'locality_name', values = 'one_square_meter', aggfunc=['count', 'mean'])\n",
    "ave_price_one_m2.columns = ['count', 'mean']\n",
    "ave_price_one_m2['mean'] = ave_price_one_m2['mean'].round(2)\n",
    "ave_price_one_m2 = ave_price_one_m2.sort_values('count', ascending = False)\n",
    "ave_price_one_m2 = ave_price_one_m2[:10]\n",
    "display(ave_price_one_m2)"
   ]
  },
  {
   "cell_type": "code",
   "execution_count": 79,
   "metadata": {},
   "outputs": [
    {
     "data": {
      "text/html": [
       "<div>\n",
       "<style scoped>\n",
       "    .dataframe tbody tr th:only-of-type {\n",
       "        vertical-align: middle;\n",
       "    }\n",
       "\n",
       "    .dataframe tbody tr th {\n",
       "        vertical-align: top;\n",
       "    }\n",
       "\n",
       "    .dataframe thead th {\n",
       "        text-align: right;\n",
       "    }\n",
       "</style>\n",
       "<table border=\"1\" class=\"dataframe\">\n",
       "  <thead>\n",
       "    <tr style=\"text-align: right;\">\n",
       "      <th></th>\n",
       "      <th>count</th>\n",
       "      <th>mean</th>\n",
       "    </tr>\n",
       "    <tr>\n",
       "      <th>locality_name</th>\n",
       "      <th></th>\n",
       "      <th></th>\n",
       "    </tr>\n",
       "  </thead>\n",
       "  <tbody>\n",
       "    <tr>\n",
       "      <th>Санкт-Петербург</th>\n",
       "      <td>15424</td>\n",
       "      <td>114560.98</td>\n",
       "    </tr>\n",
       "  </tbody>\n",
       "</table>\n",
       "</div>"
      ],
      "text/plain": [
       "                 count       mean\n",
       "locality_name                    \n",
       "Санкт-Петербург  15424  114560.98"
      ]
     },
     "execution_count": 79,
     "metadata": {},
     "output_type": "execute_result"
    }
   ],
   "source": [
    "#самая высокая стоимость\n",
    "ave_price_one_m2[ave_price_one_m2['mean']==ave_price_one_m2['mean'].max()]\n"
   ]
  },
  {
   "cell_type": "code",
   "execution_count": 80,
   "metadata": {
    "scrolled": true
   },
   "outputs": [
    {
     "data": {
      "text/html": [
       "<div>\n",
       "<style scoped>\n",
       "    .dataframe tbody tr th:only-of-type {\n",
       "        vertical-align: middle;\n",
       "    }\n",
       "\n",
       "    .dataframe tbody tr th {\n",
       "        vertical-align: top;\n",
       "    }\n",
       "\n",
       "    .dataframe thead th {\n",
       "        text-align: right;\n",
       "    }\n",
       "</style>\n",
       "<table border=\"1\" class=\"dataframe\">\n",
       "  <thead>\n",
       "    <tr style=\"text-align: right;\">\n",
       "      <th></th>\n",
       "      <th>count</th>\n",
       "      <th>mean</th>\n",
       "    </tr>\n",
       "    <tr>\n",
       "      <th>locality_name</th>\n",
       "      <th></th>\n",
       "      <th></th>\n",
       "    </tr>\n",
       "  </thead>\n",
       "  <tbody>\n",
       "    <tr>\n",
       "      <th>Выборг</th>\n",
       "      <td>235</td>\n",
       "      <td>58238.14</td>\n",
       "    </tr>\n",
       "  </tbody>\n",
       "</table>\n",
       "</div>"
      ],
      "text/plain": [
       "               count      mean\n",
       "locality_name                 \n",
       "Выборг           235  58238.14"
      ]
     },
     "execution_count": 80,
     "metadata": {},
     "output_type": "execute_result"
    }
   ],
   "source": [
    "#самая низкая стоимость\n",
    "ave_price_one_m2[ave_price_one_m2['mean']==ave_price_one_m2['mean'].min()]"
   ]
  },
  {
   "cell_type": "code",
   "execution_count": 81,
   "metadata": {},
   "outputs": [
    {
     "data": {
      "text/plain": [
       "<AxesSubplot:xlabel='locality_name'>"
      ]
     },
     "execution_count": 81,
     "metadata": {},
     "output_type": "execute_result"
    },
    {
     "data": {
      "image/png": "[encoded data removed]",
      "text/plain": [
       "<Figure size 360x360 with 1 Axes>"
      ]
     },
     "metadata": {
      "needs_background": "light"
     },
     "output_type": "display_data"
    }
   ],
   "source": [
    "ave_price_one_m2.plot(y = 'mean', grid=True, rot=45, figsize=(5,5))"
   ]
  },
  {
   "cell_type": "markdown",
   "metadata": {},
   "source": [
    "Вывод: Были отобраны 10 населенных пунктов с наибольшим количеством объявлений. Исходя из них можно сделать вывод, что наиболее высокая цена за квадратный метр в Санкт-Петербурге, а наиболее низкая в Выборге."
   ]
  },
  {
   "cell_type": "code",
   "execution_count": 82,
   "metadata": {
    "scrolled": false
   },
   "outputs": [
    {
     "data": {
      "text/plain": [
       "km_city_center\n",
       "0.18    195591.194969\n",
       "0.21    172619.047619\n",
       "0.22    109900.000000\n",
       "0.29     95058.941100\n",
       "0.32    423999.623668\n",
       "0.33    100000.000000\n",
       "0.38    137755.102041\n",
       "0.39    169833.658752\n",
       "0.40    122764.976959\n",
       "0.41     75471.698113\n",
       "Name: one_square_meter, dtype: float64"
      ]
     },
     "metadata": {},
     "output_type": "display_data"
    }
   ],
   "source": [
    "#Средняя цена каждого километра\n",
    "data['km_city_center'] = data['km_city_center'].fillna(-1) #заменим пропуски на -1\n",
    "ave_price_km1 = data.query('locality_name == \"Санкт-Петербург\" and km_city_center !=-1')\\\n",
    ".groupby('km_city_center')['one_square_meter'].mean()\n",
    "display(ave_price_km1.head(10))"
   ]
  },
  {
   "cell_type": "code",
   "execution_count": 83,
   "metadata": {
    "scrolled": true
   },
   "outputs": [
    {
     "data": {
      "text/plain": [
       "<AxesSubplot:xlabel='km_city_center'>"
      ]
     },
     "execution_count": 83,
     "metadata": {},
     "output_type": "execute_result"
    },
    {
     "data": {
      "image/png": "[encoded data removed]",
      "text/plain": [
       "<Figure size 432x288 with 1 Axes>"
      ]
     },
     "metadata": {
      "needs_background": "light"
     },
     "output_type": "display_data"
    }
   ],
   "source": [
    "ave_price_km1.plot(x='km_city_center', y='one_square_meter')"
   ]
  },
  {
   "cell_type": "markdown",
   "metadata": {},
   "source": [
    "Вывод:Судя по графику можем видеть, что наиболее высокие цены на квартиры можно наблюдать в центре города."
   ]
  },
  {
   "cell_type": "markdown",
   "metadata": {},
   "source": [
    "### Общий вывод"
   ]
  },
  {
   "cell_type": "markdown",
   "metadata": {},
   "source": [
    "Вывод: В ходе работы над проектом удалось заменить в некоторых столбцах пропущенные значения, а также определить различные статистические выбросы. \n",
    "Удалось выявить взаимосвязь между общей площадью квартиры и ее стоимостью.Было замечено, что несмотря на спад начиная с 2014-2015 годов, на них ориентироваться нельзя, потому что объявлений достаточно мало, а цены высокие. Наиболее стабильными можно назвать 2017-2018 года, где к-во объявлений и цена неизменились. В 2019 заметен рост цен, но и уменьшение к-ва объявлений. Связи между днем, месяцем и ценой не было выявлено. \n",
    "Я расчитала среднюю цену одного квадратного метра в 10 населённых пунктах с наибольшим числом объявлений, отсюда удалось выявить самую высокую стоимость - Санкт-Петербург(114 560,98), самую низкую стоимость - Выборг(58 238,14).  \n",
    "Была расчитана средняя цена каждого километра, где мы узнали что действительно квартиры в центре стоят дороже чем за его пределами.Наиболее дорогие квартиры расположены в 1-8 км от центра. \n",
    "Было выявлено, что цена на квартиры не на первом и не на последнем этажах выше,что вполне объяснимо небольшими неудобствами проживания на первом и последнем этажах.\n",
    "Можно заметить также рост цен на квартиры с соотвествующим ростом общей и жилой площади квартиры, однако у них тоже есть предел. Общая площадь квартиры не должна привышать 200 кв м, а жилая площадь не должна быть выше 130 кв м. \n",
    "Можно сказать, что больше всего продается 2-хкомнатных квартир. Скорее всего они считаются оптимальным выбором.Также активно покупаются 3-4 и 1 комнатные квартиры. В тоже время самыми распространенными считают 5 и 9 этажные дома.\n"
   ]
  }
 ],
 "metadata": {
  "ExecuteTimeLog": [
   {
    "duration": 749,
    "start_time": "2022-08-26T10:16:39.784Z"
   },
   {
    "duration": 90,
    "start_time": "2022-08-26T10:18:51.039Z"
   },
   {
    "duration": 87,
    "start_time": "2022-08-26T10:19:32.273Z"
   },
   {
    "duration": 81,
    "start_time": "2022-08-26T10:21:17.819Z"
   },
   {
    "duration": 7,
    "start_time": "2022-08-26T10:21:56.676Z"
   },
   {
    "duration": 12,
    "start_time": "2022-08-26T10:22:16.479Z"
   },
   {
    "duration": 95,
    "start_time": "2022-08-26T10:26:13.682Z"
   },
   {
    "duration": 21,
    "start_time": "2022-08-26T10:26:16.123Z"
   },
   {
    "duration": 13,
    "start_time": "2022-08-26T10:26:21.251Z"
   },
   {
    "duration": 9,
    "start_time": "2022-08-26T10:31:13.015Z"
   },
   {
    "duration": 8,
    "start_time": "2022-08-26T11:03:37.990Z"
   },
   {
    "duration": 57,
    "start_time": "2022-08-26T11:03:59.058Z"
   },
   {
    "duration": 10,
    "start_time": "2022-08-26T11:04:06.717Z"
   },
   {
    "duration": 25,
    "start_time": "2022-08-26T11:09:30.884Z"
   },
   {
    "duration": 4,
    "start_time": "2022-08-26T11:09:43.273Z"
   },
   {
    "duration": 6,
    "start_time": "2022-08-26T11:10:41.760Z"
   },
   {
    "duration": 31,
    "start_time": "2022-08-26T11:10:57.744Z"
   },
   {
    "duration": 4,
    "start_time": "2022-08-26T11:11:10.123Z"
   },
   {
    "duration": 80,
    "start_time": "2022-08-26T11:25:52.876Z"
   },
   {
    "duration": 32,
    "start_time": "2022-08-26T11:25:58.439Z"
   },
   {
    "duration": 8,
    "start_time": "2022-08-26T11:27:18.670Z"
   },
   {
    "duration": 40,
    "start_time": "2022-08-26T14:15:43.840Z"
   },
   {
    "duration": 6,
    "start_time": "2022-08-26T14:17:24.974Z"
   },
   {
    "duration": 5,
    "start_time": "2022-08-26T14:23:42.164Z"
   },
   {
    "duration": 43,
    "start_time": "2022-08-26T14:23:53.011Z"
   },
   {
    "duration": 25,
    "start_time": "2022-08-26T14:25:02.500Z"
   },
   {
    "duration": 5,
    "start_time": "2022-08-26T14:25:21.055Z"
   },
   {
    "duration": 7,
    "start_time": "2022-08-26T14:25:48.958Z"
   },
   {
    "duration": 11,
    "start_time": "2022-08-26T14:27:00.237Z"
   },
   {
    "duration": 11,
    "start_time": "2022-08-26T14:27:20.893Z"
   },
   {
    "duration": 27,
    "start_time": "2022-08-26T14:27:51.953Z"
   },
   {
    "duration": 10,
    "start_time": "2022-08-26T14:31:21.977Z"
   },
   {
    "duration": 7,
    "start_time": "2022-08-26T14:31:51.675Z"
   },
   {
    "duration": 7,
    "start_time": "2022-08-26T14:32:09.323Z"
   },
   {
    "duration": 5,
    "start_time": "2022-08-26T14:32:58.814Z"
   },
   {
    "duration": 10,
    "start_time": "2022-08-26T14:33:05.235Z"
   },
   {
    "duration": 7,
    "start_time": "2022-08-26T14:39:20.362Z"
   },
   {
    "duration": 13,
    "start_time": "2022-08-26T14:39:56.334Z"
   },
   {
    "duration": 22,
    "start_time": "2022-08-26T14:40:15.800Z"
   },
   {
    "duration": 5,
    "start_time": "2022-08-26T14:42:18.690Z"
   },
   {
    "duration": 5,
    "start_time": "2022-08-26T14:43:19.080Z"
   },
   {
    "duration": 8,
    "start_time": "2022-08-26T14:43:41.920Z"
   },
   {
    "duration": 4,
    "start_time": "2022-08-26T14:47:17.818Z"
   },
   {
    "duration": 7,
    "start_time": "2022-08-26T14:47:20.876Z"
   },
   {
    "duration": 7,
    "start_time": "2022-08-26T14:49:42.317Z"
   },
   {
    "duration": 7,
    "start_time": "2022-08-26T14:51:07.443Z"
   },
   {
    "duration": 7,
    "start_time": "2022-08-26T14:55:40.581Z"
   },
   {
    "duration": 8,
    "start_time": "2022-08-26T14:55:44.646Z"
   },
   {
    "duration": 5,
    "start_time": "2022-08-26T14:55:53.894Z"
   },
   {
    "duration": 8,
    "start_time": "2022-08-26T14:55:58.443Z"
   },
   {
    "duration": 6,
    "start_time": "2022-08-26T14:56:09.258Z"
   },
   {
    "duration": 7,
    "start_time": "2022-08-26T14:56:23.074Z"
   },
   {
    "duration": 7,
    "start_time": "2022-08-26T14:57:27.959Z"
   },
   {
    "duration": 6,
    "start_time": "2022-08-26T14:57:30.872Z"
   },
   {
    "duration": 7,
    "start_time": "2022-08-26T14:57:57.074Z"
   },
   {
    "duration": 6,
    "start_time": "2022-08-26T14:58:10.109Z"
   },
   {
    "duration": 6,
    "start_time": "2022-08-26T14:58:57.079Z"
   },
   {
    "duration": 7,
    "start_time": "2022-08-26T14:59:07.926Z"
   },
   {
    "duration": 6,
    "start_time": "2022-08-26T14:59:18.214Z"
   },
   {
    "duration": 957,
    "start_time": "2022-08-26T15:06:19.336Z"
   },
   {
    "duration": 851,
    "start_time": "2022-08-26T15:06:33.561Z"
   },
   {
    "duration": 6,
    "start_time": "2022-08-26T15:06:44.554Z"
   },
   {
    "duration": 26,
    "start_time": "2022-08-26T15:07:00.079Z"
   },
   {
    "duration": 6,
    "start_time": "2022-08-26T15:08:08.575Z"
   },
   {
    "duration": 9,
    "start_time": "2022-08-26T15:08:34.892Z"
   },
   {
    "duration": 5,
    "start_time": "2022-08-26T15:17:48.269Z"
   },
   {
    "duration": 9,
    "start_time": "2022-08-26T15:17:51.572Z"
   },
   {
    "duration": 98,
    "start_time": "2022-08-26T15:20:00.997Z"
   },
   {
    "duration": 21,
    "start_time": "2022-08-26T15:20:02.739Z"
   },
   {
    "duration": 16,
    "start_time": "2022-08-26T15:20:04.431Z"
   },
   {
    "duration": 9,
    "start_time": "2022-08-26T15:20:06.768Z"
   },
   {
    "duration": 5,
    "start_time": "2022-08-26T15:20:10.237Z"
   },
   {
    "duration": 4,
    "start_time": "2022-08-26T15:20:11.548Z"
   },
   {
    "duration": 5,
    "start_time": "2022-08-26T15:20:13.113Z"
   },
   {
    "duration": 4,
    "start_time": "2022-08-26T15:20:15.313Z"
   },
   {
    "duration": 8,
    "start_time": "2022-08-26T15:20:16.914Z"
   },
   {
    "duration": 5,
    "start_time": "2022-08-26T15:20:18.669Z"
   },
   {
    "duration": 5,
    "start_time": "2022-08-26T15:20:20.389Z"
   },
   {
    "duration": 2,
    "start_time": "2022-08-26T15:20:21.969Z"
   },
   {
    "duration": 5,
    "start_time": "2022-08-26T15:20:23.633Z"
   },
   {
    "duration": 6,
    "start_time": "2022-08-26T15:20:28.780Z"
   },
   {
    "duration": 13,
    "start_time": "2022-08-26T15:22:11.013Z"
   },
   {
    "duration": 8,
    "start_time": "2022-08-26T15:22:14.159Z"
   },
   {
    "duration": 7,
    "start_time": "2022-08-26T15:22:17.634Z"
   },
   {
    "duration": 8,
    "start_time": "2022-08-26T15:23:08.189Z"
   },
   {
    "duration": 8,
    "start_time": "2022-08-26T15:23:13.549Z"
   },
   {
    "duration": 8,
    "start_time": "2022-08-26T15:23:15.773Z"
   },
   {
    "duration": 5,
    "start_time": "2022-08-26T16:13:13.205Z"
   },
   {
    "duration": 6,
    "start_time": "2022-08-26T16:13:42.505Z"
   },
   {
    "duration": 6,
    "start_time": "2022-08-26T16:14:02.224Z"
   },
   {
    "duration": 8,
    "start_time": "2022-08-26T16:14:24.377Z"
   },
   {
    "duration": 2,
    "start_time": "2022-08-26T16:17:24.030Z"
   },
   {
    "duration": 44,
    "start_time": "2022-08-26T16:17:31.946Z"
   },
   {
    "duration": 5,
    "start_time": "2022-08-26T16:18:13.401Z"
   },
   {
    "duration": 35,
    "start_time": "2022-08-26T16:18:18.637Z"
   },
   {
    "duration": 5,
    "start_time": "2022-08-26T16:20:22.573Z"
   },
   {
    "duration": 4,
    "start_time": "2022-08-26T16:20:35.278Z"
   },
   {
    "duration": 3,
    "start_time": "2022-08-26T16:20:53.790Z"
   },
   {
    "duration": 5,
    "start_time": "2022-08-26T16:20:56.510Z"
   },
   {
    "duration": 187,
    "start_time": "2022-08-26T16:22:56.962Z"
   },
   {
    "duration": 7,
    "start_time": "2022-08-26T16:23:06.062Z"
   },
   {
    "duration": 7,
    "start_time": "2022-08-26T16:23:20.853Z"
   },
   {
    "duration": 7,
    "start_time": "2022-08-26T16:24:27.851Z"
   },
   {
    "duration": 87,
    "start_time": "2022-08-26T16:24:39.070Z"
   },
   {
    "duration": 21,
    "start_time": "2022-08-26T16:24:40.723Z"
   },
   {
    "duration": 13,
    "start_time": "2022-08-26T16:24:43.319Z"
   },
   {
    "duration": 11,
    "start_time": "2022-08-26T16:24:46.679Z"
   },
   {
    "duration": 5,
    "start_time": "2022-08-26T16:24:50.704Z"
   },
   {
    "duration": 5,
    "start_time": "2022-08-26T16:24:52.111Z"
   },
   {
    "duration": 8,
    "start_time": "2022-08-26T16:24:53.690Z"
   },
   {
    "duration": 8,
    "start_time": "2022-08-26T16:24:55.627Z"
   },
   {
    "duration": 4,
    "start_time": "2022-08-26T16:24:57.576Z"
   },
   {
    "duration": 6,
    "start_time": "2022-08-26T16:24:59.599Z"
   },
   {
    "duration": 4,
    "start_time": "2022-08-26T16:25:02.712Z"
   },
   {
    "duration": 7,
    "start_time": "2022-08-26T16:25:06.024Z"
   },
   {
    "duration": 12,
    "start_time": "2022-08-26T16:39:53.941Z"
   },
   {
    "duration": 8,
    "start_time": "2022-08-26T16:39:58.002Z"
   },
   {
    "duration": 37,
    "start_time": "2022-08-26T16:42:04.878Z"
   },
   {
    "duration": 34,
    "start_time": "2022-08-26T16:46:27.718Z"
   },
   {
    "duration": 48,
    "start_time": "2022-08-26T16:49:01.104Z"
   },
   {
    "duration": 7,
    "start_time": "2022-08-26T16:50:05.279Z"
   },
   {
    "duration": 7,
    "start_time": "2022-08-26T16:50:55.809Z"
   },
   {
    "duration": 49,
    "start_time": "2022-08-26T16:51:05.633Z"
   },
   {
    "duration": 7,
    "start_time": "2022-08-26T16:53:26.274Z"
   },
   {
    "duration": 8,
    "start_time": "2022-08-26T16:53:57.079Z"
   },
   {
    "duration": 38,
    "start_time": "2022-08-26T16:54:04.942Z"
   },
   {
    "duration": 39,
    "start_time": "2022-08-26T16:54:40.268Z"
   },
   {
    "duration": 2,
    "start_time": "2022-08-26T16:54:48.043Z"
   },
   {
    "duration": 33,
    "start_time": "2022-08-26T16:54:50.341Z"
   },
   {
    "duration": 7,
    "start_time": "2022-08-26T16:58:25.388Z"
   },
   {
    "duration": 38,
    "start_time": "2022-08-26T16:58:32.043Z"
   },
   {
    "duration": 171,
    "start_time": "2022-08-26T16:58:59.117Z"
   },
   {
    "duration": 80,
    "start_time": "2022-08-26T16:59:39.795Z"
   },
   {
    "duration": 21,
    "start_time": "2022-08-26T16:59:41.889Z"
   },
   {
    "duration": 9,
    "start_time": "2022-08-26T16:59:48.434Z"
   },
   {
    "duration": 4,
    "start_time": "2022-08-26T16:59:50.646Z"
   },
   {
    "duration": 6,
    "start_time": "2022-08-26T16:59:52.166Z"
   },
   {
    "duration": 7,
    "start_time": "2022-08-26T16:59:54.326Z"
   },
   {
    "duration": 4,
    "start_time": "2022-08-26T16:59:56.672Z"
   },
   {
    "duration": 5,
    "start_time": "2022-08-26T16:59:58.431Z"
   },
   {
    "duration": 5,
    "start_time": "2022-08-26T16:59:59.846Z"
   },
   {
    "duration": 3,
    "start_time": "2022-08-26T17:00:05.495Z"
   },
   {
    "duration": 4,
    "start_time": "2022-08-26T17:00:06.840Z"
   },
   {
    "duration": 9,
    "start_time": "2022-08-26T17:00:08.496Z"
   },
   {
    "duration": 8,
    "start_time": "2022-08-26T17:00:11.761Z"
   },
   {
    "duration": 9,
    "start_time": "2022-08-26T17:00:13.475Z"
   },
   {
    "duration": 8,
    "start_time": "2022-08-26T17:00:15.829Z"
   },
   {
    "duration": 17,
    "start_time": "2022-08-26T17:01:18.085Z"
   },
   {
    "duration": 13,
    "start_time": "2022-08-26T17:02:09.756Z"
   },
   {
    "duration": 13,
    "start_time": "2022-08-26T17:03:25.059Z"
   },
   {
    "duration": 13,
    "start_time": "2022-08-26T17:14:48.400Z"
   },
   {
    "duration": 14,
    "start_time": "2022-08-26T17:14:54.500Z"
   },
   {
    "duration": 13,
    "start_time": "2022-08-26T17:15:06.627Z"
   },
   {
    "duration": 12,
    "start_time": "2022-08-26T17:17:41.562Z"
   },
   {
    "duration": 13,
    "start_time": "2022-08-26T17:17:49.680Z"
   },
   {
    "duration": 17,
    "start_time": "2022-08-26T17:18:18.998Z"
   },
   {
    "duration": 13,
    "start_time": "2022-08-26T17:18:23.448Z"
   },
   {
    "duration": 231,
    "start_time": "2022-08-26T17:19:34.918Z"
   },
   {
    "duration": 3,
    "start_time": "2022-08-26T17:20:36.464Z"
   },
   {
    "duration": 26,
    "start_time": "2022-08-26T17:20:48.372Z"
   },
   {
    "duration": 12,
    "start_time": "2022-08-26T17:22:09.514Z"
   },
   {
    "duration": 13,
    "start_time": "2022-08-26T17:22:15.538Z"
   },
   {
    "duration": 13,
    "start_time": "2022-08-26T17:29:11.555Z"
   },
   {
    "duration": 13,
    "start_time": "2022-08-26T17:29:36.773Z"
   },
   {
    "duration": 2,
    "start_time": "2022-08-26T17:32:27.130Z"
   },
   {
    "duration": 13,
    "start_time": "2022-08-26T17:32:48.105Z"
   },
   {
    "duration": 170,
    "start_time": "2022-08-26T17:33:46.103Z"
   },
   {
    "duration": 11,
    "start_time": "2022-08-26T17:34:06.487Z"
   },
   {
    "duration": 10,
    "start_time": "2022-08-26T17:34:18.195Z"
   },
   {
    "duration": 11,
    "start_time": "2022-08-26T17:34:34.093Z"
   },
   {
    "duration": 2,
    "start_time": "2022-08-26T17:34:43.116Z"
   },
   {
    "duration": 9,
    "start_time": "2022-08-26T17:36:18.515Z"
   },
   {
    "duration": 25,
    "start_time": "2022-08-26T17:36:27.838Z"
   },
   {
    "duration": 26,
    "start_time": "2022-08-26T17:37:08.464Z"
   },
   {
    "duration": 544,
    "start_time": "2022-08-26T17:37:37.849Z"
   },
   {
    "duration": 576,
    "start_time": "2022-08-26T17:38:09.389Z"
   },
   {
    "duration": 151,
    "start_time": "2022-08-26T17:43:17.082Z"
   },
   {
    "duration": 8,
    "start_time": "2022-08-26T17:43:39.222Z"
   },
   {
    "duration": 14,
    "start_time": "2022-08-26T17:46:46.402Z"
   },
   {
    "duration": 2,
    "start_time": "2022-08-26T17:46:58.445Z"
   },
   {
    "duration": 82,
    "start_time": "2022-08-26T17:47:12.614Z"
   },
   {
    "duration": 21,
    "start_time": "2022-08-26T17:47:14.214Z"
   },
   {
    "duration": 8,
    "start_time": "2022-08-26T17:47:16.662Z"
   },
   {
    "duration": 5,
    "start_time": "2022-08-26T17:47:19.139Z"
   },
   {
    "duration": 4,
    "start_time": "2022-08-26T17:47:21.358Z"
   },
   {
    "duration": 6,
    "start_time": "2022-08-26T17:47:23.118Z"
   },
   {
    "duration": 8,
    "start_time": "2022-08-26T17:47:24.952Z"
   },
   {
    "duration": 4,
    "start_time": "2022-08-26T17:47:26.950Z"
   },
   {
    "duration": 6,
    "start_time": "2022-08-26T17:47:29.141Z"
   },
   {
    "duration": 9,
    "start_time": "2022-08-26T17:47:31.890Z"
   },
   {
    "duration": 7,
    "start_time": "2022-08-26T17:47:34.162Z"
   },
   {
    "duration": 105,
    "start_time": "2022-08-26T17:58:51.443Z"
   },
   {
    "duration": 8,
    "start_time": "2022-08-26T17:58:59.739Z"
   },
   {
    "duration": 103,
    "start_time": "2022-08-26T17:59:11.523Z"
   },
   {
    "duration": 104,
    "start_time": "2022-08-26T17:59:15.481Z"
   },
   {
    "duration": 10,
    "start_time": "2022-08-26T17:59:18.972Z"
   },
   {
    "duration": 31,
    "start_time": "2022-08-26T17:59:47.864Z"
   },
   {
    "duration": 11,
    "start_time": "2022-08-26T18:00:19.378Z"
   },
   {
    "duration": 91,
    "start_time": "2022-08-26T18:00:25.169Z"
   },
   {
    "duration": 24,
    "start_time": "2022-08-26T18:00:29.761Z"
   },
   {
    "duration": 9,
    "start_time": "2022-08-26T18:00:32.585Z"
   },
   {
    "duration": 7,
    "start_time": "2022-08-26T18:00:34.745Z"
   },
   {
    "duration": 5,
    "start_time": "2022-08-26T18:00:36.133Z"
   },
   {
    "duration": 8,
    "start_time": "2022-08-26T18:00:37.698Z"
   },
   {
    "duration": 11,
    "start_time": "2022-08-26T18:00:39.498Z"
   },
   {
    "duration": 5,
    "start_time": "2022-08-26T18:00:40.990Z"
   },
   {
    "duration": 7,
    "start_time": "2022-08-26T18:00:43.470Z"
   },
   {
    "duration": 10,
    "start_time": "2022-08-26T18:00:45.527Z"
   },
   {
    "duration": 2,
    "start_time": "2022-08-26T18:00:47.790Z"
   },
   {
    "duration": 108,
    "start_time": "2022-08-26T18:00:50.770Z"
   },
   {
    "duration": 8,
    "start_time": "2022-08-26T18:00:54.270Z"
   },
   {
    "duration": 5,
    "start_time": "2022-08-26T18:26:46.014Z"
   },
   {
    "duration": 36,
    "start_time": "2022-08-26T18:27:06.781Z"
   },
   {
    "duration": 3,
    "start_time": "2022-08-26T18:27:18.287Z"
   },
   {
    "duration": 5,
    "start_time": "2022-08-26T18:29:54.051Z"
   },
   {
    "duration": 48,
    "start_time": "2022-08-26T18:30:04.507Z"
   },
   {
    "duration": 4,
    "start_time": "2022-08-26T18:30:17.808Z"
   },
   {
    "duration": 4,
    "start_time": "2022-08-26T18:31:23.153Z"
   },
   {
    "duration": 5,
    "start_time": "2022-08-26T18:31:50.754Z"
   },
   {
    "duration": 3,
    "start_time": "2022-08-26T18:34:26.965Z"
   },
   {
    "duration": 22,
    "start_time": "2022-08-26T18:34:57.385Z"
   },
   {
    "duration": 3,
    "start_time": "2022-08-26T18:35:52.388Z"
   },
   {
    "duration": 13,
    "start_time": "2022-08-26T18:35:54.780Z"
   },
   {
    "duration": 180,
    "start_time": "2022-08-26T18:36:26.220Z"
   },
   {
    "duration": 189,
    "start_time": "2022-08-26T18:36:58.609Z"
   },
   {
    "duration": 168,
    "start_time": "2022-08-26T18:37:18.545Z"
   },
   {
    "duration": 274,
    "start_time": "2022-08-26T18:37:23.571Z"
   },
   {
    "duration": 34,
    "start_time": "2022-08-26T18:37:35.341Z"
   },
   {
    "duration": 38,
    "start_time": "2022-08-26T18:41:39.792Z"
   },
   {
    "duration": 12,
    "start_time": "2022-08-26T18:43:11.856Z"
   },
   {
    "duration": 7,
    "start_time": "2022-08-26T18:43:26.958Z"
   },
   {
    "duration": 7,
    "start_time": "2022-08-26T18:43:30.214Z"
   },
   {
    "duration": 6,
    "start_time": "2022-08-26T18:43:53.959Z"
   },
   {
    "duration": 9,
    "start_time": "2022-08-26T18:44:01.542Z"
   },
   {
    "duration": 85,
    "start_time": "2022-08-26T18:44:25.882Z"
   },
   {
    "duration": 21,
    "start_time": "2022-08-26T18:44:27.813Z"
   },
   {
    "duration": 9,
    "start_time": "2022-08-26T18:44:32.973Z"
   },
   {
    "duration": 5,
    "start_time": "2022-08-26T18:44:35.270Z"
   },
   {
    "duration": 5,
    "start_time": "2022-08-26T18:44:36.757Z"
   },
   {
    "duration": 5,
    "start_time": "2022-08-26T18:44:38.452Z"
   },
   {
    "duration": 8,
    "start_time": "2022-08-26T18:44:40.830Z"
   },
   {
    "duration": 4,
    "start_time": "2022-08-26T18:44:43.246Z"
   },
   {
    "duration": 7,
    "start_time": "2022-08-26T18:44:45.410Z"
   },
   {
    "duration": 8,
    "start_time": "2022-08-26T18:44:50.989Z"
   },
   {
    "duration": 4,
    "start_time": "2022-08-26T18:44:54.637Z"
   },
   {
    "duration": 5,
    "start_time": "2022-08-26T18:44:56.316Z"
   },
   {
    "duration": 5,
    "start_time": "2022-08-26T18:44:58.023Z"
   },
   {
    "duration": 3,
    "start_time": "2022-08-26T18:44:59.489Z"
   },
   {
    "duration": 381,
    "start_time": "2022-08-26T18:45:02.390Z"
   },
   {
    "duration": 6,
    "start_time": "2022-08-26T18:45:06.583Z"
   },
   {
    "duration": 8,
    "start_time": "2022-08-26T18:45:25.519Z"
   },
   {
    "duration": 8,
    "start_time": "2022-08-26T18:45:27.854Z"
   },
   {
    "duration": 7,
    "start_time": "2022-08-26T18:45:30.419Z"
   },
   {
    "duration": 10,
    "start_time": "2022-08-26T18:47:39.730Z"
   },
   {
    "duration": 30,
    "start_time": "2022-08-26T18:48:10.392Z"
   },
   {
    "duration": 110,
    "start_time": "2022-08-26T18:50:20.694Z"
   },
   {
    "duration": 98,
    "start_time": "2022-08-26T18:50:34.173Z"
   },
   {
    "duration": 121,
    "start_time": "2022-08-26T18:50:38.826Z"
   },
   {
    "duration": 144,
    "start_time": "2022-08-26T18:51:07.842Z"
   },
   {
    "duration": 10,
    "start_time": "2022-08-26T18:51:18.342Z"
   },
   {
    "duration": 621,
    "start_time": "2022-08-26T18:53:16.825Z"
   },
   {
    "duration": 350,
    "start_time": "2022-08-26T18:54:24.688Z"
   },
   {
    "duration": 251,
    "start_time": "2022-08-26T18:56:27.587Z"
   },
   {
    "duration": 256,
    "start_time": "2022-08-26T18:56:43.628Z"
   },
   {
    "duration": 325,
    "start_time": "2022-08-26T18:56:51.597Z"
   },
   {
    "duration": 290,
    "start_time": "2022-08-26T18:56:56.548Z"
   },
   {
    "duration": 225,
    "start_time": "2022-08-26T18:57:18.603Z"
   },
   {
    "duration": 378,
    "start_time": "2022-08-26T18:57:25.144Z"
   },
   {
    "duration": 374,
    "start_time": "2022-08-26T18:59:13.799Z"
   },
   {
    "duration": 197,
    "start_time": "2022-08-26T18:59:23.350Z"
   },
   {
    "duration": 176,
    "start_time": "2022-08-26T18:59:29.123Z"
   },
   {
    "duration": 296,
    "start_time": "2022-08-26T18:59:38.356Z"
   },
   {
    "duration": 184,
    "start_time": "2022-08-26T18:59:43.074Z"
   },
   {
    "duration": 212,
    "start_time": "2022-08-26T18:59:52.875Z"
   },
   {
    "duration": 237,
    "start_time": "2022-08-26T19:01:09.756Z"
   },
   {
    "duration": 214,
    "start_time": "2022-08-26T19:01:23.250Z"
   },
   {
    "duration": 212,
    "start_time": "2022-08-26T19:01:30.394Z"
   },
   {
    "duration": 356,
    "start_time": "2022-08-26T19:01:42.193Z"
   },
   {
    "duration": 166,
    "start_time": "2022-08-26T19:01:47.006Z"
   },
   {
    "duration": 168,
    "start_time": "2022-08-26T19:02:19.282Z"
   },
   {
    "duration": 260,
    "start_time": "2022-08-26T19:03:12.429Z"
   },
   {
    "duration": 26,
    "start_time": "2022-08-26T19:04:29.061Z"
   },
   {
    "duration": 20,
    "start_time": "2022-08-26T19:04:52.587Z"
   },
   {
    "duration": 161,
    "start_time": "2022-08-26T19:05:03.602Z"
   },
   {
    "duration": 170,
    "start_time": "2022-08-26T19:06:20.289Z"
   },
   {
    "duration": 173,
    "start_time": "2022-08-26T19:06:30.314Z"
   },
   {
    "duration": 252,
    "start_time": "2022-08-26T19:06:34.248Z"
   },
   {
    "duration": 192,
    "start_time": "2022-08-26T19:07:52.531Z"
   },
   {
    "duration": 172,
    "start_time": "2022-08-26T19:08:12.254Z"
   },
   {
    "duration": 315,
    "start_time": "2022-08-26T19:08:23.664Z"
   },
   {
    "duration": 186,
    "start_time": "2022-08-26T19:09:18.298Z"
   },
   {
    "duration": 232,
    "start_time": "2022-08-26T19:09:27.825Z"
   },
   {
    "duration": 164,
    "start_time": "2022-08-26T19:10:26.636Z"
   },
   {
    "duration": 216,
    "start_time": "2022-08-26T19:10:35.723Z"
   },
   {
    "duration": 260,
    "start_time": "2022-08-26T19:10:43.171Z"
   },
   {
    "duration": 215,
    "start_time": "2022-08-26T19:10:48.146Z"
   },
   {
    "duration": 241,
    "start_time": "2022-08-26T19:12:22.306Z"
   },
   {
    "duration": 201,
    "start_time": "2022-08-26T19:12:29.037Z"
   },
   {
    "duration": 889,
    "start_time": "2022-08-26T19:13:20.934Z"
   },
   {
    "duration": 777,
    "start_time": "2022-08-26T19:13:48.284Z"
   },
   {
    "duration": 5,
    "start_time": "2022-08-26T19:14:03.211Z"
   },
   {
    "duration": 281,
    "start_time": "2022-08-26T19:14:11.948Z"
   },
   {
    "duration": 311,
    "start_time": "2022-08-26T19:14:19.053Z"
   },
   {
    "duration": 211,
    "start_time": "2022-08-26T19:16:55.783Z"
   },
   {
    "duration": 201,
    "start_time": "2022-08-26T19:17:06.789Z"
   },
   {
    "duration": 261,
    "start_time": "2022-08-26T19:17:15.072Z"
   },
   {
    "duration": 167,
    "start_time": "2022-08-26T19:17:22.812Z"
   },
   {
    "duration": 162,
    "start_time": "2022-08-26T19:17:39.631Z"
   },
   {
    "duration": 166,
    "start_time": "2022-08-26T19:17:47.285Z"
   },
   {
    "duration": 5,
    "start_time": "2022-08-26T19:17:59.837Z"
   },
   {
    "duration": 6,
    "start_time": "2022-08-26T19:18:15.661Z"
   },
   {
    "duration": 5,
    "start_time": "2022-08-26T19:18:20.324Z"
   },
   {
    "duration": 1703,
    "start_time": "2022-08-26T19:23:54.010Z"
   },
   {
    "duration": 47,
    "start_time": "2022-08-26T19:24:23.537Z"
   },
   {
    "duration": 3566,
    "start_time": "2022-08-26T19:24:32.417Z"
   },
   {
    "duration": 1597,
    "start_time": "2022-08-26T19:24:44.818Z"
   },
   {
    "duration": 2398,
    "start_time": "2022-08-26T19:24:53.475Z"
   },
   {
    "duration": 26,
    "start_time": "2022-08-26T19:27:48.978Z"
   },
   {
    "duration": 232,
    "start_time": "2022-08-26T19:28:01.578Z"
   },
   {
    "duration": 937,
    "start_time": "2022-08-26T19:32:31.124Z"
   },
   {
    "duration": 179,
    "start_time": "2022-08-26T19:34:04.846Z"
   },
   {
    "duration": 141,
    "start_time": "2022-08-26T19:34:59.152Z"
   },
   {
    "duration": 10,
    "start_time": "2022-08-26T19:35:08.623Z"
   },
   {
    "duration": 808,
    "start_time": "2022-08-26T19:35:23.164Z"
   },
   {
    "duration": 219,
    "start_time": "2022-08-26T19:35:49.572Z"
   },
   {
    "duration": 30,
    "start_time": "2022-08-26T19:37:04.952Z"
   },
   {
    "duration": 26,
    "start_time": "2022-08-26T19:37:32.945Z"
   },
   {
    "duration": 825,
    "start_time": "2022-08-26T19:37:38.611Z"
   },
   {
    "duration": 827,
    "start_time": "2022-08-26T19:37:45.166Z"
   },
   {
    "duration": 166,
    "start_time": "2022-08-26T19:37:52.726Z"
   },
   {
    "duration": 27,
    "start_time": "2022-08-26T19:39:37.798Z"
   },
   {
    "duration": 172,
    "start_time": "2022-08-26T19:40:24.295Z"
   },
   {
    "duration": 168,
    "start_time": "2022-08-26T19:40:55.002Z"
   },
   {
    "duration": 156,
    "start_time": "2022-08-26T19:42:32.337Z"
   },
   {
    "duration": 120,
    "start_time": "2022-08-26T19:42:57.436Z"
   },
   {
    "duration": 3,
    "start_time": "2022-08-26T19:46:30.050Z"
   },
   {
    "duration": 164,
    "start_time": "2022-08-26T19:48:42.975Z"
   },
   {
    "duration": 160,
    "start_time": "2022-08-26T19:49:12.438Z"
   },
   {
    "duration": 170,
    "start_time": "2022-08-26T19:49:31.746Z"
   },
   {
    "duration": 119,
    "start_time": "2022-08-26T19:52:36.248Z"
   },
   {
    "duration": 27,
    "start_time": "2022-08-26T19:52:51.663Z"
   },
   {
    "duration": 124,
    "start_time": "2022-08-26T19:52:56.527Z"
   },
   {
    "duration": 20,
    "start_time": "2022-08-26T19:58:46.199Z"
   },
   {
    "duration": 15,
    "start_time": "2022-08-26T19:58:55.691Z"
   },
   {
    "duration": 15,
    "start_time": "2022-08-26T19:58:58.171Z"
   },
   {
    "duration": 7,
    "start_time": "2022-08-26T19:59:12.436Z"
   },
   {
    "duration": 7,
    "start_time": "2022-08-26T19:59:22.377Z"
   },
   {
    "duration": 21,
    "start_time": "2022-08-26T19:59:43.265Z"
   },
   {
    "duration": 19,
    "start_time": "2022-08-26T19:59:54.352Z"
   },
   {
    "duration": 40,
    "start_time": "2022-08-26T20:03:13.461Z"
   },
   {
    "duration": 6,
    "start_time": "2022-08-26T20:03:43.229Z"
   },
   {
    "duration": 10,
    "start_time": "2022-08-26T20:04:03.147Z"
   },
   {
    "duration": 8,
    "start_time": "2022-08-26T20:04:34.525Z"
   },
   {
    "duration": 7,
    "start_time": "2022-08-26T20:04:36.763Z"
   },
   {
    "duration": 52,
    "start_time": "2022-08-27T08:41:06.208Z"
   },
   {
    "duration": 593,
    "start_time": "2022-08-27T08:41:13.881Z"
   },
   {
    "duration": 35,
    "start_time": "2022-08-27T08:41:16.027Z"
   },
   {
    "duration": 11,
    "start_time": "2022-08-27T08:41:18.497Z"
   },
   {
    "duration": 5,
    "start_time": "2022-08-27T08:41:20.851Z"
   },
   {
    "duration": 6,
    "start_time": "2022-08-27T08:41:22.874Z"
   },
   {
    "duration": 7,
    "start_time": "2022-08-27T08:41:24.886Z"
   },
   {
    "duration": 9,
    "start_time": "2022-08-27T08:41:27.283Z"
   },
   {
    "duration": 6,
    "start_time": "2022-08-27T08:41:29.211Z"
   },
   {
    "duration": 6,
    "start_time": "2022-08-27T08:41:31.162Z"
   },
   {
    "duration": 10,
    "start_time": "2022-08-27T08:41:33.490Z"
   },
   {
    "duration": 8,
    "start_time": "2022-08-27T08:41:35.794Z"
   },
   {
    "duration": 4,
    "start_time": "2022-08-27T08:41:38.829Z"
   },
   {
    "duration": 6,
    "start_time": "2022-08-27T08:41:40.898Z"
   },
   {
    "duration": 6,
    "start_time": "2022-08-27T08:41:42.420Z"
   },
   {
    "duration": 6,
    "start_time": "2022-08-27T08:41:44.195Z"
   },
   {
    "duration": 3,
    "start_time": "2022-08-27T08:41:46.011Z"
   },
   {
    "duration": 321,
    "start_time": "2022-08-27T08:41:47.875Z"
   },
   {
    "duration": 104,
    "start_time": "2022-08-27T08:41:50.382Z"
   },
   {
    "duration": 747,
    "start_time": "2022-08-27T08:41:52.755Z"
   },
   {
    "duration": 311,
    "start_time": "2022-08-27T08:41:55.053Z"
   },
   {
    "duration": 228,
    "start_time": "2022-08-27T08:41:57.410Z"
   },
   {
    "duration": 211,
    "start_time": "2022-08-27T08:41:59.362Z"
   },
   {
    "duration": 199,
    "start_time": "2022-08-27T08:42:03.187Z"
   },
   {
    "duration": 128,
    "start_time": "2022-08-27T08:42:05.376Z"
   },
   {
    "duration": 211,
    "start_time": "2022-08-27T08:42:06.625Z"
   },
   {
    "duration": 204,
    "start_time": "2022-08-27T08:42:07.667Z"
   },
   {
    "duration": 184,
    "start_time": "2022-08-27T08:42:09.139Z"
   },
   {
    "duration": 258,
    "start_time": "2022-08-27T08:42:09.692Z"
   },
   {
    "duration": 246,
    "start_time": "2022-08-27T08:42:10.388Z"
   },
   {
    "duration": 239,
    "start_time": "2022-08-27T08:42:11.363Z"
   },
   {
    "duration": 239,
    "start_time": "2022-08-27T08:42:11.916Z"
   },
   {
    "duration": 43,
    "start_time": "2022-08-27T08:42:14.703Z"
   },
   {
    "duration": 189,
    "start_time": "2022-08-27T08:42:15.627Z"
   },
   {
    "duration": 30,
    "start_time": "2022-08-27T08:42:16.340Z"
   },
   {
    "duration": 198,
    "start_time": "2022-08-27T08:42:17.326Z"
   },
   {
    "duration": 165,
    "start_time": "2022-08-27T08:42:19.665Z"
   },
   {
    "duration": 202,
    "start_time": "2022-08-27T08:42:21.063Z"
   },
   {
    "duration": 149,
    "start_time": "2022-08-27T08:42:22.716Z"
   },
   {
    "duration": 198,
    "start_time": "2022-08-27T08:42:25.375Z"
   },
   {
    "duration": 201,
    "start_time": "2022-08-27T08:42:26.648Z"
   },
   {
    "duration": 257,
    "start_time": "2022-08-27T08:42:28.417Z"
   },
   {
    "duration": 22,
    "start_time": "2022-08-27T08:42:30.666Z"
   },
   {
    "duration": 8,
    "start_time": "2022-08-27T08:42:32.176Z"
   },
   {
    "duration": 8,
    "start_time": "2022-08-27T08:42:34.429Z"
   },
   {
    "duration": 29,
    "start_time": "2022-08-27T08:42:36.518Z"
   },
   {
    "duration": 29,
    "start_time": "2022-08-27T08:43:02.072Z"
   },
   {
    "duration": 22,
    "start_time": "2022-08-27T08:43:10.766Z"
   },
   {
    "duration": 1326,
    "start_time": "2022-08-27T08:45:18.284Z"
   },
   {
    "duration": 153,
    "start_time": "2022-08-27T08:45:35.983Z"
   },
   {
    "duration": 148,
    "start_time": "2022-08-27T08:45:46.213Z"
   },
   {
    "duration": 22,
    "start_time": "2022-08-27T08:46:59.251Z"
   },
   {
    "duration": 25,
    "start_time": "2022-08-27T08:47:19.395Z"
   },
   {
    "duration": 26,
    "start_time": "2022-08-27T08:47:34.092Z"
   },
   {
    "duration": 21,
    "start_time": "2022-08-27T08:47:48.897Z"
   },
   {
    "duration": 22,
    "start_time": "2022-08-27T08:47:55.313Z"
   },
   {
    "duration": 24,
    "start_time": "2022-08-27T08:49:15.231Z"
   },
   {
    "duration": 23,
    "start_time": "2022-08-27T08:49:28.031Z"
   },
   {
    "duration": 23,
    "start_time": "2022-08-27T08:49:49.045Z"
   },
   {
    "duration": 22,
    "start_time": "2022-08-27T08:49:56.672Z"
   },
   {
    "duration": 23,
    "start_time": "2022-08-27T08:50:09.644Z"
   },
   {
    "duration": 139,
    "start_time": "2022-08-27T08:50:54.148Z"
   },
   {
    "duration": 13,
    "start_time": "2022-08-27T08:52:31.524Z"
   },
   {
    "duration": 7,
    "start_time": "2022-08-27T08:52:38.372Z"
   },
   {
    "duration": 7,
    "start_time": "2022-08-27T08:52:45.098Z"
   },
   {
    "duration": 4,
    "start_time": "2022-08-27T08:52:53.040Z"
   },
   {
    "duration": 7,
    "start_time": "2022-08-27T08:52:54.643Z"
   },
   {
    "duration": 6,
    "start_time": "2022-08-27T08:52:55.115Z"
   },
   {
    "duration": 5,
    "start_time": "2022-08-27T08:52:55.560Z"
   },
   {
    "duration": 4,
    "start_time": "2022-08-27T08:52:56.136Z"
   },
   {
    "duration": 315,
    "start_time": "2022-08-27T08:52:56.881Z"
   },
   {
    "duration": 99,
    "start_time": "2022-08-27T08:52:57.519Z"
   },
   {
    "duration": 385,
    "start_time": "2022-08-27T08:53:01.210Z"
   },
   {
    "duration": 398,
    "start_time": "2022-08-27T08:53:02.016Z"
   },
   {
    "duration": 300,
    "start_time": "2022-08-27T08:53:02.531Z"
   },
   {
    "duration": 238,
    "start_time": "2022-08-27T08:53:03.185Z"
   },
   {
    "duration": 186,
    "start_time": "2022-08-27T08:53:03.876Z"
   },
   {
    "duration": 249,
    "start_time": "2022-08-27T08:53:04.432Z"
   },
   {
    "duration": 205,
    "start_time": "2022-08-27T08:53:05.404Z"
   },
   {
    "duration": 142,
    "start_time": "2022-08-27T08:53:06.488Z"
   },
   {
    "duration": 306,
    "start_time": "2022-08-27T08:53:07.167Z"
   },
   {
    "duration": 241,
    "start_time": "2022-08-27T08:53:10.106Z"
   },
   {
    "duration": 186,
    "start_time": "2022-08-27T08:53:12.124Z"
   },
   {
    "duration": 187,
    "start_time": "2022-08-27T08:53:12.785Z"
   },
   {
    "duration": 225,
    "start_time": "2022-08-27T08:53:13.536Z"
   },
   {
    "duration": 232,
    "start_time": "2022-08-27T08:53:14.452Z"
   },
   {
    "duration": 205,
    "start_time": "2022-08-27T08:53:15.574Z"
   },
   {
    "duration": 41,
    "start_time": "2022-08-27T08:53:17.603Z"
   },
   {
    "duration": 195,
    "start_time": "2022-08-27T08:53:18.351Z"
   },
   {
    "duration": 34,
    "start_time": "2022-08-27T08:53:18.990Z"
   },
   {
    "duration": 214,
    "start_time": "2022-08-27T08:53:19.584Z"
   },
   {
    "duration": 184,
    "start_time": "2022-08-27T08:53:20.240Z"
   },
   {
    "duration": 220,
    "start_time": "2022-08-27T08:53:20.873Z"
   },
   {
    "duration": 254,
    "start_time": "2022-08-27T08:53:21.571Z"
   },
   {
    "duration": 205,
    "start_time": "2022-08-27T08:53:22.641Z"
   },
   {
    "duration": 208,
    "start_time": "2022-08-27T08:53:23.788Z"
   },
   {
    "duration": 201,
    "start_time": "2022-08-27T08:53:24.838Z"
   },
   {
    "duration": 23,
    "start_time": "2022-08-27T08:53:29.777Z"
   },
   {
    "duration": 9,
    "start_time": "2022-08-27T08:53:34.561Z"
   },
   {
    "duration": 8,
    "start_time": "2022-08-27T08:53:35.882Z"
   },
   {
    "duration": 42,
    "start_time": "2022-08-27T08:53:39.417Z"
   },
   {
    "duration": 159,
    "start_time": "2022-08-27T08:53:44.802Z"
   },
   {
    "duration": 6,
    "start_time": "2022-08-27T08:55:51.297Z"
   },
   {
    "duration": 7,
    "start_time": "2022-08-27T08:56:02.870Z"
   },
   {
    "duration": 7,
    "start_time": "2022-08-27T08:56:29.408Z"
   },
   {
    "duration": 11,
    "start_time": "2022-08-27T09:01:22.253Z"
   },
   {
    "duration": 12,
    "start_time": "2022-08-27T09:01:42.070Z"
   },
   {
    "duration": 28,
    "start_time": "2022-08-27T09:02:22.072Z"
   },
   {
    "duration": 10,
    "start_time": "2022-08-27T09:03:02.524Z"
   },
   {
    "duration": 11,
    "start_time": "2022-08-27T09:03:05.598Z"
   },
   {
    "duration": 22,
    "start_time": "2022-08-27T09:03:22.038Z"
   },
   {
    "duration": 219,
    "start_time": "2022-08-27T09:03:37.632Z"
   },
   {
    "duration": 171,
    "start_time": "2022-08-27T09:03:45.594Z"
   },
   {
    "duration": 136,
    "start_time": "2022-08-27T09:05:07.076Z"
   },
   {
    "duration": 10,
    "start_time": "2022-08-27T09:05:26.875Z"
   },
   {
    "duration": 179,
    "start_time": "2022-08-27T09:05:32.069Z"
   },
   {
    "duration": 169,
    "start_time": "2022-08-27T09:05:58.207Z"
   },
   {
    "duration": 22,
    "start_time": "2022-08-27T09:06:43.041Z"
   },
   {
    "duration": 138,
    "start_time": "2022-08-27T09:06:49.347Z"
   },
   {
    "duration": 11,
    "start_time": "2022-08-27T09:08:50.912Z"
   },
   {
    "duration": 11,
    "start_time": "2022-08-27T09:09:15.830Z"
   },
   {
    "duration": 77,
    "start_time": "2022-08-27T09:15:25.010Z"
   },
   {
    "duration": 82,
    "start_time": "2022-08-27T09:15:34.811Z"
   },
   {
    "duration": 74,
    "start_time": "2022-08-27T09:17:13.226Z"
   },
   {
    "duration": 7,
    "start_time": "2022-08-27T09:35:22.996Z"
   },
   {
    "duration": 75,
    "start_time": "2022-08-27T09:43:58.444Z"
   },
   {
    "duration": 5,
    "start_time": "2022-08-27T09:44:06.238Z"
   },
   {
    "duration": 5,
    "start_time": "2022-08-27T09:44:33.037Z"
   },
   {
    "duration": 5,
    "start_time": "2022-08-27T09:45:43.299Z"
   },
   {
    "duration": 5,
    "start_time": "2022-08-27T09:46:05.252Z"
   },
   {
    "duration": 376,
    "start_time": "2022-08-27T09:47:10.922Z"
   },
   {
    "duration": 1162,
    "start_time": "2022-08-27T09:47:38.336Z"
   },
   {
    "duration": 478,
    "start_time": "2022-08-27T09:48:45.048Z"
   },
   {
    "duration": 374,
    "start_time": "2022-08-27T09:49:04.437Z"
   },
   {
    "duration": 2,
    "start_time": "2022-08-27T09:49:09.265Z"
   },
   {
    "duration": 6,
    "start_time": "2022-08-27T09:49:41.863Z"
   },
   {
    "duration": 5,
    "start_time": "2022-08-27T09:51:05.702Z"
   },
   {
    "duration": 5,
    "start_time": "2022-08-27T09:51:41.745Z"
   },
   {
    "duration": 167,
    "start_time": "2022-08-27T09:53:34.407Z"
   },
   {
    "duration": 547,
    "start_time": "2022-08-27T09:53:40.691Z"
   },
   {
    "duration": 13,
    "start_time": "2022-08-27T09:59:28.361Z"
   },
   {
    "duration": 3,
    "start_time": "2022-08-27T09:59:43.083Z"
   },
   {
    "duration": 13,
    "start_time": "2022-08-27T09:59:45.468Z"
   },
   {
    "duration": 49,
    "start_time": "2022-08-27T10:04:21.710Z"
   },
   {
    "duration": 9,
    "start_time": "2022-08-27T10:04:49.812Z"
   },
   {
    "duration": 9,
    "start_time": "2022-08-27T10:08:24.339Z"
   },
   {
    "duration": 6,
    "start_time": "2022-08-27T10:08:27.822Z"
   },
   {
    "duration": 35,
    "start_time": "2022-08-27T10:08:46.456Z"
   },
   {
    "duration": 7,
    "start_time": "2022-08-27T10:09:25.953Z"
   },
   {
    "duration": 10,
    "start_time": "2022-08-27T10:09:29.443Z"
   },
   {
    "duration": 72,
    "start_time": "2022-08-27T10:10:36.751Z"
   },
   {
    "duration": 2,
    "start_time": "2022-08-27T10:10:53.273Z"
   },
   {
    "duration": 71,
    "start_time": "2022-08-27T10:12:36.770Z"
   },
   {
    "duration": 79,
    "start_time": "2022-08-27T10:12:47.239Z"
   },
   {
    "duration": 2,
    "start_time": "2022-08-27T10:12:57.891Z"
   },
   {
    "duration": 6,
    "start_time": "2022-08-27T10:13:00.811Z"
   },
   {
    "duration": 10,
    "start_time": "2022-08-27T10:26:36.054Z"
   },
   {
    "duration": 46,
    "start_time": "2022-08-27T10:26:58.115Z"
   },
   {
    "duration": 41,
    "start_time": "2022-08-27T10:27:23.316Z"
   },
   {
    "duration": 27,
    "start_time": "2022-08-27T10:27:36.628Z"
   },
   {
    "duration": 50,
    "start_time": "2022-08-27T10:40:26.916Z"
   },
   {
    "duration": 46,
    "start_time": "2022-08-27T10:40:40.457Z"
   },
   {
    "duration": 25,
    "start_time": "2022-08-27T10:40:56.777Z"
   },
   {
    "duration": 81,
    "start_time": "2022-08-27T10:41:10.524Z"
   },
   {
    "duration": 80,
    "start_time": "2022-08-27T10:41:19.945Z"
   },
   {
    "duration": 5,
    "start_time": "2022-08-27T10:41:32.123Z"
   },
   {
    "duration": 5,
    "start_time": "2022-08-27T11:19:50.442Z"
   },
   {
    "duration": 218,
    "start_time": "2022-08-27T11:20:14.222Z"
   },
   {
    "duration": 6,
    "start_time": "2022-08-27T11:20:20.700Z"
   },
   {
    "duration": 17,
    "start_time": "2022-08-27T11:20:28.307Z"
   },
   {
    "duration": 7,
    "start_time": "2022-08-27T11:20:45.588Z"
   },
   {
    "duration": 75,
    "start_time": "2022-08-27T11:20:50.661Z"
   },
   {
    "duration": 6,
    "start_time": "2022-08-27T11:20:57.582Z"
   },
   {
    "duration": 5,
    "start_time": "2022-08-27T11:23:10.160Z"
   },
   {
    "duration": 18,
    "start_time": "2022-08-27T11:23:16.283Z"
   },
   {
    "duration": 11,
    "start_time": "2022-08-27T11:23:24.112Z"
   },
   {
    "duration": 23,
    "start_time": "2022-08-27T11:23:36.017Z"
   },
   {
    "duration": 16,
    "start_time": "2022-08-27T11:23:46.384Z"
   },
   {
    "duration": 15,
    "start_time": "2022-08-27T11:23:53.264Z"
   },
   {
    "duration": 97,
    "start_time": "2022-08-27T11:24:22.174Z"
   },
   {
    "duration": 26,
    "start_time": "2022-08-27T11:24:22.814Z"
   },
   {
    "duration": 16,
    "start_time": "2022-08-27T11:24:23.739Z"
   },
   {
    "duration": 11,
    "start_time": "2022-08-27T11:24:27.505Z"
   },
   {
    "duration": 6,
    "start_time": "2022-08-27T11:24:29.326Z"
   },
   {
    "duration": 7,
    "start_time": "2022-08-27T11:24:29.933Z"
   },
   {
    "duration": 9,
    "start_time": "2022-08-27T11:24:30.606Z"
   },
   {
    "duration": 6,
    "start_time": "2022-08-27T11:24:32.165Z"
   },
   {
    "duration": 8,
    "start_time": "2022-08-27T11:24:34.710Z"
   },
   {
    "duration": 7,
    "start_time": "2022-08-27T11:24:36.757Z"
   },
   {
    "duration": 7,
    "start_time": "2022-08-27T11:24:37.289Z"
   },
   {
    "duration": 6,
    "start_time": "2022-08-27T11:24:37.816Z"
   },
   {
    "duration": 59,
    "start_time": "2022-08-27T11:24:41.390Z"
   },
   {
    "duration": 16,
    "start_time": "2022-08-27T11:25:09.879Z"
   },
   {
    "duration": 91,
    "start_time": "2022-08-27T11:25:15.741Z"
   },
   {
    "duration": 29,
    "start_time": "2022-08-27T11:25:16.285Z"
   },
   {
    "duration": 14,
    "start_time": "2022-08-27T11:25:16.955Z"
   },
   {
    "duration": 11,
    "start_time": "2022-08-27T11:25:20.673Z"
   },
   {
    "duration": 7,
    "start_time": "2022-08-27T11:25:22.635Z"
   },
   {
    "duration": 6,
    "start_time": "2022-08-27T11:25:23.238Z"
   },
   {
    "duration": 9,
    "start_time": "2022-08-27T11:25:23.826Z"
   },
   {
    "duration": 8,
    "start_time": "2022-08-27T11:25:24.472Z"
   },
   {
    "duration": 8,
    "start_time": "2022-08-27T11:25:26.458Z"
   },
   {
    "duration": 5,
    "start_time": "2022-08-27T11:25:28.106Z"
   },
   {
    "duration": 6,
    "start_time": "2022-08-27T11:25:29.158Z"
   },
   {
    "duration": 6,
    "start_time": "2022-08-27T11:25:29.683Z"
   },
   {
    "duration": 50,
    "start_time": "2022-08-27T11:25:31.578Z"
   },
   {
    "duration": 49,
    "start_time": "2022-08-27T11:26:04.293Z"
   },
   {
    "duration": 9,
    "start_time": "2022-08-27T11:26:46.426Z"
   },
   {
    "duration": 9,
    "start_time": "2022-08-27T11:26:50.280Z"
   },
   {
    "duration": 131,
    "start_time": "2022-08-27T11:28:15.406Z"
   },
   {
    "duration": 127,
    "start_time": "2022-08-27T11:28:35.120Z"
   },
   {
    "duration": 111,
    "start_time": "2022-08-27T11:28:56.912Z"
   },
   {
    "duration": 114,
    "start_time": "2022-08-27T11:29:29.214Z"
   },
   {
    "duration": 109,
    "start_time": "2022-08-27T11:29:42.910Z"
   },
   {
    "duration": 120,
    "start_time": "2022-08-27T11:29:52.893Z"
   },
   {
    "duration": 77,
    "start_time": "2022-08-27T11:31:21.451Z"
   },
   {
    "duration": 127,
    "start_time": "2022-08-27T11:31:29.922Z"
   },
   {
    "duration": 6,
    "start_time": "2022-08-27T11:37:43.089Z"
   },
   {
    "duration": 9,
    "start_time": "2022-08-27T11:37:55.180Z"
   },
   {
    "duration": 134,
    "start_time": "2022-08-27T11:38:17.085Z"
   },
   {
    "duration": 9,
    "start_time": "2022-08-27T11:38:44.757Z"
   },
   {
    "duration": 11,
    "start_time": "2022-08-27T11:38:56.941Z"
   },
   {
    "duration": 7,
    "start_time": "2022-08-27T11:39:23.330Z"
   },
   {
    "duration": 46,
    "start_time": "2022-08-27T11:39:31.305Z"
   },
   {
    "duration": 9,
    "start_time": "2022-08-27T11:40:43.978Z"
   },
   {
    "duration": 6,
    "start_time": "2022-08-27T11:41:17.266Z"
   },
   {
    "duration": 6,
    "start_time": "2022-08-27T11:41:21.472Z"
   },
   {
    "duration": 7,
    "start_time": "2022-08-27T11:41:39.289Z"
   },
   {
    "duration": 4,
    "start_time": "2022-08-27T11:41:55.134Z"
   },
   {
    "duration": 9,
    "start_time": "2022-08-27T11:42:45.683Z"
   },
   {
    "duration": 5,
    "start_time": "2022-08-27T11:42:58.407Z"
   },
   {
    "duration": 6,
    "start_time": "2022-08-27T11:42:59.319Z"
   },
   {
    "duration": 5,
    "start_time": "2022-08-27T11:43:00.121Z"
   },
   {
    "duration": 5,
    "start_time": "2022-08-27T11:43:01.299Z"
   },
   {
    "duration": 4,
    "start_time": "2022-08-27T11:43:01.816Z"
   },
   {
    "duration": 230,
    "start_time": "2022-08-27T11:43:03.010Z"
   },
   {
    "duration": 67,
    "start_time": "2022-08-27T11:43:03.507Z"
   },
   {
    "duration": 393,
    "start_time": "2022-08-27T11:43:06.210Z"
   },
   {
    "duration": 302,
    "start_time": "2022-08-27T11:43:08.623Z"
   },
   {
    "duration": 303,
    "start_time": "2022-08-27T11:43:11.212Z"
   },
   {
    "duration": 224,
    "start_time": "2022-08-27T11:43:13.035Z"
   },
   {
    "duration": 194,
    "start_time": "2022-08-27T11:43:14.972Z"
   },
   {
    "duration": 194,
    "start_time": "2022-08-27T11:43:16.869Z"
   },
   {
    "duration": 113,
    "start_time": "2022-08-27T11:43:19.451Z"
   },
   {
    "duration": 204,
    "start_time": "2022-08-27T11:43:20.703Z"
   },
   {
    "duration": 314,
    "start_time": "2022-08-27T11:43:23.083Z"
   },
   {
    "duration": 185,
    "start_time": "2022-08-27T11:43:24.684Z"
   },
   {
    "duration": 179,
    "start_time": "2022-08-27T11:43:26.828Z"
   },
   {
    "duration": 211,
    "start_time": "2022-08-27T11:43:28.410Z"
   },
   {
    "duration": 251,
    "start_time": "2022-08-27T11:43:29.253Z"
   },
   {
    "duration": 220,
    "start_time": "2022-08-27T11:43:30.004Z"
   },
   {
    "duration": 34,
    "start_time": "2022-08-27T11:43:34.693Z"
   },
   {
    "duration": 169,
    "start_time": "2022-08-27T11:43:35.763Z"
   },
   {
    "duration": 6,
    "start_time": "2022-08-27T11:43:36.823Z"
   },
   {
    "duration": 29,
    "start_time": "2022-08-27T11:43:38.876Z"
   },
   {
    "duration": 168,
    "start_time": "2022-08-27T11:43:39.785Z"
   },
   {
    "duration": 5,
    "start_time": "2022-08-27T11:43:40.967Z"
   },
   {
    "duration": 165,
    "start_time": "2022-08-27T11:43:43.596Z"
   },
   {
    "duration": 5,
    "start_time": "2022-08-27T11:43:45.308Z"
   },
   {
    "duration": 172,
    "start_time": "2022-08-27T11:43:46.668Z"
   },
   {
    "duration": 5,
    "start_time": "2022-08-27T11:43:48.803Z"
   },
   {
    "duration": 150,
    "start_time": "2022-08-27T11:43:51.392Z"
   },
   {
    "duration": 161,
    "start_time": "2022-08-27T11:43:53.972Z"
   },
   {
    "duration": 3,
    "start_time": "2022-08-27T11:43:56.280Z"
   },
   {
    "duration": 174,
    "start_time": "2022-08-27T11:43:56.805Z"
   },
   {
    "duration": 5,
    "start_time": "2022-08-27T11:43:59.339Z"
   },
   {
    "duration": 165,
    "start_time": "2022-08-27T11:44:01.472Z"
   },
   {
    "duration": 5,
    "start_time": "2022-08-27T11:44:04.028Z"
   },
   {
    "duration": 290,
    "start_time": "2022-08-27T11:44:05.947Z"
   },
   {
    "duration": 21,
    "start_time": "2022-08-27T11:44:10.645Z"
   },
   {
    "duration": 8,
    "start_time": "2022-08-27T11:44:14.293Z"
   },
   {
    "duration": 9,
    "start_time": "2022-08-27T11:44:17.270Z"
   },
   {
    "duration": 16,
    "start_time": "2022-08-27T11:44:22.038Z"
   },
   {
    "duration": 12,
    "start_time": "2022-08-27T11:44:34.104Z"
   },
   {
    "duration": 146,
    "start_time": "2022-08-27T11:44:37.400Z"
   },
   {
    "duration": 105,
    "start_time": "2022-08-27T11:48:06.530Z"
   },
   {
    "duration": 129,
    "start_time": "2022-08-27T11:48:16.140Z"
   },
   {
    "duration": 124,
    "start_time": "2022-08-27T11:48:25.530Z"
   },
   {
    "duration": 6,
    "start_time": "2022-08-27T11:51:11.018Z"
   },
   {
    "duration": 45,
    "start_time": "2022-08-27T11:51:18.344Z"
   },
   {
    "duration": 96,
    "start_time": "2022-08-27T11:52:04.147Z"
   },
   {
    "duration": 28,
    "start_time": "2022-08-27T11:52:04.929Z"
   },
   {
    "duration": 16,
    "start_time": "2022-08-27T11:52:05.652Z"
   },
   {
    "duration": 10,
    "start_time": "2022-08-27T11:52:08.707Z"
   },
   {
    "duration": 5,
    "start_time": "2022-08-27T11:52:11.059Z"
   },
   {
    "duration": 5,
    "start_time": "2022-08-27T11:52:11.596Z"
   },
   {
    "duration": 8,
    "start_time": "2022-08-27T11:52:12.206Z"
   },
   {
    "duration": 7,
    "start_time": "2022-08-27T11:52:12.755Z"
   },
   {
    "duration": 9,
    "start_time": "2022-08-27T11:52:14.614Z"
   },
   {
    "duration": 5,
    "start_time": "2022-08-27T11:52:16.275Z"
   },
   {
    "duration": 6,
    "start_time": "2022-08-27T11:52:16.735Z"
   },
   {
    "duration": 6,
    "start_time": "2022-08-27T11:52:17.200Z"
   },
   {
    "duration": 49,
    "start_time": "2022-08-27T11:52:19.356Z"
   },
   {
    "duration": 124,
    "start_time": "2022-08-27T11:52:23.395Z"
   },
   {
    "duration": 43,
    "start_time": "2022-08-27T11:52:29.268Z"
   },
   {
    "duration": 12,
    "start_time": "2022-08-27T11:53:50.482Z"
   },
   {
    "duration": 10,
    "start_time": "2022-08-27T11:54:01.314Z"
   },
   {
    "duration": 72,
    "start_time": "2022-08-27T11:54:09.027Z"
   },
   {
    "duration": 5,
    "start_time": "2022-08-27T11:54:12.667Z"
   },
   {
    "duration": 122,
    "start_time": "2022-08-27T11:55:00.213Z"
   },
   {
    "duration": 100,
    "start_time": "2022-08-27T11:55:13.060Z"
   },
   {
    "duration": 45,
    "start_time": "2022-08-27T11:57:27.546Z"
   },
   {
    "duration": 8,
    "start_time": "2022-08-27T11:57:46.241Z"
   },
   {
    "duration": 4,
    "start_time": "2022-08-27T11:57:52.035Z"
   },
   {
    "duration": 5,
    "start_time": "2022-08-27T11:57:52.564Z"
   },
   {
    "duration": 5,
    "start_time": "2022-08-27T11:57:53.048Z"
   },
   {
    "duration": 4,
    "start_time": "2022-08-27T11:57:54.475Z"
   },
   {
    "duration": 4,
    "start_time": "2022-08-27T11:57:54.922Z"
   },
   {
    "duration": 178,
    "start_time": "2022-08-27T11:57:57.059Z"
   },
   {
    "duration": 77,
    "start_time": "2022-08-27T11:57:57.539Z"
   },
   {
    "duration": 321,
    "start_time": "2022-08-27T11:57:59.911Z"
   },
   {
    "duration": 495,
    "start_time": "2022-08-27T11:58:01.788Z"
   },
   {
    "duration": 168,
    "start_time": "2022-08-27T11:58:03.588Z"
   },
   {
    "duration": 192,
    "start_time": "2022-08-27T11:58:05.421Z"
   },
   {
    "duration": 118,
    "start_time": "2022-08-27T11:58:07.588Z"
   },
   {
    "duration": 187,
    "start_time": "2022-08-27T11:58:09.468Z"
   },
   {
    "duration": 160,
    "start_time": "2022-08-27T11:58:11.483Z"
   },
   {
    "duration": 224,
    "start_time": "2022-08-27T11:58:13.336Z"
   },
   {
    "duration": 199,
    "start_time": "2022-08-27T11:58:15.181Z"
   },
   {
    "duration": 34,
    "start_time": "2022-08-27T11:58:18.485Z"
   },
   {
    "duration": 173,
    "start_time": "2022-08-27T11:58:20.106Z"
   },
   {
    "duration": 6,
    "start_time": "2022-08-27T11:58:25.525Z"
   },
   {
    "duration": 31,
    "start_time": "2022-08-27T12:00:34.029Z"
   },
   {
    "duration": 206,
    "start_time": "2022-08-27T12:00:41.632Z"
   },
   {
    "duration": 6,
    "start_time": "2022-08-27T12:00:45.964Z"
   },
   {
    "duration": 178,
    "start_time": "2022-08-27T12:00:48.599Z"
   },
   {
    "duration": 5,
    "start_time": "2022-08-27T12:00:50.859Z"
   },
   {
    "duration": 181,
    "start_time": "2022-08-27T12:00:52.559Z"
   },
   {
    "duration": 6,
    "start_time": "2022-08-27T12:00:54.824Z"
   },
   {
    "duration": 139,
    "start_time": "2022-08-27T12:00:58.781Z"
   },
   {
    "duration": 176,
    "start_time": "2022-08-27T12:01:02.441Z"
   },
   {
    "duration": 5,
    "start_time": "2022-08-27T12:01:04.707Z"
   },
   {
    "duration": 232,
    "start_time": "2022-08-27T12:01:10.187Z"
   },
   {
    "duration": 6,
    "start_time": "2022-08-27T12:01:13.571Z"
   },
   {
    "duration": 183,
    "start_time": "2022-08-27T12:01:16.358Z"
   },
   {
    "duration": 24,
    "start_time": "2022-08-27T12:01:26.785Z"
   },
   {
    "duration": 8,
    "start_time": "2022-08-27T12:01:28.845Z"
   },
   {
    "duration": 23,
    "start_time": "2022-08-27T12:01:36.541Z"
   },
   {
    "duration": 9,
    "start_time": "2022-08-27T12:01:39.948Z"
   },
   {
    "duration": 7,
    "start_time": "2022-08-27T12:01:42.333Z"
   },
   {
    "duration": 14,
    "start_time": "2022-08-27T12:01:45.132Z"
   },
   {
    "duration": 131,
    "start_time": "2022-08-27T12:01:47.469Z"
   },
   {
    "duration": 41,
    "start_time": "2022-08-27T12:02:18.093Z"
   },
   {
    "duration": 21,
    "start_time": "2022-08-27T12:02:27.075Z"
   },
   {
    "duration": 9,
    "start_time": "2022-08-27T12:02:29.796Z"
   },
   {
    "duration": 4,
    "start_time": "2022-08-27T12:02:45.751Z"
   },
   {
    "duration": 5,
    "start_time": "2022-08-27T12:02:46.258Z"
   },
   {
    "duration": 5,
    "start_time": "2022-08-27T12:02:46.754Z"
   },
   {
    "duration": 5,
    "start_time": "2022-08-27T12:02:47.231Z"
   },
   {
    "duration": 4,
    "start_time": "2022-08-27T12:02:47.787Z"
   },
   {
    "duration": 22,
    "start_time": "2022-08-27T12:02:56.954Z"
   },
   {
    "duration": 8,
    "start_time": "2022-08-27T12:02:59.106Z"
   },
   {
    "duration": 8,
    "start_time": "2022-08-27T12:03:01.092Z"
   },
   {
    "duration": 44,
    "start_time": "2022-08-27T12:03:18.629Z"
   },
   {
    "duration": 276,
    "start_time": "2022-08-27T12:04:43.932Z"
   },
   {
    "duration": 114,
    "start_time": "2022-08-27T12:05:59.883Z"
   },
   {
    "duration": 7,
    "start_time": "2022-08-27T12:06:20.076Z"
   },
   {
    "duration": 40,
    "start_time": "2022-08-27T12:06:31.527Z"
   },
   {
    "duration": 97,
    "start_time": "2022-08-27T12:06:46.540Z"
   },
   {
    "duration": 29,
    "start_time": "2022-08-27T12:06:47.491Z"
   },
   {
    "duration": 17,
    "start_time": "2022-08-27T12:06:48.260Z"
   },
   {
    "duration": 11,
    "start_time": "2022-08-27T12:06:49.492Z"
   },
   {
    "duration": 6,
    "start_time": "2022-08-27T12:06:50.179Z"
   },
   {
    "duration": 5,
    "start_time": "2022-08-27T12:06:51.027Z"
   },
   {
    "duration": 9,
    "start_time": "2022-08-27T12:06:51.576Z"
   },
   {
    "duration": 8,
    "start_time": "2022-08-27T12:06:52.131Z"
   },
   {
    "duration": 8,
    "start_time": "2022-08-27T12:06:53.329Z"
   },
   {
    "duration": 6,
    "start_time": "2022-08-27T12:06:54.556Z"
   },
   {
    "duration": 6,
    "start_time": "2022-08-27T12:06:55.060Z"
   },
   {
    "duration": 8,
    "start_time": "2022-08-27T12:06:55.626Z"
   },
   {
    "duration": 44,
    "start_time": "2022-08-27T12:06:56.337Z"
   },
   {
    "duration": 109,
    "start_time": "2022-08-27T12:06:57.764Z"
   },
   {
    "duration": 43,
    "start_time": "2022-08-27T12:06:59.148Z"
   },
   {
    "duration": 115,
    "start_time": "2022-08-27T12:06:59.796Z"
   },
   {
    "duration": 127,
    "start_time": "2022-08-27T12:07:00.396Z"
   },
   {
    "duration": 45,
    "start_time": "2022-08-27T12:07:01.001Z"
   },
   {
    "duration": 8,
    "start_time": "2022-08-27T12:07:01.564Z"
   },
   {
    "duration": 4,
    "start_time": "2022-08-27T12:07:03.092Z"
   },
   {
    "duration": 6,
    "start_time": "2022-08-27T12:07:03.668Z"
   },
   {
    "duration": 5,
    "start_time": "2022-08-27T12:07:04.172Z"
   },
   {
    "duration": 5,
    "start_time": "2022-08-27T12:07:04.657Z"
   },
   {
    "duration": 4,
    "start_time": "2022-08-27T12:07:05.284Z"
   },
   {
    "duration": 178,
    "start_time": "2022-08-27T12:07:05.779Z"
   },
   {
    "duration": 57,
    "start_time": "2022-08-27T12:07:06.293Z"
   },
   {
    "duration": 315,
    "start_time": "2022-08-27T12:07:07.860Z"
   },
   {
    "duration": 305,
    "start_time": "2022-08-27T12:07:08.503Z"
   },
   {
    "duration": 445,
    "start_time": "2022-08-27T12:07:09.426Z"
   },
   {
    "duration": 229,
    "start_time": "2022-08-27T12:07:10.052Z"
   },
   {
    "duration": 164,
    "start_time": "2022-08-27T12:07:10.860Z"
   },
   {
    "duration": 194,
    "start_time": "2022-08-27T12:07:11.484Z"
   },
   {
    "duration": 197,
    "start_time": "2022-08-27T12:07:12.249Z"
   },
   {
    "duration": 121,
    "start_time": "2022-08-27T12:07:12.992Z"
   },
   {
    "duration": 200,
    "start_time": "2022-08-27T12:07:13.632Z"
   },
   {
    "duration": 185,
    "start_time": "2022-08-27T12:07:14.269Z"
   },
   {
    "duration": 176,
    "start_time": "2022-08-27T12:07:14.853Z"
   },
   {
    "duration": 172,
    "start_time": "2022-08-27T12:07:15.505Z"
   },
   {
    "duration": 240,
    "start_time": "2022-08-27T12:07:16.076Z"
   },
   {
    "duration": 229,
    "start_time": "2022-08-27T12:07:16.641Z"
   },
   {
    "duration": 196,
    "start_time": "2022-08-27T12:07:17.227Z"
   },
   {
    "duration": 35,
    "start_time": "2022-08-27T12:07:18.444Z"
   },
   {
    "duration": 165,
    "start_time": "2022-08-27T12:07:19.034Z"
   },
   {
    "duration": 4,
    "start_time": "2022-08-27T12:07:19.729Z"
   },
   {
    "duration": 29,
    "start_time": "2022-08-27T12:07:20.880Z"
   },
   {
    "duration": 186,
    "start_time": "2022-08-27T12:07:21.480Z"
   },
   {
    "duration": 7,
    "start_time": "2022-08-27T12:07:22.096Z"
   },
   {
    "duration": 185,
    "start_time": "2022-08-27T12:07:23.289Z"
   },
   {
    "duration": 5,
    "start_time": "2022-08-27T12:07:23.883Z"
   },
   {
    "duration": 334,
    "start_time": "2022-08-27T12:07:24.449Z"
   },
   {
    "duration": 5,
    "start_time": "2022-08-27T12:07:25.227Z"
   },
   {
    "duration": 150,
    "start_time": "2022-08-27T12:07:27.060Z"
   },
   {
    "duration": 3,
    "start_time": "2022-08-27T12:07:27.928Z"
   },
   {
    "duration": 183,
    "start_time": "2022-08-27T12:07:28.776Z"
   },
   {
    "duration": 5,
    "start_time": "2022-08-27T12:07:29.796Z"
   },
   {
    "duration": 175,
    "start_time": "2022-08-27T12:07:32.293Z"
   },
   {
    "duration": 5,
    "start_time": "2022-08-27T12:07:33.537Z"
   },
   {
    "duration": 174,
    "start_time": "2022-08-27T12:07:35.463Z"
   },
   {
    "duration": 21,
    "start_time": "2022-08-27T12:07:37.237Z"
   },
   {
    "duration": 8,
    "start_time": "2022-08-27T12:07:38.827Z"
   },
   {
    "duration": 9,
    "start_time": "2022-08-27T12:07:41.354Z"
   },
   {
    "duration": 8,
    "start_time": "2022-08-27T12:07:44.227Z"
   },
   {
    "duration": 14,
    "start_time": "2022-08-27T12:07:49.475Z"
   },
   {
    "duration": 132,
    "start_time": "2022-08-27T12:07:52.097Z"
   },
   {
    "duration": 42,
    "start_time": "2022-08-27T12:09:22.530Z"
   },
   {
    "duration": 40,
    "start_time": "2022-08-27T12:09:35.396Z"
   },
   {
    "duration": 40,
    "start_time": "2022-08-27T12:09:45.874Z"
   },
   {
    "duration": 98,
    "start_time": "2022-08-27T12:10:06.471Z"
   },
   {
    "duration": 27,
    "start_time": "2022-08-27T12:10:07.243Z"
   },
   {
    "duration": 14,
    "start_time": "2022-08-27T12:10:08.869Z"
   },
   {
    "duration": 14,
    "start_time": "2022-08-27T12:10:11.908Z"
   },
   {
    "duration": 6,
    "start_time": "2022-08-27T12:10:14.353Z"
   },
   {
    "duration": 7,
    "start_time": "2022-08-27T12:10:15.072Z"
   },
   {
    "duration": 9,
    "start_time": "2022-08-27T12:10:15.741Z"
   },
   {
    "duration": 6,
    "start_time": "2022-08-27T12:10:16.309Z"
   },
   {
    "duration": 8,
    "start_time": "2022-08-27T12:10:18.371Z"
   },
   {
    "duration": 5,
    "start_time": "2022-08-27T12:10:20.235Z"
   },
   {
    "duration": 6,
    "start_time": "2022-08-27T12:10:21.138Z"
   },
   {
    "duration": 6,
    "start_time": "2022-08-27T12:10:21.728Z"
   },
   {
    "duration": 45,
    "start_time": "2022-08-27T12:10:26.235Z"
   },
   {
    "duration": 119,
    "start_time": "2022-08-27T12:10:28.901Z"
   },
   {
    "duration": 42,
    "start_time": "2022-08-27T12:10:31.385Z"
   },
   {
    "duration": 117,
    "start_time": "2022-08-27T12:10:34.440Z"
   },
   {
    "duration": 112,
    "start_time": "2022-08-27T12:10:36.660Z"
   },
   {
    "duration": 11,
    "start_time": "2022-08-27T12:10:39.734Z"
   },
   {
    "duration": 5,
    "start_time": "2022-08-27T12:10:42.611Z"
   },
   {
    "duration": 5,
    "start_time": "2022-08-27T12:10:43.257Z"
   },
   {
    "duration": 6,
    "start_time": "2022-08-27T12:10:43.972Z"
   },
   {
    "duration": 4,
    "start_time": "2022-08-27T12:10:44.641Z"
   },
   {
    "duration": 4,
    "start_time": "2022-08-27T12:10:46.272Z"
   },
   {
    "duration": 168,
    "start_time": "2022-08-27T12:10:47.600Z"
   },
   {
    "duration": 59,
    "start_time": "2022-08-27T12:10:48.250Z"
   },
   {
    "duration": 372,
    "start_time": "2022-08-27T12:10:51.646Z"
   },
   {
    "duration": 303,
    "start_time": "2022-08-27T12:10:56.922Z"
   },
   {
    "duration": 376,
    "start_time": "2022-08-27T12:10:59.202Z"
   },
   {
    "duration": 159,
    "start_time": "2022-08-27T12:11:01.026Z"
   },
   {
    "duration": 192,
    "start_time": "2022-08-27T12:11:02.138Z"
   },
   {
    "duration": 185,
    "start_time": "2022-08-27T12:11:03.338Z"
   },
   {
    "duration": 115,
    "start_time": "2022-08-27T12:11:05.155Z"
   },
   {
    "duration": 212,
    "start_time": "2022-08-27T12:11:06.602Z"
   },
   {
    "duration": 192,
    "start_time": "2022-08-27T12:11:07.371Z"
   },
   {
    "duration": 187,
    "start_time": "2022-08-27T12:11:09.133Z"
   },
   {
    "duration": 163,
    "start_time": "2022-08-27T12:11:10.504Z"
   },
   {
    "duration": 214,
    "start_time": "2022-08-27T12:11:13.119Z"
   },
   {
    "duration": 222,
    "start_time": "2022-08-27T12:11:15.536Z"
   },
   {
    "duration": 204,
    "start_time": "2022-08-27T12:11:17.134Z"
   },
   {
    "duration": 37,
    "start_time": "2022-08-27T12:11:21.092Z"
   },
   {
    "duration": 171,
    "start_time": "2022-08-27T12:11:23.079Z"
   },
   {
    "duration": 4,
    "start_time": "2022-08-27T12:11:26.023Z"
   },
   {
    "duration": 30,
    "start_time": "2022-08-27T12:11:29.062Z"
   },
   {
    "duration": 183,
    "start_time": "2022-08-27T12:11:32.123Z"
   },
   {
    "duration": 5,
    "start_time": "2022-08-27T12:11:36.770Z"
   },
   {
    "duration": 187,
    "start_time": "2022-08-27T12:11:39.111Z"
   },
   {
    "duration": 5,
    "start_time": "2022-08-27T12:11:42.566Z"
   },
   {
    "duration": 147,
    "start_time": "2022-08-27T12:11:47.217Z"
   },
   {
    "duration": 177,
    "start_time": "2022-08-27T12:11:49.807Z"
   },
   {
    "duration": 5,
    "start_time": "2022-08-27T12:11:52.795Z"
   },
   {
    "duration": 186,
    "start_time": "2022-08-27T12:11:55.743Z"
   },
   {
    "duration": 4,
    "start_time": "2022-08-27T12:11:58.616Z"
   },
   {
    "duration": 174,
    "start_time": "2022-08-27T12:12:00.485Z"
   },
   {
    "duration": 21,
    "start_time": "2022-08-27T12:12:02.813Z"
   },
   {
    "duration": 9,
    "start_time": "2022-08-27T12:12:05.147Z"
   },
   {
    "duration": 8,
    "start_time": "2022-08-27T12:12:07.796Z"
   },
   {
    "duration": 10,
    "start_time": "2022-08-27T12:12:11.795Z"
   },
   {
    "duration": 13,
    "start_time": "2022-08-27T12:12:14.032Z"
   },
   {
    "duration": 330,
    "start_time": "2022-08-27T12:12:16.416Z"
   },
   {
    "duration": 43,
    "start_time": "2022-08-27T12:13:14.341Z"
   },
   {
    "duration": 114,
    "start_time": "2022-08-27T12:13:17.709Z"
   },
   {
    "duration": 110,
    "start_time": "2022-08-27T12:13:24.725Z"
   },
   {
    "duration": 9,
    "start_time": "2022-08-27T12:13:27.740Z"
   },
   {
    "duration": 4,
    "start_time": "2022-08-27T12:13:34.182Z"
   },
   {
    "duration": 5,
    "start_time": "2022-08-27T12:13:34.741Z"
   },
   {
    "duration": 6,
    "start_time": "2022-08-27T12:13:35.301Z"
   },
   {
    "duration": 5,
    "start_time": "2022-08-27T12:13:35.846Z"
   },
   {
    "duration": 3,
    "start_time": "2022-08-27T12:13:37.907Z"
   },
   {
    "duration": 168,
    "start_time": "2022-08-27T12:13:38.446Z"
   },
   {
    "duration": 76,
    "start_time": "2022-08-27T12:13:41.815Z"
   },
   {
    "duration": 303,
    "start_time": "2022-08-27T12:13:43.846Z"
   },
   {
    "duration": 297,
    "start_time": "2022-08-27T12:13:45.944Z"
   },
   {
    "duration": 228,
    "start_time": "2022-08-27T12:13:48.196Z"
   },
   {
    "duration": 188,
    "start_time": "2022-08-27T12:13:50.218Z"
   },
   {
    "duration": 119,
    "start_time": "2022-08-27T12:13:52.145Z"
   },
   {
    "duration": 191,
    "start_time": "2022-08-27T12:13:54.238Z"
   },
   {
    "duration": 189,
    "start_time": "2022-08-27T12:13:55.554Z"
   },
   {
    "duration": 220,
    "start_time": "2022-08-27T12:13:57.427Z"
   },
   {
    "duration": 417,
    "start_time": "2022-08-27T12:13:58.922Z"
   },
   {
    "duration": 36,
    "start_time": "2022-08-27T12:14:02.090Z"
   },
   {
    "duration": 178,
    "start_time": "2022-08-27T12:14:04.371Z"
   },
   {
    "duration": 31,
    "start_time": "2022-08-27T12:14:07.538Z"
   },
   {
    "duration": 193,
    "start_time": "2022-08-27T12:14:09.537Z"
   },
   {
    "duration": 5,
    "start_time": "2022-08-27T12:14:12.082Z"
   },
   {
    "duration": 182,
    "start_time": "2022-08-27T12:14:14.099Z"
   },
   {
    "duration": 6,
    "start_time": "2022-08-27T12:14:16.513Z"
   },
   {
    "duration": 180,
    "start_time": "2022-08-27T12:14:17.714Z"
   },
   {
    "duration": 5,
    "start_time": "2022-08-27T12:14:20.218Z"
   },
   {
    "duration": 143,
    "start_time": "2022-08-27T12:14:22.114Z"
   },
   {
    "duration": 182,
    "start_time": "2022-08-27T12:14:24.961Z"
   },
   {
    "duration": 6,
    "start_time": "2022-08-27T12:14:27.595Z"
   },
   {
    "duration": 181,
    "start_time": "2022-08-27T12:14:29.531Z"
   },
   {
    "duration": 5,
    "start_time": "2022-08-27T12:14:32.650Z"
   },
   {
    "duration": 185,
    "start_time": "2022-08-27T12:14:34.634Z"
   },
   {
    "duration": 23,
    "start_time": "2022-08-27T12:14:37.147Z"
   },
   {
    "duration": 9,
    "start_time": "2022-08-27T12:14:39.283Z"
   },
   {
    "duration": 10,
    "start_time": "2022-08-27T12:14:41.891Z"
   },
   {
    "duration": 22,
    "start_time": "2022-08-27T12:14:56.612Z"
   },
   {
    "duration": 9,
    "start_time": "2022-08-27T12:14:59.047Z"
   },
   {
    "duration": 9,
    "start_time": "2022-08-27T12:15:01.213Z"
   },
   {
    "duration": 111,
    "start_time": "2022-08-27T12:16:32.926Z"
   },
   {
    "duration": 125,
    "start_time": "2022-08-27T12:17:48.707Z"
   },
   {
    "duration": 136,
    "start_time": "2022-08-27T12:19:58.402Z"
   },
   {
    "duration": 6,
    "start_time": "2022-08-27T12:23:40.807Z"
   },
   {
    "duration": 44,
    "start_time": "2022-08-27T12:23:48.068Z"
   },
   {
    "duration": 10,
    "start_time": "2022-08-27T12:23:54.707Z"
   },
   {
    "duration": 3,
    "start_time": "2022-08-27T12:23:57.244Z"
   },
   {
    "duration": 4,
    "start_time": "2022-08-27T12:23:58.735Z"
   },
   {
    "duration": 4,
    "start_time": "2022-08-27T12:23:59.481Z"
   },
   {
    "duration": 4,
    "start_time": "2022-08-27T12:24:00.112Z"
   },
   {
    "duration": 5,
    "start_time": "2022-08-27T12:24:01.125Z"
   },
   {
    "duration": 168,
    "start_time": "2022-08-27T12:24:02.066Z"
   },
   {
    "duration": 61,
    "start_time": "2022-08-27T12:24:02.671Z"
   },
   {
    "duration": 311,
    "start_time": "2022-08-27T12:24:05.206Z"
   },
   {
    "duration": 334,
    "start_time": "2022-08-27T12:24:06.631Z"
   },
   {
    "duration": 520,
    "start_time": "2022-08-27T12:24:07.471Z"
   },
   {
    "duration": 246,
    "start_time": "2022-08-27T12:24:08.091Z"
   },
   {
    "duration": 188,
    "start_time": "2022-08-27T12:24:11.119Z"
   },
   {
    "duration": 203,
    "start_time": "2022-08-27T12:24:13.352Z"
   },
   {
    "duration": 124,
    "start_time": "2022-08-27T12:24:14.491Z"
   },
   {
    "duration": 202,
    "start_time": "2022-08-27T12:24:15.044Z"
   },
   {
    "duration": 217,
    "start_time": "2022-08-27T12:24:15.484Z"
   },
   {
    "duration": 186,
    "start_time": "2022-08-27T12:24:15.936Z"
   },
   {
    "duration": 171,
    "start_time": "2022-08-27T12:24:16.352Z"
   },
   {
    "duration": 235,
    "start_time": "2022-08-27T12:24:16.702Z"
   },
   {
    "duration": 250,
    "start_time": "2022-08-27T12:24:16.944Z"
   },
   {
    "duration": 217,
    "start_time": "2022-08-27T12:24:17.202Z"
   },
   {
    "duration": 35,
    "start_time": "2022-08-27T12:24:17.639Z"
   },
   {
    "duration": 197,
    "start_time": "2022-08-27T12:24:17.880Z"
   },
   {
    "duration": 9,
    "start_time": "2022-08-27T12:24:18.105Z"
   },
   {
    "duration": 37,
    "start_time": "2022-08-27T12:24:18.571Z"
   },
   {
    "duration": 200,
    "start_time": "2022-08-27T12:24:18.784Z"
   },
   {
    "duration": 6,
    "start_time": "2022-08-27T12:24:18.998Z"
   },
   {
    "duration": 191,
    "start_time": "2022-08-27T12:24:19.432Z"
   },
   {
    "duration": 7,
    "start_time": "2022-08-27T12:24:19.671Z"
   },
   {
    "duration": 187,
    "start_time": "2022-08-27T12:24:19.887Z"
   },
   {
    "duration": 6,
    "start_time": "2022-08-27T12:24:20.115Z"
   },
   {
    "duration": 156,
    "start_time": "2022-08-27T12:24:20.519Z"
   },
   {
    "duration": 2,
    "start_time": "2022-08-27T12:24:20.716Z"
   },
   {
    "duration": 184,
    "start_time": "2022-08-27T12:24:20.951Z"
   },
   {
    "duration": 4,
    "start_time": "2022-08-27T12:24:21.147Z"
   },
   {
    "duration": 174,
    "start_time": "2022-08-27T12:24:21.568Z"
   },
   {
    "duration": 5,
    "start_time": "2022-08-27T12:24:21.767Z"
   },
   {
    "duration": 178,
    "start_time": "2022-08-27T12:24:22.158Z"
   },
   {
    "duration": 21,
    "start_time": "2022-08-27T12:24:22.551Z"
   },
   {
    "duration": 9,
    "start_time": "2022-08-27T12:24:22.754Z"
   },
   {
    "duration": 9,
    "start_time": "2022-08-27T12:24:22.960Z"
   },
   {
    "duration": 22,
    "start_time": "2022-08-27T12:24:26.563Z"
   },
   {
    "duration": 9,
    "start_time": "2022-08-27T12:24:29.728Z"
   },
   {
    "duration": 10,
    "start_time": "2022-08-27T12:24:32.009Z"
   },
   {
    "duration": 22,
    "start_time": "2022-08-27T12:24:34.984Z"
   },
   {
    "duration": 5,
    "start_time": "2022-08-27T12:24:56.675Z"
   },
   {
    "duration": 63,
    "start_time": "2022-08-27T12:25:41.919Z"
   },
   {
    "duration": 118,
    "start_time": "2022-08-27T12:25:45.662Z"
   },
   {
    "duration": 134,
    "start_time": "2022-08-27T12:25:47.471Z"
   },
   {
    "duration": 41,
    "start_time": "2022-08-27T12:25:49.543Z"
   },
   {
    "duration": 6,
    "start_time": "2022-08-27T12:25:51.542Z"
   },
   {
    "duration": 8,
    "start_time": "2022-08-27T12:25:52.476Z"
   },
   {
    "duration": 4,
    "start_time": "2022-08-27T12:25:58.558Z"
   },
   {
    "duration": 6,
    "start_time": "2022-08-27T12:25:59.095Z"
   },
   {
    "duration": 7,
    "start_time": "2022-08-27T12:25:59.663Z"
   },
   {
    "duration": 6,
    "start_time": "2022-08-27T12:26:00.204Z"
   },
   {
    "duration": 3,
    "start_time": "2022-08-27T12:26:01.484Z"
   },
   {
    "duration": 397,
    "start_time": "2022-08-27T12:26:02.052Z"
   },
   {
    "duration": 55,
    "start_time": "2022-08-27T12:26:03.375Z"
   },
   {
    "duration": 326,
    "start_time": "2022-08-27T12:26:05.720Z"
   },
   {
    "duration": 322,
    "start_time": "2022-08-27T12:26:07.947Z"
   },
   {
    "duration": 323,
    "start_time": "2022-08-27T12:26:08.887Z"
   },
   {
    "duration": 247,
    "start_time": "2022-08-27T12:26:09.383Z"
   },
   {
    "duration": 192,
    "start_time": "2022-08-27T12:26:09.986Z"
   },
   {
    "duration": 207,
    "start_time": "2022-08-27T12:26:10.505Z"
   },
   {
    "duration": 204,
    "start_time": "2022-08-27T12:26:11.075Z"
   },
   {
    "duration": 130,
    "start_time": "2022-08-27T12:26:11.606Z"
   },
   {
    "duration": 209,
    "start_time": "2022-08-27T12:26:12.232Z"
   },
   {
    "duration": 211,
    "start_time": "2022-08-27T12:26:12.768Z"
   },
   {
    "duration": 193,
    "start_time": "2022-08-27T12:26:13.585Z"
   },
   {
    "duration": 191,
    "start_time": "2022-08-27T12:26:14.126Z"
   },
   {
    "duration": 223,
    "start_time": "2022-08-27T12:26:14.651Z"
   },
   {
    "duration": 247,
    "start_time": "2022-08-27T12:26:15.143Z"
   },
   {
    "duration": 476,
    "start_time": "2022-08-27T12:26:15.617Z"
   },
   {
    "duration": 35,
    "start_time": "2022-08-27T12:26:16.418Z"
   },
   {
    "duration": 197,
    "start_time": "2022-08-27T12:26:16.812Z"
   },
   {
    "duration": 6,
    "start_time": "2022-08-27T12:26:17.231Z"
   },
   {
    "duration": 28,
    "start_time": "2022-08-27T12:26:18.059Z"
   },
   {
    "duration": 183,
    "start_time": "2022-08-27T12:26:18.603Z"
   },
   {
    "duration": 6,
    "start_time": "2022-08-27T12:26:19.054Z"
   },
   {
    "duration": 188,
    "start_time": "2022-08-27T12:26:20.134Z"
   },
   {
    "duration": 5,
    "start_time": "2022-08-27T12:26:20.667Z"
   },
   {
    "duration": 184,
    "start_time": "2022-08-27T12:26:21.219Z"
   },
   {
    "duration": 5,
    "start_time": "2022-08-27T12:26:21.735Z"
   },
   {
    "duration": 147,
    "start_time": "2022-08-27T12:26:22.915Z"
   },
   {
    "duration": 3,
    "start_time": "2022-08-27T12:26:23.511Z"
   },
   {
    "duration": 177,
    "start_time": "2022-08-27T12:26:24.075Z"
   },
   {
    "duration": 6,
    "start_time": "2022-08-27T12:26:24.817Z"
   },
   {
    "duration": 183,
    "start_time": "2022-08-27T12:26:26.254Z"
   },
   {
    "duration": 4,
    "start_time": "2022-08-27T12:26:27.039Z"
   },
   {
    "duration": 183,
    "start_time": "2022-08-27T12:26:28.271Z"
   },
   {
    "duration": 23,
    "start_time": "2022-08-27T12:26:29.499Z"
   },
   {
    "duration": 12,
    "start_time": "2022-08-27T12:26:32.356Z"
   },
   {
    "duration": 13,
    "start_time": "2022-08-27T12:26:34.496Z"
   },
   {
    "duration": 22,
    "start_time": "2022-08-27T12:26:41.436Z"
   },
   {
    "duration": 8,
    "start_time": "2022-08-27T12:26:44.248Z"
   },
   {
    "duration": 9,
    "start_time": "2022-08-27T12:26:45.759Z"
   },
   {
    "duration": 20,
    "start_time": "2022-08-27T12:27:34.364Z"
   },
   {
    "duration": 8,
    "start_time": "2022-08-27T12:27:37.097Z"
   },
   {
    "duration": 9,
    "start_time": "2022-08-27T12:27:38.820Z"
   },
   {
    "duration": 8,
    "start_time": "2022-08-27T12:27:43.857Z"
   },
   {
    "duration": 97,
    "start_time": "2022-08-27T12:49:45.646Z"
   },
   {
    "duration": 27,
    "start_time": "2022-08-27T12:49:46.211Z"
   },
   {
    "duration": 20,
    "start_time": "2022-08-27T12:49:46.986Z"
   },
   {
    "duration": 14,
    "start_time": "2022-08-27T12:49:48.198Z"
   },
   {
    "duration": 8,
    "start_time": "2022-08-27T12:49:48.707Z"
   },
   {
    "duration": 4,
    "start_time": "2022-08-27T12:49:49.238Z"
   },
   {
    "duration": 8,
    "start_time": "2022-08-27T12:49:49.746Z"
   },
   {
    "duration": 8,
    "start_time": "2022-08-27T12:49:50.291Z"
   },
   {
    "duration": 9,
    "start_time": "2022-08-27T12:49:51.322Z"
   },
   {
    "duration": 5,
    "start_time": "2022-08-27T12:49:52.354Z"
   },
   {
    "duration": 6,
    "start_time": "2022-08-27T12:49:52.811Z"
   },
   {
    "duration": 16,
    "start_time": "2022-08-27T12:49:53.290Z"
   },
   {
    "duration": 41,
    "start_time": "2022-08-27T12:49:53.835Z"
   },
   {
    "duration": 128,
    "start_time": "2022-08-27T12:49:55.218Z"
   },
   {
    "duration": 2,
    "start_time": "2022-08-27T12:49:56.443Z"
   },
   {
    "duration": 132,
    "start_time": "2022-08-27T12:49:56.983Z"
   },
   {
    "duration": 124,
    "start_time": "2022-08-27T12:49:57.586Z"
   },
   {
    "duration": 6,
    "start_time": "2022-08-27T12:49:58.091Z"
   },
   {
    "duration": 3,
    "start_time": "2022-08-27T12:49:58.602Z"
   },
   {
    "duration": 8,
    "start_time": "2022-08-27T12:49:59.125Z"
   },
   {
    "duration": 4,
    "start_time": "2022-08-27T12:50:00.139Z"
   },
   {
    "duration": 5,
    "start_time": "2022-08-27T12:50:00.667Z"
   },
   {
    "duration": 6,
    "start_time": "2022-08-27T12:50:01.234Z"
   },
   {
    "duration": 7,
    "start_time": "2022-08-27T12:50:01.858Z"
   },
   {
    "duration": 3,
    "start_time": "2022-08-27T12:50:02.723Z"
   },
   {
    "duration": 181,
    "start_time": "2022-08-27T12:50:03.347Z"
   },
   {
    "duration": 74,
    "start_time": "2022-08-27T12:50:03.967Z"
   },
   {
    "duration": 325,
    "start_time": "2022-08-27T12:50:05.139Z"
   },
   {
    "duration": 320,
    "start_time": "2022-08-27T12:50:05.756Z"
   },
   {
    "duration": 322,
    "start_time": "2022-08-27T12:50:06.334Z"
   },
   {
    "duration": 247,
    "start_time": "2022-08-27T12:50:06.869Z"
   },
   {
    "duration": 167,
    "start_time": "2022-08-27T12:50:07.435Z"
   },
   {
    "duration": 415,
    "start_time": "2022-08-27T12:50:07.996Z"
   },
   {
    "duration": 225,
    "start_time": "2022-08-27T12:50:08.533Z"
   },
   {
    "duration": 121,
    "start_time": "2022-08-27T12:50:09.159Z"
   },
   {
    "duration": 221,
    "start_time": "2022-08-27T12:50:09.740Z"
   },
   {
    "duration": 211,
    "start_time": "2022-08-27T12:50:10.353Z"
   },
   {
    "duration": 198,
    "start_time": "2022-08-27T12:50:11.173Z"
   },
   {
    "duration": 212,
    "start_time": "2022-08-27T12:50:11.695Z"
   },
   {
    "duration": 224,
    "start_time": "2022-08-27T12:50:12.203Z"
   },
   {
    "duration": 228,
    "start_time": "2022-08-27T12:50:12.813Z"
   },
   {
    "duration": 214,
    "start_time": "2022-08-27T12:50:13.427Z"
   },
   {
    "duration": 34,
    "start_time": "2022-08-27T12:50:14.712Z"
   },
   {
    "duration": 189,
    "start_time": "2022-08-27T12:50:15.371Z"
   },
   {
    "duration": 5,
    "start_time": "2022-08-27T12:50:15.945Z"
   },
   {
    "duration": 30,
    "start_time": "2022-08-27T12:50:17.121Z"
   },
   {
    "duration": 194,
    "start_time": "2022-08-27T12:50:17.675Z"
   },
   {
    "duration": 5,
    "start_time": "2022-08-27T12:50:18.632Z"
   },
   {
    "duration": 180,
    "start_time": "2022-08-27T12:50:20.387Z"
   },
   {
    "duration": 4,
    "start_time": "2022-08-27T12:50:21.024Z"
   },
   {
    "duration": 176,
    "start_time": "2022-08-27T12:50:21.534Z"
   },
   {
    "duration": 5,
    "start_time": "2022-08-27T12:50:22.071Z"
   },
   {
    "duration": 147,
    "start_time": "2022-08-27T12:50:23.649Z"
   },
   {
    "duration": 2,
    "start_time": "2022-08-27T12:50:24.331Z"
   },
   {
    "duration": 173,
    "start_time": "2022-08-27T12:50:25.219Z"
   },
   {
    "duration": 5,
    "start_time": "2022-08-27T12:50:25.987Z"
   },
   {
    "duration": 173,
    "start_time": "2022-08-27T12:50:27.355Z"
   },
   {
    "duration": 5,
    "start_time": "2022-08-27T12:50:27.955Z"
   },
   {
    "duration": 162,
    "start_time": "2022-08-27T12:50:29.151Z"
   },
   {
    "duration": 22,
    "start_time": "2022-08-27T12:50:30.791Z"
   },
   {
    "duration": 8,
    "start_time": "2022-08-27T12:50:31.429Z"
   },
   {
    "duration": 8,
    "start_time": "2022-08-27T12:50:33.423Z"
   },
   {
    "duration": 14,
    "start_time": "2022-08-27T12:50:34.575Z"
   },
   {
    "duration": 141,
    "start_time": "2022-08-27T12:50:37.994Z"
   },
   {
    "duration": 119,
    "start_time": "2022-08-27T12:51:46.290Z"
   },
   {
    "duration": 6,
    "start_time": "2022-08-27T12:53:03.280Z"
   },
   {
    "duration": 11,
    "start_time": "2022-08-27T12:53:08.133Z"
   },
   {
    "duration": 5,
    "start_time": "2022-08-27T12:53:10.277Z"
   },
   {
    "duration": 5,
    "start_time": "2022-08-27T12:53:28.019Z"
   },
   {
    "duration": 6,
    "start_time": "2022-08-27T12:53:56.228Z"
   },
   {
    "duration": 109,
    "start_time": "2022-08-27T12:53:58.080Z"
   },
   {
    "duration": 111,
    "start_time": "2022-08-27T12:53:58.900Z"
   },
   {
    "duration": 13,
    "start_time": "2022-08-27T12:54:01.843Z"
   },
   {
    "duration": 5,
    "start_time": "2022-08-27T12:54:04.458Z"
   },
   {
    "duration": 5,
    "start_time": "2022-08-27T12:54:05.595Z"
   },
   {
    "duration": 5,
    "start_time": "2022-08-27T12:54:06.160Z"
   },
   {
    "duration": 5,
    "start_time": "2022-08-27T12:54:06.669Z"
   },
   {
    "duration": 4,
    "start_time": "2022-08-27T12:54:07.239Z"
   },
   {
    "duration": 171,
    "start_time": "2022-08-27T12:54:07.868Z"
   },
   {
    "duration": 66,
    "start_time": "2022-08-27T12:54:08.388Z"
   },
   {
    "duration": 572,
    "start_time": "2022-08-27T12:54:10.292Z"
   },
   {
    "duration": 300,
    "start_time": "2022-08-27T12:54:12.222Z"
   },
   {
    "duration": 160,
    "start_time": "2022-08-27T12:54:14.124Z"
   },
   {
    "duration": 200,
    "start_time": "2022-08-27T12:54:16.073Z"
   },
   {
    "duration": 113,
    "start_time": "2022-08-27T12:54:18.537Z"
   },
   {
    "duration": 211,
    "start_time": "2022-08-27T12:54:20.808Z"
   },
   {
    "duration": 167,
    "start_time": "2022-08-27T12:54:22.531Z"
   },
   {
    "duration": 227,
    "start_time": "2022-08-27T12:54:24.081Z"
   },
   {
    "duration": 215,
    "start_time": "2022-08-27T12:54:25.979Z"
   },
   {
    "duration": 37,
    "start_time": "2022-08-27T12:54:28.713Z"
   },
   {
    "duration": 191,
    "start_time": "2022-08-27T12:54:30.912Z"
   },
   {
    "duration": 6,
    "start_time": "2022-08-27T12:54:34.449Z"
   },
   {
    "duration": 30,
    "start_time": "2022-08-27T12:54:36.594Z"
   },
   {
    "duration": 176,
    "start_time": "2022-08-27T12:54:38.273Z"
   },
   {
    "duration": 5,
    "start_time": "2022-08-27T12:54:39.993Z"
   },
   {
    "duration": 226,
    "start_time": "2022-08-27T12:54:41.938Z"
   },
   {
    "duration": 5,
    "start_time": "2022-08-27T12:54:43.689Z"
   },
   {
    "duration": 182,
    "start_time": "2022-08-27T12:54:44.219Z"
   },
   {
    "duration": 6,
    "start_time": "2022-08-27T12:54:44.834Z"
   },
   {
    "duration": 151,
    "start_time": "2022-08-27T12:54:45.836Z"
   },
   {
    "duration": 3,
    "start_time": "2022-08-27T12:54:46.356Z"
   },
   {
    "duration": 191,
    "start_time": "2022-08-27T12:54:46.836Z"
   },
   {
    "duration": 6,
    "start_time": "2022-08-27T12:54:47.333Z"
   },
   {
    "duration": 189,
    "start_time": "2022-08-27T12:54:48.261Z"
   },
   {
    "duration": 5,
    "start_time": "2022-08-27T12:54:48.709Z"
   },
   {
    "duration": 186,
    "start_time": "2022-08-27T12:54:49.601Z"
   },
   {
    "duration": 23,
    "start_time": "2022-08-27T12:54:50.529Z"
   },
   {
    "duration": 9,
    "start_time": "2022-08-27T12:54:51.002Z"
   },
   {
    "duration": 120,
    "start_time": "2022-08-27T12:55:21.458Z"
   },
   {
    "duration": 6,
    "start_time": "2022-08-27T12:55:38.807Z"
   },
   {
    "duration": 146,
    "start_time": "2022-08-27T12:55:40.291Z"
   },
   {
    "duration": 112,
    "start_time": "2022-08-27T12:55:40.751Z"
   },
   {
    "duration": 2,
    "start_time": "2022-08-27T12:55:41.238Z"
   },
   {
    "duration": 2,
    "start_time": "2022-08-27T12:55:41.703Z"
   },
   {
    "duration": 9,
    "start_time": "2022-08-27T12:55:42.166Z"
   },
   {
    "duration": 5,
    "start_time": "2022-08-27T12:55:43.193Z"
   },
   {
    "duration": 5,
    "start_time": "2022-08-27T12:55:43.647Z"
   },
   {
    "duration": 5,
    "start_time": "2022-08-27T12:56:03.520Z"
   },
   {
    "duration": 114,
    "start_time": "2022-08-27T12:56:04.944Z"
   },
   {
    "duration": 125,
    "start_time": "2022-08-27T12:56:05.520Z"
   },
   {
    "duration": 3,
    "start_time": "2022-08-27T12:56:06.018Z"
   },
   {
    "duration": 3,
    "start_time": "2022-08-27T12:56:06.603Z"
   },
   {
    "duration": 9,
    "start_time": "2022-08-27T12:56:07.162Z"
   },
   {
    "duration": 4,
    "start_time": "2022-08-27T12:56:08.241Z"
   },
   {
    "duration": 5,
    "start_time": "2022-08-27T12:56:08.839Z"
   },
   {
    "duration": 5,
    "start_time": "2022-08-27T12:56:09.303Z"
   },
   {
    "duration": 5,
    "start_time": "2022-08-27T12:56:09.767Z"
   },
   {
    "duration": 4,
    "start_time": "2022-08-27T12:56:10.255Z"
   },
   {
    "duration": 173,
    "start_time": "2022-08-27T12:56:10.735Z"
   },
   {
    "duration": 69,
    "start_time": "2022-08-27T12:56:11.187Z"
   },
   {
    "duration": 296,
    "start_time": "2022-08-27T12:56:12.119Z"
   },
   {
    "duration": 559,
    "start_time": "2022-08-27T12:56:12.544Z"
   },
   {
    "duration": 313,
    "start_time": "2022-08-27T12:56:13.105Z"
   },
   {
    "duration": 248,
    "start_time": "2022-08-27T12:56:13.419Z"
   },
   {
    "duration": 171,
    "start_time": "2022-08-27T12:56:13.669Z"
   },
   {
    "duration": 207,
    "start_time": "2022-08-27T12:56:13.842Z"
   },
   {
    "duration": 191,
    "start_time": "2022-08-27T12:56:14.050Z"
   },
   {
    "duration": 129,
    "start_time": "2022-08-27T12:56:14.244Z"
   },
   {
    "duration": 213,
    "start_time": "2022-08-27T12:56:14.375Z"
   },
   {
    "duration": 204,
    "start_time": "2022-08-27T12:56:14.591Z"
   },
   {
    "duration": 199,
    "start_time": "2022-08-27T12:56:14.797Z"
   },
   {
    "duration": 176,
    "start_time": "2022-08-27T12:56:14.998Z"
   },
   {
    "duration": 227,
    "start_time": "2022-08-27T12:56:15.177Z"
   },
   {
    "duration": 245,
    "start_time": "2022-08-27T12:56:15.406Z"
   },
   {
    "duration": 220,
    "start_time": "2022-08-27T12:56:15.653Z"
   },
   {
    "duration": 41,
    "start_time": "2022-08-27T12:56:15.875Z"
   },
   {
    "duration": 191,
    "start_time": "2022-08-27T12:56:15.918Z"
   },
   {
    "duration": 5,
    "start_time": "2022-08-27T12:56:16.112Z"
   },
   {
    "duration": 31,
    "start_time": "2022-08-27T12:56:16.268Z"
   },
   {
    "duration": 178,
    "start_time": "2022-08-27T12:56:16.455Z"
   },
   {
    "duration": 5,
    "start_time": "2022-08-27T12:56:16.697Z"
   },
   {
    "duration": 182,
    "start_time": "2022-08-27T12:56:17.784Z"
   },
   {
    "duration": 5,
    "start_time": "2022-08-27T12:56:18.043Z"
   },
   {
    "duration": 184,
    "start_time": "2022-08-27T12:56:18.255Z"
   },
   {
    "duration": 5,
    "start_time": "2022-08-27T12:56:18.559Z"
   },
   {
    "duration": 152,
    "start_time": "2022-08-27T12:56:19.088Z"
   },
   {
    "duration": 3,
    "start_time": "2022-08-27T12:56:19.335Z"
   },
   {
    "duration": 181,
    "start_time": "2022-08-27T12:56:19.631Z"
   },
   {
    "duration": 5,
    "start_time": "2022-08-27T12:56:19.923Z"
   },
   {
    "duration": 168,
    "start_time": "2022-08-27T12:56:20.530Z"
   },
   {
    "duration": 5,
    "start_time": "2022-08-27T12:56:21.012Z"
   },
   {
    "duration": 233,
    "start_time": "2022-08-27T12:56:21.816Z"
   },
   {
    "duration": 22,
    "start_time": "2022-08-27T12:56:23.070Z"
   },
   {
    "duration": 9,
    "start_time": "2022-08-27T12:56:25.360Z"
   },
   {
    "duration": 8,
    "start_time": "2022-08-27T12:56:27.192Z"
   },
   {
    "duration": 39,
    "start_time": "2022-08-27T12:57:06.140Z"
   },
   {
    "duration": 9,
    "start_time": "2022-08-27T12:57:10.481Z"
   },
   {
    "duration": 5,
    "start_time": "2022-08-27T12:57:11.485Z"
   },
   {
    "duration": 6,
    "start_time": "2022-08-27T12:57:11.836Z"
   },
   {
    "duration": 16,
    "start_time": "2022-08-27T12:57:38.894Z"
   },
   {
    "duration": 4,
    "start_time": "2022-08-27T12:58:04.493Z"
   },
   {
    "duration": 4,
    "start_time": "2022-08-27T12:58:06.635Z"
   },
   {
    "duration": 4,
    "start_time": "2022-08-27T12:58:07.499Z"
   },
   {
    "duration": 5,
    "start_time": "2022-08-27T12:58:07.998Z"
   },
   {
    "duration": 3,
    "start_time": "2022-08-27T12:58:08.431Z"
   },
   {
    "duration": 4,
    "start_time": "2022-08-27T12:58:08.854Z"
   },
   {
    "duration": 4,
    "start_time": "2022-08-27T12:58:09.249Z"
   },
   {
    "duration": 12,
    "start_time": "2022-08-27T12:58:09.698Z"
   },
   {
    "duration": 290,
    "start_time": "2022-08-27T12:58:10.712Z"
   },
   {
    "duration": 631,
    "start_time": "2022-08-27T12:58:11.097Z"
   },
   {
    "duration": 402,
    "start_time": "2022-08-27T12:58:11.730Z"
   },
   {
    "duration": 229,
    "start_time": "2022-08-27T12:58:12.134Z"
   },
   {
    "duration": 183,
    "start_time": "2022-08-27T12:58:12.365Z"
   },
   {
    "duration": 203,
    "start_time": "2022-08-27T12:58:12.550Z"
   },
   {
    "duration": 200,
    "start_time": "2022-08-27T12:58:12.755Z"
   },
   {
    "duration": 139,
    "start_time": "2022-08-27T12:58:12.957Z"
   },
   {
    "duration": 198,
    "start_time": "2022-08-27T12:58:13.098Z"
   },
   {
    "duration": 203,
    "start_time": "2022-08-27T12:58:13.298Z"
   },
   {
    "duration": 196,
    "start_time": "2022-08-27T12:58:13.503Z"
   },
   {
    "duration": 175,
    "start_time": "2022-08-27T12:58:13.701Z"
   },
   {
    "duration": 235,
    "start_time": "2022-08-27T12:58:13.878Z"
   },
   {
    "duration": 221,
    "start_time": "2022-08-27T12:58:14.114Z"
   },
   {
    "duration": 208,
    "start_time": "2022-08-27T12:58:14.337Z"
   },
   {
    "duration": 310,
    "start_time": "2022-08-27T12:58:14.584Z"
   },
   {
    "duration": 131,
    "start_time": "2022-08-27T12:58:15.506Z"
   },
   {
    "duration": 4,
    "start_time": "2022-08-27T12:58:16.618Z"
   },
   {
    "duration": 313,
    "start_time": "2022-08-27T12:58:17.347Z"
   },
   {
    "duration": 132,
    "start_time": "2022-08-27T12:58:17.975Z"
   },
   {
    "duration": 4,
    "start_time": "2022-08-27T12:58:22.350Z"
   },
   {
    "duration": 146,
    "start_time": "2022-08-27T12:58:23.874Z"
   },
   {
    "duration": 4,
    "start_time": "2022-08-27T12:58:24.298Z"
   },
   {
    "duration": 125,
    "start_time": "2022-08-27T12:58:24.776Z"
   },
   {
    "duration": 4,
    "start_time": "2022-08-27T12:58:25.170Z"
   },
   {
    "duration": 382,
    "start_time": "2022-08-27T12:58:26.202Z"
   },
   {
    "duration": 3,
    "start_time": "2022-08-27T12:58:26.697Z"
   },
   {
    "duration": 126,
    "start_time": "2022-08-27T12:58:27.259Z"
   },
   {
    "duration": 5,
    "start_time": "2022-08-27T12:58:27.697Z"
   },
   {
    "duration": 131,
    "start_time": "2022-08-27T12:58:28.482Z"
   },
   {
    "duration": 4,
    "start_time": "2022-08-27T12:58:28.730Z"
   },
   {
    "duration": 123,
    "start_time": "2022-08-27T12:58:29.147Z"
   },
   {
    "duration": 313,
    "start_time": "2022-08-27T12:58:29.578Z"
   },
   {
    "duration": 0,
    "start_time": "2022-08-27T12:58:29.893Z"
   },
   {
    "duration": 17,
    "start_time": "2022-08-27T12:58:29.985Z"
   },
   {
    "duration": 346,
    "start_time": "2022-08-27T12:58:36.954Z"
   },
   {
    "duration": 91,
    "start_time": "2022-08-27T12:59:23.291Z"
   },
   {
    "duration": 26,
    "start_time": "2022-08-27T12:59:23.802Z"
   },
   {
    "duration": 17,
    "start_time": "2022-08-27T12:59:24.352Z"
   },
   {
    "duration": 10,
    "start_time": "2022-08-27T12:59:25.335Z"
   },
   {
    "duration": 5,
    "start_time": "2022-08-27T12:59:25.811Z"
   },
   {
    "duration": 6,
    "start_time": "2022-08-27T12:59:26.303Z"
   },
   {
    "duration": 9,
    "start_time": "2022-08-27T12:59:27.126Z"
   },
   {
    "duration": 7,
    "start_time": "2022-08-27T12:59:27.593Z"
   },
   {
    "duration": 8,
    "start_time": "2022-08-27T12:59:28.605Z"
   },
   {
    "duration": 5,
    "start_time": "2022-08-27T12:59:29.435Z"
   },
   {
    "duration": 6,
    "start_time": "2022-08-27T12:59:29.808Z"
   },
   {
    "duration": 6,
    "start_time": "2022-08-27T12:59:30.152Z"
   },
   {
    "duration": 45,
    "start_time": "2022-08-27T12:59:30.436Z"
   },
   {
    "duration": 5,
    "start_time": "2022-08-27T12:59:31.451Z"
   },
   {
    "duration": 9,
    "start_time": "2022-08-27T12:59:32.226Z"
   },
   {
    "duration": 5,
    "start_time": "2022-08-27T12:59:33.203Z"
   },
   {
    "duration": 5,
    "start_time": "2022-08-27T12:59:33.668Z"
   },
   {
    "duration": 5,
    "start_time": "2022-08-27T12:59:34.108Z"
   },
   {
    "duration": 4,
    "start_time": "2022-08-27T12:59:34.507Z"
   },
   {
    "duration": 3,
    "start_time": "2022-08-27T12:59:34.916Z"
   },
   {
    "duration": 146,
    "start_time": "2022-08-27T12:59:35.402Z"
   },
   {
    "duration": 58,
    "start_time": "2022-08-27T12:59:35.828Z"
   },
   {
    "duration": 319,
    "start_time": "2022-08-27T12:59:36.689Z"
   },
   {
    "duration": 614,
    "start_time": "2022-08-27T12:59:37.100Z"
   },
   {
    "duration": 313,
    "start_time": "2022-08-27T12:59:37.715Z"
   },
   {
    "duration": 252,
    "start_time": "2022-08-27T12:59:38.030Z"
   },
   {
    "duration": 168,
    "start_time": "2022-08-27T12:59:38.411Z"
   },
   {
    "duration": 196,
    "start_time": "2022-08-27T12:59:38.886Z"
   },
   {
    "duration": 216,
    "start_time": "2022-08-27T12:59:39.259Z"
   },
   {
    "duration": 107,
    "start_time": "2022-08-27T12:59:39.723Z"
   },
   {
    "duration": 223,
    "start_time": "2022-08-27T12:59:40.184Z"
   },
   {
    "duration": 199,
    "start_time": "2022-08-27T12:59:40.595Z"
   },
   {
    "duration": 176,
    "start_time": "2022-08-27T12:59:41.116Z"
   },
   {
    "duration": 156,
    "start_time": "2022-08-27T12:59:41.595Z"
   },
   {
    "duration": 206,
    "start_time": "2022-08-27T12:59:42.124Z"
   },
   {
    "duration": 235,
    "start_time": "2022-08-27T12:59:42.610Z"
   },
   {
    "duration": 207,
    "start_time": "2022-08-27T12:59:43.431Z"
   },
   {
    "duration": 33,
    "start_time": "2022-08-27T12:59:44.869Z"
   },
   {
    "duration": 169,
    "start_time": "2022-08-27T12:59:45.640Z"
   },
   {
    "duration": 5,
    "start_time": "2022-08-27T12:59:46.194Z"
   },
   {
    "duration": 30,
    "start_time": "2022-08-27T12:59:47.359Z"
   },
   {
    "duration": 178,
    "start_time": "2022-08-27T12:59:47.940Z"
   },
   {
    "duration": 5,
    "start_time": "2022-08-27T12:59:48.432Z"
   },
   {
    "duration": 204,
    "start_time": "2022-08-27T12:59:49.419Z"
   },
   {
    "duration": 4,
    "start_time": "2022-08-27T12:59:49.899Z"
   },
   {
    "duration": 167,
    "start_time": "2022-08-27T12:59:50.394Z"
   },
   {
    "duration": 5,
    "start_time": "2022-08-27T12:59:50.822Z"
   },
   {
    "duration": 156,
    "start_time": "2022-08-27T12:59:51.668Z"
   },
   {
    "duration": 3,
    "start_time": "2022-08-27T12:59:52.358Z"
   },
   {
    "duration": 164,
    "start_time": "2022-08-27T12:59:52.835Z"
   },
   {
    "duration": 6,
    "start_time": "2022-08-27T12:59:53.289Z"
   },
   {
    "duration": 157,
    "start_time": "2022-08-27T12:59:54.169Z"
   },
   {
    "duration": 6,
    "start_time": "2022-08-27T12:59:54.790Z"
   },
   {
    "duration": 158,
    "start_time": "2022-08-27T12:59:56.315Z"
   },
   {
    "duration": 23,
    "start_time": "2022-08-27T12:59:57.255Z"
   },
   {
    "duration": 9,
    "start_time": "2022-08-27T12:59:58.627Z"
   },
   {
    "duration": 9,
    "start_time": "2022-08-27T12:59:59.385Z"
   },
   {
    "duration": 100,
    "start_time": "2022-08-27T13:00:20.245Z"
   },
   {
    "duration": 27,
    "start_time": "2022-08-27T13:00:20.704Z"
   },
   {
    "duration": 16,
    "start_time": "2022-08-27T13:00:21.178Z"
   },
   {
    "duration": 10,
    "start_time": "2022-08-27T13:00:22.120Z"
   },
   {
    "duration": 5,
    "start_time": "2022-08-27T13:00:22.598Z"
   },
   {
    "duration": 5,
    "start_time": "2022-08-27T13:00:23.037Z"
   },
   {
    "duration": 8,
    "start_time": "2022-08-27T13:00:23.472Z"
   },
   {
    "duration": 7,
    "start_time": "2022-08-27T13:00:23.920Z"
   },
   {
    "duration": 8,
    "start_time": "2022-08-27T13:00:24.732Z"
   },
   {
    "duration": 5,
    "start_time": "2022-08-27T13:00:25.533Z"
   },
   {
    "duration": 5,
    "start_time": "2022-08-27T13:00:25.884Z"
   },
   {
    "duration": 8,
    "start_time": "2022-08-27T13:00:26.212Z"
   },
   {
    "duration": 43,
    "start_time": "2022-08-27T13:00:26.592Z"
   },
   {
    "duration": 8,
    "start_time": "2022-08-27T13:00:27.464Z"
   },
   {
    "duration": 5,
    "start_time": "2022-08-27T13:00:28.427Z"
   },
   {
    "duration": 5,
    "start_time": "2022-08-27T13:00:28.804Z"
   },
   {
    "duration": 5,
    "start_time": "2022-08-27T13:00:29.192Z"
   },
   {
    "duration": 5,
    "start_time": "2022-08-27T13:00:29.585Z"
   },
   {
    "duration": 3,
    "start_time": "2022-08-27T13:00:29.956Z"
   },
   {
    "duration": 205,
    "start_time": "2022-08-27T13:00:30.716Z"
   },
   {
    "duration": 66,
    "start_time": "2022-08-27T13:00:31.092Z"
   },
   {
    "duration": 335,
    "start_time": "2022-08-27T13:00:31.941Z"
   },
   {
    "duration": 298,
    "start_time": "2022-08-27T13:00:32.317Z"
   },
   {
    "duration": 642,
    "start_time": "2022-08-27T13:00:32.731Z"
   },
   {
    "duration": 235,
    "start_time": "2022-08-27T13:00:33.375Z"
   },
   {
    "duration": 163,
    "start_time": "2022-08-27T13:00:33.647Z"
   },
   {
    "duration": 191,
    "start_time": "2022-08-27T13:00:34.108Z"
   },
   {
    "duration": 183,
    "start_time": "2022-08-27T13:00:34.544Z"
   },
   {
    "duration": 113,
    "start_time": "2022-08-27T13:00:34.960Z"
   },
   {
    "duration": 203,
    "start_time": "2022-08-27T13:00:35.436Z"
   },
   {
    "duration": 203,
    "start_time": "2022-08-27T13:00:35.883Z"
   },
   {
    "duration": 196,
    "start_time": "2022-08-27T13:00:36.496Z"
   },
   {
    "duration": 164,
    "start_time": "2022-08-27T13:00:36.972Z"
   },
   {
    "duration": 217,
    "start_time": "2022-08-27T13:00:37.466Z"
   },
   {
    "duration": 230,
    "start_time": "2022-08-27T13:00:37.987Z"
   },
   {
    "duration": 200,
    "start_time": "2022-08-27T13:00:38.482Z"
   },
   {
    "duration": 36,
    "start_time": "2022-08-27T13:00:39.557Z"
   },
   {
    "duration": 180,
    "start_time": "2022-08-27T13:00:40.052Z"
   },
   {
    "duration": 5,
    "start_time": "2022-08-27T13:00:40.622Z"
   },
   {
    "duration": 31,
    "start_time": "2022-08-27T13:00:41.744Z"
   },
   {
    "duration": 173,
    "start_time": "2022-08-27T13:00:42.253Z"
   },
   {
    "duration": 6,
    "start_time": "2022-08-27T13:00:42.712Z"
   },
   {
    "duration": 161,
    "start_time": "2022-08-27T13:00:43.684Z"
   },
   {
    "duration": 5,
    "start_time": "2022-08-27T13:00:44.170Z"
   },
   {
    "duration": 169,
    "start_time": "2022-08-27T13:00:44.624Z"
   },
   {
    "duration": 4,
    "start_time": "2022-08-27T13:00:45.029Z"
   },
   {
    "duration": 149,
    "start_time": "2022-08-27T13:00:45.954Z"
   },
   {
    "duration": 3,
    "start_time": "2022-08-27T13:00:46.409Z"
   },
   {
    "duration": 172,
    "start_time": "2022-08-27T13:00:46.964Z"
   },
   {
    "duration": 5,
    "start_time": "2022-08-27T13:00:47.450Z"
   },
   {
    "duration": 171,
    "start_time": "2022-08-27T13:00:48.484Z"
   },
   {
    "duration": 5,
    "start_time": "2022-08-27T13:00:48.959Z"
   },
   {
    "duration": 175,
    "start_time": "2022-08-27T13:00:50.059Z"
   },
   {
    "duration": 22,
    "start_time": "2022-08-27T13:00:51.060Z"
   },
   {
    "duration": 9,
    "start_time": "2022-08-27T13:00:53.570Z"
   },
   {
    "duration": 8,
    "start_time": "2022-08-27T13:00:54.832Z"
   },
   {
    "duration": 14,
    "start_time": "2022-08-27T13:00:58.252Z"
   },
   {
    "duration": 138,
    "start_time": "2022-08-27T13:01:02.969Z"
   },
   {
    "duration": 16,
    "start_time": "2022-08-27T13:14:32.017Z"
   },
   {
    "duration": 23,
    "start_time": "2022-08-27T13:17:49.326Z"
   },
   {
    "duration": 9,
    "start_time": "2022-08-27T13:18:01.168Z"
   },
   {
    "duration": 8,
    "start_time": "2022-08-27T13:18:03.408Z"
   },
   {
    "duration": 18,
    "start_time": "2022-08-27T13:23:21.045Z"
   },
   {
    "duration": 12,
    "start_time": "2022-08-27T13:23:35.348Z"
   },
   {
    "duration": 12,
    "start_time": "2022-08-27T13:26:36.773Z"
   },
   {
    "duration": 43,
    "start_time": "2022-08-27T13:30:02.656Z"
   },
   {
    "duration": 8,
    "start_time": "2022-08-27T13:30:07.617Z"
   },
   {
    "duration": 13,
    "start_time": "2022-08-27T13:30:28.959Z"
   },
   {
    "duration": 8,
    "start_time": "2022-08-27T13:30:45.844Z"
   },
   {
    "duration": 15,
    "start_time": "2022-08-27T13:31:01.687Z"
   },
   {
    "duration": 14,
    "start_time": "2022-08-27T13:31:32.993Z"
   },
   {
    "duration": 23,
    "start_time": "2022-08-27T13:32:14.256Z"
   },
   {
    "duration": 8,
    "start_time": "2022-08-27T13:32:16.917Z"
   },
   {
    "duration": 8,
    "start_time": "2022-08-27T13:32:19.513Z"
   },
   {
    "duration": 25,
    "start_time": "2022-08-27T13:33:09.146Z"
   },
   {
    "duration": 25,
    "start_time": "2022-08-27T13:33:30.765Z"
   },
   {
    "duration": 8,
    "start_time": "2022-08-27T13:33:39.599Z"
   },
   {
    "duration": 23,
    "start_time": "2022-08-27T13:34:00.393Z"
   },
   {
    "duration": 7,
    "start_time": "2022-08-27T13:34:19.458Z"
   },
   {
    "duration": 9,
    "start_time": "2022-08-27T13:39:40.223Z"
   },
   {
    "duration": 124,
    "start_time": "2022-08-27T13:40:14.016Z"
   },
   {
    "duration": 107,
    "start_time": "2022-08-27T13:40:21.436Z"
   },
   {
    "duration": 97,
    "start_time": "2022-08-27T13:40:30.852Z"
   },
   {
    "duration": 29,
    "start_time": "2022-08-27T13:40:31.420Z"
   },
   {
    "duration": 11,
    "start_time": "2022-08-27T13:40:34.027Z"
   },
   {
    "duration": 7,
    "start_time": "2022-08-27T13:40:37.460Z"
   },
   {
    "duration": 7,
    "start_time": "2022-08-27T13:40:37.952Z"
   },
   {
    "duration": 12,
    "start_time": "2022-08-27T13:40:38.396Z"
   },
   {
    "duration": 7,
    "start_time": "2022-08-27T13:40:39.725Z"
   },
   {
    "duration": 8,
    "start_time": "2022-08-27T13:40:41.733Z"
   },
   {
    "duration": 4,
    "start_time": "2022-08-27T13:40:43.341Z"
   },
   {
    "duration": 6,
    "start_time": "2022-08-27T13:40:44.565Z"
   },
   {
    "duration": 8,
    "start_time": "2022-08-27T13:40:45.109Z"
   },
   {
    "duration": 125,
    "start_time": "2022-08-27T13:40:46.292Z"
   },
   {
    "duration": 118,
    "start_time": "2022-08-27T13:42:09.766Z"
   },
   {
    "duration": 110,
    "start_time": "2022-08-27T13:42:53.636Z"
   },
   {
    "duration": 30,
    "start_time": "2022-08-27T13:46:09.845Z"
   },
   {
    "duration": 5,
    "start_time": "2022-08-27T13:46:16.685Z"
   },
   {
    "duration": 6,
    "start_time": "2022-08-27T13:47:07.478Z"
   },
   {
    "duration": 6,
    "start_time": "2022-08-27T13:47:49.941Z"
   },
   {
    "duration": 198,
    "start_time": "2022-08-27T13:48:36.915Z"
   },
   {
    "duration": 5,
    "start_time": "2022-08-27T13:48:53.319Z"
   },
   {
    "duration": 21,
    "start_time": "2022-08-27T13:49:58.358Z"
   },
   {
    "duration": 15,
    "start_time": "2022-08-27T13:50:01.239Z"
   },
   {
    "duration": 102,
    "start_time": "2022-08-27T13:50:08.341Z"
   },
   {
    "duration": 27,
    "start_time": "2022-08-27T13:50:09.058Z"
   },
   {
    "duration": 24,
    "start_time": "2022-08-27T13:50:09.633Z"
   },
   {
    "duration": 15,
    "start_time": "2022-08-27T13:50:10.646Z"
   },
   {
    "duration": 6,
    "start_time": "2022-08-27T13:50:11.175Z"
   },
   {
    "duration": 6,
    "start_time": "2022-08-27T13:50:11.666Z"
   },
   {
    "duration": 10,
    "start_time": "2022-08-27T13:50:12.136Z"
   },
   {
    "duration": 7,
    "start_time": "2022-08-27T13:50:12.597Z"
   },
   {
    "duration": 9,
    "start_time": "2022-08-27T13:50:13.549Z"
   },
   {
    "duration": 5,
    "start_time": "2022-08-27T13:50:14.440Z"
   },
   {
    "duration": 5,
    "start_time": "2022-08-27T13:50:14.774Z"
   },
   {
    "duration": 7,
    "start_time": "2022-08-27T13:50:15.087Z"
   },
   {
    "duration": 110,
    "start_time": "2022-08-27T13:50:15.339Z"
   },
   {
    "duration": 102,
    "start_time": "2022-08-27T13:50:15.782Z"
   },
   {
    "duration": 6,
    "start_time": "2022-08-27T13:50:16.375Z"
   },
   {
    "duration": 10,
    "start_time": "2022-08-27T13:50:17.410Z"
   },
   {
    "duration": 5,
    "start_time": "2022-08-27T13:50:18.461Z"
   },
   {
    "duration": 5,
    "start_time": "2022-08-27T13:50:18.930Z"
   },
   {
    "duration": 4,
    "start_time": "2022-08-27T13:50:23.439Z"
   },
   {
    "duration": 5,
    "start_time": "2022-08-27T13:50:23.810Z"
   },
   {
    "duration": 3,
    "start_time": "2022-08-27T13:50:24.258Z"
   },
   {
    "duration": 173,
    "start_time": "2022-08-27T13:50:24.741Z"
   },
   {
    "duration": 68,
    "start_time": "2022-08-27T13:50:25.196Z"
   },
   {
    "duration": 678,
    "start_time": "2022-08-27T13:50:26.138Z"
   },
   {
    "duration": 327,
    "start_time": "2022-08-27T13:50:26.819Z"
   },
   {
    "duration": 357,
    "start_time": "2022-08-27T13:50:27.149Z"
   },
   {
    "duration": 238,
    "start_time": "2022-08-27T13:50:28.022Z"
   },
   {
    "duration": 167,
    "start_time": "2022-08-27T13:50:28.898Z"
   },
   {
    "duration": 196,
    "start_time": "2022-08-27T13:50:29.386Z"
   },
   {
    "duration": 194,
    "start_time": "2022-08-27T13:50:29.866Z"
   },
   {
    "duration": 127,
    "start_time": "2022-08-27T13:50:30.290Z"
   },
   {
    "duration": 209,
    "start_time": "2022-08-27T13:50:30.857Z"
   },
   {
    "duration": 195,
    "start_time": "2022-08-27T13:50:31.330Z"
   },
   {
    "duration": 235,
    "start_time": "2022-08-27T13:50:31.862Z"
   },
   {
    "duration": 162,
    "start_time": "2022-08-27T13:50:32.748Z"
   },
   {
    "duration": 225,
    "start_time": "2022-08-27T13:50:34.557Z"
   },
   {
    "duration": 222,
    "start_time": "2022-08-27T13:50:36.042Z"
   },
   {
    "duration": 231,
    "start_time": "2022-08-27T13:50:37.536Z"
   },
   {
    "duration": 34,
    "start_time": "2022-08-27T13:50:45.404Z"
   },
   {
    "duration": 174,
    "start_time": "2022-08-27T13:50:49.997Z"
   },
   {
    "duration": 5,
    "start_time": "2022-08-27T13:50:53.206Z"
   },
   {
    "duration": 27,
    "start_time": "2022-08-27T13:50:55.086Z"
   },
   {
    "duration": 186,
    "start_time": "2022-08-27T13:50:55.694Z"
   },
   {
    "duration": 5,
    "start_time": "2022-08-27T13:50:58.565Z"
   },
   {
    "duration": 160,
    "start_time": "2022-08-27T13:51:00.642Z"
   },
   {
    "duration": 4,
    "start_time": "2022-08-27T13:51:02.652Z"
   },
   {
    "duration": 169,
    "start_time": "2022-08-27T13:51:05.095Z"
   },
   {
    "duration": 5,
    "start_time": "2022-08-27T13:51:05.695Z"
   },
   {
    "duration": 150,
    "start_time": "2022-08-27T13:51:11.094Z"
   },
   {
    "duration": 142,
    "start_time": "2022-08-27T13:52:38.762Z"
   },
   {
    "duration": 193,
    "start_time": "2022-08-27T13:54:58.186Z"
   },
   {
    "duration": 6,
    "start_time": "2022-08-27T13:55:01.284Z"
   },
   {
    "duration": 398,
    "start_time": "2022-08-27T13:55:28.082Z"
   },
   {
    "duration": 173,
    "start_time": "2022-08-27T13:55:33.602Z"
   },
   {
    "duration": 175,
    "start_time": "2022-08-27T13:55:49.230Z"
   },
   {
    "duration": 425,
    "start_time": "2022-08-27T13:55:57.828Z"
   },
   {
    "duration": 170,
    "start_time": "2022-08-27T13:56:03.026Z"
   },
   {
    "duration": 316,
    "start_time": "2022-08-27T13:56:16.988Z"
   },
   {
    "duration": 171,
    "start_time": "2022-08-27T13:56:24.213Z"
   },
   {
    "duration": 166,
    "start_time": "2022-08-27T13:57:52.386Z"
   },
   {
    "duration": 14,
    "start_time": "2022-08-27T14:00:42.153Z"
   },
   {
    "duration": 12,
    "start_time": "2022-08-27T14:00:51.609Z"
   },
   {
    "duration": 20,
    "start_time": "2022-08-27T14:03:23.242Z"
   },
   {
    "duration": 15,
    "start_time": "2022-08-27T14:03:31.434Z"
   },
   {
    "duration": 16,
    "start_time": "2022-08-27T14:03:43.815Z"
   },
   {
    "duration": 18,
    "start_time": "2022-08-27T14:03:55.479Z"
   },
   {
    "duration": 143,
    "start_time": "2022-08-27T14:04:12.687Z"
   },
   {
    "duration": 184,
    "start_time": "2022-08-27T14:04:32.554Z"
   },
   {
    "duration": 16,
    "start_time": "2022-08-27T14:04:48.861Z"
   },
   {
    "duration": 137,
    "start_time": "2022-08-27T14:04:51.139Z"
   },
   {
    "duration": 108,
    "start_time": "2022-08-27T14:05:28.865Z"
   },
   {
    "duration": 26,
    "start_time": "2022-08-27T14:05:29.521Z"
   },
   {
    "duration": 16,
    "start_time": "2022-08-27T14:05:30.148Z"
   },
   {
    "duration": 17,
    "start_time": "2022-08-27T14:05:31.317Z"
   },
   {
    "duration": 7,
    "start_time": "2022-08-27T14:05:31.820Z"
   },
   {
    "duration": 10,
    "start_time": "2022-08-27T14:05:32.394Z"
   },
   {
    "duration": 8,
    "start_time": "2022-08-27T14:05:32.923Z"
   },
   {
    "duration": 9,
    "start_time": "2022-08-27T14:05:33.413Z"
   },
   {
    "duration": 8,
    "start_time": "2022-08-27T14:05:34.345Z"
   },
   {
    "duration": 5,
    "start_time": "2022-08-27T14:05:35.220Z"
   },
   {
    "duration": 6,
    "start_time": "2022-08-27T14:05:35.621Z"
   },
   {
    "duration": 12,
    "start_time": "2022-08-27T14:05:35.988Z"
   },
   {
    "duration": 130,
    "start_time": "2022-08-27T14:05:36.543Z"
   },
   {
    "duration": 122,
    "start_time": "2022-08-27T14:05:37.413Z"
   },
   {
    "duration": 14,
    "start_time": "2022-08-27T14:05:38.013Z"
   },
   {
    "duration": 9,
    "start_time": "2022-08-27T14:05:39.116Z"
   },
   {
    "duration": 4,
    "start_time": "2022-08-27T14:05:40.064Z"
   },
   {
    "duration": 5,
    "start_time": "2022-08-27T14:05:40.541Z"
   },
   {
    "duration": 5,
    "start_time": "2022-08-27T14:05:40.984Z"
   },
   {
    "duration": 5,
    "start_time": "2022-08-27T14:05:41.437Z"
   },
   {
    "duration": 5,
    "start_time": "2022-08-27T14:05:41.925Z"
   },
   {
    "duration": 670,
    "start_time": "2022-08-27T14:05:42.360Z"
   },
   {
    "duration": 83,
    "start_time": "2022-08-27T14:05:43.032Z"
   },
   {
    "duration": 389,
    "start_time": "2022-08-27T14:05:43.657Z"
   },
   {
    "duration": 375,
    "start_time": "2022-08-27T14:05:44.129Z"
   },
   {
    "duration": 372,
    "start_time": "2022-08-27T14:05:44.580Z"
   },
   {
    "duration": 282,
    "start_time": "2022-08-27T14:05:45.017Z"
   },
   {
    "duration": 193,
    "start_time": "2022-08-27T14:05:45.513Z"
   },
   {
    "duration": 220,
    "start_time": "2022-08-27T14:05:46.068Z"
   },
   {
    "duration": 235,
    "start_time": "2022-08-27T14:05:46.536Z"
   },
   {
    "duration": 155,
    "start_time": "2022-08-27T14:05:47.016Z"
   },
   {
    "duration": 288,
    "start_time": "2022-08-27T14:05:47.385Z"
   },
   {
    "duration": 264,
    "start_time": "2022-08-27T14:05:47.822Z"
   },
   {
    "duration": 249,
    "start_time": "2022-08-27T14:05:48.319Z"
   },
   {
    "duration": 211,
    "start_time": "2022-08-27T14:05:48.744Z"
   },
   {
    "duration": 294,
    "start_time": "2022-08-27T14:05:49.235Z"
   },
   {
    "duration": 365,
    "start_time": "2022-08-27T14:05:49.725Z"
   },
   {
    "duration": 269,
    "start_time": "2022-08-27T14:05:50.121Z"
   },
   {
    "duration": 59,
    "start_time": "2022-08-27T14:05:50.960Z"
   },
   {
    "duration": 207,
    "start_time": "2022-08-27T14:05:51.466Z"
   },
   {
    "duration": 10,
    "start_time": "2022-08-27T14:05:51.920Z"
   },
   {
    "duration": 43,
    "start_time": "2022-08-27T14:05:52.909Z"
   },
   {
    "duration": 215,
    "start_time": "2022-08-27T14:05:53.319Z"
   },
   {
    "duration": 5,
    "start_time": "2022-08-27T14:05:53.736Z"
   },
   {
    "duration": 182,
    "start_time": "2022-08-27T14:05:54.622Z"
   },
   {
    "duration": 5,
    "start_time": "2022-08-27T14:05:55.056Z"
   },
   {
    "duration": 202,
    "start_time": "2022-08-27T14:05:55.858Z"
   },
   {
    "duration": 6,
    "start_time": "2022-08-27T14:05:56.249Z"
   },
   {
    "duration": 191,
    "start_time": "2022-08-27T14:05:56.948Z"
   },
   {
    "duration": 189,
    "start_time": "2022-08-27T14:05:57.717Z"
   },
   {
    "duration": 205,
    "start_time": "2022-08-27T14:05:58.544Z"
   },
   {
    "duration": 5,
    "start_time": "2022-08-27T14:05:58.976Z"
   },
   {
    "duration": 207,
    "start_time": "2022-08-27T14:05:59.724Z"
   },
   {
    "duration": 37,
    "start_time": "2022-08-27T14:06:00.490Z"
   },
   {
    "duration": 9,
    "start_time": "2022-08-27T14:06:01.011Z"
   },
   {
    "duration": 15,
    "start_time": "2022-08-27T14:06:01.486Z"
   },
   {
    "duration": 23,
    "start_time": "2022-08-27T14:06:02.310Z"
   },
   {
    "duration": 153,
    "start_time": "2022-08-27T14:06:02.810Z"
   },
   {
    "duration": 167,
    "start_time": "2022-08-27T14:06:06.275Z"
   },
   {
    "duration": 150,
    "start_time": "2022-08-27T14:06:25.746Z"
   },
   {
    "duration": 182,
    "start_time": "2022-08-27T14:07:12.084Z"
   },
   {
    "duration": 20,
    "start_time": "2022-08-27T14:07:21.568Z"
   },
   {
    "duration": 149,
    "start_time": "2022-08-27T14:07:39.333Z"
   },
   {
    "duration": 15,
    "start_time": "2022-08-27T14:08:04.661Z"
   },
   {
    "duration": 32,
    "start_time": "2022-08-27T14:08:17.175Z"
   },
   {
    "duration": 106,
    "start_time": "2022-08-27T14:16:57.594Z"
   },
   {
    "duration": 14,
    "start_time": "2022-08-27T14:17:10.719Z"
   },
   {
    "duration": 122,
    "start_time": "2022-08-27T14:19:32.201Z"
   },
   {
    "duration": 10,
    "start_time": "2022-08-27T14:21:15.860Z"
   },
   {
    "duration": 11,
    "start_time": "2022-08-27T14:24:21.107Z"
   },
   {
    "duration": 50,
    "start_time": "2022-08-27T14:24:39.034Z"
   },
   {
    "duration": 15,
    "start_time": "2022-08-27T14:25:23.489Z"
   },
   {
    "duration": 137,
    "start_time": "2022-08-27T14:25:47.074Z"
   },
   {
    "duration": 10,
    "start_time": "2022-08-27T14:26:21.159Z"
   },
   {
    "duration": 212,
    "start_time": "2022-08-27T14:26:22.895Z"
   },
   {
    "duration": 25,
    "start_time": "2022-08-27T14:29:35.890Z"
   },
   {
    "duration": 15,
    "start_time": "2022-08-27T14:29:46.879Z"
   },
   {
    "duration": 598,
    "start_time": "2022-08-27T14:37:46.853Z"
   },
   {
    "duration": 250,
    "start_time": "2022-08-27T14:37:55.445Z"
   },
   {
    "duration": 326,
    "start_time": "2022-08-27T14:38:01.112Z"
   },
   {
    "duration": 341,
    "start_time": "2022-08-27T14:39:00.347Z"
   },
   {
    "duration": 333,
    "start_time": "2022-08-27T14:40:03.585Z"
   },
   {
    "duration": 337,
    "start_time": "2022-08-27T14:40:26.763Z"
   },
   {
    "duration": 232,
    "start_time": "2022-08-27T14:43:47.346Z"
   },
   {
    "duration": 203,
    "start_time": "2022-08-27T14:44:04.225Z"
   },
   {
    "duration": 731,
    "start_time": "2022-08-27T16:46:51.556Z"
   },
   {
    "duration": 30,
    "start_time": "2022-08-27T16:46:52.289Z"
   },
   {
    "duration": 15,
    "start_time": "2022-08-27T16:46:52.321Z"
   },
   {
    "duration": 11,
    "start_time": "2022-08-27T16:46:52.337Z"
   },
   {
    "duration": 4,
    "start_time": "2022-08-27T16:46:52.350Z"
   },
   {
    "duration": 273,
    "start_time": "2022-08-27T16:46:52.355Z"
   },
   {
    "duration": 16,
    "start_time": "2022-08-27T16:46:52.630Z"
   },
   {
    "duration": 19,
    "start_time": "2022-08-27T16:46:52.648Z"
   },
   {
    "duration": 10,
    "start_time": "2022-08-27T16:46:52.669Z"
   },
   {
    "duration": 6,
    "start_time": "2022-08-27T16:46:52.681Z"
   },
   {
    "duration": 7,
    "start_time": "2022-08-27T16:46:52.689Z"
   },
   {
    "duration": 8,
    "start_time": "2022-08-27T16:46:52.698Z"
   },
   {
    "duration": 7,
    "start_time": "2022-08-27T16:46:52.708Z"
   },
   {
    "duration": 8,
    "start_time": "2022-08-27T16:46:52.718Z"
   },
   {
    "duration": 121,
    "start_time": "2022-08-27T16:46:52.728Z"
   },
   {
    "duration": 107,
    "start_time": "2022-08-27T16:46:52.851Z"
   },
   {
    "duration": 15,
    "start_time": "2022-08-27T16:46:52.959Z"
   },
   {
    "duration": 6,
    "start_time": "2022-08-27T16:46:52.987Z"
   },
   {
    "duration": 6,
    "start_time": "2022-08-27T16:46:52.995Z"
   },
   {
    "duration": 16,
    "start_time": "2022-08-27T16:46:53.002Z"
   },
   {
    "duration": 5,
    "start_time": "2022-08-27T16:46:53.019Z"
   },
   {
    "duration": 9,
    "start_time": "2022-08-27T16:46:53.025Z"
   },
   {
    "duration": 11,
    "start_time": "2022-08-27T16:46:53.036Z"
   },
   {
    "duration": 6,
    "start_time": "2022-08-27T16:46:53.049Z"
   },
   {
    "duration": 4,
    "start_time": "2022-08-27T16:46:53.057Z"
   },
   {
    "duration": 237,
    "start_time": "2022-08-27T16:46:53.062Z"
   },
   {
    "duration": 63,
    "start_time": "2022-08-27T16:46:53.300Z"
   },
   {
    "duration": 298,
    "start_time": "2022-08-27T16:46:53.365Z"
   },
   {
    "duration": 283,
    "start_time": "2022-08-27T16:46:53.665Z"
   },
   {
    "duration": 281,
    "start_time": "2022-08-27T16:46:53.950Z"
   },
   {
    "duration": 226,
    "start_time": "2022-08-27T16:46:54.233Z"
   },
   {
    "duration": 219,
    "start_time": "2022-08-27T16:46:54.461Z"
   },
   {
    "duration": 211,
    "start_time": "2022-08-27T16:46:54.687Z"
   },
   {
    "duration": 291,
    "start_time": "2022-08-27T16:46:54.900Z"
   },
   {
    "duration": 117,
    "start_time": "2022-08-27T16:46:55.192Z"
   },
   {
    "duration": 199,
    "start_time": "2022-08-27T16:46:55.310Z"
   },
   {
    "duration": 194,
    "start_time": "2022-08-27T16:46:55.511Z"
   },
   {
    "duration": 186,
    "start_time": "2022-08-27T16:46:55.707Z"
   },
   {
    "duration": 176,
    "start_time": "2022-08-27T16:46:55.895Z"
   },
   {
    "duration": 260,
    "start_time": "2022-08-27T16:46:56.073Z"
   },
   {
    "duration": 365,
    "start_time": "2022-08-27T16:46:56.339Z"
   },
   {
    "duration": 397,
    "start_time": "2022-08-27T16:46:56.706Z"
   },
   {
    "duration": 300,
    "start_time": "2022-08-27T16:46:57.105Z"
   },
   {
    "duration": 9,
    "start_time": "2022-08-27T16:46:57.406Z"
   },
   {
    "duration": 17,
    "start_time": "2022-08-27T16:46:57.416Z"
   },
   {
    "duration": 456,
    "start_time": "2022-08-27T16:46:57.435Z"
   },
   {
    "duration": 94,
    "start_time": "2022-08-27T16:46:57.894Z"
   },
   {
    "duration": 447,
    "start_time": "2022-08-27T16:46:57.990Z"
   },
   {
    "duration": 6,
    "start_time": "2022-08-27T16:46:58.487Z"
   },
   {
    "duration": 92,
    "start_time": "2022-08-27T16:46:58.495Z"
   },
   {
    "duration": 402,
    "start_time": "2022-08-27T16:46:58.589Z"
   },
   {
    "duration": 5,
    "start_time": "2022-08-27T16:46:58.993Z"
   },
   {
    "duration": 160,
    "start_time": "2022-08-27T16:46:59.000Z"
   },
   {
    "duration": 4,
    "start_time": "2022-08-27T16:46:59.162Z"
   },
   {
    "duration": 162,
    "start_time": "2022-08-27T16:46:59.167Z"
   },
   {
    "duration": 5,
    "start_time": "2022-08-27T16:46:59.331Z"
   },
   {
    "duration": 154,
    "start_time": "2022-08-27T16:46:59.337Z"
   },
   {
    "duration": 166,
    "start_time": "2022-08-27T16:46:59.493Z"
   },
   {
    "duration": 166,
    "start_time": "2022-08-27T16:46:59.661Z"
   },
   {
    "duration": 5,
    "start_time": "2022-08-27T16:46:59.828Z"
   },
   {
    "duration": 270,
    "start_time": "2022-08-27T16:46:59.834Z"
   },
   {
    "duration": 21,
    "start_time": "2022-08-27T16:47:00.106Z"
   },
   {
    "duration": 7,
    "start_time": "2022-08-27T16:47:00.129Z"
   },
   {
    "duration": 32,
    "start_time": "2022-08-27T16:47:00.138Z"
   },
   {
    "duration": 31,
    "start_time": "2022-08-27T16:47:00.172Z"
   },
   {
    "duration": 129,
    "start_time": "2022-08-27T16:47:00.205Z"
   },
   {
    "duration": 7,
    "start_time": "2022-08-27T16:52:32.386Z"
   },
   {
    "duration": 45,
    "start_time": "2022-08-27T16:52:34.907Z"
   },
   {
    "duration": 720,
    "start_time": "2022-08-27T16:55:31.490Z"
   },
   {
    "duration": 28,
    "start_time": "2022-08-27T16:55:32.212Z"
   },
   {
    "duration": 17,
    "start_time": "2022-08-27T16:55:32.242Z"
   },
   {
    "duration": 27,
    "start_time": "2022-08-27T16:55:32.261Z"
   },
   {
    "duration": 4,
    "start_time": "2022-08-27T16:55:32.290Z"
   },
   {
    "duration": 237,
    "start_time": "2022-08-27T16:55:32.296Z"
   },
   {
    "duration": 8,
    "start_time": "2022-08-27T16:55:32.535Z"
   },
   {
    "duration": 7,
    "start_time": "2022-08-27T16:55:32.544Z"
   },
   {
    "duration": 18,
    "start_time": "2022-08-27T16:55:32.553Z"
   },
   {
    "duration": 15,
    "start_time": "2022-08-27T16:55:32.572Z"
   },
   {
    "duration": 7,
    "start_time": "2022-08-27T16:55:32.589Z"
   },
   {
    "duration": 9,
    "start_time": "2022-08-27T16:55:32.597Z"
   },
   {
    "duration": 9,
    "start_time": "2022-08-27T16:55:32.608Z"
   },
   {
    "duration": 7,
    "start_time": "2022-08-27T16:55:32.620Z"
   },
   {
    "duration": 106,
    "start_time": "2022-08-27T16:55:32.628Z"
   },
   {
    "duration": 109,
    "start_time": "2022-08-27T16:55:32.736Z"
   },
   {
    "duration": 13,
    "start_time": "2022-08-27T16:55:32.846Z"
   },
   {
    "duration": 6,
    "start_time": "2022-08-27T16:55:32.861Z"
   },
   {
    "duration": 22,
    "start_time": "2022-08-27T16:55:32.868Z"
   },
   {
    "duration": 9,
    "start_time": "2022-08-27T16:55:32.892Z"
   },
   {
    "duration": 50,
    "start_time": "2022-08-27T16:55:32.903Z"
   },
   {
    "duration": 8,
    "start_time": "2022-08-27T16:55:32.954Z"
   },
   {
    "duration": 27,
    "start_time": "2022-08-27T16:55:32.964Z"
   },
   {
    "duration": 7,
    "start_time": "2022-08-27T16:55:32.992Z"
   },
   {
    "duration": 5,
    "start_time": "2022-08-27T16:55:33.000Z"
   },
   {
    "duration": 7,
    "start_time": "2022-08-27T16:55:33.006Z"
   },
   {
    "duration": 4,
    "start_time": "2022-08-27T16:55:33.014Z"
   },
   {
    "duration": 219,
    "start_time": "2022-08-27T16:55:33.019Z"
   },
   {
    "duration": 65,
    "start_time": "2022-08-27T16:55:33.240Z"
   },
   {
    "duration": 287,
    "start_time": "2022-08-27T16:55:33.306Z"
   },
   {
    "duration": 284,
    "start_time": "2022-08-27T16:55:33.594Z"
   },
   {
    "duration": 295,
    "start_time": "2022-08-27T16:55:33.880Z"
   },
   {
    "duration": 237,
    "start_time": "2022-08-27T16:55:34.176Z"
   },
   {
    "duration": 217,
    "start_time": "2022-08-27T16:55:34.415Z"
   },
   {
    "duration": 267,
    "start_time": "2022-08-27T16:55:34.634Z"
   },
   {
    "duration": 315,
    "start_time": "2022-08-27T16:55:34.903Z"
   },
   {
    "duration": 125,
    "start_time": "2022-08-27T16:55:35.220Z"
   },
   {
    "duration": 191,
    "start_time": "2022-08-27T16:55:35.346Z"
   },
   {
    "duration": 174,
    "start_time": "2022-08-27T16:55:35.539Z"
   },
   {
    "duration": 172,
    "start_time": "2022-08-27T16:55:35.715Z"
   },
   {
    "duration": 170,
    "start_time": "2022-08-27T16:55:35.891Z"
   },
   {
    "duration": 219,
    "start_time": "2022-08-27T16:55:36.062Z"
   },
   {
    "duration": 310,
    "start_time": "2022-08-27T16:55:36.286Z"
   },
   {
    "duration": 200,
    "start_time": "2022-08-27T16:55:36.598Z"
   },
   {
    "duration": 124,
    "start_time": "2022-08-27T16:55:36.799Z"
   },
   {
    "duration": 6,
    "start_time": "2022-08-27T16:55:36.925Z"
   },
   {
    "duration": 16,
    "start_time": "2022-08-27T16:55:36.932Z"
   },
   {
    "duration": 195,
    "start_time": "2022-08-27T16:55:36.950Z"
   },
   {
    "duration": 28,
    "start_time": "2022-08-27T16:55:37.146Z"
   },
   {
    "duration": 162,
    "start_time": "2022-08-27T16:55:37.175Z"
   },
   {
    "duration": 5,
    "start_time": "2022-08-27T16:55:37.338Z"
   },
   {
    "duration": 29,
    "start_time": "2022-08-27T16:55:37.344Z"
   },
   {
    "duration": 179,
    "start_time": "2022-08-27T16:55:37.374Z"
   },
   {
    "duration": 6,
    "start_time": "2022-08-27T16:55:37.555Z"
   },
   {
    "duration": 173,
    "start_time": "2022-08-27T16:55:37.562Z"
   },
   {
    "duration": 5,
    "start_time": "2022-08-27T16:55:37.736Z"
   },
   {
    "duration": 159,
    "start_time": "2022-08-27T16:55:37.742Z"
   },
   {
    "duration": 5,
    "start_time": "2022-08-27T16:55:37.903Z"
   },
   {
    "duration": 155,
    "start_time": "2022-08-27T16:55:37.909Z"
   },
   {
    "duration": 159,
    "start_time": "2022-08-27T16:55:38.066Z"
   },
   {
    "duration": 152,
    "start_time": "2022-08-27T16:55:38.226Z"
   },
   {
    "duration": 10,
    "start_time": "2022-08-27T16:55:38.379Z"
   },
   {
    "duration": 218,
    "start_time": "2022-08-27T16:55:38.390Z"
   },
   {
    "duration": 20,
    "start_time": "2022-08-27T16:55:38.609Z"
   },
   {
    "duration": 7,
    "start_time": "2022-08-27T16:55:38.631Z"
   },
   {
    "duration": 9,
    "start_time": "2022-08-27T16:55:38.639Z"
   },
   {
    "duration": 39,
    "start_time": "2022-08-27T16:55:38.650Z"
   },
   {
    "duration": 123,
    "start_time": "2022-08-27T16:55:38.691Z"
   },
   {
    "duration": 7,
    "start_time": "2022-08-27T16:59:59.237Z"
   },
   {
    "duration": 316,
    "start_time": "2022-08-27T17:58:17.385Z"
   },
   {
    "duration": 255,
    "start_time": "2022-08-27T18:01:35.138Z"
   },
   {
    "duration": 263,
    "start_time": "2022-08-27T18:01:44.128Z"
   },
   {
    "duration": 260,
    "start_time": "2022-08-27T18:01:50.529Z"
   },
   {
    "duration": 330,
    "start_time": "2022-08-27T18:01:54.769Z"
   },
   {
    "duration": 1100,
    "start_time": "2022-08-27T18:13:58.174Z"
   },
   {
    "duration": 33,
    "start_time": "2022-08-27T18:13:59.276Z"
   },
   {
    "duration": 15,
    "start_time": "2022-08-27T18:13:59.310Z"
   },
   {
    "duration": 8,
    "start_time": "2022-08-27T18:13:59.327Z"
   },
   {
    "duration": 16,
    "start_time": "2022-08-27T18:13:59.337Z"
   },
   {
    "duration": 256,
    "start_time": "2022-08-27T18:13:59.354Z"
   },
   {
    "duration": 6,
    "start_time": "2022-08-27T18:13:59.612Z"
   },
   {
    "duration": 5,
    "start_time": "2022-08-27T18:13:59.620Z"
   },
   {
    "duration": 12,
    "start_time": "2022-08-27T18:13:59.627Z"
   },
   {
    "duration": 8,
    "start_time": "2022-08-27T18:13:59.641Z"
   },
   {
    "duration": 15,
    "start_time": "2022-08-27T18:13:59.651Z"
   },
   {
    "duration": 7,
    "start_time": "2022-08-27T18:13:59.668Z"
   },
   {
    "duration": 20,
    "start_time": "2022-08-27T18:13:59.676Z"
   },
   {
    "duration": 22,
    "start_time": "2022-08-27T18:13:59.698Z"
   },
   {
    "duration": 112,
    "start_time": "2022-08-27T18:13:59.721Z"
   },
   {
    "duration": 106,
    "start_time": "2022-08-27T18:13:59.834Z"
   },
   {
    "duration": 12,
    "start_time": "2022-08-27T18:13:59.942Z"
   },
   {
    "duration": 2,
    "start_time": "2022-08-27T18:13:59.955Z"
   },
   {
    "duration": 5,
    "start_time": "2022-08-27T18:13:59.959Z"
   },
   {
    "duration": 16,
    "start_time": "2022-08-27T18:13:59.986Z"
   },
   {
    "duration": 71,
    "start_time": "2022-08-27T18:14:00.004Z"
   },
   {
    "duration": 13,
    "start_time": "2022-08-27T18:14:00.076Z"
   },
   {
    "duration": 30,
    "start_time": "2022-08-27T18:14:00.090Z"
   },
   {
    "duration": 12,
    "start_time": "2022-08-27T18:14:00.122Z"
   },
   {
    "duration": 7,
    "start_time": "2022-08-27T18:14:00.136Z"
   },
   {
    "duration": 9,
    "start_time": "2022-08-27T18:14:00.145Z"
   },
   {
    "duration": 11,
    "start_time": "2022-08-27T18:14:00.155Z"
   },
   {
    "duration": 730,
    "start_time": "2022-08-27T18:14:00.170Z"
   },
   {
    "duration": 219,
    "start_time": "2022-08-27T18:14:00.903Z"
   },
   {
    "duration": 695,
    "start_time": "2022-08-27T18:14:01.124Z"
   },
   {
    "duration": 612,
    "start_time": "2022-08-27T18:14:01.820Z"
   },
   {
    "duration": 365,
    "start_time": "2022-08-27T18:14:02.433Z"
   },
   {
    "duration": 236,
    "start_time": "2022-08-27T18:14:02.801Z"
   },
   {
    "duration": 201,
    "start_time": "2022-08-27T18:14:03.038Z"
   },
   {
    "duration": 270,
    "start_time": "2022-08-27T18:14:03.240Z"
   },
   {
    "duration": 317,
    "start_time": "2022-08-27T18:14:03.512Z"
   },
   {
    "duration": 134,
    "start_time": "2022-08-27T18:14:03.831Z"
   },
   {
    "duration": 211,
    "start_time": "2022-08-27T18:14:03.967Z"
   },
   {
    "duration": 228,
    "start_time": "2022-08-27T18:14:04.180Z"
   },
   {
    "duration": 180,
    "start_time": "2022-08-27T18:14:04.409Z"
   },
   {
    "duration": 261,
    "start_time": "2022-08-27T18:14:04.592Z"
   },
   {
    "duration": 294,
    "start_time": "2022-08-27T18:14:04.854Z"
   },
   {
    "duration": 219,
    "start_time": "2022-08-27T18:14:05.150Z"
   },
   {
    "duration": 245,
    "start_time": "2022-08-27T18:14:05.371Z"
   },
   {
    "duration": 212,
    "start_time": "2022-08-27T18:14:05.618Z"
   },
   {
    "duration": 137,
    "start_time": "2022-08-27T18:14:05.832Z"
   },
   {
    "duration": 22,
    "start_time": "2022-08-27T18:14:05.970Z"
   },
   {
    "duration": 25,
    "start_time": "2022-08-27T18:14:05.994Z"
   },
   {
    "duration": 224,
    "start_time": "2022-08-27T18:14:06.022Z"
   },
   {
    "duration": 51,
    "start_time": "2022-08-27T18:14:06.248Z"
   },
   {
    "duration": 230,
    "start_time": "2022-08-27T18:14:06.301Z"
   },
   {
    "duration": 5,
    "start_time": "2022-08-27T18:14:06.533Z"
   },
   {
    "duration": 35,
    "start_time": "2022-08-27T18:14:06.540Z"
   },
   {
    "duration": 214,
    "start_time": "2022-08-27T18:14:06.593Z"
   },
   {
    "duration": 5,
    "start_time": "2022-08-27T18:14:06.809Z"
   },
   {
    "duration": 181,
    "start_time": "2022-08-27T18:14:06.815Z"
   },
   {
    "duration": 6,
    "start_time": "2022-08-27T18:14:06.999Z"
   },
   {
    "duration": 270,
    "start_time": "2022-08-27T18:14:07.007Z"
   },
   {
    "duration": 11,
    "start_time": "2022-08-27T18:14:07.279Z"
   },
   {
    "duration": 154,
    "start_time": "2022-08-27T18:14:07.292Z"
   },
   {
    "duration": 197,
    "start_time": "2022-08-27T18:14:07.448Z"
   },
   {
    "duration": 192,
    "start_time": "2022-08-27T18:14:07.647Z"
   },
   {
    "duration": 5,
    "start_time": "2022-08-27T18:14:07.841Z"
   },
   {
    "duration": 178,
    "start_time": "2022-08-27T18:14:07.847Z"
   },
   {
    "duration": 33,
    "start_time": "2022-08-27T18:14:08.027Z"
   },
   {
    "duration": 7,
    "start_time": "2022-08-27T18:14:08.062Z"
   },
   {
    "duration": 35,
    "start_time": "2022-08-27T18:14:08.071Z"
   },
   {
    "duration": 21,
    "start_time": "2022-08-27T18:14:08.107Z"
   },
   {
    "duration": 129,
    "start_time": "2022-08-27T18:14:08.130Z"
   },
   {
    "duration": 5,
    "start_time": "2022-08-27T18:15:11.100Z"
   },
   {
    "duration": 5,
    "start_time": "2022-08-27T18:15:50.746Z"
   },
   {
    "duration": 6,
    "start_time": "2022-08-27T18:16:05.800Z"
   },
   {
    "duration": 185,
    "start_time": "2022-08-27T18:27:54.069Z"
   },
   {
    "duration": 716,
    "start_time": "2022-08-27T18:33:52.746Z"
   },
   {
    "duration": 32,
    "start_time": "2022-08-27T18:33:53.464Z"
   },
   {
    "duration": 18,
    "start_time": "2022-08-27T18:33:53.498Z"
   },
   {
    "duration": 9,
    "start_time": "2022-08-27T18:33:53.517Z"
   },
   {
    "duration": 4,
    "start_time": "2022-08-27T18:33:53.528Z"
   },
   {
    "duration": 273,
    "start_time": "2022-08-27T18:33:53.534Z"
   },
   {
    "duration": 6,
    "start_time": "2022-08-27T18:33:53.809Z"
   },
   {
    "duration": 8,
    "start_time": "2022-08-27T18:33:53.816Z"
   },
   {
    "duration": 10,
    "start_time": "2022-08-27T18:33:53.826Z"
   },
   {
    "duration": 7,
    "start_time": "2022-08-27T18:33:53.838Z"
   },
   {
    "duration": 8,
    "start_time": "2022-08-27T18:33:53.846Z"
   },
   {
    "duration": 37,
    "start_time": "2022-08-27T18:33:53.856Z"
   },
   {
    "duration": 9,
    "start_time": "2022-08-27T18:33:53.896Z"
   },
   {
    "duration": 7,
    "start_time": "2022-08-27T18:33:53.909Z"
   },
   {
    "duration": 127,
    "start_time": "2022-08-27T18:33:53.918Z"
   },
   {
    "duration": 113,
    "start_time": "2022-08-27T18:33:54.048Z"
   },
   {
    "duration": 13,
    "start_time": "2022-08-27T18:33:54.163Z"
   },
   {
    "duration": 7,
    "start_time": "2022-08-27T18:33:54.187Z"
   },
   {
    "duration": 16,
    "start_time": "2022-08-27T18:33:54.196Z"
   },
   {
    "duration": 9,
    "start_time": "2022-08-27T18:33:54.214Z"
   },
   {
    "duration": 49,
    "start_time": "2022-08-27T18:33:54.224Z"
   },
   {
    "duration": 24,
    "start_time": "2022-08-27T18:33:54.275Z"
   },
   {
    "duration": 9,
    "start_time": "2022-08-27T18:33:54.301Z"
   },
   {
    "duration": 8,
    "start_time": "2022-08-27T18:33:54.311Z"
   },
   {
    "duration": 5,
    "start_time": "2022-08-27T18:33:54.321Z"
   },
   {
    "duration": 8,
    "start_time": "2022-08-27T18:33:54.327Z"
   },
   {
    "duration": 7,
    "start_time": "2022-08-27T18:33:54.336Z"
   },
   {
    "duration": 245,
    "start_time": "2022-08-27T18:33:54.344Z"
   },
   {
    "duration": 62,
    "start_time": "2022-08-27T18:33:54.592Z"
   },
   {
    "duration": 5,
    "start_time": "2022-08-27T18:33:54.656Z"
   },
   {
    "duration": 27,
    "start_time": "2022-08-27T18:33:54.663Z"
   },
   {
    "duration": 319,
    "start_time": "2022-08-27T18:33:54.692Z"
   },
   {
    "duration": 304,
    "start_time": "2022-08-27T18:33:55.012Z"
   },
   {
    "duration": 309,
    "start_time": "2022-08-27T18:33:55.318Z"
   },
   {
    "duration": 230,
    "start_time": "2022-08-27T18:33:55.628Z"
   },
   {
    "duration": 250,
    "start_time": "2022-08-27T18:33:55.860Z"
   },
   {
    "duration": 316,
    "start_time": "2022-08-27T18:33:56.112Z"
   },
   {
    "duration": 371,
    "start_time": "2022-08-27T18:33:56.430Z"
   },
   {
    "duration": 113,
    "start_time": "2022-08-27T18:33:56.803Z"
   },
   {
    "duration": 209,
    "start_time": "2022-08-27T18:33:56.918Z"
   },
   {
    "duration": 190,
    "start_time": "2022-08-27T18:33:57.132Z"
   },
   {
    "duration": 190,
    "start_time": "2022-08-27T18:33:57.324Z"
   },
   {
    "duration": 188,
    "start_time": "2022-08-27T18:33:57.516Z"
   },
   {
    "duration": 366,
    "start_time": "2022-08-27T18:33:57.706Z"
   },
   {
    "duration": 229,
    "start_time": "2022-08-27T18:33:58.074Z"
   },
   {
    "duration": 223,
    "start_time": "2022-08-27T18:33:58.304Z"
   },
   {
    "duration": 219,
    "start_time": "2022-08-27T18:33:58.528Z"
   },
   {
    "duration": 129,
    "start_time": "2022-08-27T18:33:58.749Z"
   },
   {
    "duration": 12,
    "start_time": "2022-08-27T18:33:58.880Z"
   },
   {
    "duration": 31,
    "start_time": "2022-08-27T18:33:58.893Z"
   },
   {
    "duration": 201,
    "start_time": "2022-08-27T18:33:58.926Z"
   },
   {
    "duration": 27,
    "start_time": "2022-08-27T18:33:59.129Z"
   },
   {
    "duration": 178,
    "start_time": "2022-08-27T18:33:59.158Z"
   },
   {
    "duration": 5,
    "start_time": "2022-08-27T18:33:59.337Z"
   },
   {
    "duration": 31,
    "start_time": "2022-08-27T18:33:59.344Z"
   },
   {
    "duration": 181,
    "start_time": "2022-08-27T18:33:59.377Z"
   },
   {
    "duration": 5,
    "start_time": "2022-08-27T18:33:59.559Z"
   },
   {
    "duration": 164,
    "start_time": "2022-08-27T18:33:59.566Z"
   },
   {
    "duration": 4,
    "start_time": "2022-08-27T18:33:59.732Z"
   },
   {
    "duration": 183,
    "start_time": "2022-08-27T18:33:59.738Z"
   },
   {
    "duration": 5,
    "start_time": "2022-08-27T18:33:59.923Z"
   },
   {
    "duration": 237,
    "start_time": "2022-08-27T18:33:59.930Z"
   },
   {
    "duration": 188,
    "start_time": "2022-08-27T18:34:00.168Z"
   },
   {
    "duration": 168,
    "start_time": "2022-08-27T18:34:00.358Z"
   },
   {
    "duration": 5,
    "start_time": "2022-08-27T18:34:00.528Z"
   },
   {
    "duration": 202,
    "start_time": "2022-08-27T18:34:00.534Z"
   },
   {
    "duration": 22,
    "start_time": "2022-08-27T18:34:00.739Z"
   },
   {
    "duration": 28,
    "start_time": "2022-08-27T18:34:00.763Z"
   },
   {
    "duration": 32,
    "start_time": "2022-08-27T18:34:00.796Z"
   },
   {
    "duration": 25,
    "start_time": "2022-08-27T18:34:00.830Z"
   },
   {
    "duration": 158,
    "start_time": "2022-08-27T18:34:00.858Z"
   },
   {
    "duration": 46,
    "start_time": "2022-08-28T10:21:06.611Z"
   },
   {
    "duration": 546,
    "start_time": "2022-08-28T10:21:11.749Z"
   },
   {
    "duration": 182,
    "start_time": "2022-08-28T10:21:12.855Z"
   },
   {
    "duration": 309,
    "start_time": "2022-08-28T10:21:13.445Z"
   },
   {
    "duration": 29,
    "start_time": "2022-08-28T10:21:16.468Z"
   },
   {
    "duration": 1873,
    "start_time": "2022-08-28T10:21:18.952Z"
   },
   {
    "duration": 15,
    "start_time": "2022-08-28T10:22:53.915Z"
   },
   {
    "duration": 10,
    "start_time": "2022-08-28T10:23:56.872Z"
   },
   {
    "duration": 4,
    "start_time": "2022-08-28T10:23:59.200Z"
   },
   {
    "duration": 236,
    "start_time": "2022-08-28T10:24:01.609Z"
   },
   {
    "duration": 6,
    "start_time": "2022-08-28T10:24:04.810Z"
   },
   {
    "duration": 7,
    "start_time": "2022-08-28T10:24:07.164Z"
   },
   {
    "duration": 7,
    "start_time": "2022-08-28T10:24:09.865Z"
   },
   {
    "duration": 4,
    "start_time": "2022-08-28T10:24:16.772Z"
   },
   {
    "duration": 5,
    "start_time": "2022-08-28T10:24:18.180Z"
   },
   {
    "duration": 6,
    "start_time": "2022-08-28T10:24:18.704Z"
   },
   {
    "duration": 15,
    "start_time": "2022-08-28T10:24:27.702Z"
   },
   {
    "duration": 8,
    "start_time": "2022-08-28T10:24:29.141Z"
   },
   {
    "duration": 40,
    "start_time": "2022-08-28T10:25:02.750Z"
   },
   {
    "duration": 22,
    "start_time": "2022-08-28T10:25:08.549Z"
   },
   {
    "duration": 6,
    "start_time": "2022-08-28T10:25:36.262Z"
   },
   {
    "duration": 25,
    "start_time": "2022-08-28T10:26:25.307Z"
   },
   {
    "duration": 5,
    "start_time": "2022-08-28T10:26:29.024Z"
   },
   {
    "duration": 26,
    "start_time": "2022-08-28T10:27:33.496Z"
   },
   {
    "duration": 106,
    "start_time": "2022-08-28T10:30:09.334Z"
   },
   {
    "duration": 101,
    "start_time": "2022-08-28T10:30:11.695Z"
   },
   {
    "duration": 13,
    "start_time": "2022-08-28T10:30:13.958Z"
   },
   {
    "duration": 4,
    "start_time": "2022-08-28T10:30:42.778Z"
   },
   {
    "duration": 14,
    "start_time": "2022-08-28T10:32:23.691Z"
   },
   {
    "duration": 11,
    "start_time": "2022-08-28T10:40:08.910Z"
   },
   {
    "duration": 99,
    "start_time": "2022-08-28T10:40:18.803Z"
   },
   {
    "duration": 195,
    "start_time": "2022-08-28T10:40:31.955Z"
   },
   {
    "duration": 41,
    "start_time": "2022-08-28T10:41:05.727Z"
   },
   {
    "duration": 52,
    "start_time": "2022-08-28T10:41:55.867Z"
   },
   {
    "duration": 50,
    "start_time": "2022-08-28T10:42:23.158Z"
   },
   {
    "duration": 99,
    "start_time": "2022-08-28T10:42:30.098Z"
   },
   {
    "duration": 49,
    "start_time": "2022-08-28T10:42:43.028Z"
   },
   {
    "duration": 38,
    "start_time": "2022-08-28T10:44:31.918Z"
   },
   {
    "duration": 3,
    "start_time": "2022-08-28T10:45:06.392Z"
   },
   {
    "duration": 3,
    "start_time": "2022-08-28T10:45:06.952Z"
   },
   {
    "duration": 88,
    "start_time": "2022-08-28T10:45:07.490Z"
   },
   {
    "duration": 25,
    "start_time": "2022-08-28T10:45:09.865Z"
   },
   {
    "duration": 1859,
    "start_time": "2022-08-28T10:45:11.489Z"
   },
   {
    "duration": 12,
    "start_time": "2022-08-28T10:45:18.921Z"
   },
   {
    "duration": 4,
    "start_time": "2022-08-28T10:45:20.933Z"
   },
   {
    "duration": 272,
    "start_time": "2022-08-28T10:45:28.753Z"
   },
   {
    "duration": 5,
    "start_time": "2022-08-28T10:45:32.185Z"
   },
   {
    "duration": 7,
    "start_time": "2022-08-28T10:45:34.250Z"
   },
   {
    "duration": 7,
    "start_time": "2022-08-28T10:45:36.319Z"
   },
   {
    "duration": 5,
    "start_time": "2022-08-28T10:45:38.281Z"
   },
   {
    "duration": 6,
    "start_time": "2022-08-28T10:45:39.530Z"
   },
   {
    "duration": 6,
    "start_time": "2022-08-28T10:45:40.960Z"
   },
   {
    "duration": 27,
    "start_time": "2022-08-28T10:45:44.621Z"
   },
   {
    "duration": 99,
    "start_time": "2022-08-28T10:45:45.290Z"
   },
   {
    "duration": 99,
    "start_time": "2022-08-28T10:45:46.849Z"
   },
   {
    "duration": 44,
    "start_time": "2022-08-28T10:45:49.538Z"
   },
   {
    "duration": 41,
    "start_time": "2022-08-28T10:46:04.144Z"
   },
   {
    "duration": 7,
    "start_time": "2022-08-28T10:46:27.473Z"
   },
   {
    "duration": 13,
    "start_time": "2022-08-28T10:46:32.518Z"
   },
   {
    "duration": 7,
    "start_time": "2022-08-28T10:48:51.227Z"
   },
   {
    "duration": 6,
    "start_time": "2022-08-28T10:57:08.422Z"
   },
   {
    "duration": 4,
    "start_time": "2022-08-28T10:57:16.640Z"
   },
   {
    "duration": 7,
    "start_time": "2022-08-28T10:57:43.068Z"
   },
   {
    "duration": 3,
    "start_time": "2022-08-28T10:57:45.227Z"
   },
   {
    "duration": 41,
    "start_time": "2022-08-28T10:57:53.730Z"
   },
   {
    "duration": 10,
    "start_time": "2022-08-28T10:58:19.788Z"
   },
   {
    "duration": 9,
    "start_time": "2022-08-28T10:58:30.067Z"
   },
   {
    "duration": 5,
    "start_time": "2022-08-28T10:58:49.778Z"
   },
   {
    "duration": 5,
    "start_time": "2022-08-28T10:59:06.848Z"
   },
   {
    "duration": 10,
    "start_time": "2022-08-28T10:59:26.649Z"
   },
   {
    "duration": 7,
    "start_time": "2022-08-28T10:59:32.063Z"
   },
   {
    "duration": 4,
    "start_time": "2022-08-28T10:59:50.019Z"
   },
   {
    "duration": 4,
    "start_time": "2022-08-28T11:02:31.257Z"
   },
   {
    "duration": 2,
    "start_time": "2022-08-28T11:02:44.329Z"
   },
   {
    "duration": 3,
    "start_time": "2022-08-28T11:02:44.834Z"
   },
   {
    "duration": 89,
    "start_time": "2022-08-28T11:02:45.322Z"
   },
   {
    "duration": 25,
    "start_time": "2022-08-28T11:02:46.538Z"
   },
   {
    "duration": 1923,
    "start_time": "2022-08-28T11:02:47.090Z"
   },
   {
    "duration": 13,
    "start_time": "2022-08-28T11:02:49.015Z"
   },
   {
    "duration": 4,
    "start_time": "2022-08-28T11:02:49.215Z"
   },
   {
    "duration": 221,
    "start_time": "2022-08-28T11:02:49.986Z"
   },
   {
    "duration": 5,
    "start_time": "2022-08-28T11:02:51.366Z"
   },
   {
    "duration": 8,
    "start_time": "2022-08-28T11:02:53.319Z"
   },
   {
    "duration": 8,
    "start_time": "2022-08-28T11:02:54.265Z"
   },
   {
    "duration": 5,
    "start_time": "2022-08-28T11:02:56.643Z"
   },
   {
    "duration": 5,
    "start_time": "2022-08-28T11:02:57.116Z"
   },
   {
    "duration": 6,
    "start_time": "2022-08-28T11:02:57.939Z"
   },
   {
    "duration": 27,
    "start_time": "2022-08-28T11:03:01.322Z"
   },
   {
    "duration": 99,
    "start_time": "2022-08-28T11:03:09.754Z"
   },
   {
    "duration": 98,
    "start_time": "2022-08-28T11:03:11.762Z"
   },
   {
    "duration": 10,
    "start_time": "2022-08-28T11:03:16.867Z"
   },
   {
    "duration": 13,
    "start_time": "2022-08-28T11:03:18.642Z"
   },
   {
    "duration": 3,
    "start_time": "2022-08-28T11:03:21.418Z"
   },
   {
    "duration": 6,
    "start_time": "2022-08-28T11:06:37.754Z"
   },
   {
    "duration": 4,
    "start_time": "2022-08-28T11:06:41.732Z"
   },
   {
    "duration": 3,
    "start_time": "2022-08-28T11:06:48.686Z"
   },
   {
    "duration": 5,
    "start_time": "2022-08-28T11:06:49.147Z"
   },
   {
    "duration": 135,
    "start_time": "2022-08-28T11:06:49.620Z"
   },
   {
    "duration": 40,
    "start_time": "2022-08-28T11:06:51.063Z"
   },
   {
    "duration": 2152,
    "start_time": "2022-08-28T11:06:51.260Z"
   },
   {
    "duration": 25,
    "start_time": "2022-08-28T11:06:53.415Z"
   },
   {
    "duration": 7,
    "start_time": "2022-08-28T11:06:53.442Z"
   },
   {
    "duration": 237,
    "start_time": "2022-08-28T11:06:54.018Z"
   },
   {
    "duration": 6,
    "start_time": "2022-08-28T11:06:56.490Z"
   },
   {
    "duration": 8,
    "start_time": "2022-08-28T11:06:57.553Z"
   },
   {
    "duration": 13,
    "start_time": "2022-08-28T11:06:59.444Z"
   },
   {
    "duration": 6,
    "start_time": "2022-08-28T11:07:00.436Z"
   },
   {
    "duration": 7,
    "start_time": "2022-08-28T11:07:00.876Z"
   },
   {
    "duration": 10,
    "start_time": "2022-08-28T11:07:01.376Z"
   },
   {
    "duration": 37,
    "start_time": "2022-08-28T11:07:05.564Z"
   },
   {
    "duration": 105,
    "start_time": "2022-08-28T11:07:06.660Z"
   },
   {
    "duration": 105,
    "start_time": "2022-08-28T11:07:07.379Z"
   },
   {
    "duration": 11,
    "start_time": "2022-08-28T11:07:10.022Z"
   },
   {
    "duration": 5,
    "start_time": "2022-08-28T11:07:16.167Z"
   },
   {
    "duration": 6,
    "start_time": "2022-08-28T11:07:17.893Z"
   },
   {
    "duration": 4,
    "start_time": "2022-08-28T11:07:19.456Z"
   },
   {
    "duration": 17,
    "start_time": "2022-08-28T11:07:29.373Z"
   },
   {
    "duration": 2,
    "start_time": "2022-08-28T11:07:49.147Z"
   },
   {
    "duration": 3,
    "start_time": "2022-08-28T11:07:49.619Z"
   },
   {
    "duration": 110,
    "start_time": "2022-08-28T11:07:50.078Z"
   },
   {
    "duration": 27,
    "start_time": "2022-08-28T11:07:52.159Z"
   },
   {
    "duration": 9,
    "start_time": "2022-08-28T11:07:55.333Z"
   },
   {
    "duration": 5,
    "start_time": "2022-08-28T11:07:58.245Z"
   },
   {
    "duration": 267,
    "start_time": "2022-08-28T11:07:59.639Z"
   },
   {
    "duration": 6,
    "start_time": "2022-08-28T11:08:01.203Z"
   },
   {
    "duration": 8,
    "start_time": "2022-08-28T11:08:02.563Z"
   },
   {
    "duration": 13,
    "start_time": "2022-08-28T11:08:05.142Z"
   },
   {
    "duration": 5,
    "start_time": "2022-08-28T11:08:06.989Z"
   },
   {
    "duration": 5,
    "start_time": "2022-08-28T11:08:07.458Z"
   },
   {
    "duration": 9,
    "start_time": "2022-08-28T11:08:07.859Z"
   },
   {
    "duration": 28,
    "start_time": "2022-08-28T11:08:10.150Z"
   },
   {
    "duration": 118,
    "start_time": "2022-08-28T11:08:11.694Z"
   },
   {
    "duration": 111,
    "start_time": "2022-08-28T11:08:13.432Z"
   },
   {
    "duration": 10,
    "start_time": "2022-08-28T11:08:15.670Z"
   },
   {
    "duration": 4,
    "start_time": "2022-08-28T11:08:19.870Z"
   },
   {
    "duration": 26,
    "start_time": "2022-08-28T11:08:25.942Z"
   },
   {
    "duration": 15,
    "start_time": "2022-08-28T11:08:32.492Z"
   },
   {
    "duration": 17,
    "start_time": "2022-08-28T11:08:42.002Z"
   },
   {
    "duration": 106,
    "start_time": "2022-08-28T11:09:01.147Z"
   },
   {
    "duration": 16,
    "start_time": "2022-08-28T11:09:07.837Z"
   },
   {
    "duration": 15,
    "start_time": "2022-08-28T11:09:11.629Z"
   },
   {
    "duration": 16,
    "start_time": "2022-08-28T11:09:43.123Z"
   },
   {
    "duration": 2,
    "start_time": "2022-08-28T11:10:46.322Z"
   },
   {
    "duration": 2,
    "start_time": "2022-08-28T11:10:46.874Z"
   },
   {
    "duration": 86,
    "start_time": "2022-08-28T11:10:47.389Z"
   },
   {
    "duration": 25,
    "start_time": "2022-08-28T11:10:48.749Z"
   },
   {
    "duration": 1942,
    "start_time": "2022-08-28T11:10:54.197Z"
   },
   {
    "duration": 10,
    "start_time": "2022-08-28T11:10:56.664Z"
   },
   {
    "duration": 4,
    "start_time": "2022-08-28T11:10:57.528Z"
   },
   {
    "duration": 211,
    "start_time": "2022-08-28T11:10:58.419Z"
   },
   {
    "duration": 5,
    "start_time": "2022-08-28T11:11:02.357Z"
   },
   {
    "duration": 6,
    "start_time": "2022-08-28T11:11:04.862Z"
   },
   {
    "duration": 10,
    "start_time": "2022-08-28T11:11:10.499Z"
   },
   {
    "duration": 5,
    "start_time": "2022-08-28T11:11:13.034Z"
   },
   {
    "duration": 5,
    "start_time": "2022-08-28T11:11:14.422Z"
   },
   {
    "duration": 6,
    "start_time": "2022-08-28T11:11:14.887Z"
   },
   {
    "duration": 26,
    "start_time": "2022-08-28T11:11:17.885Z"
   },
   {
    "duration": 105,
    "start_time": "2022-08-28T11:11:18.543Z"
   },
   {
    "duration": 102,
    "start_time": "2022-08-28T11:11:19.861Z"
   },
   {
    "duration": 9,
    "start_time": "2022-08-28T11:11:23.224Z"
   },
   {
    "duration": 13,
    "start_time": "2022-08-28T11:11:25.121Z"
   },
   {
    "duration": 4,
    "start_time": "2022-08-28T11:11:29.966Z"
   },
   {
    "duration": 45,
    "start_time": "2022-08-28T11:12:46.723Z"
   },
   {
    "duration": 4,
    "start_time": "2022-08-28T11:13:02.673Z"
   },
   {
    "duration": 45,
    "start_time": "2022-08-28T11:13:21.446Z"
   },
   {
    "duration": 10,
    "start_time": "2022-08-28T11:13:41.098Z"
   },
   {
    "duration": 9,
    "start_time": "2022-08-28T11:14:11.342Z"
   },
   {
    "duration": 16,
    "start_time": "2022-08-28T11:14:23.423Z"
   },
   {
    "duration": 15,
    "start_time": "2022-08-28T11:14:36.323Z"
   },
   {
    "duration": 15,
    "start_time": "2022-08-28T11:14:39.371Z"
   },
   {
    "duration": 16,
    "start_time": "2022-08-28T11:14:47.175Z"
   },
   {
    "duration": 11,
    "start_time": "2022-08-28T11:14:51.599Z"
   },
   {
    "duration": 17,
    "start_time": "2022-08-28T11:14:56.595Z"
   },
   {
    "duration": 2,
    "start_time": "2022-08-28T11:15:31.231Z"
   },
   {
    "duration": 3,
    "start_time": "2022-08-28T11:15:31.725Z"
   },
   {
    "duration": 86,
    "start_time": "2022-08-28T11:15:32.156Z"
   },
   {
    "duration": 24,
    "start_time": "2022-08-28T11:15:33.949Z"
   },
   {
    "duration": 10,
    "start_time": "2022-08-28T11:15:37.503Z"
   },
   {
    "duration": 4,
    "start_time": "2022-08-28T11:15:39.475Z"
   },
   {
    "duration": 211,
    "start_time": "2022-08-28T11:15:41.102Z"
   },
   {
    "duration": 5,
    "start_time": "2022-08-28T11:15:43.427Z"
   },
   {
    "duration": 7,
    "start_time": "2022-08-28T11:15:46.172Z"
   },
   {
    "duration": 8,
    "start_time": "2022-08-28T11:15:47.989Z"
   },
   {
    "duration": 5,
    "start_time": "2022-08-28T11:15:49.764Z"
   },
   {
    "duration": 5,
    "start_time": "2022-08-28T11:15:50.381Z"
   },
   {
    "duration": 7,
    "start_time": "2022-08-28T11:15:50.781Z"
   },
   {
    "duration": 28,
    "start_time": "2022-08-28T11:15:53.237Z"
   },
   {
    "duration": 116,
    "start_time": "2022-08-28T11:15:53.802Z"
   },
   {
    "duration": 111,
    "start_time": "2022-08-28T11:15:55.429Z"
   },
   {
    "duration": 9,
    "start_time": "2022-08-28T11:15:56.284Z"
   },
   {
    "duration": 13,
    "start_time": "2022-08-28T11:15:56.993Z"
   },
   {
    "duration": 42,
    "start_time": "2022-08-28T11:15:59.889Z"
   },
   {
    "duration": 10,
    "start_time": "2022-08-28T11:16:43.130Z"
   },
   {
    "duration": 9,
    "start_time": "2022-08-28T11:17:09.474Z"
   },
   {
    "duration": 7,
    "start_time": "2022-08-28T11:17:23.148Z"
   },
   {
    "duration": 12,
    "start_time": "2022-08-28T11:17:28.083Z"
   },
   {
    "duration": 7,
    "start_time": "2022-08-28T11:17:30.872Z"
   },
   {
    "duration": 3,
    "start_time": "2022-08-28T11:17:41.827Z"
   },
   {
    "duration": 3,
    "start_time": "2022-08-28T11:17:42.299Z"
   },
   {
    "duration": 84,
    "start_time": "2022-08-28T11:17:42.693Z"
   },
   {
    "duration": 26,
    "start_time": "2022-08-28T11:17:45.027Z"
   },
   {
    "duration": 10,
    "start_time": "2022-08-28T11:17:48.078Z"
   },
   {
    "duration": 5,
    "start_time": "2022-08-28T11:17:49.576Z"
   },
   {
    "duration": 6,
    "start_time": "2022-08-28T11:17:51.999Z"
   },
   {
    "duration": 7,
    "start_time": "2022-08-28T11:17:54.199Z"
   },
   {
    "duration": 8,
    "start_time": "2022-08-28T11:17:56.660Z"
   },
   {
    "duration": 5,
    "start_time": "2022-08-28T11:17:58.103Z"
   },
   {
    "duration": 5,
    "start_time": "2022-08-28T11:17:59.289Z"
   },
   {
    "duration": 6,
    "start_time": "2022-08-28T11:17:59.768Z"
   },
   {
    "duration": 33,
    "start_time": "2022-08-28T11:18:02.427Z"
   },
   {
    "duration": 99,
    "start_time": "2022-08-28T11:18:05.525Z"
   },
   {
    "duration": 8,
    "start_time": "2022-08-28T11:18:07.377Z"
   },
   {
    "duration": 14,
    "start_time": "2022-08-28T11:18:07.896Z"
   },
   {
    "duration": 11,
    "start_time": "2022-08-28T11:18:11.324Z"
   },
   {
    "duration": 9,
    "start_time": "2022-08-28T11:18:46.457Z"
   },
   {
    "duration": 9,
    "start_time": "2022-08-28T11:19:14.102Z"
   },
   {
    "duration": 41,
    "start_time": "2022-08-28T11:20:07.461Z"
   },
   {
    "duration": 6,
    "start_time": "2022-08-28T11:20:51.529Z"
   },
   {
    "duration": 8,
    "start_time": "2022-08-28T11:21:06.723Z"
   },
   {
    "duration": 5,
    "start_time": "2022-08-28T11:21:43.841Z"
   },
   {
    "duration": 8,
    "start_time": "2022-08-28T11:21:46.825Z"
   },
   {
    "duration": 5,
    "start_time": "2022-08-28T11:21:55.835Z"
   },
   {
    "duration": 7,
    "start_time": "2022-08-28T11:21:58.224Z"
   },
   {
    "duration": 2,
    "start_time": "2022-08-28T11:22:11.649Z"
   },
   {
    "duration": 2,
    "start_time": "2022-08-28T11:22:12.089Z"
   },
   {
    "duration": 86,
    "start_time": "2022-08-28T11:22:12.538Z"
   },
   {
    "duration": 25,
    "start_time": "2022-08-28T11:22:14.290Z"
   },
   {
    "duration": 9,
    "start_time": "2022-08-28T11:22:17.589Z"
   },
   {
    "duration": 4,
    "start_time": "2022-08-28T11:22:25.741Z"
   },
   {
    "duration": 5,
    "start_time": "2022-08-28T11:23:14.763Z"
   },
   {
    "duration": 8,
    "start_time": "2022-08-28T11:23:23.656Z"
   },
   {
    "duration": 4,
    "start_time": "2022-08-28T11:23:33.457Z"
   },
   {
    "duration": 4,
    "start_time": "2022-08-28T11:23:43.265Z"
   },
   {
    "duration": 4,
    "start_time": "2022-08-28T11:23:44.442Z"
   },
   {
    "duration": 4,
    "start_time": "2022-08-28T11:23:45.131Z"
   },
   {
    "duration": 3,
    "start_time": "2022-08-28T11:23:51.656Z"
   },
   {
    "duration": 3,
    "start_time": "2022-08-28T11:23:52.097Z"
   },
   {
    "duration": 93,
    "start_time": "2022-08-28T11:23:52.475Z"
   },
   {
    "duration": 25,
    "start_time": "2022-08-28T11:23:53.991Z"
   },
   {
    "duration": 1988,
    "start_time": "2022-08-28T11:23:55.060Z"
   },
   {
    "duration": 9,
    "start_time": "2022-08-28T11:23:57.507Z"
   },
   {
    "duration": 4,
    "start_time": "2022-08-28T11:23:59.100Z"
   },
   {
    "duration": 5,
    "start_time": "2022-08-28T11:24:14.028Z"
   },
   {
    "duration": 8,
    "start_time": "2022-08-28T11:24:15.597Z"
   },
   {
    "duration": 8,
    "start_time": "2022-08-28T11:24:18.085Z"
   },
   {
    "duration": 5,
    "start_time": "2022-08-28T11:24:20.128Z"
   },
   {
    "duration": 6,
    "start_time": "2022-08-28T11:24:21.476Z"
   },
   {
    "duration": 7,
    "start_time": "2022-08-28T11:24:26.036Z"
   },
   {
    "duration": 27,
    "start_time": "2022-08-28T11:24:28.743Z"
   },
   {
    "duration": 98,
    "start_time": "2022-08-28T11:24:29.904Z"
   },
   {
    "duration": 95,
    "start_time": "2022-08-28T11:24:31.767Z"
   },
   {
    "duration": 9,
    "start_time": "2022-08-28T11:24:35.830Z"
   },
   {
    "duration": 14,
    "start_time": "2022-08-28T11:24:36.340Z"
   },
   {
    "duration": 6,
    "start_time": "2022-08-28T11:24:52.352Z"
   },
   {
    "duration": 3,
    "start_time": "2022-08-28T11:24:53.479Z"
   },
   {
    "duration": 7,
    "start_time": "2022-08-28T11:24:56.413Z"
   },
   {
    "duration": 3,
    "start_time": "2022-08-28T11:25:01.373Z"
   },
   {
    "duration": 10,
    "start_time": "2022-08-28T11:26:22.952Z"
   },
   {
    "duration": 9,
    "start_time": "2022-08-28T11:26:29.932Z"
   },
   {
    "duration": 8,
    "start_time": "2022-08-28T11:26:36.564Z"
   },
   {
    "duration": 2,
    "start_time": "2022-08-28T11:29:12.648Z"
   },
   {
    "duration": 3,
    "start_time": "2022-08-28T11:29:13.095Z"
   },
   {
    "duration": 85,
    "start_time": "2022-08-28T11:29:13.483Z"
   },
   {
    "duration": 24,
    "start_time": "2022-08-28T11:29:15.468Z"
   },
   {
    "duration": 9,
    "start_time": "2022-08-28T11:29:18.667Z"
   },
   {
    "duration": 4,
    "start_time": "2022-08-28T11:29:20.394Z"
   },
   {
    "duration": 228,
    "start_time": "2022-08-28T11:29:22.180Z"
   },
   {
    "duration": 5,
    "start_time": "2022-08-28T11:29:24.697Z"
   },
   {
    "duration": 7,
    "start_time": "2022-08-28T11:29:26.428Z"
   },
   {
    "duration": 8,
    "start_time": "2022-08-28T11:29:28.758Z"
   },
   {
    "duration": 4,
    "start_time": "2022-08-28T11:29:31.307Z"
   },
   {
    "duration": 5,
    "start_time": "2022-08-28T11:29:31.755Z"
   },
   {
    "duration": 7,
    "start_time": "2022-08-28T11:29:32.154Z"
   },
   {
    "duration": 26,
    "start_time": "2022-08-28T11:29:34.528Z"
   },
   {
    "duration": 101,
    "start_time": "2022-08-28T11:29:35.459Z"
   },
   {
    "duration": 113,
    "start_time": "2022-08-28T11:29:36.828Z"
   },
   {
    "duration": 8,
    "start_time": "2022-08-28T11:29:39.364Z"
   },
   {
    "duration": 13,
    "start_time": "2022-08-28T11:29:40.038Z"
   },
   {
    "duration": 7,
    "start_time": "2022-08-28T11:29:43.026Z"
   },
   {
    "duration": 4,
    "start_time": "2022-08-28T11:29:44.486Z"
   },
   {
    "duration": 7,
    "start_time": "2022-08-28T11:29:46.052Z"
   },
   {
    "duration": 5,
    "start_time": "2022-08-28T11:29:48.181Z"
   },
   {
    "duration": 9,
    "start_time": "2022-08-28T11:30:28.456Z"
   },
   {
    "duration": 63,
    "start_time": "2022-08-28T11:30:38.929Z"
   },
   {
    "duration": 8,
    "start_time": "2022-08-28T11:31:51.174Z"
   },
   {
    "duration": 6,
    "start_time": "2022-08-28T11:35:10.069Z"
   },
   {
    "duration": 18,
    "start_time": "2022-08-28T11:35:28.378Z"
   },
   {
    "duration": 5,
    "start_time": "2022-08-28T11:35:44.664Z"
   },
   {
    "duration": 15,
    "start_time": "2022-08-28T11:35:46.763Z"
   },
   {
    "duration": 5,
    "start_time": "2022-08-28T11:35:57.334Z"
   },
   {
    "duration": 15,
    "start_time": "2022-08-28T11:35:59.226Z"
   },
   {
    "duration": 7,
    "start_time": "2022-08-28T11:36:16.756Z"
   },
   {
    "duration": 14,
    "start_time": "2022-08-28T11:36:21.250Z"
   },
   {
    "duration": 3,
    "start_time": "2022-08-28T11:36:27.944Z"
   },
   {
    "duration": 3,
    "start_time": "2022-08-28T11:36:28.448Z"
   },
   {
    "duration": 96,
    "start_time": "2022-08-28T11:36:28.882Z"
   },
   {
    "duration": 26,
    "start_time": "2022-08-28T11:36:30.465Z"
   },
   {
    "duration": 13,
    "start_time": "2022-08-28T11:36:33.568Z"
   },
   {
    "duration": 4,
    "start_time": "2022-08-28T11:36:35.377Z"
   },
   {
    "duration": 225,
    "start_time": "2022-08-28T11:36:36.563Z"
   },
   {
    "duration": 5,
    "start_time": "2022-08-28T11:36:39.441Z"
   },
   {
    "duration": 6,
    "start_time": "2022-08-28T11:36:41.765Z"
   },
   {
    "duration": 7,
    "start_time": "2022-08-28T11:36:43.482Z"
   },
   {
    "duration": 5,
    "start_time": "2022-08-28T11:36:45.042Z"
   },
   {
    "duration": 6,
    "start_time": "2022-08-28T11:36:45.793Z"
   },
   {
    "duration": 6,
    "start_time": "2022-08-28T11:36:46.238Z"
   },
   {
    "duration": 27,
    "start_time": "2022-08-28T11:36:48.297Z"
   },
   {
    "duration": 140,
    "start_time": "2022-08-28T11:36:48.909Z"
   },
   {
    "duration": 102,
    "start_time": "2022-08-28T11:36:50.465Z"
   },
   {
    "duration": 8,
    "start_time": "2022-08-28T11:36:52.330Z"
   },
   {
    "duration": 14,
    "start_time": "2022-08-28T11:36:52.975Z"
   },
   {
    "duration": 6,
    "start_time": "2022-08-28T11:36:54.897Z"
   },
   {
    "duration": 5,
    "start_time": "2022-08-28T11:36:55.689Z"
   },
   {
    "duration": 7,
    "start_time": "2022-08-28T11:36:57.093Z"
   },
   {
    "duration": 4,
    "start_time": "2022-08-28T11:36:59.854Z"
   },
   {
    "duration": 9,
    "start_time": "2022-08-28T11:37:02.301Z"
   },
   {
    "duration": 7,
    "start_time": "2022-08-28T11:37:05.046Z"
   },
   {
    "duration": 19,
    "start_time": "2022-08-28T11:37:06.877Z"
   },
   {
    "duration": 11,
    "start_time": "2022-08-28T11:37:15.533Z"
   },
   {
    "duration": 6,
    "start_time": "2022-08-28T11:38:26.626Z"
   },
   {
    "duration": 14,
    "start_time": "2022-08-28T11:38:28.739Z"
   },
   {
    "duration": 15,
    "start_time": "2022-08-28T11:38:32.949Z"
   },
   {
    "duration": 4,
    "start_time": "2022-08-28T11:38:38.932Z"
   },
   {
    "duration": 3,
    "start_time": "2022-08-28T11:38:39.352Z"
   },
   {
    "duration": 86,
    "start_time": "2022-08-28T11:38:39.728Z"
   },
   {
    "duration": 25,
    "start_time": "2022-08-28T11:38:41.999Z"
   },
   {
    "duration": 1827,
    "start_time": "2022-08-28T11:38:43.109Z"
   },
   {
    "duration": 9,
    "start_time": "2022-08-28T11:38:45.045Z"
   },
   {
    "duration": 437,
    "start_time": "2022-08-28T11:38:46.955Z"
   },
   {
    "duration": 4,
    "start_time": "2022-08-28T11:38:50.039Z"
   },
   {
    "duration": 6,
    "start_time": "2022-08-28T11:38:51.630Z"
   },
   {
    "duration": 8,
    "start_time": "2022-08-28T11:38:53.188Z"
   },
   {
    "duration": 5,
    "start_time": "2022-08-28T11:38:55.132Z"
   },
   {
    "duration": 6,
    "start_time": "2022-08-28T11:38:55.548Z"
   },
   {
    "duration": 7,
    "start_time": "2022-08-28T11:38:55.956Z"
   },
   {
    "duration": 27,
    "start_time": "2022-08-28T11:38:58.055Z"
   },
   {
    "duration": 101,
    "start_time": "2022-08-28T11:38:58.629Z"
   },
   {
    "duration": 107,
    "start_time": "2022-08-28T11:39:01.038Z"
   },
   {
    "duration": 8,
    "start_time": "2022-08-28T11:39:04.197Z"
   },
   {
    "duration": 14,
    "start_time": "2022-08-28T11:39:05.469Z"
   },
   {
    "duration": 6,
    "start_time": "2022-08-28T11:39:08.227Z"
   },
   {
    "duration": 5,
    "start_time": "2022-08-28T11:39:09.021Z"
   },
   {
    "duration": 7,
    "start_time": "2022-08-28T11:39:09.749Z"
   },
   {
    "duration": 5,
    "start_time": "2022-08-28T11:39:11.532Z"
   },
   {
    "duration": 9,
    "start_time": "2022-08-28T11:39:14.365Z"
   },
   {
    "duration": 6,
    "start_time": "2022-08-28T11:39:18.038Z"
   },
   {
    "duration": 14,
    "start_time": "2022-08-28T11:39:22.374Z"
   },
   {
    "duration": 13,
    "start_time": "2022-08-28T11:39:27.970Z"
   },
   {
    "duration": 5,
    "start_time": "2022-08-28T11:39:33.482Z"
   },
   {
    "duration": 14,
    "start_time": "2022-08-28T11:39:35.978Z"
   },
   {
    "duration": 3,
    "start_time": "2022-08-28T11:40:07.405Z"
   },
   {
    "duration": 3,
    "start_time": "2022-08-28T11:40:07.836Z"
   },
   {
    "duration": 100,
    "start_time": "2022-08-28T11:40:08.201Z"
   },
   {
    "duration": 43,
    "start_time": "2022-08-28T11:40:10.140Z"
   },
   {
    "duration": 1904,
    "start_time": "2022-08-28T11:40:10.676Z"
   },
   {
    "duration": 9,
    "start_time": "2022-08-28T11:40:17.628Z"
   },
   {
    "duration": 5,
    "start_time": "2022-08-28T11:40:19.564Z"
   },
   {
    "duration": 224,
    "start_time": "2022-08-28T11:40:20.156Z"
   },
   {
    "duration": 5,
    "start_time": "2022-08-28T11:40:23.075Z"
   },
   {
    "duration": 7,
    "start_time": "2022-08-28T11:40:25.092Z"
   },
   {
    "duration": 8,
    "start_time": "2022-08-28T11:40:26.979Z"
   },
   {
    "duration": 5,
    "start_time": "2022-08-28T11:40:28.028Z"
   },
   {
    "duration": 7,
    "start_time": "2022-08-28T11:40:29.054Z"
   },
   {
    "duration": 7,
    "start_time": "2022-08-28T11:40:29.487Z"
   },
   {
    "duration": 27,
    "start_time": "2022-08-28T11:40:33.687Z"
   },
   {
    "duration": 109,
    "start_time": "2022-08-28T11:40:34.261Z"
   },
   {
    "duration": 96,
    "start_time": "2022-08-28T11:40:36.661Z"
   },
   {
    "duration": 10,
    "start_time": "2022-08-28T11:40:39.088Z"
   },
   {
    "duration": 13,
    "start_time": "2022-08-28T11:40:40.102Z"
   },
   {
    "duration": 6,
    "start_time": "2022-08-28T11:40:42.441Z"
   },
   {
    "duration": 4,
    "start_time": "2022-08-28T11:40:43.598Z"
   },
   {
    "duration": 7,
    "start_time": "2022-08-28T11:40:44.426Z"
   },
   {
    "duration": 5,
    "start_time": "2022-08-28T11:40:47.073Z"
   },
   {
    "duration": 9,
    "start_time": "2022-08-28T11:40:50.086Z"
   },
   {
    "duration": 7,
    "start_time": "2022-08-28T11:40:52.573Z"
   },
   {
    "duration": 18,
    "start_time": "2022-08-28T11:40:55.737Z"
   },
   {
    "duration": 10,
    "start_time": "2022-08-28T11:45:45.930Z"
   },
   {
    "duration": 6,
    "start_time": "2022-08-28T11:51:37.036Z"
   },
   {
    "duration": 6,
    "start_time": "2022-08-28T11:52:54.857Z"
   },
   {
    "duration": 10,
    "start_time": "2022-08-28T11:53:02.489Z"
   },
   {
    "duration": 6,
    "start_time": "2022-08-28T11:53:26.616Z"
   },
   {
    "duration": 2,
    "start_time": "2022-08-28T11:53:33.408Z"
   },
   {
    "duration": 3,
    "start_time": "2022-08-28T11:53:33.948Z"
   },
   {
    "duration": 83,
    "start_time": "2022-08-28T11:53:34.364Z"
   },
   {
    "duration": 26,
    "start_time": "2022-08-28T11:53:36.499Z"
   },
   {
    "duration": 9,
    "start_time": "2022-08-28T11:53:39.949Z"
   },
   {
    "duration": 4,
    "start_time": "2022-08-28T11:53:42.338Z"
   },
   {
    "duration": 218,
    "start_time": "2022-08-28T11:53:42.909Z"
   },
   {
    "duration": 4,
    "start_time": "2022-08-28T11:53:46.037Z"
   },
   {
    "duration": 9,
    "start_time": "2022-08-28T11:53:47.781Z"
   },
   {
    "duration": 7,
    "start_time": "2022-08-28T11:53:49.636Z"
   },
   {
    "duration": 5,
    "start_time": "2022-08-28T11:53:51.280Z"
   },
   {
    "duration": 5,
    "start_time": "2022-08-28T11:53:52.341Z"
   },
   {
    "duration": 7,
    "start_time": "2022-08-28T11:53:52.845Z"
   },
   {
    "duration": 48,
    "start_time": "2022-08-28T11:53:55.635Z"
   },
   {
    "duration": 104,
    "start_time": "2022-08-28T11:53:55.981Z"
   },
   {
    "duration": 102,
    "start_time": "2022-08-28T11:53:57.605Z"
   },
   {
    "duration": 9,
    "start_time": "2022-08-28T11:53:59.437Z"
   },
   {
    "duration": 14,
    "start_time": "2022-08-28T11:53:59.998Z"
   },
   {
    "duration": 7,
    "start_time": "2022-08-28T11:54:02.078Z"
   },
   {
    "duration": 4,
    "start_time": "2022-08-28T11:54:05.582Z"
   },
   {
    "duration": 9,
    "start_time": "2022-08-28T11:54:08.335Z"
   },
   {
    "duration": 4,
    "start_time": "2022-08-28T11:54:10.742Z"
   },
   {
    "duration": 8,
    "start_time": "2022-08-28T11:54:30.390Z"
   },
   {
    "duration": 7,
    "start_time": "2022-08-28T11:54:32.854Z"
   },
   {
    "duration": 18,
    "start_time": "2022-08-28T11:54:34.711Z"
   },
   {
    "duration": 6,
    "start_time": "2022-08-28T11:57:40.535Z"
   },
   {
    "duration": 17,
    "start_time": "2022-08-28T11:57:43.448Z"
   },
   {
    "duration": 4,
    "start_time": "2022-08-28T11:58:16.847Z"
   },
   {
    "duration": 12,
    "start_time": "2022-08-28T11:58:49.135Z"
   },
   {
    "duration": 10,
    "start_time": "2022-08-28T11:59:39.714Z"
   },
   {
    "duration": 18,
    "start_time": "2022-08-28T12:00:16.367Z"
   },
   {
    "duration": 8,
    "start_time": "2022-08-28T12:00:19.986Z"
   },
   {
    "duration": 8,
    "start_time": "2022-08-28T12:00:24.697Z"
   },
   {
    "duration": 6,
    "start_time": "2022-08-28T12:00:34.739Z"
   },
   {
    "duration": 2,
    "start_time": "2022-08-28T12:00:35.234Z"
   },
   {
    "duration": 103,
    "start_time": "2022-08-28T12:00:35.652Z"
   },
   {
    "duration": 31,
    "start_time": "2022-08-28T12:00:37.239Z"
   },
   {
    "duration": 10,
    "start_time": "2022-08-28T12:00:40.810Z"
   },
   {
    "duration": 5,
    "start_time": "2022-08-28T12:00:42.755Z"
   },
   {
    "duration": 236,
    "start_time": "2022-08-28T12:00:44.050Z"
   },
   {
    "duration": 6,
    "start_time": "2022-08-28T12:00:46.882Z"
   },
   {
    "duration": 8,
    "start_time": "2022-08-28T12:00:48.594Z"
   },
   {
    "duration": 9,
    "start_time": "2022-08-28T12:00:50.182Z"
   },
   {
    "duration": 5,
    "start_time": "2022-08-28T12:00:51.462Z"
   },
   {
    "duration": 6,
    "start_time": "2022-08-28T12:00:51.927Z"
   },
   {
    "duration": 9,
    "start_time": "2022-08-28T12:00:52.341Z"
   },
   {
    "duration": 35,
    "start_time": "2022-08-28T12:00:54.439Z"
   },
   {
    "duration": 108,
    "start_time": "2022-08-28T12:00:54.801Z"
   },
   {
    "duration": 102,
    "start_time": "2022-08-28T12:00:56.551Z"
   },
   {
    "duration": 10,
    "start_time": "2022-08-28T12:00:58.010Z"
   },
   {
    "duration": 16,
    "start_time": "2022-08-28T12:00:59.072Z"
   },
   {
    "duration": 7,
    "start_time": "2022-08-28T12:01:01.859Z"
   },
   {
    "duration": 13,
    "start_time": "2022-08-28T12:01:02.337Z"
   },
   {
    "duration": 4,
    "start_time": "2022-08-28T12:01:03.979Z"
   },
   {
    "duration": 7,
    "start_time": "2022-08-28T12:01:07.060Z"
   },
   {
    "duration": 10,
    "start_time": "2022-08-28T12:01:12.535Z"
   },
   {
    "duration": 7,
    "start_time": "2022-08-28T12:01:13.738Z"
   },
   {
    "duration": 18,
    "start_time": "2022-08-28T12:01:18.007Z"
   },
   {
    "duration": 8,
    "start_time": "2022-08-28T12:01:22.591Z"
   },
   {
    "duration": 6,
    "start_time": "2022-08-28T12:02:01.838Z"
   },
   {
    "duration": 4,
    "start_time": "2022-08-28T12:02:02.972Z"
   },
   {
    "duration": 17,
    "start_time": "2022-08-28T12:02:04.970Z"
   },
   {
    "duration": 8,
    "start_time": "2022-08-28T12:02:09.392Z"
   },
   {
    "duration": 10,
    "start_time": "2022-08-28T12:07:05.489Z"
   },
   {
    "duration": 5,
    "start_time": "2022-08-28T12:08:34.497Z"
   },
   {
    "duration": 4,
    "start_time": "2022-08-28T12:08:36.236Z"
   },
   {
    "duration": 6,
    "start_time": "2022-08-28T12:08:54.653Z"
   },
   {
    "duration": 3,
    "start_time": "2022-08-28T12:08:57.572Z"
   },
   {
    "duration": 13,
    "start_time": "2022-08-28T12:09:15.837Z"
   },
   {
    "duration": 4,
    "start_time": "2022-08-28T12:09:17.258Z"
   },
   {
    "duration": 2,
    "start_time": "2022-08-28T12:09:24.092Z"
   },
   {
    "duration": 2,
    "start_time": "2022-08-28T12:09:24.516Z"
   },
   {
    "duration": 93,
    "start_time": "2022-08-28T12:09:24.861Z"
   },
   {
    "duration": 29,
    "start_time": "2022-08-28T12:09:26.937Z"
   },
   {
    "duration": 9,
    "start_time": "2022-08-28T12:09:30.614Z"
   },
   {
    "duration": 4,
    "start_time": "2022-08-28T12:09:32.951Z"
   },
   {
    "duration": 246,
    "start_time": "2022-08-28T12:09:34.240Z"
   },
   {
    "duration": 10,
    "start_time": "2022-08-28T12:09:36.536Z"
   },
   {
    "duration": 15,
    "start_time": "2022-08-28T12:09:38.337Z"
   },
   {
    "duration": 8,
    "start_time": "2022-08-28T12:09:40.075Z"
   },
   {
    "duration": 5,
    "start_time": "2022-08-28T12:09:41.420Z"
   },
   {
    "duration": 6,
    "start_time": "2022-08-28T12:09:42.686Z"
   },
   {
    "duration": 8,
    "start_time": "2022-08-28T12:09:43.971Z"
   },
   {
    "duration": 27,
    "start_time": "2022-08-28T12:09:46.571Z"
   },
   {
    "duration": 109,
    "start_time": "2022-08-28T12:09:47.296Z"
   },
   {
    "duration": 128,
    "start_time": "2022-08-28T12:09:48.638Z"
   },
   {
    "duration": 8,
    "start_time": "2022-08-28T12:09:50.204Z"
   },
   {
    "duration": 15,
    "start_time": "2022-08-28T12:09:51.309Z"
   },
   {
    "duration": 13,
    "start_time": "2022-08-28T12:09:53.736Z"
   },
   {
    "duration": 8,
    "start_time": "2022-08-28T12:09:55.247Z"
   },
   {
    "duration": 4,
    "start_time": "2022-08-28T12:09:57.069Z"
   },
   {
    "duration": 8,
    "start_time": "2022-08-28T12:10:00.691Z"
   },
   {
    "duration": 7,
    "start_time": "2022-08-28T12:10:02.764Z"
   },
   {
    "duration": 7,
    "start_time": "2022-08-28T12:10:03.476Z"
   },
   {
    "duration": 7,
    "start_time": "2022-08-28T12:10:04.174Z"
   },
   {
    "duration": 4,
    "start_time": "2022-08-28T12:10:04.780Z"
   },
   {
    "duration": 25,
    "start_time": "2022-08-28T12:10:42.936Z"
   },
   {
    "duration": 9,
    "start_time": "2022-08-28T12:11:54.510Z"
   },
   {
    "duration": 7,
    "start_time": "2022-08-28T12:11:55.350Z"
   },
   {
    "duration": 6,
    "start_time": "2022-08-28T12:11:55.985Z"
   },
   {
    "duration": 4,
    "start_time": "2022-08-28T12:11:56.463Z"
   },
   {
    "duration": 20,
    "start_time": "2022-08-28T12:11:59.062Z"
   },
   {
    "duration": 11,
    "start_time": "2022-08-28T12:12:06.206Z"
   },
   {
    "duration": 11,
    "start_time": "2022-08-28T12:13:23.496Z"
   },
   {
    "duration": 4,
    "start_time": "2022-08-28T12:14:25.548Z"
   },
   {
    "duration": 8,
    "start_time": "2022-08-28T12:14:26.079Z"
   },
   {
    "duration": 7,
    "start_time": "2022-08-28T12:14:26.587Z"
   },
   {
    "duration": 6,
    "start_time": "2022-08-28T12:14:27.091Z"
   },
   {
    "duration": 3,
    "start_time": "2022-08-28T12:14:28.010Z"
   },
   {
    "duration": 517,
    "start_time": "2022-08-28T12:14:32.658Z"
   },
   {
    "duration": 5,
    "start_time": "2022-08-28T12:14:33.177Z"
   },
   {
    "duration": 6,
    "start_time": "2022-08-28T12:14:34.994Z"
   },
   {
    "duration": 5,
    "start_time": "2022-08-28T12:14:38.036Z"
   },
   {
    "duration": 328,
    "start_time": "2022-08-28T12:14:58.637Z"
   },
   {
    "duration": 295,
    "start_time": "2022-08-28T12:15:01.358Z"
   },
   {
    "duration": 296,
    "start_time": "2022-08-28T12:15:07.657Z"
   },
   {
    "duration": 223,
    "start_time": "2022-08-28T12:15:16.835Z"
   },
   {
    "duration": 164,
    "start_time": "2022-08-28T12:15:19.456Z"
   },
   {
    "duration": 235,
    "start_time": "2022-08-28T12:15:21.393Z"
   },
   {
    "duration": 132,
    "start_time": "2022-08-28T12:15:23.488Z"
   },
   {
    "duration": 193,
    "start_time": "2022-08-28T12:15:26.788Z"
   },
   {
    "duration": 198,
    "start_time": "2022-08-28T12:15:32.988Z"
   },
   {
    "duration": 173,
    "start_time": "2022-08-28T12:15:35.801Z"
   },
   {
    "duration": 196,
    "start_time": "2022-08-28T12:15:54.135Z"
   },
   {
    "duration": 275,
    "start_time": "2022-08-28T12:15:57.801Z"
   },
   {
    "duration": 215,
    "start_time": "2022-08-28T12:16:06.569Z"
   },
   {
    "duration": 193,
    "start_time": "2022-08-28T12:16:28.274Z"
   },
   {
    "duration": 124,
    "start_time": "2022-08-28T12:16:40.566Z"
   },
   {
    "duration": 9,
    "start_time": "2022-08-28T12:16:45.439Z"
   },
   {
    "duration": 202,
    "start_time": "2022-08-28T12:17:24.312Z"
   },
   {
    "duration": 45,
    "start_time": "2022-08-28T12:17:27.812Z"
   },
   {
    "duration": 179,
    "start_time": "2022-08-28T12:17:31.834Z"
   },
   {
    "duration": 6,
    "start_time": "2022-08-28T12:17:38.400Z"
   },
   {
    "duration": 37,
    "start_time": "2022-08-28T12:17:40.347Z"
   },
   {
    "duration": 188,
    "start_time": "2022-08-28T12:17:42.240Z"
   },
   {
    "duration": 5,
    "start_time": "2022-08-28T12:17:46.584Z"
   },
   {
    "duration": 182,
    "start_time": "2022-08-28T12:17:48.356Z"
   },
   {
    "duration": 5,
    "start_time": "2022-08-28T12:17:50.642Z"
   },
   {
    "duration": 178,
    "start_time": "2022-08-28T12:17:52.712Z"
   },
   {
    "duration": 6,
    "start_time": "2022-08-28T12:17:55.041Z"
   },
   {
    "duration": 147,
    "start_time": "2022-08-28T12:17:56.678Z"
   },
   {
    "duration": 178,
    "start_time": "2022-08-28T12:17:59.460Z"
   },
   {
    "duration": 186,
    "start_time": "2022-08-28T12:18:01.953Z"
   },
   {
    "duration": 6,
    "start_time": "2022-08-28T12:18:04.486Z"
   },
   {
    "duration": 157,
    "start_time": "2022-08-28T12:18:06.285Z"
   },
   {
    "duration": 32,
    "start_time": "2022-08-28T12:18:18.637Z"
   },
   {
    "duration": 8,
    "start_time": "2022-08-28T12:18:21.235Z"
   },
   {
    "duration": 8,
    "start_time": "2022-08-28T12:18:23.135Z"
   },
   {
    "duration": 16,
    "start_time": "2022-08-28T12:18:49.137Z"
   },
   {
    "duration": 137,
    "start_time": "2022-08-28T12:19:06.412Z"
   },
   {
    "duration": 10,
    "start_time": "2022-08-28T12:27:31.028Z"
   },
   {
    "duration": 141,
    "start_time": "2022-08-28T12:28:28.628Z"
   },
   {
    "duration": 8,
    "start_time": "2022-08-28T12:28:32.051Z"
   },
   {
    "duration": 10,
    "start_time": "2022-08-28T12:28:47.501Z"
   },
   {
    "duration": 234,
    "start_time": "2022-08-28T12:28:49.989Z"
   },
   {
    "duration": 563,
    "start_time": "2022-08-28T12:29:02.773Z"
   },
   {
    "duration": 218,
    "start_time": "2022-08-28T12:30:01.251Z"
   },
   {
    "duration": 10,
    "start_time": "2022-08-28T12:30:12.123Z"
   },
   {
    "duration": 211,
    "start_time": "2022-08-28T12:30:14.812Z"
   },
   {
    "duration": 191,
    "start_time": "2022-08-28T12:39:10.454Z"
   },
   {
    "duration": 183,
    "start_time": "2022-08-28T12:39:31.087Z"
   },
   {
    "duration": 1119,
    "start_time": "2022-08-28T12:41:11.052Z"
   },
   {
    "duration": 3,
    "start_time": "2022-08-28T12:41:30.777Z"
   },
   {
    "duration": 3,
    "start_time": "2022-08-28T12:41:31.328Z"
   },
   {
    "duration": 118,
    "start_time": "2022-08-28T12:41:31.885Z"
   },
   {
    "duration": 27,
    "start_time": "2022-08-28T12:41:34.784Z"
   },
   {
    "duration": 2205,
    "start_time": "2022-08-28T12:41:35.951Z"
   },
   {
    "duration": 9,
    "start_time": "2022-08-28T12:41:38.404Z"
   },
   {
    "duration": 5,
    "start_time": "2022-08-28T12:41:39.592Z"
   },
   {
    "duration": 241,
    "start_time": "2022-08-28T12:41:40.759Z"
   },
   {
    "duration": 11,
    "start_time": "2022-08-28T12:41:42.163Z"
   },
   {
    "duration": 7,
    "start_time": "2022-08-28T12:41:43.116Z"
   },
   {
    "duration": 14,
    "start_time": "2022-08-28T12:41:43.992Z"
   },
   {
    "duration": 5,
    "start_time": "2022-08-28T12:41:44.864Z"
   },
   {
    "duration": 6,
    "start_time": "2022-08-28T12:41:45.296Z"
   },
   {
    "duration": 7,
    "start_time": "2022-08-28T12:41:45.624Z"
   },
   {
    "duration": 40,
    "start_time": "2022-08-28T12:41:46.418Z"
   },
   {
    "duration": 119,
    "start_time": "2022-08-28T12:41:46.689Z"
   },
   {
    "duration": 109,
    "start_time": "2022-08-28T12:41:46.908Z"
   },
   {
    "duration": 8,
    "start_time": "2022-08-28T12:41:47.161Z"
   },
   {
    "duration": 16,
    "start_time": "2022-08-28T12:41:47.384Z"
   },
   {
    "duration": 9,
    "start_time": "2022-08-28T12:41:47.633Z"
   },
   {
    "duration": 5,
    "start_time": "2022-08-28T12:41:47.859Z"
   },
   {
    "duration": 5,
    "start_time": "2022-08-28T12:41:48.407Z"
   },
   {
    "duration": 10,
    "start_time": "2022-08-28T12:41:49.178Z"
   },
   {
    "duration": 6,
    "start_time": "2022-08-28T12:41:49.490Z"
   },
   {
    "duration": 6,
    "start_time": "2022-08-28T12:41:49.752Z"
   },
   {
    "duration": 8,
    "start_time": "2022-08-28T12:41:49.970Z"
   },
   {
    "duration": 5,
    "start_time": "2022-08-28T12:41:50.211Z"
   },
   {
    "duration": 20,
    "start_time": "2022-08-28T12:41:50.676Z"
   },
   {
    "duration": 12,
    "start_time": "2022-08-28T12:41:51.151Z"
   },
   {
    "duration": 8,
    "start_time": "2022-08-28T12:41:51.370Z"
   },
   {
    "duration": 5,
    "start_time": "2022-08-28T12:41:51.864Z"
   },
   {
    "duration": 7,
    "start_time": "2022-08-28T12:41:52.124Z"
   },
   {
    "duration": 6,
    "start_time": "2022-08-28T12:41:52.364Z"
   },
   {
    "duration": 6,
    "start_time": "2022-08-28T12:41:52.585Z"
   },
   {
    "duration": 5,
    "start_time": "2022-08-28T12:41:52.832Z"
   },
   {
    "duration": 304,
    "start_time": "2022-08-28T12:41:53.432Z"
   },
   {
    "duration": 6,
    "start_time": "2022-08-28T12:41:53.753Z"
   },
   {
    "duration": 6,
    "start_time": "2022-08-28T12:41:54.394Z"
   },
   {
    "duration": 5,
    "start_time": "2022-08-28T12:41:54.721Z"
   },
   {
    "duration": 311,
    "start_time": "2022-08-28T12:41:57.285Z"
   },
   {
    "duration": 334,
    "start_time": "2022-08-28T12:41:58.521Z"
   },
   {
    "duration": 322,
    "start_time": "2022-08-28T12:41:59.985Z"
   },
   {
    "duration": 664,
    "start_time": "2022-08-28T12:42:03.256Z"
   },
   {
    "duration": 232,
    "start_time": "2022-08-28T12:42:03.922Z"
   },
   {
    "duration": 306,
    "start_time": "2022-08-28T12:42:04.157Z"
   },
   {
    "duration": 385,
    "start_time": "2022-08-28T12:42:04.465Z"
   },
   {
    "duration": 165,
    "start_time": "2022-08-28T12:42:04.853Z"
   },
   {
    "duration": 286,
    "start_time": "2022-08-28T12:42:05.021Z"
   },
   {
    "duration": 234,
    "start_time": "2022-08-28T12:42:05.309Z"
   },
   {
    "duration": 232,
    "start_time": "2022-08-28T12:42:05.702Z"
   },
   {
    "duration": 195,
    "start_time": "2022-08-28T12:42:06.465Z"
   },
   {
    "duration": 352,
    "start_time": "2022-08-28T12:42:07.152Z"
   },
   {
    "duration": 253,
    "start_time": "2022-08-28T12:42:07.507Z"
   },
   {
    "duration": 306,
    "start_time": "2022-08-28T12:42:08.051Z"
   },
   {
    "duration": 210,
    "start_time": "2022-08-28T12:42:12.270Z"
   },
   {
    "duration": 149,
    "start_time": "2022-08-28T12:42:13.423Z"
   },
   {
    "duration": 7,
    "start_time": "2022-08-28T12:42:13.782Z"
   },
   {
    "duration": 12,
    "start_time": "2022-08-28T12:42:14.470Z"
   },
   {
    "duration": 242,
    "start_time": "2022-08-28T12:42:16.088Z"
   },
   {
    "duration": 38,
    "start_time": "2022-08-28T12:42:18.315Z"
   },
   {
    "duration": 232,
    "start_time": "2022-08-28T12:42:18.981Z"
   },
   {
    "duration": 4,
    "start_time": "2022-08-28T12:42:21.118Z"
   },
   {
    "duration": 32,
    "start_time": "2022-08-28T12:42:26.818Z"
   },
   {
    "duration": 205,
    "start_time": "2022-08-28T12:42:28.328Z"
   },
   {
    "duration": 5,
    "start_time": "2022-08-28T12:42:28.669Z"
   },
   {
    "duration": 184,
    "start_time": "2022-08-28T12:42:29.457Z"
   },
   {
    "duration": 5,
    "start_time": "2022-08-28T12:42:29.894Z"
   },
   {
    "duration": 205,
    "start_time": "2022-08-28T12:42:30.951Z"
   },
   {
    "duration": 5,
    "start_time": "2022-08-28T12:42:31.453Z"
   },
   {
    "duration": 154,
    "start_time": "2022-08-28T12:42:32.408Z"
   },
   {
    "duration": 212,
    "start_time": "2022-08-28T12:42:33.437Z"
   },
   {
    "duration": 220,
    "start_time": "2022-08-28T12:42:34.336Z"
   },
   {
    "duration": 6,
    "start_time": "2022-08-28T12:42:34.734Z"
   },
   {
    "duration": 194,
    "start_time": "2022-08-28T12:42:36.109Z"
   },
   {
    "duration": 22,
    "start_time": "2022-08-28T12:42:37.855Z"
   },
   {
    "duration": 9,
    "start_time": "2022-08-28T12:42:38.285Z"
   },
   {
    "duration": 8,
    "start_time": "2022-08-28T12:42:38.699Z"
   },
   {
    "duration": 808,
    "start_time": "2022-08-28T12:42:39.190Z"
   },
   {
    "duration": 204,
    "start_time": "2022-08-28T12:42:48.887Z"
   },
   {
    "duration": 755,
    "start_time": "2022-08-28T12:43:41.444Z"
   },
   {
    "duration": 123,
    "start_time": "2022-08-28T12:43:55.850Z"
   },
   {
    "duration": 142,
    "start_time": "2022-08-28T12:45:46.267Z"
   },
   {
    "duration": 132,
    "start_time": "2022-08-28T12:46:23.177Z"
   },
   {
    "duration": 388,
    "start_time": "2022-08-28T12:46:37.055Z"
   },
   {
    "duration": 228,
    "start_time": "2022-08-28T12:46:48.760Z"
   },
   {
    "duration": 180,
    "start_time": "2022-08-28T12:46:57.601Z"
   },
   {
    "duration": 141,
    "start_time": "2022-08-28T12:47:06.294Z"
   },
   {
    "duration": 11,
    "start_time": "2022-08-28T12:47:15.057Z"
   },
   {
    "duration": 22,
    "start_time": "2022-08-28T12:48:39.778Z"
   },
   {
    "duration": 9,
    "start_time": "2022-08-28T12:48:48.371Z"
   },
   {
    "duration": 8,
    "start_time": "2022-08-28T12:48:49.723Z"
   },
   {
    "duration": 162,
    "start_time": "2022-08-28T12:48:50.836Z"
   },
   {
    "duration": 51,
    "start_time": "2022-08-28T12:50:08.578Z"
   },
   {
    "duration": 46,
    "start_time": "2022-08-28T12:50:25.386Z"
   },
   {
    "duration": 61,
    "start_time": "2022-08-28T12:50:30.451Z"
   },
   {
    "duration": 17,
    "start_time": "2022-08-28T12:51:12.238Z"
   },
   {
    "duration": 15,
    "start_time": "2022-08-28T12:51:25.666Z"
   },
   {
    "duration": 15,
    "start_time": "2022-08-28T12:51:31.585Z"
   },
   {
    "duration": 140,
    "start_time": "2022-08-28T12:51:41.477Z"
   },
   {
    "duration": 3,
    "start_time": "2022-08-28T12:53:08.734Z"
   },
   {
    "duration": 2,
    "start_time": "2022-08-28T12:53:09.226Z"
   },
   {
    "duration": 94,
    "start_time": "2022-08-28T12:53:09.639Z"
   },
   {
    "duration": 27,
    "start_time": "2022-08-28T12:53:12.062Z"
   },
   {
    "duration": 2169,
    "start_time": "2022-08-28T12:53:13.058Z"
   },
   {
    "duration": 10,
    "start_time": "2022-08-28T12:53:15.626Z"
   },
   {
    "duration": 4,
    "start_time": "2022-08-28T12:53:16.677Z"
   },
   {
    "duration": 222,
    "start_time": "2022-08-28T12:53:17.845Z"
   },
   {
    "duration": 5,
    "start_time": "2022-08-28T12:53:20.541Z"
   },
   {
    "duration": 8,
    "start_time": "2022-08-28T12:53:22.937Z"
   },
   {
    "duration": 8,
    "start_time": "2022-08-28T12:53:25.078Z"
   },
   {
    "duration": 4,
    "start_time": "2022-08-28T12:53:26.384Z"
   },
   {
    "duration": 8,
    "start_time": "2022-08-28T12:53:26.870Z"
   },
   {
    "duration": 7,
    "start_time": "2022-08-28T12:53:28.038Z"
   },
   {
    "duration": 30,
    "start_time": "2022-08-28T12:53:30.226Z"
   },
   {
    "duration": 112,
    "start_time": "2022-08-28T12:53:31.237Z"
   },
   {
    "duration": 107,
    "start_time": "2022-08-28T12:53:36.002Z"
   },
   {
    "duration": 8,
    "start_time": "2022-08-28T12:53:37.927Z"
   },
   {
    "duration": 13,
    "start_time": "2022-08-28T12:53:39.146Z"
   },
   {
    "duration": 6,
    "start_time": "2022-08-28T12:53:40.970Z"
   },
   {
    "duration": 6,
    "start_time": "2022-08-28T12:53:41.474Z"
   },
   {
    "duration": 4,
    "start_time": "2022-08-28T12:53:43.198Z"
   },
   {
    "duration": 8,
    "start_time": "2022-08-28T12:53:46.089Z"
   },
   {
    "duration": 8,
    "start_time": "2022-08-28T12:53:48.458Z"
   },
   {
    "duration": 9,
    "start_time": "2022-08-28T12:53:49.052Z"
   },
   {
    "duration": 7,
    "start_time": "2022-08-28T12:53:49.525Z"
   },
   {
    "duration": 3,
    "start_time": "2022-08-28T12:53:49.969Z"
   },
   {
    "duration": 19,
    "start_time": "2022-08-28T12:53:52.128Z"
   },
   {
    "duration": 10,
    "start_time": "2022-08-28T12:53:54.640Z"
   },
   {
    "duration": 9,
    "start_time": "2022-08-28T12:53:57.630Z"
   },
   {
    "duration": 4,
    "start_time": "2022-08-28T12:54:01.751Z"
   },
   {
    "duration": 9,
    "start_time": "2022-08-28T12:54:02.364Z"
   },
   {
    "duration": 8,
    "start_time": "2022-08-28T12:54:03.027Z"
   },
   {
    "duration": 6,
    "start_time": "2022-08-28T12:54:03.496Z"
   },
   {
    "duration": 3,
    "start_time": "2022-08-28T12:54:05.403Z"
   },
   {
    "duration": 289,
    "start_time": "2022-08-28T12:54:08.130Z"
   },
   {
    "duration": 6,
    "start_time": "2022-08-28T12:54:11.891Z"
   },
   {
    "duration": 7,
    "start_time": "2022-08-28T12:54:14.362Z"
   },
   {
    "duration": 6,
    "start_time": "2022-08-28T12:54:16.483Z"
   },
   {
    "duration": 99,
    "start_time": "2022-08-28T12:54:53.905Z"
   },
   {
    "duration": 6,
    "start_time": "2022-08-28T12:54:55.793Z"
   },
   {
    "duration": 6,
    "start_time": "2022-08-28T12:54:58.060Z"
   },
   {
    "duration": 4,
    "start_time": "2022-08-28T12:55:06.797Z"
   },
   {
    "duration": 6,
    "start_time": "2022-08-28T12:55:08.559Z"
   },
   {
    "duration": 5,
    "start_time": "2022-08-28T12:55:10.992Z"
   },
   {
    "duration": 309,
    "start_time": "2022-08-28T12:55:13.775Z"
   },
   {
    "duration": 320,
    "start_time": "2022-08-28T12:55:20.090Z"
   },
   {
    "duration": 354,
    "start_time": "2022-08-28T12:55:26.833Z"
   },
   {
    "duration": 294,
    "start_time": "2022-08-28T12:57:01.191Z"
   },
   {
    "duration": 311,
    "start_time": "2022-08-28T12:57:30.601Z"
   },
   {
    "duration": 298,
    "start_time": "2022-08-28T12:57:50.537Z"
   },
   {
    "duration": 317,
    "start_time": "2022-08-28T12:57:58.596Z"
   },
   {
    "duration": 228,
    "start_time": "2022-08-28T12:58:07.132Z"
   },
   {
    "duration": 652,
    "start_time": "2022-08-28T13:21:56.201Z"
   },
   {
    "duration": 237,
    "start_time": "2022-08-28T13:22:17.094Z"
   },
   {
    "duration": 230,
    "start_time": "2022-08-28T13:22:32.839Z"
   },
   {
    "duration": 112,
    "start_time": "2022-08-28T13:22:48.320Z"
   },
   {
    "duration": 69,
    "start_time": "2022-08-28T13:22:53.798Z"
   },
   {
    "duration": 2,
    "start_time": "2022-08-28T13:23:03.031Z"
   },
   {
    "duration": 3,
    "start_time": "2022-08-28T13:23:03.489Z"
   },
   {
    "duration": 84,
    "start_time": "2022-08-28T13:23:03.922Z"
   },
   {
    "duration": 24,
    "start_time": "2022-08-28T13:23:04.838Z"
   },
   {
    "duration": 1809,
    "start_time": "2022-08-28T13:23:05.298Z"
   },
   {
    "duration": 10,
    "start_time": "2022-08-28T13:23:07.108Z"
   },
   {
    "duration": 18,
    "start_time": "2022-08-28T13:23:07.120Z"
   },
   {
    "duration": 222,
    "start_time": "2022-08-28T13:23:07.401Z"
   },
   {
    "duration": 5,
    "start_time": "2022-08-28T13:23:08.202Z"
   },
   {
    "duration": 8,
    "start_time": "2022-08-28T13:23:09.047Z"
   },
   {
    "duration": 8,
    "start_time": "2022-08-28T13:23:09.906Z"
   },
   {
    "duration": 5,
    "start_time": "2022-08-28T13:23:10.731Z"
   },
   {
    "duration": 5,
    "start_time": "2022-08-28T13:23:11.042Z"
   },
   {
    "duration": 6,
    "start_time": "2022-08-28T13:23:11.402Z"
   },
   {
    "duration": 25,
    "start_time": "2022-08-28T13:23:12.354Z"
   },
   {
    "duration": 99,
    "start_time": "2022-08-28T13:23:12.682Z"
   },
   {
    "duration": 95,
    "start_time": "2022-08-28T13:23:12.985Z"
   },
   {
    "duration": 8,
    "start_time": "2022-08-28T13:23:13.299Z"
   },
   {
    "duration": 12,
    "start_time": "2022-08-28T13:23:13.601Z"
   },
   {
    "duration": 7,
    "start_time": "2022-08-28T13:23:13.923Z"
   },
   {
    "duration": 7,
    "start_time": "2022-08-28T13:23:14.288Z"
   },
   {
    "duration": 4,
    "start_time": "2022-08-28T13:23:15.681Z"
   },
   {
    "duration": 9,
    "start_time": "2022-08-28T13:23:16.850Z"
   },
   {
    "duration": 8,
    "start_time": "2022-08-28T13:23:17.338Z"
   },
   {
    "duration": 7,
    "start_time": "2022-08-28T13:23:17.795Z"
   },
   {
    "duration": 6,
    "start_time": "2022-08-28T13:23:18.339Z"
   },
   {
    "duration": 4,
    "start_time": "2022-08-28T13:23:18.789Z"
   },
   {
    "duration": 19,
    "start_time": "2022-08-28T13:23:19.679Z"
   },
   {
    "duration": 10,
    "start_time": "2022-08-28T13:23:21.081Z"
   },
   {
    "duration": 8,
    "start_time": "2022-08-28T13:23:21.564Z"
   },
   {
    "duration": 4,
    "start_time": "2022-08-28T13:23:22.714Z"
   },
   {
    "duration": 6,
    "start_time": "2022-08-28T13:23:23.298Z"
   },
   {
    "duration": 6,
    "start_time": "2022-08-28T13:23:23.754Z"
   },
   {
    "duration": 6,
    "start_time": "2022-08-28T13:23:24.138Z"
   },
   {
    "duration": 4,
    "start_time": "2022-08-28T13:23:24.537Z"
   },
   {
    "duration": 268,
    "start_time": "2022-08-28T13:23:25.513Z"
   },
   {
    "duration": 6,
    "start_time": "2022-08-28T13:23:25.993Z"
   },
   {
    "duration": 5,
    "start_time": "2022-08-28T13:23:26.910Z"
   },
   {
    "duration": 5,
    "start_time": "2022-08-28T13:23:27.426Z"
   },
   {
    "duration": 276,
    "start_time": "2022-08-28T13:23:29.369Z"
   },
   {
    "duration": 288,
    "start_time": "2022-08-28T13:23:32.397Z"
   },
   {
    "duration": 288,
    "start_time": "2022-08-28T13:23:35.114Z"
   },
   {
    "duration": 233,
    "start_time": "2022-08-28T13:23:37.826Z"
   },
   {
    "duration": 218,
    "start_time": "2022-08-28T13:23:40.259Z"
   },
   {
    "duration": 102,
    "start_time": "2022-08-28T13:23:42.374Z"
   },
   {
    "duration": 208,
    "start_time": "2022-08-28T13:24:01.464Z"
   },
   {
    "duration": 212,
    "start_time": "2022-08-28T13:24:13.792Z"
   },
   {
    "duration": 204,
    "start_time": "2022-08-28T13:24:20.741Z"
   },
   {
    "duration": 217,
    "start_time": "2022-08-28T13:24:33.269Z"
   },
   {
    "duration": 687,
    "start_time": "2022-08-28T13:24:42.072Z"
   },
   {
    "duration": 155,
    "start_time": "2022-08-28T13:24:46.506Z"
   },
   {
    "duration": 197,
    "start_time": "2022-08-28T13:24:57.231Z"
   },
   {
    "duration": 207,
    "start_time": "2022-08-28T13:25:13.198Z"
   },
   {
    "duration": 178,
    "start_time": "2022-08-28T13:25:26.962Z"
   },
   {
    "duration": 203,
    "start_time": "2022-08-28T13:26:35.635Z"
   },
   {
    "duration": 175,
    "start_time": "2022-08-28T13:26:57.959Z"
   },
   {
    "duration": 175,
    "start_time": "2022-08-28T13:29:36.801Z"
   },
   {
    "duration": 246,
    "start_time": "2022-08-28T13:29:45.384Z"
   },
   {
    "duration": 265,
    "start_time": "2022-08-28T13:30:13.425Z"
   },
   {
    "duration": 188,
    "start_time": "2022-08-28T13:30:54.358Z"
   },
   {
    "duration": 193,
    "start_time": "2022-08-28T13:31:46.536Z"
   },
   {
    "duration": 173,
    "start_time": "2022-08-28T13:34:24.439Z"
   },
   {
    "duration": 162,
    "start_time": "2022-08-28T13:34:47.239Z"
   },
   {
    "duration": 180,
    "start_time": "2022-08-28T13:36:56.959Z"
   },
   {
    "duration": 200,
    "start_time": "2022-08-28T13:38:56.370Z"
   },
   {
    "duration": 7,
    "start_time": "2022-08-28T13:39:37.338Z"
   },
   {
    "duration": 12,
    "start_time": "2022-08-28T13:39:40.120Z"
   },
   {
    "duration": 206,
    "start_time": "2022-08-28T13:40:00.192Z"
   },
   {
    "duration": 29,
    "start_time": "2022-08-28T13:41:20.843Z"
   },
   {
    "duration": 24,
    "start_time": "2022-08-28T13:46:04.392Z"
   },
   {
    "duration": 9,
    "start_time": "2022-08-28T13:46:06.563Z"
   },
   {
    "duration": 8,
    "start_time": "2022-08-28T13:46:08.114Z"
   },
   {
    "duration": 138,
    "start_time": "2022-08-28T13:46:09.794Z"
   },
   {
    "duration": 15,
    "start_time": "2022-08-28T13:46:18.165Z"
   },
   {
    "duration": 144,
    "start_time": "2022-08-28T13:46:59.636Z"
   },
   {
    "duration": 140,
    "start_time": "2022-08-28T13:47:22.329Z"
   },
   {
    "duration": 159,
    "start_time": "2022-08-28T13:50:38.503Z"
   },
   {
    "duration": 167,
    "start_time": "2022-08-28T13:50:53.883Z"
   },
   {
    "duration": 5,
    "start_time": "2022-08-28T13:51:31.084Z"
   },
   {
    "duration": 6,
    "start_time": "2022-08-28T13:51:41.429Z"
   },
   {
    "duration": 8,
    "start_time": "2022-08-28T13:51:43.940Z"
   },
   {
    "duration": 186,
    "start_time": "2022-08-28T17:06:12.440Z"
   },
   {
    "duration": 183,
    "start_time": "2022-08-28T17:06:35.929Z"
   },
   {
    "duration": 77,
    "start_time": "2022-08-28T17:07:45.271Z"
   },
   {
    "duration": 168,
    "start_time": "2022-08-28T17:07:53.248Z"
   },
   {
    "duration": 57,
    "start_time": "2022-08-28T17:09:04.317Z"
   },
   {
    "duration": 9,
    "start_time": "2022-08-28T17:09:14.814Z"
   },
   {
    "duration": 138,
    "start_time": "2022-08-28T17:09:39.373Z"
   },
   {
    "duration": 144,
    "start_time": "2022-08-28T17:10:52.982Z"
   },
   {
    "duration": 151,
    "start_time": "2022-08-28T17:11:02.273Z"
   },
   {
    "duration": 182,
    "start_time": "2022-08-28T17:12:46.583Z"
   },
   {
    "duration": 176,
    "start_time": "2022-08-28T17:12:54.447Z"
   },
   {
    "duration": 154,
    "start_time": "2022-08-28T17:13:18.984Z"
   },
   {
    "duration": 182,
    "start_time": "2022-08-28T17:15:04.734Z"
   },
   {
    "duration": 193,
    "start_time": "2022-08-28T17:15:29.636Z"
   },
   {
    "duration": 175,
    "start_time": "2022-08-28T17:15:42.930Z"
   },
   {
    "duration": 179,
    "start_time": "2022-08-28T17:16:03.017Z"
   },
   {
    "duration": 184,
    "start_time": "2022-08-28T17:16:15.720Z"
   },
   {
    "duration": 13,
    "start_time": "2022-08-28T17:25:05.227Z"
   },
   {
    "duration": 5,
    "start_time": "2022-08-28T17:25:05.885Z"
   },
   {
    "duration": 202,
    "start_time": "2022-08-28T17:25:07.842Z"
   },
   {
    "duration": 24,
    "start_time": "2022-08-28T17:32:49.666Z"
   },
   {
    "duration": 7,
    "start_time": "2022-08-28T17:33:21.041Z"
   },
   {
    "duration": 6,
    "start_time": "2022-08-28T17:33:39.063Z"
   },
   {
    "duration": 4,
    "start_time": "2022-08-28T17:35:02.857Z"
   },
   {
    "duration": 8,
    "start_time": "2022-08-28T17:35:04.729Z"
   },
   {
    "duration": 5,
    "start_time": "2022-08-28T17:35:11.786Z"
   },
   {
    "duration": 7,
    "start_time": "2022-08-28T17:35:14.223Z"
   },
   {
    "duration": 154,
    "start_time": "2022-08-28T17:35:31.642Z"
   },
   {
    "duration": 129,
    "start_time": "2022-08-28T17:35:40.812Z"
   },
   {
    "duration": 4,
    "start_time": "2022-08-28T17:35:50.087Z"
   },
   {
    "duration": 153,
    "start_time": "2022-08-28T17:35:53.661Z"
   },
   {
    "duration": 141,
    "start_time": "2022-08-28T17:36:01.285Z"
   },
   {
    "duration": 15,
    "start_time": "2022-08-28T17:36:12.671Z"
   },
   {
    "duration": 19,
    "start_time": "2022-08-28T17:38:49.588Z"
   },
   {
    "duration": 21,
    "start_time": "2022-08-28T17:39:12.412Z"
   },
   {
    "duration": 19,
    "start_time": "2022-08-28T17:39:20.075Z"
   },
   {
    "duration": 24,
    "start_time": "2022-08-28T17:39:35.479Z"
   },
   {
    "duration": 25,
    "start_time": "2022-08-28T17:39:46.607Z"
   },
   {
    "duration": 16,
    "start_time": "2022-08-28T17:40:00.017Z"
   },
   {
    "duration": 15,
    "start_time": "2022-08-28T17:40:14.947Z"
   },
   {
    "duration": 14,
    "start_time": "2022-08-28T17:40:24.984Z"
   },
   {
    "duration": 14,
    "start_time": "2022-08-28T17:40:34.085Z"
   },
   {
    "duration": 430,
    "start_time": "2022-08-29T13:45:42.722Z"
   },
   {
    "duration": 202,
    "start_time": "2022-08-29T13:45:43.155Z"
   },
   {
    "duration": 93,
    "start_time": "2022-08-29T13:45:43.358Z"
   },
   {
    "duration": 30,
    "start_time": "2022-08-29T13:45:43.453Z"
   },
   {
    "duration": 3095,
    "start_time": "2022-08-29T13:45:43.486Z"
   },
   {
    "duration": 21,
    "start_time": "2022-08-29T13:45:46.583Z"
   },
   {
    "duration": 4,
    "start_time": "2022-08-29T13:45:46.606Z"
   },
   {
    "duration": 250,
    "start_time": "2022-08-29T13:45:46.612Z"
   },
   {
    "duration": 5,
    "start_time": "2022-08-29T13:45:46.864Z"
   },
   {
    "duration": 34,
    "start_time": "2022-08-29T13:45:46.871Z"
   },
   {
    "duration": 27,
    "start_time": "2022-08-29T13:45:46.906Z"
   },
   {
    "duration": 8,
    "start_time": "2022-08-29T13:45:46.934Z"
   },
   {
    "duration": 20,
    "start_time": "2022-08-29T13:45:46.943Z"
   },
   {
    "duration": 10,
    "start_time": "2022-08-29T13:45:46.967Z"
   },
   {
    "duration": 31,
    "start_time": "2022-08-29T13:45:46.979Z"
   },
   {
    "duration": 122,
    "start_time": "2022-08-29T13:45:47.012Z"
   },
   {
    "duration": 124,
    "start_time": "2022-08-29T13:45:47.136Z"
   },
   {
    "duration": 8,
    "start_time": "2022-08-29T13:45:47.262Z"
   },
   {
    "duration": 55,
    "start_time": "2022-08-29T13:45:47.271Z"
   },
   {
    "duration": 25,
    "start_time": "2022-08-29T13:45:47.329Z"
   },
   {
    "duration": 32,
    "start_time": "2022-08-29T13:45:47.356Z"
   },
   {
    "duration": 40,
    "start_time": "2022-08-29T13:45:47.390Z"
   },
   {
    "duration": 46,
    "start_time": "2022-08-29T13:45:47.432Z"
   },
   {
    "duration": 31,
    "start_time": "2022-08-29T13:45:47.480Z"
   },
   {
    "duration": 218,
    "start_time": "2022-08-29T13:45:47.514Z"
   },
   {
    "duration": 7,
    "start_time": "2022-08-29T13:45:47.733Z"
   },
   {
    "duration": 23,
    "start_time": "2022-08-29T13:45:47.742Z"
   },
   {
    "duration": 35,
    "start_time": "2022-08-29T13:45:47.766Z"
   },
   {
    "duration": 30,
    "start_time": "2022-08-29T13:45:47.803Z"
   },
   {
    "duration": 78,
    "start_time": "2022-08-29T13:45:47.835Z"
   },
   {
    "duration": 11,
    "start_time": "2022-08-29T13:45:47.915Z"
   },
   {
    "duration": 30,
    "start_time": "2022-08-29T13:45:47.928Z"
   },
   {
    "duration": 27,
    "start_time": "2022-08-29T13:45:47.959Z"
   },
   {
    "duration": 19,
    "start_time": "2022-08-29T13:45:47.988Z"
   },
   {
    "duration": 38,
    "start_time": "2022-08-29T13:45:48.008Z"
   },
   {
    "duration": 37,
    "start_time": "2022-08-29T13:45:48.048Z"
   },
   {
    "duration": 22,
    "start_time": "2022-08-29T13:45:48.087Z"
   },
   {
    "duration": 395,
    "start_time": "2022-08-29T13:45:48.110Z"
   },
   {
    "duration": 4,
    "start_time": "2022-08-29T13:45:48.507Z"
   },
   {
    "duration": 55,
    "start_time": "2022-08-29T13:45:48.513Z"
   },
   {
    "duration": 45,
    "start_time": "2022-08-29T13:45:48.573Z"
   },
   {
    "duration": 402,
    "start_time": "2022-08-29T13:45:48.620Z"
   },
   {
    "duration": 346,
    "start_time": "2022-08-29T13:45:49.024Z"
   },
   {
    "duration": 315,
    "start_time": "2022-08-29T13:45:49.372Z"
   },
   {
    "duration": 266,
    "start_time": "2022-08-29T13:45:49.688Z"
   },
   {
    "duration": 224,
    "start_time": "2022-08-29T13:45:49.956Z"
   },
   {
    "duration": 335,
    "start_time": "2022-08-29T13:45:50.181Z"
   },
   {
    "duration": 335,
    "start_time": "2022-08-29T13:45:50.518Z"
   },
   {
    "duration": 135,
    "start_time": "2022-08-29T13:45:50.855Z"
   },
   {
    "duration": 214,
    "start_time": "2022-08-29T13:45:50.992Z"
   },
   {
    "duration": 231,
    "start_time": "2022-08-29T13:45:51.207Z"
   },
   {
    "duration": 220,
    "start_time": "2022-08-29T13:45:51.440Z"
   },
   {
    "duration": 214,
    "start_time": "2022-08-29T13:45:51.661Z"
   },
   {
    "duration": 295,
    "start_time": "2022-08-29T13:45:51.877Z"
   },
   {
    "duration": 232,
    "start_time": "2022-08-29T13:45:52.174Z"
   },
   {
    "duration": 333,
    "start_time": "2022-08-29T13:45:52.408Z"
   },
   {
    "duration": 220,
    "start_time": "2022-08-29T13:45:52.743Z"
   },
   {
    "duration": 140,
    "start_time": "2022-08-29T13:45:52.965Z"
   },
   {
    "duration": 7,
    "start_time": "2022-08-29T13:45:53.106Z"
   },
   {
    "duration": 11,
    "start_time": "2022-08-29T13:45:53.114Z"
   },
   {
    "duration": 221,
    "start_time": "2022-08-29T13:45:53.127Z"
   },
   {
    "duration": 30,
    "start_time": "2022-08-29T13:45:53.350Z"
   },
   {
    "duration": 209,
    "start_time": "2022-08-29T13:45:53.381Z"
   },
   {
    "duration": 12,
    "start_time": "2022-08-29T13:45:53.592Z"
   },
   {
    "duration": 30,
    "start_time": "2022-08-29T13:45:53.605Z"
   },
   {
    "duration": 202,
    "start_time": "2022-08-29T13:45:53.637Z"
   },
   {
    "duration": 6,
    "start_time": "2022-08-29T13:45:53.841Z"
   },
   {
    "duration": 203,
    "start_time": "2022-08-29T13:45:53.849Z"
   },
   {
    "duration": 5,
    "start_time": "2022-08-29T13:45:54.054Z"
   },
   {
    "duration": 209,
    "start_time": "2022-08-29T13:45:54.060Z"
   },
   {
    "duration": 4,
    "start_time": "2022-08-29T13:45:54.271Z"
   },
   {
    "duration": 175,
    "start_time": "2022-08-29T13:45:54.277Z"
   },
   {
    "duration": 201,
    "start_time": "2022-08-29T13:45:54.454Z"
   },
   {
    "duration": 206,
    "start_time": "2022-08-29T13:45:54.657Z"
   },
   {
    "duration": 4,
    "start_time": "2022-08-29T13:45:54.865Z"
   },
   {
    "duration": 176,
    "start_time": "2022-08-29T13:45:54.870Z"
   },
   {
    "duration": 24,
    "start_time": "2022-08-29T13:45:55.048Z"
   },
   {
    "duration": 7,
    "start_time": "2022-08-29T13:45:55.073Z"
   },
   {
    "duration": 26,
    "start_time": "2022-08-29T13:45:55.082Z"
   },
   {
    "duration": 251,
    "start_time": "2022-08-29T13:45:55.109Z"
   },
   {
    "duration": 15,
    "start_time": "2022-08-29T13:45:55.361Z"
   },
   {
    "duration": 161,
    "start_time": "2022-08-29T13:45:55.377Z"
   },
   {
    "duration": 455,
    "start_time": "2022-08-29T13:52:20.772Z"
   },
   {
    "duration": 83,
    "start_time": "2022-08-29T13:52:52.287Z"
   },
   {
    "duration": 8,
    "start_time": "2022-08-29T13:52:58.165Z"
   },
   {
    "duration": 16,
    "start_time": "2022-08-29T14:08:01.515Z"
   },
   {
    "duration": 14,
    "start_time": "2022-08-29T14:08:13.145Z"
   },
   {
    "duration": 148,
    "start_time": "2022-08-29T14:08:14.681Z"
   },
   {
    "duration": 483,
    "start_time": "2022-08-29T14:09:49.859Z"
   },
   {
    "duration": 44,
    "start_time": "2022-08-29T14:09:51.436Z"
   },
   {
    "duration": 9359,
    "start_time": "2022-08-29T14:09:55.629Z"
   },
   {
    "duration": 434,
    "start_time": "2022-08-29T14:10:04.990Z"
   },
   {
    "duration": 471,
    "start_time": "2022-08-29T14:14:44.732Z"
   },
   {
    "duration": 222,
    "start_time": "2022-08-29T14:14:45.205Z"
   },
   {
    "duration": 100,
    "start_time": "2022-08-29T14:14:45.429Z"
   },
   {
    "duration": 32,
    "start_time": "2022-08-29T14:14:45.532Z"
   },
   {
    "duration": 2131,
    "start_time": "2022-08-29T14:14:45.566Z"
   },
   {
    "duration": 10,
    "start_time": "2022-08-29T14:14:47.702Z"
   },
   {
    "duration": 8,
    "start_time": "2022-08-29T14:14:47.713Z"
   },
   {
    "duration": 281,
    "start_time": "2022-08-29T14:14:47.722Z"
   },
   {
    "duration": 6,
    "start_time": "2022-08-29T14:14:48.004Z"
   },
   {
    "duration": 12,
    "start_time": "2022-08-29T14:14:48.014Z"
   },
   {
    "duration": 8,
    "start_time": "2022-08-29T14:14:48.028Z"
   },
   {
    "duration": 10,
    "start_time": "2022-08-29T14:14:48.037Z"
   },
   {
    "duration": 12,
    "start_time": "2022-08-29T14:14:48.049Z"
   },
   {
    "duration": 10,
    "start_time": "2022-08-29T14:14:48.062Z"
   },
   {
    "duration": 53,
    "start_time": "2022-08-29T14:14:48.073Z"
   },
   {
    "duration": 8,
    "start_time": "2022-08-29T14:14:48.128Z"
   },
   {
    "duration": 135,
    "start_time": "2022-08-29T14:14:48.137Z"
   },
   {
    "duration": 136,
    "start_time": "2022-08-29T14:14:48.273Z"
   },
   {
    "duration": 11,
    "start_time": "2022-08-29T14:14:48.411Z"
   },
   {
    "duration": 49,
    "start_time": "2022-08-29T14:14:48.425Z"
   },
   {
    "duration": 20,
    "start_time": "2022-08-29T14:14:48.476Z"
   },
   {
    "duration": 26,
    "start_time": "2022-08-29T14:14:48.498Z"
   },
   {
    "duration": 23,
    "start_time": "2022-08-29T14:14:48.525Z"
   },
   {
    "duration": 38,
    "start_time": "2022-08-29T14:14:48.550Z"
   },
   {
    "duration": 22,
    "start_time": "2022-08-29T14:14:48.589Z"
   },
   {
    "duration": 229,
    "start_time": "2022-08-29T14:14:48.613Z"
   },
   {
    "duration": 7,
    "start_time": "2022-08-29T14:14:48.844Z"
   },
   {
    "duration": 42,
    "start_time": "2022-08-29T14:14:48.856Z"
   },
   {
    "duration": 32,
    "start_time": "2022-08-29T14:14:48.900Z"
   },
   {
    "duration": 37,
    "start_time": "2022-08-29T14:14:48.934Z"
   },
   {
    "duration": 94,
    "start_time": "2022-08-29T14:14:48.973Z"
   },
   {
    "duration": 17,
    "start_time": "2022-08-29T14:14:49.069Z"
   },
   {
    "duration": 25,
    "start_time": "2022-08-29T14:14:49.088Z"
   },
   {
    "duration": 15,
    "start_time": "2022-08-29T14:14:49.115Z"
   },
   {
    "duration": 37,
    "start_time": "2022-08-29T14:14:49.132Z"
   },
   {
    "duration": 37,
    "start_time": "2022-08-29T14:14:49.170Z"
   },
   {
    "duration": 25,
    "start_time": "2022-08-29T14:14:49.209Z"
   },
   {
    "duration": 20,
    "start_time": "2022-08-29T14:14:49.235Z"
   },
   {
    "duration": 401,
    "start_time": "2022-08-29T14:14:49.256Z"
   },
   {
    "duration": 6,
    "start_time": "2022-08-29T14:14:49.659Z"
   },
   {
    "duration": 40,
    "start_time": "2022-08-29T14:14:49.666Z"
   },
   {
    "duration": 33,
    "start_time": "2022-08-29T14:14:49.708Z"
   },
   {
    "duration": 367,
    "start_time": "2022-08-29T14:14:49.743Z"
   },
   {
    "duration": 362,
    "start_time": "2022-08-29T14:14:50.112Z"
   },
   {
    "duration": 335,
    "start_time": "2022-08-29T14:14:50.476Z"
   },
   {
    "duration": 264,
    "start_time": "2022-08-29T14:14:50.813Z"
   },
   {
    "duration": 250,
    "start_time": "2022-08-29T14:14:51.079Z"
   },
   {
    "duration": 346,
    "start_time": "2022-08-29T14:14:51.331Z"
   },
   {
    "duration": 337,
    "start_time": "2022-08-29T14:14:51.679Z"
   },
   {
    "duration": 139,
    "start_time": "2022-08-29T14:14:52.018Z"
   },
   {
    "duration": 215,
    "start_time": "2022-08-29T14:14:52.158Z"
   },
   {
    "duration": 240,
    "start_time": "2022-08-29T14:14:52.375Z"
   },
   {
    "duration": 228,
    "start_time": "2022-08-29T14:14:52.617Z"
   },
   {
    "duration": 204,
    "start_time": "2022-08-29T14:14:52.847Z"
   },
   {
    "duration": 306,
    "start_time": "2022-08-29T14:14:53.053Z"
   },
   {
    "duration": 236,
    "start_time": "2022-08-29T14:14:53.361Z"
   },
   {
    "duration": 348,
    "start_time": "2022-08-29T14:14:53.602Z"
   },
   {
    "duration": 235,
    "start_time": "2022-08-29T14:14:53.952Z"
   },
   {
    "duration": 157,
    "start_time": "2022-08-29T14:14:54.189Z"
   },
   {
    "duration": 8,
    "start_time": "2022-08-29T14:14:54.348Z"
   },
   {
    "duration": 21,
    "start_time": "2022-08-29T14:14:54.358Z"
   },
   {
    "duration": 233,
    "start_time": "2022-08-29T14:14:54.381Z"
   },
   {
    "duration": 31,
    "start_time": "2022-08-29T14:14:54.616Z"
   },
   {
    "duration": 222,
    "start_time": "2022-08-29T14:14:54.649Z"
   },
   {
    "duration": 5,
    "start_time": "2022-08-29T14:14:54.872Z"
   },
   {
    "duration": 51,
    "start_time": "2022-08-29T14:14:54.879Z"
   },
   {
    "duration": 206,
    "start_time": "2022-08-29T14:14:54.932Z"
   },
   {
    "duration": 6,
    "start_time": "2022-08-29T14:14:55.139Z"
   },
   {
    "duration": 229,
    "start_time": "2022-08-29T14:14:55.147Z"
   },
   {
    "duration": 6,
    "start_time": "2022-08-29T14:14:55.377Z"
   },
   {
    "duration": 225,
    "start_time": "2022-08-29T14:14:55.385Z"
   },
   {
    "duration": 6,
    "start_time": "2022-08-29T14:14:55.612Z"
   },
   {
    "duration": 188,
    "start_time": "2022-08-29T14:14:55.620Z"
   },
   {
    "duration": 232,
    "start_time": "2022-08-29T14:14:55.810Z"
   },
   {
    "duration": 207,
    "start_time": "2022-08-29T14:14:56.044Z"
   },
   {
    "duration": 5,
    "start_time": "2022-08-29T14:14:56.253Z"
   },
   {
    "duration": 197,
    "start_time": "2022-08-29T14:14:56.260Z"
   },
   {
    "duration": 26,
    "start_time": "2022-08-29T14:14:56.458Z"
   },
   {
    "duration": 22,
    "start_time": "2022-08-29T14:14:56.486Z"
   },
   {
    "duration": 23,
    "start_time": "2022-08-29T14:14:56.510Z"
   },
   {
    "duration": 287,
    "start_time": "2022-08-29T14:14:56.534Z"
   },
   {
    "duration": 25,
    "start_time": "2022-08-29T14:14:56.828Z"
   },
   {
    "duration": 172,
    "start_time": "2022-08-29T14:14:56.855Z"
   },
   {
    "duration": 476,
    "start_time": "2022-08-29T14:14:57.029Z"
   },
   {
    "duration": 9342,
    "start_time": "2022-08-29T14:14:57.507Z"
   },
   {
    "duration": 441,
    "start_time": "2022-08-29T14:15:06.851Z"
   }
  ],
  "kernelspec": {
   "display_name": "Python 3 (ipykernel)",
   "language": "python",
   "name": "python3"
  },
  "language_info": {
   "codemirror_mode": {
    "name": "ipython",
    "version": 3
   },
   "file_extension": ".py",
   "mimetype": "text/x-python",
   "name": "python",
   "nbconvert_exporter": "python",
   "pygments_lexer": "ipython3",
   "version": "3.9.14"
  },
  "toc": {
   "base_numbering": 1,
   "nav_menu": {},
   "number_sections": true,
   "sideBar": true,
   "skip_h1_title": true,
   "title_cell": "Table of Contents",
   "title_sidebar": "Contents",
   "toc_cell": false,
   "toc_position": {
    "height": "510px",
    "left": "412px",
    "top": "111.125px",
    "width": "247px"
   },
   "toc_section_display": true,
   "toc_window_display": true
  }
 },
 "nbformat": 4,
 "nbformat_minor": 2
}
