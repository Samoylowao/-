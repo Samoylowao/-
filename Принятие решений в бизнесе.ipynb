{
 "cells": [
  {
   "cell_type": "markdown",
   "metadata": {},
   "source": [
    "# Принятие решений в бизнесе"
   ]
  },
  {
   "cell_type": "markdown",
   "metadata": {},
   "source": [
    "Вместе с отделом маркетинга вы подготовили список гипотез для увеличения выручки. Приоритизируйте гипотезы, запустите A/B-тест и проанализируйте результаты.\n"
   ]
  },
  {
   "cell_type": "markdown",
   "metadata": {},
   "source": [
    "План проекта:\n",
    "1. Приоритизация гипотез.\n",
    "2. Анализ A/B-теста.\n",
    "3. Общие выводы\n",
    "\n",
    "Задачи к первой части проекта:\n",
    "1. Применить фреймворк ICE для приоритизации гипотез. \n",
    "2. Применить фреймворк RICE для приоритизации гипотез.\n",
    "3. Как изменилась приоритизация гипотез при применении RICE вместо ICE.\n",
    "\n",
    "Задачи к 2 части проекта:\n",
    "1. Построить графики кумулятивной выручки и среднего чека по группам. \n",
    "2. Построить график относительного изменения кумулятивного среднего чека группы B к группе A. \n",
    "3. Построить график кумулятивного среднего количества заказов по группам.\n",
    "4. Построить график относительного изменения кумулятивного среднего количества заказов группы B к группе A. \n",
    "5. Построить точечный график количества заказов по пользователям.\n",
    "6. Расчет 95-й и 99-й перцентили количества заказов на пользователя.\n",
    "7. Построить точечный график стоимостей заказов.\n",
    "8. Расчет 95-й и 99-й перцентили стоимости заказов. \n",
    "9. Посчитать статистическую значимость различий в среднем количестве заказов, чеке заказа между группами по «сырым» данным.\n",
    "10. Посчитать статистическую значимость различий в среднем количестве заказов,  чеке заказа  между группами по «очищенным» данным.\n",
    "11. Вывод\n"
   ]
  },
  {
   "cell_type": "markdown",
   "metadata": {},
   "source": [
    "## Часть. Приоритизация гипотез."
   ]
  },
  {
   "cell_type": "markdown",
   "metadata": {},
   "source": [
    "### Откроем файл с данными и изучим основную информацию"
   ]
  },
  {
   "cell_type": "code",
   "execution_count": 1,
   "metadata": {},
   "outputs": [],
   "source": [
    "import pandas as pd"
   ]
  },
  {
   "cell_type": "code",
   "execution_count": 2,
   "metadata": {},
   "outputs": [],
   "source": [
    "import scipy.stats as stats"
   ]
  },
  {
   "cell_type": "code",
   "execution_count": 3,
   "metadata": {},
   "outputs": [],
   "source": [
    "import datetime as dt"
   ]
  },
  {
   "cell_type": "code",
   "execution_count": 4,
   "metadata": {},
   "outputs": [],
   "source": [
    "import numpy as np"
   ]
  },
  {
   "cell_type": "code",
   "execution_count": 5,
   "metadata": {},
   "outputs": [],
   "source": [
    "import matplotlib.pyplot as plt"
   ]
  },
  {
   "cell_type": "code",
   "execution_count": 6,
   "metadata": {},
   "outputs": [],
   "source": [
    "data = pd.read_csv('/datasets/hypothesis.csv')"
   ]
  },
  {
   "cell_type": "code",
   "execution_count": 7,
   "metadata": {},
   "outputs": [
    {
     "data": {
      "text/html": [
       "<div>\n",
       "<style scoped>\n",
       "    .dataframe tbody tr th:only-of-type {\n",
       "        vertical-align: middle;\n",
       "    }\n",
       "\n",
       "    .dataframe tbody tr th {\n",
       "        vertical-align: top;\n",
       "    }\n",
       "\n",
       "    .dataframe thead th {\n",
       "        text-align: right;\n",
       "    }\n",
       "</style>\n",
       "<table border=\"1\" class=\"dataframe\">\n",
       "  <thead>\n",
       "    <tr style=\"text-align: right;\">\n",
       "      <th></th>\n",
       "      <th>Hypothesis</th>\n",
       "      <th>Reach</th>\n",
       "      <th>Impact</th>\n",
       "      <th>Confidence</th>\n",
       "      <th>Efforts</th>\n",
       "    </tr>\n",
       "  </thead>\n",
       "  <tbody>\n",
       "    <tr>\n",
       "      <th>0</th>\n",
       "      <td>Добавить два новых канала привлечения трафика,...</td>\n",
       "      <td>3</td>\n",
       "      <td>10</td>\n",
       "      <td>8</td>\n",
       "      <td>6</td>\n",
       "    </tr>\n",
       "    <tr>\n",
       "      <th>1</th>\n",
       "      <td>Запустить собственную службу доставки, что сок...</td>\n",
       "      <td>2</td>\n",
       "      <td>5</td>\n",
       "      <td>4</td>\n",
       "      <td>10</td>\n",
       "    </tr>\n",
       "    <tr>\n",
       "      <th>2</th>\n",
       "      <td>Добавить блоки рекомендаций товаров на сайт ин...</td>\n",
       "      <td>8</td>\n",
       "      <td>3</td>\n",
       "      <td>7</td>\n",
       "      <td>3</td>\n",
       "    </tr>\n",
       "    <tr>\n",
       "      <th>3</th>\n",
       "      <td>Изменить структура категорий, что увеличит кон...</td>\n",
       "      <td>8</td>\n",
       "      <td>3</td>\n",
       "      <td>3</td>\n",
       "      <td>8</td>\n",
       "    </tr>\n",
       "    <tr>\n",
       "      <th>4</th>\n",
       "      <td>Изменить цвет фона главной страницы, чтобы уве...</td>\n",
       "      <td>3</td>\n",
       "      <td>1</td>\n",
       "      <td>1</td>\n",
       "      <td>1</td>\n",
       "    </tr>\n",
       "    <tr>\n",
       "      <th>5</th>\n",
       "      <td>Добавить страницу отзывов клиентов о магазине,...</td>\n",
       "      <td>3</td>\n",
       "      <td>2</td>\n",
       "      <td>2</td>\n",
       "      <td>3</td>\n",
       "    </tr>\n",
       "    <tr>\n",
       "      <th>6</th>\n",
       "      <td>Показать на главной странице баннеры с актуаль...</td>\n",
       "      <td>5</td>\n",
       "      <td>3</td>\n",
       "      <td>8</td>\n",
       "      <td>3</td>\n",
       "    </tr>\n",
       "    <tr>\n",
       "      <th>7</th>\n",
       "      <td>Добавить форму подписки на все основные страни...</td>\n",
       "      <td>10</td>\n",
       "      <td>7</td>\n",
       "      <td>8</td>\n",
       "      <td>5</td>\n",
       "    </tr>\n",
       "    <tr>\n",
       "      <th>8</th>\n",
       "      <td>Запустить акцию, дающую скидку на товар в день...</td>\n",
       "      <td>1</td>\n",
       "      <td>9</td>\n",
       "      <td>9</td>\n",
       "      <td>5</td>\n",
       "    </tr>\n",
       "  </tbody>\n",
       "</table>\n",
       "</div>"
      ],
      "text/plain": [
       "                                          Hypothesis  Reach  Impact  \\\n",
       "0  Добавить два новых канала привлечения трафика,...      3      10   \n",
       "1  Запустить собственную службу доставки, что сок...      2       5   \n",
       "2  Добавить блоки рекомендаций товаров на сайт ин...      8       3   \n",
       "3  Изменить структура категорий, что увеличит кон...      8       3   \n",
       "4  Изменить цвет фона главной страницы, чтобы уве...      3       1   \n",
       "5  Добавить страницу отзывов клиентов о магазине,...      3       2   \n",
       "6  Показать на главной странице баннеры с актуаль...      5       3   \n",
       "7  Добавить форму подписки на все основные страни...     10       7   \n",
       "8  Запустить акцию, дающую скидку на товар в день...      1       9   \n",
       "\n",
       "   Confidence  Efforts  \n",
       "0           8        6  \n",
       "1           4       10  \n",
       "2           7        3  \n",
       "3           3        8  \n",
       "4           1        1  \n",
       "5           2        3  \n",
       "6           8        3  \n",
       "7           8        5  \n",
       "8           9        5  "
      ]
     },
     "metadata": {},
     "output_type": "display_data"
    }
   ],
   "source": [
    "display(data)"
   ]
  },
  {
   "cell_type": "code",
   "execution_count": 8,
   "metadata": {
    "scrolled": false
   },
   "outputs": [
    {
     "name": "stdout",
     "output_type": "stream",
     "text": [
      "<class 'pandas.core.frame.DataFrame'>\n",
      "RangeIndex: 9 entries, 0 to 8\n",
      "Data columns (total 5 columns):\n",
      " #   Column      Non-Null Count  Dtype \n",
      "---  ------      --------------  ----- \n",
      " 0   Hypothesis  9 non-null      object\n",
      " 1   Reach       9 non-null      int64 \n",
      " 2   Impact      9 non-null      int64 \n",
      " 3   Confidence  9 non-null      int64 \n",
      " 4   Efforts     9 non-null      int64 \n",
      "dtypes: int64(4), object(1)\n",
      "memory usage: 488.0+ bytes\n"
     ]
    }
   ],
   "source": [
    "data.info()"
   ]
  },
  {
   "cell_type": "markdown",
   "metadata": {},
   "source": [
    "для удобства приведем названия столбцов к нижнем регистру"
   ]
  },
  {
   "cell_type": "code",
   "execution_count": 9,
   "metadata": {},
   "outputs": [],
   "source": [
    "data.columns = data.columns.str.lower() #приведем названия столбцов к нижнему регистру"
   ]
  },
  {
   "cell_type": "markdown",
   "metadata": {},
   "source": [
    "#### Фреймворк ICE для приоритизации гипотез"
   ]
  },
  {
   "cell_type": "code",
   "execution_count": 10,
   "metadata": {},
   "outputs": [
    {
     "data": {
      "text/html": [
       "<div>\n",
       "<style scoped>\n",
       "    .dataframe tbody tr th:only-of-type {\n",
       "        vertical-align: middle;\n",
       "    }\n",
       "\n",
       "    .dataframe tbody tr th {\n",
       "        vertical-align: top;\n",
       "    }\n",
       "\n",
       "    .dataframe thead th {\n",
       "        text-align: right;\n",
       "    }\n",
       "</style>\n",
       "<table border=\"1\" class=\"dataframe\">\n",
       "  <thead>\n",
       "    <tr style=\"text-align: right;\">\n",
       "      <th></th>\n",
       "      <th>hypothesis</th>\n",
       "      <th>ICE</th>\n",
       "    </tr>\n",
       "  </thead>\n",
       "  <tbody>\n",
       "    <tr>\n",
       "      <th>8</th>\n",
       "      <td>Запустить акцию, дающую скидку на товар в день...</td>\n",
       "      <td>16.200000</td>\n",
       "    </tr>\n",
       "    <tr>\n",
       "      <th>0</th>\n",
       "      <td>Добавить два новых канала привлечения трафика,...</td>\n",
       "      <td>13.333333</td>\n",
       "    </tr>\n",
       "    <tr>\n",
       "      <th>7</th>\n",
       "      <td>Добавить форму подписки на все основные страни...</td>\n",
       "      <td>11.200000</td>\n",
       "    </tr>\n",
       "    <tr>\n",
       "      <th>6</th>\n",
       "      <td>Показать на главной странице баннеры с актуаль...</td>\n",
       "      <td>8.000000</td>\n",
       "    </tr>\n",
       "    <tr>\n",
       "      <th>2</th>\n",
       "      <td>Добавить блоки рекомендаций товаров на сайт ин...</td>\n",
       "      <td>7.000000</td>\n",
       "    </tr>\n",
       "    <tr>\n",
       "      <th>1</th>\n",
       "      <td>Запустить собственную службу доставки, что сок...</td>\n",
       "      <td>2.000000</td>\n",
       "    </tr>\n",
       "    <tr>\n",
       "      <th>5</th>\n",
       "      <td>Добавить страницу отзывов клиентов о магазине,...</td>\n",
       "      <td>1.333333</td>\n",
       "    </tr>\n",
       "    <tr>\n",
       "      <th>3</th>\n",
       "      <td>Изменить структура категорий, что увеличит кон...</td>\n",
       "      <td>1.125000</td>\n",
       "    </tr>\n",
       "    <tr>\n",
       "      <th>4</th>\n",
       "      <td>Изменить цвет фона главной страницы, чтобы уве...</td>\n",
       "      <td>1.000000</td>\n",
       "    </tr>\n",
       "  </tbody>\n",
       "</table>\n",
       "</div>"
      ],
      "text/plain": [
       "                                          hypothesis        ICE\n",
       "8  Запустить акцию, дающую скидку на товар в день...  16.200000\n",
       "0  Добавить два новых канала привлечения трафика,...  13.333333\n",
       "7  Добавить форму подписки на все основные страни...  11.200000\n",
       "6  Показать на главной странице баннеры с актуаль...   8.000000\n",
       "2  Добавить блоки рекомендаций товаров на сайт ин...   7.000000\n",
       "1  Запустить собственную службу доставки, что сок...   2.000000\n",
       "5  Добавить страницу отзывов клиентов о магазине,...   1.333333\n",
       "3  Изменить структура категорий, что увеличит кон...   1.125000\n",
       "4  Изменить цвет фона главной страницы, чтобы уве...   1.000000"
      ]
     },
     "metadata": {},
     "output_type": "display_data"
    }
   ],
   "source": [
    "data['ICE'] = (data['impact'] * data['confidence']) / data['efforts']\n",
    "display(data[['hypothesis','ICE']].sort_values(by='ICE', ascending=False))"
   ]
  },
  {
   "cell_type": "markdown",
   "metadata": {},
   "source": [
    "Вывод: исходя из результатов, по ICE наиболее перспективными гипотензами можно считать гипотезы номер 8, 0 и 7."
   ]
  },
  {
   "cell_type": "markdown",
   "metadata": {},
   "source": [
    " #### Фреймворк RICE для приоритизации гипотез. "
   ]
  },
  {
   "cell_type": "code",
   "execution_count": 11,
   "metadata": {},
   "outputs": [
    {
     "data": {
      "text/html": [
       "<div>\n",
       "<style scoped>\n",
       "    .dataframe tbody tr th:only-of-type {\n",
       "        vertical-align: middle;\n",
       "    }\n",
       "\n",
       "    .dataframe tbody tr th {\n",
       "        vertical-align: top;\n",
       "    }\n",
       "\n",
       "    .dataframe thead th {\n",
       "        text-align: right;\n",
       "    }\n",
       "</style>\n",
       "<table border=\"1\" class=\"dataframe\">\n",
       "  <thead>\n",
       "    <tr style=\"text-align: right;\">\n",
       "      <th></th>\n",
       "      <th>hypothesis</th>\n",
       "      <th>RICE</th>\n",
       "    </tr>\n",
       "  </thead>\n",
       "  <tbody>\n",
       "    <tr>\n",
       "      <th>7</th>\n",
       "      <td>Добавить форму подписки на все основные страни...</td>\n",
       "      <td>112.0</td>\n",
       "    </tr>\n",
       "    <tr>\n",
       "      <th>2</th>\n",
       "      <td>Добавить блоки рекомендаций товаров на сайт ин...</td>\n",
       "      <td>56.0</td>\n",
       "    </tr>\n",
       "    <tr>\n",
       "      <th>0</th>\n",
       "      <td>Добавить два новых канала привлечения трафика,...</td>\n",
       "      <td>40.0</td>\n",
       "    </tr>\n",
       "    <tr>\n",
       "      <th>6</th>\n",
       "      <td>Показать на главной странице баннеры с актуаль...</td>\n",
       "      <td>40.0</td>\n",
       "    </tr>\n",
       "    <tr>\n",
       "      <th>8</th>\n",
       "      <td>Запустить акцию, дающую скидку на товар в день...</td>\n",
       "      <td>16.2</td>\n",
       "    </tr>\n",
       "    <tr>\n",
       "      <th>3</th>\n",
       "      <td>Изменить структура категорий, что увеличит кон...</td>\n",
       "      <td>9.0</td>\n",
       "    </tr>\n",
       "    <tr>\n",
       "      <th>1</th>\n",
       "      <td>Запустить собственную службу доставки, что сок...</td>\n",
       "      <td>4.0</td>\n",
       "    </tr>\n",
       "    <tr>\n",
       "      <th>5</th>\n",
       "      <td>Добавить страницу отзывов клиентов о магазине,...</td>\n",
       "      <td>4.0</td>\n",
       "    </tr>\n",
       "    <tr>\n",
       "      <th>4</th>\n",
       "      <td>Изменить цвет фона главной страницы, чтобы уве...</td>\n",
       "      <td>3.0</td>\n",
       "    </tr>\n",
       "  </tbody>\n",
       "</table>\n",
       "</div>"
      ],
      "text/plain": [
       "                                          hypothesis   RICE\n",
       "7  Добавить форму подписки на все основные страни...  112.0\n",
       "2  Добавить блоки рекомендаций товаров на сайт ин...   56.0\n",
       "0  Добавить два новых канала привлечения трафика,...   40.0\n",
       "6  Показать на главной странице баннеры с актуаль...   40.0\n",
       "8  Запустить акцию, дающую скидку на товар в день...   16.2\n",
       "3  Изменить структура категорий, что увеличит кон...    9.0\n",
       "1  Запустить собственную службу доставки, что сок...    4.0\n",
       "5  Добавить страницу отзывов клиентов о магазине,...    4.0\n",
       "4  Изменить цвет фона главной страницы, чтобы уве...    3.0"
      ]
     },
     "metadata": {},
     "output_type": "display_data"
    }
   ],
   "source": [
    "data['RICE'] = (data['reach'] * data['impact'] * data['confidence']) / data['efforts']\n",
    "display(data[['hypothesis', 'RICE']].sort_values(by='RICE', ascending=False))\n",
    "pd.options.display.max_colwidth = 120"
   ]
  },
  {
   "cell_type": "markdown",
   "metadata": {},
   "source": [
    "Вывод: наиболее перспективные гипотезы это 7,2,0,6. На первом месте оказалась гипотеза 7, это объясняется тем, что ее параметр reach равен 10, в то время как для других гипотез он меньше. "
   ]
  },
  {
   "cell_type": "markdown",
   "metadata": {},
   "source": [
    "#### Как изменилась приоритизация гипотез при применении RICE вместо ICE"
   ]
  },
  {
   "cell_type": "markdown",
   "metadata": {},
   "source": [
    "Вывод: Для ICE лидером таблицы является 8 гипотеза, однако в таблице RICE она опускается на 5 место. Лидером для таблицы RICE является 7 гипотеза, это связано с тем, что ее параметр reach равен 10, в то время как для других гипотез он меньше. В таблице ICE 7 гипотеза находится в тройке лидеров. Поэтому можно сделать вывод, что стоит отдать предпочтение 7 гипотезе "
   ]
  },
  {
   "cell_type": "markdown",
   "metadata": {},
   "source": [
    "## Часть. Анализ A/B-теста"
   ]
  },
  {
   "cell_type": "markdown",
   "metadata": {},
   "source": [
    "### Откроем файлы с данными и изучим общую информацию"
   ]
  },
  {
   "cell_type": "code",
   "execution_count": 12,
   "metadata": {},
   "outputs": [],
   "source": [
    "orders = pd.read_csv('/datasets/orders.csv')"
   ]
  },
  {
   "cell_type": "code",
   "execution_count": 13,
   "metadata": {},
   "outputs": [],
   "source": [
    "visitors = pd.read_csv('/datasets/visitors.csv')"
   ]
  },
  {
   "cell_type": "code",
   "execution_count": 14,
   "metadata": {
    "scrolled": true
   },
   "outputs": [
    {
     "data": {
      "text/html": [
       "<div>\n",
       "<style scoped>\n",
       "    .dataframe tbody tr th:only-of-type {\n",
       "        vertical-align: middle;\n",
       "    }\n",
       "\n",
       "    .dataframe tbody tr th {\n",
       "        vertical-align: top;\n",
       "    }\n",
       "\n",
       "    .dataframe thead th {\n",
       "        text-align: right;\n",
       "    }\n",
       "</style>\n",
       "<table border=\"1\" class=\"dataframe\">\n",
       "  <thead>\n",
       "    <tr style=\"text-align: right;\">\n",
       "      <th></th>\n",
       "      <th>transactionId</th>\n",
       "      <th>visitorId</th>\n",
       "      <th>date</th>\n",
       "      <th>revenue</th>\n",
       "      <th>group</th>\n",
       "    </tr>\n",
       "  </thead>\n",
       "  <tbody>\n",
       "    <tr>\n",
       "      <th>0</th>\n",
       "      <td>3667963787</td>\n",
       "      <td>3312258926</td>\n",
       "      <td>2019-08-15</td>\n",
       "      <td>1650</td>\n",
       "      <td>B</td>\n",
       "    </tr>\n",
       "    <tr>\n",
       "      <th>1</th>\n",
       "      <td>2804400009</td>\n",
       "      <td>3642806036</td>\n",
       "      <td>2019-08-15</td>\n",
       "      <td>730</td>\n",
       "      <td>B</td>\n",
       "    </tr>\n",
       "    <tr>\n",
       "      <th>2</th>\n",
       "      <td>2961555356</td>\n",
       "      <td>4069496402</td>\n",
       "      <td>2019-08-15</td>\n",
       "      <td>400</td>\n",
       "      <td>A</td>\n",
       "    </tr>\n",
       "    <tr>\n",
       "      <th>3</th>\n",
       "      <td>3797467345</td>\n",
       "      <td>1196621759</td>\n",
       "      <td>2019-08-15</td>\n",
       "      <td>9759</td>\n",
       "      <td>B</td>\n",
       "    </tr>\n",
       "    <tr>\n",
       "      <th>4</th>\n",
       "      <td>2282983706</td>\n",
       "      <td>2322279887</td>\n",
       "      <td>2019-08-15</td>\n",
       "      <td>2308</td>\n",
       "      <td>B</td>\n",
       "    </tr>\n",
       "    <tr>\n",
       "      <th>5</th>\n",
       "      <td>182168103</td>\n",
       "      <td>935554773</td>\n",
       "      <td>2019-08-15</td>\n",
       "      <td>2210</td>\n",
       "      <td>B</td>\n",
       "    </tr>\n",
       "    <tr>\n",
       "      <th>6</th>\n",
       "      <td>398296753</td>\n",
       "      <td>2900797465</td>\n",
       "      <td>2019-08-15</td>\n",
       "      <td>1860</td>\n",
       "      <td>B</td>\n",
       "    </tr>\n",
       "    <tr>\n",
       "      <th>7</th>\n",
       "      <td>2626614568</td>\n",
       "      <td>78758296</td>\n",
       "      <td>2019-08-15</td>\n",
       "      <td>1044</td>\n",
       "      <td>A</td>\n",
       "    </tr>\n",
       "    <tr>\n",
       "      <th>8</th>\n",
       "      <td>1576988021</td>\n",
       "      <td>295230930</td>\n",
       "      <td>2019-08-15</td>\n",
       "      <td>13710</td>\n",
       "      <td>A</td>\n",
       "    </tr>\n",
       "    <tr>\n",
       "      <th>9</th>\n",
       "      <td>1506739906</td>\n",
       "      <td>1882260405</td>\n",
       "      <td>2019-08-15</td>\n",
       "      <td>1855</td>\n",
       "      <td>B</td>\n",
       "    </tr>\n",
       "  </tbody>\n",
       "</table>\n",
       "</div>"
      ],
      "text/plain": [
       "   transactionId   visitorId        date  revenue group\n",
       "0     3667963787  3312258926  2019-08-15     1650     B\n",
       "1     2804400009  3642806036  2019-08-15      730     B\n",
       "2     2961555356  4069496402  2019-08-15      400     A\n",
       "3     3797467345  1196621759  2019-08-15     9759     B\n",
       "4     2282983706  2322279887  2019-08-15     2308     B\n",
       "5      182168103   935554773  2019-08-15     2210     B\n",
       "6      398296753  2900797465  2019-08-15     1860     B\n",
       "7     2626614568    78758296  2019-08-15     1044     A\n",
       "8     1576988021   295230930  2019-08-15    13710     A\n",
       "9     1506739906  1882260405  2019-08-15     1855     B"
      ]
     },
     "metadata": {},
     "output_type": "display_data"
    }
   ],
   "source": [
    "display(orders.head(10))"
   ]
  },
  {
   "cell_type": "code",
   "execution_count": 15,
   "metadata": {},
   "outputs": [
    {
     "name": "stdout",
     "output_type": "stream",
     "text": [
      "<class 'pandas.core.frame.DataFrame'>\n",
      "RangeIndex: 1197 entries, 0 to 1196\n",
      "Data columns (total 5 columns):\n",
      " #   Column         Non-Null Count  Dtype \n",
      "---  ------         --------------  ----- \n",
      " 0   transactionId  1197 non-null   int64 \n",
      " 1   visitorId      1197 non-null   int64 \n",
      " 2   date           1197 non-null   object\n",
      " 3   revenue        1197 non-null   int64 \n",
      " 4   group          1197 non-null   object\n",
      "dtypes: int64(3), object(2)\n",
      "memory usage: 46.9+ KB\n"
     ]
    }
   ],
   "source": [
    "orders.info()"
   ]
  },
  {
   "cell_type": "code",
   "execution_count": 16,
   "metadata": {},
   "outputs": [
    {
     "data": {
      "text/html": [
       "<div>\n",
       "<style scoped>\n",
       "    .dataframe tbody tr th:only-of-type {\n",
       "        vertical-align: middle;\n",
       "    }\n",
       "\n",
       "    .dataframe tbody tr th {\n",
       "        vertical-align: top;\n",
       "    }\n",
       "\n",
       "    .dataframe thead th {\n",
       "        text-align: right;\n",
       "    }\n",
       "</style>\n",
       "<table border=\"1\" class=\"dataframe\">\n",
       "  <thead>\n",
       "    <tr style=\"text-align: right;\">\n",
       "      <th></th>\n",
       "      <th>date</th>\n",
       "      <th>group</th>\n",
       "      <th>visitors</th>\n",
       "    </tr>\n",
       "  </thead>\n",
       "  <tbody>\n",
       "    <tr>\n",
       "      <th>0</th>\n",
       "      <td>2019-08-01</td>\n",
       "      <td>A</td>\n",
       "      <td>719</td>\n",
       "    </tr>\n",
       "    <tr>\n",
       "      <th>1</th>\n",
       "      <td>2019-08-02</td>\n",
       "      <td>A</td>\n",
       "      <td>619</td>\n",
       "    </tr>\n",
       "    <tr>\n",
       "      <th>2</th>\n",
       "      <td>2019-08-03</td>\n",
       "      <td>A</td>\n",
       "      <td>507</td>\n",
       "    </tr>\n",
       "    <tr>\n",
       "      <th>3</th>\n",
       "      <td>2019-08-04</td>\n",
       "      <td>A</td>\n",
       "      <td>717</td>\n",
       "    </tr>\n",
       "    <tr>\n",
       "      <th>4</th>\n",
       "      <td>2019-08-05</td>\n",
       "      <td>A</td>\n",
       "      <td>756</td>\n",
       "    </tr>\n",
       "    <tr>\n",
       "      <th>5</th>\n",
       "      <td>2019-08-06</td>\n",
       "      <td>A</td>\n",
       "      <td>667</td>\n",
       "    </tr>\n",
       "    <tr>\n",
       "      <th>6</th>\n",
       "      <td>2019-08-07</td>\n",
       "      <td>A</td>\n",
       "      <td>644</td>\n",
       "    </tr>\n",
       "    <tr>\n",
       "      <th>7</th>\n",
       "      <td>2019-08-08</td>\n",
       "      <td>A</td>\n",
       "      <td>610</td>\n",
       "    </tr>\n",
       "    <tr>\n",
       "      <th>8</th>\n",
       "      <td>2019-08-09</td>\n",
       "      <td>A</td>\n",
       "      <td>617</td>\n",
       "    </tr>\n",
       "    <tr>\n",
       "      <th>9</th>\n",
       "      <td>2019-08-10</td>\n",
       "      <td>A</td>\n",
       "      <td>406</td>\n",
       "    </tr>\n",
       "  </tbody>\n",
       "</table>\n",
       "</div>"
      ],
      "text/plain": [
       "         date group  visitors\n",
       "0  2019-08-01     A       719\n",
       "1  2019-08-02     A       619\n",
       "2  2019-08-03     A       507\n",
       "3  2019-08-04     A       717\n",
       "4  2019-08-05     A       756\n",
       "5  2019-08-06     A       667\n",
       "6  2019-08-07     A       644\n",
       "7  2019-08-08     A       610\n",
       "8  2019-08-09     A       617\n",
       "9  2019-08-10     A       406"
      ]
     },
     "metadata": {},
     "output_type": "display_data"
    }
   ],
   "source": [
    "display(visitors.head(10))"
   ]
  },
  {
   "cell_type": "code",
   "execution_count": 17,
   "metadata": {},
   "outputs": [
    {
     "name": "stdout",
     "output_type": "stream",
     "text": [
      "<class 'pandas.core.frame.DataFrame'>\n",
      "RangeIndex: 62 entries, 0 to 61\n",
      "Data columns (total 3 columns):\n",
      " #   Column    Non-Null Count  Dtype \n",
      "---  ------    --------------  ----- \n",
      " 0   date      62 non-null     object\n",
      " 1   group     62 non-null     object\n",
      " 2   visitors  62 non-null     int64 \n",
      "dtypes: int64(1), object(2)\n",
      "memory usage: 1.6+ KB\n"
     ]
    }
   ],
   "source": [
    "visitors.info()"
   ]
  },
  {
   "cell_type": "markdown",
   "metadata": {},
   "source": [
    "### Проведем предобработку данных"
   ]
  },
  {
   "cell_type": "markdown",
   "metadata": {},
   "source": [
    "Проверим количество пропусков в каждом столбце, а также на наличие явных дубликатов"
   ]
  },
  {
   "cell_type": "code",
   "execution_count": 18,
   "metadata": {},
   "outputs": [
    {
     "data": {
      "text/plain": [
       "transactionId    0\n",
       "visitorId        0\n",
       "date             0\n",
       "revenue          0\n",
       "group            0\n",
       "dtype: int64"
      ]
     },
     "execution_count": 18,
     "metadata": {},
     "output_type": "execute_result"
    }
   ],
   "source": [
    "orders.isna().sum() #к-во пропусков в каждом столбце"
   ]
  },
  {
   "cell_type": "code",
   "execution_count": 19,
   "metadata": {},
   "outputs": [
    {
     "data": {
      "text/plain": [
       "date        0\n",
       "group       0\n",
       "visitors    0\n",
       "dtype: int64"
      ]
     },
     "execution_count": 19,
     "metadata": {},
     "output_type": "execute_result"
    }
   ],
   "source": [
    "visitors.isna().sum() #к-во пропусков в каждом столбце"
   ]
  },
  {
   "cell_type": "code",
   "execution_count": 20,
   "metadata": {},
   "outputs": [
    {
     "data": {
      "text/plain": [
       "0"
      ]
     },
     "execution_count": 20,
     "metadata": {},
     "output_type": "execute_result"
    }
   ],
   "source": [
    "orders.duplicated().sum() #поиск строк явных дубликатов"
   ]
  },
  {
   "cell_type": "code",
   "execution_count": 21,
   "metadata": {},
   "outputs": [
    {
     "data": {
      "text/plain": [
       "0"
      ]
     },
     "execution_count": 21,
     "metadata": {},
     "output_type": "execute_result"
    }
   ],
   "source": [
    "visitors.duplicated().sum() #поиск строк явных дубликатов"
   ]
  },
  {
   "cell_type": "markdown",
   "metadata": {},
   "source": [
    "Можно заметить, что столбцы с датой в обеих таблицах принадлежат к типу object. Приведем их к типу datetime."
   ]
  },
  {
   "cell_type": "code",
   "execution_count": 22,
   "metadata": {},
   "outputs": [],
   "source": [
    "orders['date'] = orders['date'].map(\n",
    "    lambda x: dt.datetime.strptime(x, '%Y-%m-%d')\n",
    ")"
   ]
  },
  {
   "cell_type": "code",
   "execution_count": 23,
   "metadata": {},
   "outputs": [],
   "source": [
    "visitors['date'] = visitors['date'].map(\n",
    "    lambda x: dt.datetime.strptime(x, '%Y-%m-%d')\n",
    ")"
   ]
  },
  {
   "cell_type": "code",
   "execution_count": 24,
   "metadata": {},
   "outputs": [],
   "source": [
    "# переименование столбцов\n",
    "orders = orders.rename(columns={'transactionId' : 'transaction_id', 'visitorId' : 'visitor_id'})"
   ]
  },
  {
   "cell_type": "markdown",
   "metadata": {},
   "source": [
    "Вывод: в ходе предобработки данных не было обнаружено явных дубликатов и пропусков в данных. Столбцы с датой были переведены в формат datetime. Также столбцы transactionId и visitorId были приведены к правильному формату. "
   ]
  },
  {
   "cell_type": "markdown",
   "metadata": {},
   "source": [
    "### Исследовательский анализ данных"
   ]
  },
  {
   "cell_type": "markdown",
   "metadata": {},
   "source": [
    "Перед тем как начать анализ данных необходимо проверить наличие пользователей, которые попали в обе группы. Ведь они могут помешать анализу, т.к. мы не можем определить, что именно повлияло на их решение совершить заказ. "
   ]
  },
  {
   "cell_type": "code",
   "execution_count": 25,
   "metadata": {},
   "outputs": [
    {
     "data": {
      "text/html": [
       "<div>\n",
       "<style scoped>\n",
       "    .dataframe tbody tr th:only-of-type {\n",
       "        vertical-align: middle;\n",
       "    }\n",
       "\n",
       "    .dataframe tbody tr th {\n",
       "        vertical-align: top;\n",
       "    }\n",
       "\n",
       "    .dataframe thead th {\n",
       "        text-align: right;\n",
       "    }\n",
       "</style>\n",
       "<table border=\"1\" class=\"dataframe\">\n",
       "  <thead>\n",
       "    <tr style=\"text-align: right;\">\n",
       "      <th></th>\n",
       "      <th>visitor_id</th>\n",
       "      <th>group</th>\n",
       "    </tr>\n",
       "  </thead>\n",
       "  <tbody>\n",
       "    <tr>\n",
       "      <th>2</th>\n",
       "      <td>8300375</td>\n",
       "      <td>2</td>\n",
       "    </tr>\n",
       "    <tr>\n",
       "      <th>44</th>\n",
       "      <td>199603092</td>\n",
       "      <td>2</td>\n",
       "    </tr>\n",
       "    <tr>\n",
       "      <th>51</th>\n",
       "      <td>232979603</td>\n",
       "      <td>2</td>\n",
       "    </tr>\n",
       "    <tr>\n",
       "      <th>55</th>\n",
       "      <td>237748145</td>\n",
       "      <td>2</td>\n",
       "    </tr>\n",
       "    <tr>\n",
       "      <th>66</th>\n",
       "      <td>276558944</td>\n",
       "      <td>2</td>\n",
       "    </tr>\n",
       "    <tr>\n",
       "      <th>84</th>\n",
       "      <td>351125977</td>\n",
       "      <td>2</td>\n",
       "    </tr>\n",
       "    <tr>\n",
       "      <th>97</th>\n",
       "      <td>393266494</td>\n",
       "      <td>2</td>\n",
       "    </tr>\n",
       "    <tr>\n",
       "      <th>114</th>\n",
       "      <td>457167155</td>\n",
       "      <td>2</td>\n",
       "    </tr>\n",
       "    <tr>\n",
       "      <th>119</th>\n",
       "      <td>471551937</td>\n",
       "      <td>2</td>\n",
       "    </tr>\n",
       "    <tr>\n",
       "      <th>122</th>\n",
       "      <td>477780734</td>\n",
       "      <td>2</td>\n",
       "    </tr>\n",
       "    <tr>\n",
       "      <th>192</th>\n",
       "      <td>818047933</td>\n",
       "      <td>2</td>\n",
       "    </tr>\n",
       "    <tr>\n",
       "      <th>236</th>\n",
       "      <td>963407295</td>\n",
       "      <td>2</td>\n",
       "    </tr>\n",
       "    <tr>\n",
       "      <th>299</th>\n",
       "      <td>1230306981</td>\n",
       "      <td>2</td>\n",
       "    </tr>\n",
       "    <tr>\n",
       "      <th>311</th>\n",
       "      <td>1294878855</td>\n",
       "      <td>2</td>\n",
       "    </tr>\n",
       "    <tr>\n",
       "      <th>316</th>\n",
       "      <td>1316129916</td>\n",
       "      <td>2</td>\n",
       "    </tr>\n",
       "    <tr>\n",
       "      <th>318</th>\n",
       "      <td>1333886533</td>\n",
       "      <td>2</td>\n",
       "    </tr>\n",
       "    <tr>\n",
       "      <th>340</th>\n",
       "      <td>1404934699</td>\n",
       "      <td>2</td>\n",
       "    </tr>\n",
       "    <tr>\n",
       "      <th>386</th>\n",
       "      <td>1602967004</td>\n",
       "      <td>2</td>\n",
       "    </tr>\n",
       "    <tr>\n",
       "      <th>393</th>\n",
       "      <td>1614305549</td>\n",
       "      <td>2</td>\n",
       "    </tr>\n",
       "    <tr>\n",
       "      <th>402</th>\n",
       "      <td>1648269707</td>\n",
       "      <td>2</td>\n",
       "    </tr>\n",
       "    <tr>\n",
       "      <th>406</th>\n",
       "      <td>1668030113</td>\n",
       "      <td>2</td>\n",
       "    </tr>\n",
       "    <tr>\n",
       "      <th>422</th>\n",
       "      <td>1738359350</td>\n",
       "      <td>2</td>\n",
       "    </tr>\n",
       "    <tr>\n",
       "      <th>436</th>\n",
       "      <td>1801183820</td>\n",
       "      <td>2</td>\n",
       "    </tr>\n",
       "    <tr>\n",
       "      <th>469</th>\n",
       "      <td>1959144690</td>\n",
       "      <td>2</td>\n",
       "    </tr>\n",
       "    <tr>\n",
       "      <th>487</th>\n",
       "      <td>2038680547</td>\n",
       "      <td>2</td>\n",
       "    </tr>\n",
       "    <tr>\n",
       "      <th>491</th>\n",
       "      <td>2044997962</td>\n",
       "      <td>2</td>\n",
       "    </tr>\n",
       "    <tr>\n",
       "      <th>569</th>\n",
       "      <td>2378935119</td>\n",
       "      <td>2</td>\n",
       "    </tr>\n",
       "    <tr>\n",
       "      <th>591</th>\n",
       "      <td>2458001652</td>\n",
       "      <td>2</td>\n",
       "    </tr>\n",
       "    <tr>\n",
       "      <th>614</th>\n",
       "      <td>2579882178</td>\n",
       "      <td>2</td>\n",
       "    </tr>\n",
       "    <tr>\n",
       "      <th>619</th>\n",
       "      <td>2587333274</td>\n",
       "      <td>2</td>\n",
       "    </tr>\n",
       "    <tr>\n",
       "      <th>622</th>\n",
       "      <td>2600415354</td>\n",
       "      <td>2</td>\n",
       "    </tr>\n",
       "    <tr>\n",
       "      <th>639</th>\n",
       "      <td>2654030115</td>\n",
       "      <td>2</td>\n",
       "    </tr>\n",
       "    <tr>\n",
       "      <th>648</th>\n",
       "      <td>2686716486</td>\n",
       "      <td>2</td>\n",
       "    </tr>\n",
       "    <tr>\n",
       "      <th>661</th>\n",
       "      <td>2712142231</td>\n",
       "      <td>2</td>\n",
       "    </tr>\n",
       "    <tr>\n",
       "      <th>662</th>\n",
       "      <td>2716752286</td>\n",
       "      <td>2</td>\n",
       "    </tr>\n",
       "    <tr>\n",
       "      <th>677</th>\n",
       "      <td>2780786433</td>\n",
       "      <td>2</td>\n",
       "    </tr>\n",
       "    <tr>\n",
       "      <th>710</th>\n",
       "      <td>2927087541</td>\n",
       "      <td>2</td>\n",
       "    </tr>\n",
       "    <tr>\n",
       "      <th>715</th>\n",
       "      <td>2949041841</td>\n",
       "      <td>2</td>\n",
       "    </tr>\n",
       "    <tr>\n",
       "      <th>718</th>\n",
       "      <td>2954449915</td>\n",
       "      <td>2</td>\n",
       "    </tr>\n",
       "    <tr>\n",
       "      <th>744</th>\n",
       "      <td>3062433592</td>\n",
       "      <td>2</td>\n",
       "    </tr>\n",
       "    <tr>\n",
       "      <th>784</th>\n",
       "      <td>3202540741</td>\n",
       "      <td>2</td>\n",
       "    </tr>\n",
       "    <tr>\n",
       "      <th>792</th>\n",
       "      <td>3234906277</td>\n",
       "      <td>2</td>\n",
       "    </tr>\n",
       "    <tr>\n",
       "      <th>884</th>\n",
       "      <td>3656415546</td>\n",
       "      <td>2</td>\n",
       "    </tr>\n",
       "    <tr>\n",
       "      <th>897</th>\n",
       "      <td>3717692402</td>\n",
       "      <td>2</td>\n",
       "    </tr>\n",
       "    <tr>\n",
       "      <th>909</th>\n",
       "      <td>3766097110</td>\n",
       "      <td>2</td>\n",
       "    </tr>\n",
       "    <tr>\n",
       "      <th>917</th>\n",
       "      <td>3803269165</td>\n",
       "      <td>2</td>\n",
       "    </tr>\n",
       "    <tr>\n",
       "      <th>932</th>\n",
       "      <td>3891541246</td>\n",
       "      <td>2</td>\n",
       "    </tr>\n",
       "    <tr>\n",
       "      <th>950</th>\n",
       "      <td>3941795274</td>\n",
       "      <td>2</td>\n",
       "    </tr>\n",
       "    <tr>\n",
       "      <th>954</th>\n",
       "      <td>3951559397</td>\n",
       "      <td>2</td>\n",
       "    </tr>\n",
       "    <tr>\n",
       "      <th>957</th>\n",
       "      <td>3957174400</td>\n",
       "      <td>2</td>\n",
       "    </tr>\n",
       "    <tr>\n",
       "      <th>958</th>\n",
       "      <td>3963646447</td>\n",
       "      <td>2</td>\n",
       "    </tr>\n",
       "    <tr>\n",
       "      <th>960</th>\n",
       "      <td>3972127743</td>\n",
       "      <td>2</td>\n",
       "    </tr>\n",
       "    <tr>\n",
       "      <th>963</th>\n",
       "      <td>3984495233</td>\n",
       "      <td>2</td>\n",
       "    </tr>\n",
       "    <tr>\n",
       "      <th>984</th>\n",
       "      <td>4069496402</td>\n",
       "      <td>2</td>\n",
       "    </tr>\n",
       "    <tr>\n",
       "      <th>992</th>\n",
       "      <td>4120364173</td>\n",
       "      <td>2</td>\n",
       "    </tr>\n",
       "    <tr>\n",
       "      <th>1009</th>\n",
       "      <td>4186807279</td>\n",
       "      <td>2</td>\n",
       "    </tr>\n",
       "    <tr>\n",
       "      <th>1023</th>\n",
       "      <td>4256040402</td>\n",
       "      <td>2</td>\n",
       "    </tr>\n",
       "    <tr>\n",
       "      <th>1026</th>\n",
       "      <td>4266935830</td>\n",
       "      <td>2</td>\n",
       "    </tr>\n",
       "  </tbody>\n",
       "</table>\n",
       "</div>"
      ],
      "text/plain": [
       "      visitor_id  group\n",
       "2        8300375      2\n",
       "44     199603092      2\n",
       "51     232979603      2\n",
       "55     237748145      2\n",
       "66     276558944      2\n",
       "84     351125977      2\n",
       "97     393266494      2\n",
       "114    457167155      2\n",
       "119    471551937      2\n",
       "122    477780734      2\n",
       "192    818047933      2\n",
       "236    963407295      2\n",
       "299   1230306981      2\n",
       "311   1294878855      2\n",
       "316   1316129916      2\n",
       "318   1333886533      2\n",
       "340   1404934699      2\n",
       "386   1602967004      2\n",
       "393   1614305549      2\n",
       "402   1648269707      2\n",
       "406   1668030113      2\n",
       "422   1738359350      2\n",
       "436   1801183820      2\n",
       "469   1959144690      2\n",
       "487   2038680547      2\n",
       "491   2044997962      2\n",
       "569   2378935119      2\n",
       "591   2458001652      2\n",
       "614   2579882178      2\n",
       "619   2587333274      2\n",
       "622   2600415354      2\n",
       "639   2654030115      2\n",
       "648   2686716486      2\n",
       "661   2712142231      2\n",
       "662   2716752286      2\n",
       "677   2780786433      2\n",
       "710   2927087541      2\n",
       "715   2949041841      2\n",
       "718   2954449915      2\n",
       "744   3062433592      2\n",
       "784   3202540741      2\n",
       "792   3234906277      2\n",
       "884   3656415546      2\n",
       "897   3717692402      2\n",
       "909   3766097110      2\n",
       "917   3803269165      2\n",
       "932   3891541246      2\n",
       "950   3941795274      2\n",
       "954   3951559397      2\n",
       "957   3957174400      2\n",
       "958   3963646447      2\n",
       "960   3972127743      2\n",
       "963   3984495233      2\n",
       "984   4069496402      2\n",
       "992   4120364173      2\n",
       "1009  4186807279      2\n",
       "1023  4256040402      2\n",
       "1026  4266935830      2"
      ]
     },
     "metadata": {},
     "output_type": "display_data"
    }
   ],
   "source": [
    "usersAB = orders.groupby('visitor_id').agg({'group' : 'nunique'}).reset_index()\n",
    "usersAB = usersAB.query('group>1')\n",
    "display(usersAB)"
   ]
  },
  {
   "cell_type": "markdown",
   "metadata": {},
   "source": [
    "Принято решение их не удалять, но будем брать во внимание что такие покупатели существуют."
   ]
  },
  {
   "cell_type": "code",
   "execution_count": 26,
   "metadata": {},
   "outputs": [],
   "source": [
    "#подготовка данных к анализу\n",
    "visitorsADaily = visitors[visitors['group'] == 'A'][['date', 'visitors']]\n",
    "visitorsADaily.columns = ['date', 'visitorsPerDateA']"
   ]
  },
  {
   "cell_type": "markdown",
   "metadata": {},
   "source": [
    "количество пользователей до выбранной даты включительно в группе A"
   ]
  },
  {
   "cell_type": "code",
   "execution_count": 27,
   "metadata": {},
   "outputs": [],
   "source": [
    "visitorsACummulative = visitorsADaily.apply(\n",
    "    lambda x: visitorsADaily[visitorsADaily['date'] <= x['date']].agg(\n",
    "        {'date': 'max', 'visitorsPerDateA': 'sum'}\n",
    "    ),\n",
    "    axis=1,\n",
    ")\n",
    "visitorsACummulative.columns = ['date', 'visitorsCummulativeA']"
   ]
  },
  {
   "cell_type": "code",
   "execution_count": 28,
   "metadata": {},
   "outputs": [],
   "source": [
    "#подготовка данных к анализу\n",
    "visitorsBDaily = visitors[visitors['group'] == 'B'][['date', 'visitors']]\n",
    "visitorsBDaily.columns = ['date', 'visitorsPerDateB']"
   ]
  },
  {
   "cell_type": "markdown",
   "metadata": {},
   "source": [
    "количество пользователей до выбранной даты включительно в группе B"
   ]
  },
  {
   "cell_type": "code",
   "execution_count": 29,
   "metadata": {},
   "outputs": [],
   "source": [
    "visitorsBCummulative = visitorsBDaily.apply(\n",
    "    lambda x: visitorsBDaily[visitorsBDaily['date'] <= x['date']].agg(\n",
    "        {'date': 'max', 'visitorsPerDateB': 'sum'}\n",
    "    ),\n",
    "    axis=1,\n",
    ")\n",
    "visitorsBCummulative.columns = ['date', 'visitorsCummulativeB']"
   ]
  },
  {
   "cell_type": "code",
   "execution_count": 30,
   "metadata": {},
   "outputs": [],
   "source": [
    "ordersADaily = (\n",
    "    orders[orders['group'] == 'A'][['date', 'transaction_id', 'visitor_id', 'revenue']]\n",
    "    .groupby('date', as_index=False)\n",
    "    .agg({'transaction_id': pd.Series.nunique, 'revenue': 'sum'})\n",
    ")\n",
    "ordersADaily.columns = ['date', 'ordersPerDateA', 'revenuePerDateA']"
   ]
  },
  {
   "cell_type": "markdown",
   "metadata": {},
   "source": [
    "суммарное число заказов до выбранной даты включительно в группе A"
   ]
  },
  {
   "cell_type": "code",
   "execution_count": 31,
   "metadata": {},
   "outputs": [],
   "source": [
    "ordersACummulative = ordersADaily.apply(\n",
    "    lambda x: ordersADaily[ordersADaily['date'] <= x['date']].agg(\n",
    "        {'date': 'max', 'ordersPerDateA': 'sum', 'revenuePerDateA': 'sum'}\n",
    "    ),\n",
    "    axis=1,\n",
    ").sort_values(by=['date'])\n",
    "ordersACummulative.columns = [\n",
    "    'date',\n",
    "    'ordersCummulativeA',\n",
    "    'revenueCummulativeA',\n",
    "]"
   ]
  },
  {
   "cell_type": "code",
   "execution_count": 32,
   "metadata": {},
   "outputs": [],
   "source": [
    "ordersBDaily = (\n",
    "    orders[orders['group'] == 'B'][['date', 'transaction_id', 'visitor_id', 'revenue']]\n",
    "    .groupby('date', as_index=False)\n",
    "    .agg({'transaction_id': pd.Series.nunique, 'revenue': 'sum'})\n",
    ")\n",
    "ordersBDaily.columns = ['date', 'ordersPerDateB', 'revenuePerDateB']"
   ]
  },
  {
   "cell_type": "markdown",
   "metadata": {},
   "source": [
    "суммарное количество заказов до выбранной даты включительно в группе B"
   ]
  },
  {
   "cell_type": "code",
   "execution_count": 33,
   "metadata": {},
   "outputs": [],
   "source": [
    "ordersBCummulative = ordersBDaily.apply(\n",
    "    lambda x: ordersBDaily[ordersBDaily['date'] <= x['date']].agg(\n",
    "        {'date': 'max', 'ordersPerDateB': 'sum', 'revenuePerDateB': 'sum'}\n",
    "    ),\n",
    "    axis=1,\n",
    ").sort_values(by=['date'])\n",
    "ordersBCummulative.columns = [\n",
    "    'date',\n",
    "    'ordersCummulativeB',\n",
    "    'revenueCummulativeB',\n",
    "]"
   ]
  },
  {
   "cell_type": "code",
   "execution_count": 34,
   "metadata": {},
   "outputs": [],
   "source": [
    "df = (\n",
    "    ordersADaily.merge(\n",
    "        ordersBDaily, left_on='date', right_on='date', how='left'\n",
    "    )\n",
    "    .merge(ordersACummulative, left_on='date', right_on='date', how='left')\n",
    "    .merge(ordersBCummulative, left_on='date', right_on='date', how='left')\n",
    "    .merge(visitorsADaily, left_on='date', right_on='date', how='left')\n",
    "    .merge(visitorsBDaily, left_on='date', right_on='date', how='left')\n",
    "    .merge(visitorsACummulative, left_on='date', right_on='date', how='left')\n",
    "    .merge(visitorsBCummulative, left_on='date', right_on='date', how='left')\n",
    ")\n"
   ]
  },
  {
   "cell_type": "markdown",
   "metadata": {},
   "source": [
    "### График кумулятивной выручки группам"
   ]
  },
  {
   "cell_type": "code",
   "execution_count": 35,
   "metadata": {},
   "outputs": [
    {
     "data": {
      "image/png": "[encoded data removed]",
      "text/plain": [
       "<Figure size 432x288 with 1 Axes>"
      ]
     },
     "metadata": {
      "needs_background": "light"
     },
     "output_type": "display_data"
    }
   ],
   "source": [
    "plt.plot(df['date'], df['revenueCummulativeA'], label='A')\n",
    "# Строим график выручки группы B\n",
    "plt.plot(df['date'], df['revenueCummulativeB'], label='B')\n",
    "plt.xticks(rotation= 45)\n",
    "plt.title('График кумулятивной выручки группам')\n",
    "plt.xlabel('Дата')\n",
    "plt.ylabel('Кумулятивная выручка')\n",
    "plt.legend() \n",
    "plt.show()"
   ]
  },
  {
   "cell_type": "markdown",
   "metadata": {},
   "source": [
    "Вывод: судя по графику можно сделать вывод, что группа B является лидером. Вначале месяца обе группы шли достаточно ровно, но после 17 числа группа B стремительно растет. Можно заметить аномальный скачок в районе 18-19 чисел, скорее всего это заказ с аномально высокой стоимостью."
   ]
  },
  {
   "cell_type": "markdown",
   "metadata": {},
   "source": [
    "### График кумулятивного среднего чека по группам"
   ]
  },
  {
   "cell_type": "code",
   "execution_count": 36,
   "metadata": {},
   "outputs": [
    {
     "data": {
      "image/png": "[encoded data removed]",
      "text/plain": [
       "<Figure size 432x288 with 1 Axes>"
      ]
     },
     "metadata": {
      "needs_background": "light"
     },
     "output_type": "display_data"
    }
   ],
   "source": [
    "plt.plot(df['date'], df['revenueCummulativeA']/df['ordersCummulativeA'], label='A')\n",
    "plt.plot(df['date'], df['revenueCummulativeB']/df['ordersCummulativeB'], label='B')\n",
    "plt.xticks(rotation= 45)\n",
    "plt.title('График среднего чека по группам')\n",
    "plt.xlabel('Дата')\n",
    "plt.ylabel('Средний чек')\n",
    "plt.legend() \n",
    "plt.show()"
   ]
  },
  {
   "cell_type": "markdown",
   "metadata": {},
   "source": [
    "Вывод: Судя по графику можно сделать вывод, что лидером является группа B. Также можно заметить стремительный рост после 17 числа. На это влияют аномальные значения. "
   ]
  },
  {
   "cell_type": "markdown",
   "metadata": {},
   "source": [
    "### График относительного изменения кумулятивного среднего чека группы B к группе A."
   ]
  },
  {
   "cell_type": "code",
   "execution_count": 37,
   "metadata": {},
   "outputs": [
    {
     "data": {
      "image/png": "[encoded data removed]",
      "text/plain": [
       "<Figure size 432x288 with 1 Axes>"
      ]
     },
     "metadata": {
      "needs_background": "light"
     },
     "output_type": "display_data"
    }
   ],
   "source": [
    "\n",
    "# cтроим отношение средних чеков\n",
    "plt.plot(df['date'], (df['revenueCummulativeB']/df['ordersCummulativeB'])/(df['revenueCummulativeA']/df['ordersCummulativeA'])-1)\n",
    "\n",
    "# добавляем ось X\n",
    "plt.axhline(y=0, color='black', linestyle='--') \n",
    "plt.xticks(rotation= 45)\n",
    "plt.title('График относительного изменения кумулятивного среднего чека по группам')\n",
    "plt.xlabel('Дата')\n",
    "plt.ylabel('Изменение кумулятивного среднего чека ')\n",
    "plt.show()"
   ]
  },
  {
   "cell_type": "markdown",
   "metadata": {},
   "source": [
    "Вывод: Можно заметить значительный всплеск в районе 18-19 чисел, скорее всего на это влияют аномальные значения. "
   ]
  },
  {
   "cell_type": "markdown",
   "metadata": {},
   "source": [
    "### График кумулятивного среднего количества заказов по группам"
   ]
  },
  {
   "cell_type": "code",
   "execution_count": 38,
   "metadata": {},
   "outputs": [
    {
     "data": {
      "text/plain": [
       "0       719\n",
       "1      1338\n",
       "2      1845\n",
       "3      2562\n",
       "4      3318\n",
       "5      3985\n",
       "6      4629\n",
       "7      5239\n",
       "8      5856\n",
       "9      6262\n",
       "10     6980\n",
       "11     7575\n",
       "12     8323\n",
       "13     9058\n",
       "14     9686\n",
       "15    10047\n",
       "16    10459\n",
       "17    11127\n",
       "18    11629\n",
       "19    12204\n",
       "20    12850\n",
       "21    13459\n",
       "22    13927\n",
       "23    14322\n",
       "24    14943\n",
       "25    15665\n",
       "26    16376\n",
       "27    16970\n",
       "28    17547\n",
       "29    18037\n",
       "30    18736\n",
       "Name: visitorsCummulativeA, dtype: int64"
      ]
     },
     "execution_count": 38,
     "metadata": {},
     "output_type": "execute_result"
    }
   ],
   "source": [
    "df['visitorsCummulativeA']"
   ]
  },
  {
   "cell_type": "code",
   "execution_count": 39,
   "metadata": {},
   "outputs": [
    {
     "data": {
      "image/png": "[encoded data removed]",
      "text/plain": [
       "<Figure size 432x288 with 1 Axes>"
      ]
     },
     "metadata": {
      "needs_background": "light"
     },
     "output_type": "display_data"
    }
   ],
   "source": [
    "# Строим график выручки группы А\n",
    "plt.plot(df['ordersCummulativeA']/ df['visitorsCummulativeA'], label='A')\n",
    "# Строим график выручки группы B\n",
    "plt.plot(df['ordersCummulativeB']/ df['visitorsCummulativeB'], label='B')\n",
    "plt.title('График кумулятивного среднего количества заказов по группам')\n",
    "plt.xlabel('Дата')\n",
    "plt.ylabel('Кумулятивное среднее количество заказов ')\n",
    "plt.legend() \n",
    "plt.show()"
   ]
  },
  {
   "cell_type": "markdown",
   "metadata": {},
   "source": [
    "Вывод: Судя по графику лидером по среднему количеству заказов является группа B. Можно также заметить, что для группы В после 15 числа количество заказов стабилизируется."
   ]
  },
  {
   "cell_type": "markdown",
   "metadata": {},
   "source": [
    "### График относительного изменения кумулятивного среднего количества заказов группы B к группе A"
   ]
  },
  {
   "cell_type": "code",
   "execution_count": 40,
   "metadata": {},
   "outputs": [
    {
     "data": {
      "image/png": "[encoded data removed]",
      "text/plain": [
       "<Figure size 432x288 with 1 Axes>"
      ]
     },
     "metadata": {
      "needs_background": "light"
     },
     "output_type": "display_data"
    }
   ],
   "source": [
    "\n",
    "# cтроим отношение средних чеков\n",
    "plt.plot(df['date'], (df['ordersCummulativeB']/df['visitorsCummulativeB'])/(df['ordersCummulativeA']/ df['visitorsCummulativeA'])-1)\n",
    "\n",
    "# добавляем ось X\n",
    "plt.axhline(y=0, color='black', linestyle='--') \n",
    "plt.xticks(rotation= 45)\n",
    "plt.title('График относительного изменения кумулятивного среднего количества заказов  по группам')\n",
    "plt.xlabel('Дата')\n",
    "plt.ylabel('Кумулятивное среднее количество заказов ')\n",
    "plt.show()"
   ]
  },
  {
   "cell_type": "markdown",
   "metadata": {},
   "source": [
    "Вывод: В некоторых точках график скачет. В начале месяца среднее количество заказов для группы А было выше чем для группы В, однако в последствии после 5 числа, можно заметить значительный рост среднего количества заказов у группы В. "
   ]
  },
  {
   "cell_type": "markdown",
   "metadata": {},
   "source": [
    "Создадим переменную для заказов по пользователям"
   ]
  },
  {
   "cell_type": "code",
   "execution_count": 41,
   "metadata": {},
   "outputs": [],
   "source": [
    "ordersByUsers = (\n",
    "    orders.groupby('visitor_id', as_index=False)\n",
    "    .agg({'transaction_id': 'nunique'})\n",
    ")\n",
    "\n",
    "ordersByUsers.columns = ['user_id', 'orders']\n"
   ]
  },
  {
   "cell_type": "markdown",
   "metadata": {},
   "source": [
    "### Точечный график количества заказов по пользователям"
   ]
  },
  {
   "cell_type": "code",
   "execution_count": 42,
   "metadata": {
    "scrolled": true
   },
   "outputs": [
    {
     "data": {
      "image/png": "[encoded data removed]",
      "text/plain": [
       "<Figure size 432x288 with 1 Axes>"
      ]
     },
     "metadata": {
      "needs_background": "light"
     },
     "output_type": "display_data"
    },
    {
     "data": {
      "text/plain": [
       "<Figure size 720x432 with 0 Axes>"
      ]
     },
     "metadata": {},
     "output_type": "display_data"
    }
   ],
   "source": [
    "x_values = pd.Series(range(0, len(ordersByUsers)))\n",
    "plt.scatter(x_values, ordersByUsers['orders']) \n",
    "plt.title('График количества заказов по пользователям')\n",
    "plt.xlabel('Заказы')\n",
    "plt.ylabel('Количество заказов по пользователям')\n",
    "plt.figure(figsize=(10,6))\n",
    "plt.show()"
   ]
  },
  {
   "cell_type": "markdown",
   "metadata": {},
   "source": [
    "Вывод: судя по графику можно сделать вывод, что больше всего пользователей которые совершили 1  заказ. А аномальными можно назвать выше 4 заказов. "
   ]
  },
  {
   "cell_type": "markdown",
   "metadata": {},
   "source": [
    "### Расчет 95-й и 99-й перцентили стоимости заказов"
   ]
  },
  {
   "cell_type": "code",
   "execution_count": 43,
   "metadata": {},
   "outputs": [
    {
     "name": "stdout",
     "output_type": "stream",
     "text": [
      "[2. 4.]\n"
     ]
    }
   ],
   "source": [
    "print(np.percentile(ordersByUsers['orders'], [95, 99]))"
   ]
  },
  {
   "cell_type": "markdown",
   "metadata": {},
   "source": [
    "Вывод: Можно сделать вывод, что не более 1% пользователей сделали больше 4 заказов, не более 5 процентов пользователей совершили больше 2 заказов.  Можно признать аномалиями количество заказов выше 2."
   ]
  },
  {
   "cell_type": "markdown",
   "metadata": {},
   "source": [
    "### Точечный график стоимостей заказов. "
   ]
  },
  {
   "cell_type": "code",
   "execution_count": 44,
   "metadata": {},
   "outputs": [
    {
     "data": {
      "image/png": "[encoded data removed]",
      "text/plain": [
       "<Figure size 720x432 with 1 Axes>"
      ]
     },
     "metadata": {
      "needs_background": "light"
     },
     "output_type": "display_data"
    }
   ],
   "source": [
    "x_values = pd.Series(range(0,len(orders['revenue'])))\n",
    "plt.figure(figsize=(10,6))\n",
    "plt.title('График стоимостей заказов')\n",
    "plt.xlabel('Заказы')\n",
    "plt.ylabel('Стоимость заказов ')\n",
    "plt.ylim(0,300000)\n",
    "plt.scatter(x_values, orders['revenue'])\n",
    "plt.show()"
   ]
  },
  {
   "cell_type": "markdown",
   "metadata": {},
   "source": [
    "Вывод: судя по графику можно увидеть выбросы, где значения стоимости заказов больше 200 000."
   ]
  },
  {
   "cell_type": "markdown",
   "metadata": {},
   "source": [
    "### Расчет 95-й и 99-й перцентилей стоимости заказов"
   ]
  },
  {
   "cell_type": "markdown",
   "metadata": {},
   "source": [
    "Создадим переменные ordersByUsersA и ordersByUsersB, где для пользователей совершивших хотя бы один заказ укажем количество заказов"
   ]
  },
  {
   "cell_type": "code",
   "execution_count": 45,
   "metadata": {},
   "outputs": [
    {
     "name": "stdout",
     "output_type": "stream",
     "text": [
      "[28000.  58233.2]\n"
     ]
    }
   ],
   "source": [
    "print(np.percentile(orders['revenue'], [95, 99]))"
   ]
  },
  {
   "cell_type": "markdown",
   "metadata": {},
   "source": [
    "Вывод: не более 1% пользователей совершили заказ стоимостью выше 58 233,2. И не более 5 процентов пользователей совершили заказ выше 28 000. В качестве границы аномальныз заказов выберем значение 58233,2."
   ]
  },
  {
   "cell_type": "markdown",
   "metadata": {},
   "source": [
    "### Статистическая значимость различий в среднем количестве заказов между группами по «сырым» данным. "
   ]
  },
  {
   "cell_type": "markdown",
   "metadata": {},
   "source": [
    " Нулевая гипотеза: различий в среднем количестве заказов между группами нет.\n",
    " \n",
    " Альтернативная гипотеза: различия в среднем количестве заказов между группами есть."
   ]
  },
  {
   "cell_type": "code",
   "execution_count": 46,
   "metadata": {},
   "outputs": [],
   "source": [
    "ordersByUsersA = (\n",
    "    orders[orders['group'] == 'A']\n",
    "    .groupby('visitor_id', as_index=False)\n",
    "    .agg({'transaction_id': pd.Series.nunique})\n",
    ")\n",
    "ordersByUsersA.columns = ['user_id', 'orders']\n"
   ]
  },
  {
   "cell_type": "code",
   "execution_count": 47,
   "metadata": {},
   "outputs": [],
   "source": [
    "ordersByUsersB = (\n",
    "    orders[orders['group'] == 'B']\n",
    "    .groupby('visitor_id', as_index=False)\n",
    "    .agg({'transaction_id': pd.Series.nunique})\n",
    ")\n",
    "ordersByUsersB.columns = ['user_id', 'orders'] "
   ]
  },
  {
   "cell_type": "markdown",
   "metadata": {},
   "source": [
    "Переменные sampleA и sampleB, в которых пользователям из разных групп будет соответствовать количество заказов. "
   ]
  },
  {
   "cell_type": "code",
   "execution_count": 48,
   "metadata": {},
   "outputs": [],
   "source": [
    "sampleA = pd.concat(\n",
    "    [\n",
    "        ordersByUsersA['orders'],\n",
    "        pd.Series(\n",
    "            0,\n",
    "            index=np.arange(\n",
    "                df['visitorsPerDateA'].sum() - len(ordersByUsersA['orders'])\n",
    "            ),\n",
    "            name='orders',\n",
    "        ),\n",
    "    ],\n",
    "    axis=0,\n",
    ")\n",
    "\n"
   ]
  },
  {
   "cell_type": "code",
   "execution_count": 49,
   "metadata": {},
   "outputs": [],
   "source": [
    "sampleB = pd.concat(\n",
    "    [\n",
    "        ordersByUsersB['orders'],\n",
    "        pd.Series(\n",
    "            0,\n",
    "            index=np.arange(\n",
    "                df['visitorsPerDateB'].sum() - len(ordersByUsersB['orders'])\n",
    "            ),\n",
    "            name='orders',\n",
    "        ),\n",
    "    ],\n",
    "    axis=0,\n",
    ")\n"
   ]
  },
  {
   "cell_type": "markdown",
   "metadata": {},
   "source": [
    "Выведем значение p-value и относительный прирост среднего числа заказов "
   ]
  },
  {
   "cell_type": "code",
   "execution_count": 50,
   "metadata": {},
   "outputs": [
    {
     "name": "stdout",
     "output_type": "stream",
     "text": [
      "p-value : 0.017\n",
      "Относительный прирост среднего числа заказов : 0.138\n"
     ]
    }
   ],
   "source": [
    "print(\"p-value : {0:.3f}\".format(stats.mannwhitneyu(sampleA, sampleB)[1]))\n",
    "\n",
    "print(\"Относительный прирост среднего числа заказов : {0:.3f}\".format(sampleB.mean() / sampleA.mean() - 1))"
   ]
  },
  {
   "cell_type": "markdown",
   "metadata": {},
   "source": [
    "Вывод: судя по «сырым» данным можно сделать вывод, что в среднем числе заказов групп A и B отличия есть, т.к. 0.017<0.05.\n",
    "Относительный выигрыш группы B равен 13,8%."
   ]
  },
  {
   "cell_type": "markdown",
   "metadata": {},
   "source": [
    "### Статистическая значимость различий в среднем чеке заказа между группами по «сырым» данным."
   ]
  },
  {
   "cell_type": "markdown",
   "metadata": {},
   "source": [
    "Нулевая гипотеза: различий в среднем чеке заказа между группами нет.\n",
    "\n",
    "Альтернативная гипотеза: различия в среднем чеке заказа между группами есть."
   ]
  },
  {
   "cell_type": "code",
   "execution_count": 51,
   "metadata": {},
   "outputs": [
    {
     "name": "stdout",
     "output_type": "stream",
     "text": [
      "p-value : 0.729\n",
      "Относительный прирост среднего числа заказов : 0.259\n"
     ]
    }
   ],
   "source": [
    "print('p-value : {0:.3f}'.format(stats.mannwhitneyu(orders[orders['group']=='A']['revenue'], orders[orders['group']=='B']['revenue'])[1]))\n",
    "print('Относительный прирост среднего числа заказов : {0:.3f}'.format(orders[orders['group']=='B']['revenue'].mean()/orders[orders['group']=='A']['revenue'].mean()-1))"
   ]
  },
  {
   "cell_type": "markdown",
   "metadata": {},
   "source": [
    "Вывод: P-value значительно больше 0.05. Значит, причин отвергать нулевую гипотезу и считать, что в среднем чеке есть различия, нет. Также средний чек группы В превышает средний чек группы А.\n",
    "Поскольку значение p-value значительно выше 0,05, а средний чек группы В превышает средний чек группы А на 26%, это может говорить о влиянии выбросов."
   ]
  },
  {
   "cell_type": "markdown",
   "metadata": {},
   "source": [
    "Определим количество аномальных значений. Ранее мы установили, что аномальными признаем количество заказов больше 2, а сумму заказа более 58000"
   ]
  },
  {
   "cell_type": "code",
   "execution_count": 52,
   "metadata": {},
   "outputs": [
    {
     "name": "stdout",
     "output_type": "stream",
     "text": [
      "1099    148427295\n",
      "18      199603092\n",
      "23      237748145\n",
      "37      249864742\n",
      "68      457167155\n",
      "dtype: int64\n",
      "31\n"
     ]
    }
   ],
   "source": [
    "usersWithManyOrders = pd.concat(\n",
    "    [\n",
    "        ordersByUsersA[ordersByUsersA['orders'] > 2]['user_id'],\n",
    "        ordersByUsersB[ordersByUsersB['orders'] > 2]['user_id'],\n",
    "    ],\n",
    "    axis=0,\n",
    ")\n",
    "usersWithExpensiveOrders = orders[orders['revenue'] > 58233.2]['visitor_id']\n",
    "abnormalUsers = (\n",
    "    pd.concat([usersWithManyOrders, usersWithExpensiveOrders], axis=0)\n",
    "    .drop_duplicates()\n",
    "    .sort_values()\n",
    ")\n",
    "print(abnormalUsers.head(5))\n",
    "print(abnormalUsers.shape[0])"
   ]
  },
  {
   "cell_type": "markdown",
   "metadata": {},
   "source": [
    "Вывод: Количество аномальных пользователей - 31."
   ]
  },
  {
   "cell_type": "markdown",
   "metadata": {},
   "source": [
    "### Статистическая значимость различий в среднем количестве заказов между группами по «очищенным» данным"
   ]
  },
  {
   "cell_type": "markdown",
   "metadata": {},
   "source": [
    "Подготовим выборки количества заказов по пользователям по группам теста"
   ]
  },
  {
   "cell_type": "code",
   "execution_count": 53,
   "metadata": {},
   "outputs": [],
   "source": [
    "sampleAFiltered = pd.concat(\n",
    "    [\n",
    "        ordersByUsersA[\n",
    "            np.logical_not(ordersByUsersA['user_id'].isin(abnormalUsers))\n",
    "        ]['orders'],\n",
    "        pd.Series(\n",
    "            0,\n",
    "            index=np.arange(\n",
    "                df['visitorsPerDateA'].sum() - len(ordersByUsersA['orders'])\n",
    "            ),\n",
    "            name='orders',\n",
    "        ),\n",
    "    ],\n",
    "    axis=0,\n",
    ")\n"
   ]
  },
  {
   "cell_type": "code",
   "execution_count": 54,
   "metadata": {},
   "outputs": [],
   "source": [
    "sampleBFiltered = pd.concat(\n",
    "    [\n",
    "        ordersByUsersB[\n",
    "            np.logical_not(ordersByUsersB['user_id'].isin(abnormalUsers))\n",
    "        ]['orders'],\n",
    "        pd.Series(\n",
    "            0,\n",
    "            index=np.arange(\n",
    "                df['visitorsPerDateB'].sum() - len(ordersByUsersB['orders'])\n",
    "            ),\n",
    "            name='orders',\n",
    "        ),\n",
    "    ],\n",
    "    axis=0,\n",
    ")"
   ]
  },
  {
   "cell_type": "markdown",
   "metadata": {},
   "source": [
    " Статистический критерий Манна-Уитни к полученным выборкам"
   ]
  },
  {
   "cell_type": "code",
   "execution_count": 55,
   "metadata": {},
   "outputs": [
    {
     "name": "stdout",
     "output_type": "stream",
     "text": [
      "p-value : 0.010\n",
      "Относительный прирост среднего числа заказов : 0.174\n"
     ]
    }
   ],
   "source": [
    "print('p-value : {0:.3f}'.format(stats.mannwhitneyu(sampleAFiltered, sampleBFiltered)[1]))\n",
    "print('Относительный прирост среднего числа заказов : {0:.3f}'.format(sampleBFiltered.mean()/sampleAFiltered.mean()-1)) "
   ]
  },
  {
   "cell_type": "markdown",
   "metadata": {},
   "source": [
    "Вывод: В сравнении с результатами по «сырым» данным значение p-value снизилось на 0,007 и оно по прежнему меньше 0,05.\n",
    "Однако выигрыш группы B увеличился и вместо 13,8% стал составлять 17,4%. "
   ]
  },
  {
   "cell_type": "markdown",
   "metadata": {},
   "source": [
    "### Статистическая значимость различий в среднем чеке заказа между группами по «очищенным» данным. "
   ]
  },
  {
   "cell_type": "code",
   "execution_count": 56,
   "metadata": {},
   "outputs": [
    {
     "name": "stdout",
     "output_type": "stream",
     "text": [
      "p-value : 0.798\n",
      "Относительный прирост среднего числа заказов : -0.020\n"
     ]
    }
   ],
   "source": [
    "print(\n",
    "    'p-value : {0:.3f}'.format(\n",
    "        stats.mannwhitneyu(\n",
    "            orders[\n",
    "                np.logical_and(\n",
    "                    orders['group'] == 'A',\n",
    "                    np.logical_not(orders['visitor_id'].isin(abnormalUsers)),\n",
    "                )\n",
    "            ]['revenue'],\n",
    "            orders[\n",
    "                np.logical_and(\n",
    "                    orders['group'] == 'B',\n",
    "                    np.logical_not(orders['visitor_id'].isin(abnormalUsers)),\n",
    "                )\n",
    "            ]['revenue'],\n",
    "        )[1]\n",
    "    )\n",
    ")\n",
    "\n",
    "print(\n",
    "    \"Относительный прирост среднего числа заказов : {0:.3f}\".format(\n",
    "        orders[\n",
    "            np.logical_and(\n",
    "                orders['group'] == 'B',\n",
    "                np.logical_not(orders['visitor_id'].isin(abnormalUsers)),\n",
    "            )\n",
    "        ]['revenue'].mean()\n",
    "        / orders[\n",
    "            np.logical_and(\n",
    "                orders['group'] == 'A',\n",
    "                np.logical_not(orders['visitor_id'].isin(abnormalUsers)),\n",
    "            )\n",
    "        ]['revenue'].mean()\n",
    "        - 1\n",
    "    )\n",
    ")"
   ]
  },
  {
   "cell_type": "markdown",
   "metadata": {},
   "source": [
    "Вывод: Значение p-value увеличилось на 0,069 и оно все также значительно превышает 0,05. Однако средний чек группы B теперь меньше среднего чека для группы А на 2%. Однако по «сырым» данным значение среднего чека для группы B превышало средний чек группы А на 26%, это связано с аномальными значениями, которые были удалены из данных. "
   ]
  },
  {
   "cell_type": "markdown",
   "metadata": {},
   "source": [
    " ### Решение по результатам теста "
   ]
  },
  {
   "cell_type": "markdown",
   "metadata": {},
   "source": [
    "Варианты решений: \n",
    "1. Остановить тест, зафиксировать победу одной из групп.\n",
    "2. Остановить тест, зафиксировать отсутствие различий между группами.\n",
    "3. Продолжить тест."
   ]
  },
  {
   "cell_type": "markdown",
   "metadata": {},
   "source": [
    "Вывод: исходя из проведенной работы, можно сделать вывод о победе группы B. Различия между группами есть, как по «сырым» так и по «очищенным» данным. Выигрыш группы В по «сырым» данным составляет 13,8% ,а по «очищенным» данным - 17,4%. \n",
    "Для среднего чека отличий нет, ведь что для «сырых» данных, что для «очищенных» значение p-value значительно превышает 0,05. И несмотря на то, что по «очищенным» данным средний чек группы В меньше среднего чека группы А на 2%, эта разница является незначительной. "
   ]
  },
  {
   "cell_type": "markdown",
   "metadata": {},
   "source": [
    "## Общие выводы"
   ]
  },
  {
   "cell_type": "markdown",
   "metadata": {},
   "source": [
    "В первой части работы над проектом была проведена приоритизация гипотез. К гипотезам были применены фреймворки ICE и RICE. Для ICE лидером таблицы является 8 гипотеза, однако в таблице RICE она опускается на 5 место. Лидером для таблицы RICE является 7 гипотеза, это связано с тем, что ее параметр reach равен 10, в то время как для других гипотез он меньше. В таблице ICE 7 гипотеза находится в тройке лидеров. Поэтому можно сделать вывод, что стоит отдать предпочтение 7 гипотезе. \n",
    "\n",
    "Вторым этапом работы над проектом является анализ A/B-теста. Была проведена предобработка данных, где для столбца с датой был изменен формат с object на datetime, а также названия нескольких столбцов были переименованы. Были обнаружены пользователи, которые присутствуют и в группе А и В, но было принято решение их не удалять. После подготовки данных к исследованию были построены графики  кумулятивной  выручки, среднего чека, среднего количества заказов по группам. А также построены графики относительного изменения кумулятивного среднего чека, среднего количества заказов группы B к группе A.\n",
    "\n",
    "Были расчитанны  95-й и 99-й, а также была проведена граница аномальных значений: 58 000 для стоимости заказа, для количество заказов - не более 2. Была расчитана статистическая значимость по «сырым» и  «очищенным» данным. \n",
    "\n",
    "Исходя из результатов теста было принято решение его остановить и зафиксировать победу за группой В. Различия между группами есть, как по «сырым» так и по «очищенным» данным. Выигрыш группы В по «сырым» данным составляет 13,8% ,а по «очищенным» данным - 17,4%. \n",
    "Для среднего чека отличий нет. И несмотря на то, что по «очищенным» данным средний чек группы В меньше среднего чека группы А на 2%, эта разница является незначительной."
   ]
  },
  {
   "cell_type": "code",
   "execution_count": null,
   "metadata": {},
   "outputs": [],
   "source": []
  }
 ],
 "metadata": {
  "ExecuteTimeLog": [
   {
    "duration": 394,
    "start_time": "2022-11-08T06:40:54.559Z"
   },
   {
    "duration": 55,
    "start_time": "2022-11-08T06:42:46.174Z"
   },
   {
    "duration": 14,
    "start_time": "2022-11-08T06:43:21.892Z"
   },
   {
    "duration": 9,
    "start_time": "2022-11-08T06:43:56.988Z"
   },
   {
    "duration": 3,
    "start_time": "2022-11-08T06:44:50.730Z"
   },
   {
    "duration": 112,
    "start_time": "2022-11-08T06:45:22.090Z"
   },
   {
    "duration": 6,
    "start_time": "2022-11-08T06:45:30.739Z"
   },
   {
    "duration": 10,
    "start_time": "2022-11-08T06:47:08.142Z"
   },
   {
    "duration": 9,
    "start_time": "2022-11-08T06:50:18.891Z"
   },
   {
    "duration": 461,
    "start_time": "2022-11-08T06:56:16.785Z"
   },
   {
    "duration": 3,
    "start_time": "2022-11-08T06:56:17.305Z"
   },
   {
    "duration": 2,
    "start_time": "2022-11-08T06:56:17.935Z"
   },
   {
    "duration": 70,
    "start_time": "2022-11-08T06:57:35.231Z"
   },
   {
    "duration": 63,
    "start_time": "2022-11-08T06:57:54.048Z"
   },
   {
    "duration": 11,
    "start_time": "2022-11-08T06:58:06.764Z"
   },
   {
    "duration": 8,
    "start_time": "2022-11-08T06:58:19.674Z"
   },
   {
    "duration": 6,
    "start_time": "2022-11-08T06:58:33.475Z"
   },
   {
    "duration": 11,
    "start_time": "2022-11-08T06:59:21.820Z"
   },
   {
    "duration": 10,
    "start_time": "2022-11-08T06:59:38.820Z"
   },
   {
    "duration": 11,
    "start_time": "2022-11-08T07:00:41.482Z"
   },
   {
    "duration": 5,
    "start_time": "2022-11-08T07:00:48.338Z"
   },
   {
    "duration": 6,
    "start_time": "2022-11-08T07:01:22.744Z"
   },
   {
    "duration": 5,
    "start_time": "2022-11-08T07:01:38.044Z"
   },
   {
    "duration": 5,
    "start_time": "2022-11-08T07:01:48.875Z"
   },
   {
    "duration": 12,
    "start_time": "2022-11-08T07:03:26.310Z"
   },
   {
    "duration": 87,
    "start_time": "2022-11-08T07:03:35.484Z"
   },
   {
    "duration": 9,
    "start_time": "2022-11-08T07:03:42.067Z"
   },
   {
    "duration": 21,
    "start_time": "2022-11-08T07:03:51.944Z"
   },
   {
    "duration": 8,
    "start_time": "2022-11-08T07:03:56.067Z"
   },
   {
    "duration": 10,
    "start_time": "2022-11-08T07:04:00.411Z"
   },
   {
    "duration": 7,
    "start_time": "2022-11-08T07:04:04.228Z"
   },
   {
    "duration": 5,
    "start_time": "2022-11-08T07:04:08.333Z"
   },
   {
    "duration": 297,
    "start_time": "2022-11-08T07:04:12.583Z"
   },
   {
    "duration": 4,
    "start_time": "2022-11-08T07:04:35.620Z"
   },
   {
    "duration": 5,
    "start_time": "2022-11-08T07:13:11.421Z"
   },
   {
    "duration": 23,
    "start_time": "2022-11-08T07:13:12.065Z"
   },
   {
    "duration": 168,
    "start_time": "2022-11-08T07:14:21.307Z"
   },
   {
    "duration": 127,
    "start_time": "2022-11-08T07:14:43.278Z"
   },
   {
    "duration": 8,
    "start_time": "2022-11-08T07:14:53.298Z"
   },
   {
    "duration": 8,
    "start_time": "2022-11-08T07:15:25.131Z"
   },
   {
    "duration": 408,
    "start_time": "2022-11-08T07:15:42.128Z"
   },
   {
    "duration": 5,
    "start_time": "2022-11-08T07:16:37.404Z"
   },
   {
    "duration": 5,
    "start_time": "2022-11-08T07:16:39.587Z"
   },
   {
    "duration": 256,
    "start_time": "2022-11-08T07:16:40.272Z"
   },
   {
    "duration": 173,
    "start_time": "2022-11-08T07:18:39.531Z"
   },
   {
    "duration": 189,
    "start_time": "2022-11-08T07:18:50.179Z"
   },
   {
    "duration": 174,
    "start_time": "2022-11-08T07:21:16.838Z"
   },
   {
    "duration": 192,
    "start_time": "2022-11-08T07:21:24.225Z"
   },
   {
    "duration": 175,
    "start_time": "2022-11-08T07:21:33.691Z"
   },
   {
    "duration": 5,
    "start_time": "2022-11-08T07:30:18.692Z"
   },
   {
    "duration": 45,
    "start_time": "2022-11-08T07:30:19.484Z"
   },
   {
    "duration": 5,
    "start_time": "2022-11-08T07:30:20.152Z"
   },
   {
    "duration": 42,
    "start_time": "2022-11-08T07:30:20.889Z"
   },
   {
    "duration": 23,
    "start_time": "2022-11-08T07:30:22.505Z"
   },
   {
    "duration": 14,
    "start_time": "2022-11-08T07:30:55.059Z"
   },
   {
    "duration": 14,
    "start_time": "2022-11-08T07:31:21.398Z"
   },
   {
    "duration": 46,
    "start_time": "2022-11-08T07:31:27.627Z"
   },
   {
    "duration": 14,
    "start_time": "2022-11-08T07:31:51.127Z"
   },
   {
    "duration": 49,
    "start_time": "2022-11-08T07:31:53.792Z"
   },
   {
    "duration": 25,
    "start_time": "2022-11-08T07:31:54.520Z"
   },
   {
    "duration": 192,
    "start_time": "2022-11-08T07:32:48.381Z"
   },
   {
    "duration": 170,
    "start_time": "2022-11-08T07:32:57.005Z"
   },
   {
    "duration": 232,
    "start_time": "2022-11-08T07:37:56.034Z"
   },
   {
    "duration": 174,
    "start_time": "2022-11-08T07:38:33.305Z"
   },
   {
    "duration": 3,
    "start_time": "2022-11-08T07:39:24.002Z"
   },
   {
    "duration": 4,
    "start_time": "2022-11-08T07:39:24.471Z"
   },
   {
    "duration": 2,
    "start_time": "2022-11-08T07:39:24.928Z"
   },
   {
    "duration": 3,
    "start_time": "2022-11-08T07:39:25.351Z"
   },
   {
    "duration": 2,
    "start_time": "2022-11-08T07:39:25.799Z"
   },
   {
    "duration": 21,
    "start_time": "2022-11-08T07:39:26.235Z"
   },
   {
    "duration": 9,
    "start_time": "2022-11-08T07:39:26.727Z"
   },
   {
    "duration": 10,
    "start_time": "2022-11-08T07:39:27.339Z"
   },
   {
    "duration": 4,
    "start_time": "2022-11-08T07:39:28.235Z"
   },
   {
    "duration": 8,
    "start_time": "2022-11-08T07:39:29.019Z"
   },
   {
    "duration": 10,
    "start_time": "2022-11-08T07:39:30.138Z"
   },
   {
    "duration": 37,
    "start_time": "2022-11-08T07:39:32.069Z"
   },
   {
    "duration": 13,
    "start_time": "2022-11-08T07:39:32.397Z"
   },
   {
    "duration": 8,
    "start_time": "2022-11-08T07:39:32.685Z"
   },
   {
    "duration": 10,
    "start_time": "2022-11-08T07:39:32.997Z"
   },
   {
    "duration": 8,
    "start_time": "2022-11-08T07:39:33.296Z"
   },
   {
    "duration": 10,
    "start_time": "2022-11-08T07:39:33.649Z"
   },
   {
    "duration": 6,
    "start_time": "2022-11-08T07:39:34.841Z"
   },
   {
    "duration": 6,
    "start_time": "2022-11-08T07:39:35.441Z"
   },
   {
    "duration": 6,
    "start_time": "2022-11-08T07:39:36.762Z"
   },
   {
    "duration": 6,
    "start_time": "2022-11-08T07:39:37.242Z"
   },
   {
    "duration": 11,
    "start_time": "2022-11-08T07:39:38.177Z"
   },
   {
    "duration": 3,
    "start_time": "2022-11-08T07:39:38.618Z"
   },
   {
    "duration": 5,
    "start_time": "2022-11-08T07:39:39.013Z"
   },
   {
    "duration": 44,
    "start_time": "2022-11-08T07:39:39.791Z"
   },
   {
    "duration": 5,
    "start_time": "2022-11-08T07:39:40.328Z"
   },
   {
    "duration": 44,
    "start_time": "2022-11-08T07:39:41.115Z"
   },
   {
    "duration": 14,
    "start_time": "2022-11-08T07:39:41.547Z"
   },
   {
    "duration": 55,
    "start_time": "2022-11-08T07:39:42.515Z"
   },
   {
    "duration": 12,
    "start_time": "2022-11-08T07:39:42.951Z"
   },
   {
    "duration": 45,
    "start_time": "2022-11-08T07:39:43.887Z"
   },
   {
    "duration": 21,
    "start_time": "2022-11-08T07:39:44.263Z"
   },
   {
    "duration": 185,
    "start_time": "2022-11-08T07:39:45.200Z"
   },
   {
    "duration": 165,
    "start_time": "2022-11-08T07:39:46.769Z"
   },
   {
    "duration": 169,
    "start_time": "2022-11-08T07:41:31.888Z"
   },
   {
    "duration": 357,
    "start_time": "2022-11-08T07:42:02.962Z"
   },
   {
    "duration": 279,
    "start_time": "2022-11-08T07:42:34.618Z"
   },
   {
    "duration": 8,
    "start_time": "2022-11-08T07:48:51.792Z"
   },
   {
    "duration": 147,
    "start_time": "2022-11-08T07:50:06.806Z"
   },
   {
    "duration": 140,
    "start_time": "2022-11-08T07:50:18.568Z"
   },
   {
    "duration": 173,
    "start_time": "2022-11-08T07:50:51.048Z"
   },
   {
    "duration": 178,
    "start_time": "2022-11-08T07:51:07.334Z"
   },
   {
    "duration": 259,
    "start_time": "2022-11-08T07:52:34.114Z"
   },
   {
    "duration": 301,
    "start_time": "2022-11-08T07:57:51.691Z"
   },
   {
    "duration": 315,
    "start_time": "2022-11-08T07:58:04.879Z"
   },
   {
    "duration": 15,
    "start_time": "2022-11-08T08:03:18.148Z"
   },
   {
    "duration": 153,
    "start_time": "2022-11-08T08:04:01.986Z"
   },
   {
    "duration": 8,
    "start_time": "2022-11-08T08:04:07.380Z"
   },
   {
    "duration": 78,
    "start_time": "2022-11-08T08:10:45.632Z"
   },
   {
    "duration": 78,
    "start_time": "2022-11-08T08:10:46.087Z"
   },
   {
    "duration": 1293,
    "start_time": "2022-11-08T08:10:46.680Z"
   },
   {
    "duration": 0,
    "start_time": "2022-11-08T08:10:47.975Z"
   },
   {
    "duration": 9,
    "start_time": "2022-11-08T08:10:48.301Z"
   },
   {
    "duration": 4,
    "start_time": "2022-11-08T08:11:02.529Z"
   },
   {
    "duration": 5,
    "start_time": "2022-11-08T08:11:06.529Z"
   },
   {
    "duration": 22,
    "start_time": "2022-11-08T08:11:07.989Z"
   },
   {
    "duration": 12,
    "start_time": "2022-11-08T08:16:49.155Z"
   },
   {
    "duration": 5,
    "start_time": "2022-11-08T08:25:13.553Z"
   },
   {
    "duration": 5,
    "start_time": "2022-11-08T08:25:25.521Z"
   },
   {
    "duration": 147,
    "start_time": "2022-11-08T08:27:20.422Z"
   },
   {
    "duration": 119,
    "start_time": "2022-11-08T08:27:34.862Z"
   },
   {
    "duration": 125,
    "start_time": "2022-11-08T08:27:49.990Z"
   },
   {
    "duration": 124,
    "start_time": "2022-11-08T08:28:27.552Z"
   },
   {
    "duration": 127,
    "start_time": "2022-11-08T08:28:33.695Z"
   },
   {
    "duration": 5,
    "start_time": "2022-11-08T08:30:07.496Z"
   },
   {
    "duration": 114,
    "start_time": "2022-11-08T08:35:21.520Z"
   },
   {
    "duration": 126,
    "start_time": "2022-11-08T08:35:29.178Z"
   },
   {
    "duration": 108,
    "start_time": "2022-11-08T08:35:33.145Z"
   },
   {
    "duration": 1220,
    "start_time": "2022-11-08T08:37:19.127Z"
   },
   {
    "duration": 136,
    "start_time": "2022-11-08T08:37:37.053Z"
   },
   {
    "duration": 273,
    "start_time": "2022-11-08T08:38:12.651Z"
   },
   {
    "duration": 208,
    "start_time": "2022-11-08T08:38:20.509Z"
   },
   {
    "duration": 156,
    "start_time": "2022-11-08T08:38:59.485Z"
   },
   {
    "duration": 182,
    "start_time": "2022-11-08T08:39:09.599Z"
   },
   {
    "duration": 218,
    "start_time": "2022-11-08T08:40:05.920Z"
   },
   {
    "duration": 179,
    "start_time": "2022-11-08T08:40:46.058Z"
   },
   {
    "duration": 152,
    "start_time": "2022-11-08T08:40:57.974Z"
   },
   {
    "duration": 143,
    "start_time": "2022-11-08T08:41:25.687Z"
   },
   {
    "duration": 131,
    "start_time": "2022-11-08T08:41:32.371Z"
   },
   {
    "duration": 129,
    "start_time": "2022-11-08T08:42:07.165Z"
   },
   {
    "duration": 141,
    "start_time": "2022-11-08T08:42:16.928Z"
   },
   {
    "duration": 4,
    "start_time": "2022-11-08T08:42:48.073Z"
   },
   {
    "duration": 122,
    "start_time": "2022-11-08T08:43:11.414Z"
   },
   {
    "duration": 148,
    "start_time": "2022-11-08T08:43:26.695Z"
   },
   {
    "duration": 145,
    "start_time": "2022-11-08T08:43:58.846Z"
   },
   {
    "duration": 142,
    "start_time": "2022-11-08T08:44:19.529Z"
   },
   {
    "duration": 151,
    "start_time": "2022-11-08T08:44:28.742Z"
   },
   {
    "duration": 141,
    "start_time": "2022-11-08T08:44:31.820Z"
   },
   {
    "duration": 152,
    "start_time": "2022-11-08T08:44:41.143Z"
   },
   {
    "duration": 174,
    "start_time": "2022-11-08T08:44:55.243Z"
   },
   {
    "duration": 173,
    "start_time": "2022-11-08T08:45:11.580Z"
   },
   {
    "duration": 167,
    "start_time": "2022-11-08T08:45:16.218Z"
   },
   {
    "duration": 245,
    "start_time": "2022-11-08T08:45:23.260Z"
   },
   {
    "duration": 144,
    "start_time": "2022-11-08T08:45:45.910Z"
   },
   {
    "duration": 146,
    "start_time": "2022-11-08T08:45:55.451Z"
   },
   {
    "duration": 175,
    "start_time": "2022-11-08T08:46:02.217Z"
   },
   {
    "duration": 141,
    "start_time": "2022-11-08T08:46:07.944Z"
   },
   {
    "duration": 4,
    "start_time": "2022-11-08T08:48:06.488Z"
   },
   {
    "duration": 1262,
    "start_time": "2022-11-08T08:48:29.986Z"
   },
   {
    "duration": 4,
    "start_time": "2022-11-08T08:48:35.987Z"
   },
   {
    "duration": 12,
    "start_time": "2022-11-08T08:54:10.464Z"
   },
   {
    "duration": 11,
    "start_time": "2022-11-08T08:54:35.673Z"
   },
   {
    "duration": 7,
    "start_time": "2022-11-08T08:56:16.631Z"
   },
   {
    "duration": 125,
    "start_time": "2022-11-08T08:56:20.619Z"
   },
   {
    "duration": 372,
    "start_time": "2022-11-08T15:39:44.858Z"
   },
   {
    "duration": 470,
    "start_time": "2022-11-08T15:39:45.284Z"
   },
   {
    "duration": 3,
    "start_time": "2022-11-08T15:39:46.131Z"
   },
   {
    "duration": 3,
    "start_time": "2022-11-08T15:39:46.596Z"
   },
   {
    "duration": 360,
    "start_time": "2022-11-08T15:39:46.942Z"
   },
   {
    "duration": 107,
    "start_time": "2022-11-08T15:39:47.304Z"
   },
   {
    "duration": 14,
    "start_time": "2022-11-08T15:39:47.605Z"
   },
   {
    "duration": 11,
    "start_time": "2022-11-08T15:39:48.005Z"
   },
   {
    "duration": 3,
    "start_time": "2022-11-08T15:39:48.631Z"
   },
   {
    "duration": 9,
    "start_time": "2022-11-08T15:39:48.995Z"
   },
   {
    "duration": 8,
    "start_time": "2022-11-08T15:39:49.478Z"
   },
   {
    "duration": 67,
    "start_time": "2022-11-08T15:39:50.537Z"
   },
   {
    "duration": 60,
    "start_time": "2022-11-08T15:39:50.718Z"
   },
   {
    "duration": 8,
    "start_time": "2022-11-08T15:39:50.899Z"
   },
   {
    "duration": 10,
    "start_time": "2022-11-08T15:39:51.082Z"
   },
   {
    "duration": 8,
    "start_time": "2022-11-08T15:39:51.260Z"
   },
   {
    "duration": 10,
    "start_time": "2022-11-08T15:39:51.439Z"
   },
   {
    "duration": 6,
    "start_time": "2022-11-08T15:39:51.974Z"
   },
   {
    "duration": 6,
    "start_time": "2022-11-08T15:39:52.150Z"
   },
   {
    "duration": 6,
    "start_time": "2022-11-08T15:39:52.347Z"
   },
   {
    "duration": 5,
    "start_time": "2022-11-08T15:39:52.542Z"
   },
   {
    "duration": 11,
    "start_time": "2022-11-08T15:39:52.938Z"
   },
   {
    "duration": 4,
    "start_time": "2022-11-08T15:39:53.134Z"
   },
   {
    "duration": 5,
    "start_time": "2022-11-08T15:39:53.714Z"
   },
   {
    "duration": 47,
    "start_time": "2022-11-08T15:39:54.103Z"
   },
   {
    "duration": 4,
    "start_time": "2022-11-08T15:39:54.290Z"
   },
   {
    "duration": 41,
    "start_time": "2022-11-08T15:39:54.680Z"
   },
   {
    "duration": 18,
    "start_time": "2022-11-08T15:39:54.874Z"
   },
   {
    "duration": 46,
    "start_time": "2022-11-08T15:39:55.272Z"
   },
   {
    "duration": 17,
    "start_time": "2022-11-08T15:39:55.475Z"
   },
   {
    "duration": 48,
    "start_time": "2022-11-08T15:39:55.908Z"
   },
   {
    "duration": 25,
    "start_time": "2022-11-08T15:39:56.128Z"
   },
   {
    "duration": 91,
    "start_time": "2022-11-08T15:39:56.596Z"
   },
   {
    "duration": 9,
    "start_time": "2022-11-08T15:39:57.544Z"
   },
   {
    "duration": 274,
    "start_time": "2022-11-08T15:42:08.205Z"
   },
   {
    "duration": 166,
    "start_time": "2022-11-08T15:43:24.372Z"
   },
   {
    "duration": 10,
    "start_time": "2022-11-08T15:43:31.873Z"
   },
   {
    "duration": 288,
    "start_time": "2022-11-08T15:45:06.173Z"
   },
   {
    "duration": 133,
    "start_time": "2022-11-08T15:45:10.217Z"
   },
   {
    "duration": 274,
    "start_time": "2022-11-08T15:45:14.382Z"
   },
   {
    "duration": 157,
    "start_time": "2022-11-08T15:46:05.633Z"
   },
   {
    "duration": 255,
    "start_time": "2022-11-08T15:48:23.180Z"
   },
   {
    "duration": 7,
    "start_time": "2022-11-08T15:48:49.040Z"
   },
   {
    "duration": 110,
    "start_time": "2022-11-08T15:48:50.156Z"
   },
   {
    "duration": 4,
    "start_time": "2022-11-08T15:48:53.715Z"
   },
   {
    "duration": 133,
    "start_time": "2022-11-08T15:48:55.873Z"
   },
   {
    "duration": 5,
    "start_time": "2022-11-08T15:48:59.581Z"
   },
   {
    "duration": 67,
    "start_time": "2022-11-08T15:49:02.803Z"
   },
   {
    "duration": 71,
    "start_time": "2022-11-08T15:49:03.300Z"
   },
   {
    "duration": 5,
    "start_time": "2022-11-08T15:49:04.479Z"
   },
   {
    "duration": 5,
    "start_time": "2022-11-08T15:49:05.733Z"
   },
   {
    "duration": 20,
    "start_time": "2022-11-08T15:49:06.551Z"
   },
   {
    "duration": 10,
    "start_time": "2022-11-08T15:49:09.744Z"
   },
   {
    "duration": 1220,
    "start_time": "2022-11-08T15:49:11.766Z"
   },
   {
    "duration": 68,
    "start_time": "2022-11-08T15:53:59.711Z"
   },
   {
    "duration": 1140,
    "start_time": "2022-11-08T15:59:19.362Z"
   },
   {
    "duration": 1183,
    "start_time": "2022-11-08T15:59:44.011Z"
   },
   {
    "duration": 75,
    "start_time": "2022-11-08T16:00:02.175Z"
   },
   {
    "duration": 72,
    "start_time": "2022-11-08T16:00:02.879Z"
   },
   {
    "duration": 5,
    "start_time": "2022-11-08T16:00:06.517Z"
   },
   {
    "duration": 5,
    "start_time": "2022-11-08T16:00:06.966Z"
   },
   {
    "duration": 1293,
    "start_time": "2022-11-08T16:00:10.481Z"
   },
   {
    "duration": 8,
    "start_time": "2022-11-08T16:00:39.514Z"
   },
   {
    "duration": 1075,
    "start_time": "2022-11-08T16:03:20.319Z"
   },
   {
    "duration": 6,
    "start_time": "2022-11-08T16:03:37.552Z"
   },
   {
    "duration": 7,
    "start_time": "2022-11-08T16:03:47.207Z"
   },
   {
    "duration": 23,
    "start_time": "2022-11-08T16:04:43.665Z"
   },
   {
    "duration": 1095,
    "start_time": "2022-11-08T16:09:17.497Z"
   },
   {
    "duration": 12,
    "start_time": "2022-11-08T16:09:58.586Z"
   },
   {
    "duration": 418,
    "start_time": "2022-11-09T14:20:58.682Z"
   },
   {
    "duration": 475,
    "start_time": "2022-11-09T14:20:59.152Z"
   },
   {
    "duration": 4,
    "start_time": "2022-11-09T14:21:00.094Z"
   },
   {
    "duration": 3,
    "start_time": "2022-11-09T14:21:00.612Z"
   },
   {
    "duration": 440,
    "start_time": "2022-11-09T14:21:01.129Z"
   },
   {
    "duration": 136,
    "start_time": "2022-11-09T14:21:01.595Z"
   },
   {
    "duration": 13,
    "start_time": "2022-11-09T14:21:02.075Z"
   },
   {
    "duration": 11,
    "start_time": "2022-11-09T14:21:04.403Z"
   },
   {
    "duration": 4,
    "start_time": "2022-11-09T14:21:05.817Z"
   },
   {
    "duration": 10,
    "start_time": "2022-11-09T14:21:07.871Z"
   },
   {
    "duration": 8,
    "start_time": "2022-11-09T14:21:11.465Z"
   },
   {
    "duration": 133,
    "start_time": "2022-11-09T14:21:27.260Z"
   },
   {
    "duration": 56,
    "start_time": "2022-11-09T14:21:27.808Z"
   },
   {
    "duration": 8,
    "start_time": "2022-11-09T14:21:28.402Z"
   },
   {
    "duration": 11,
    "start_time": "2022-11-09T14:21:30.375Z"
   },
   {
    "duration": 11,
    "start_time": "2022-11-09T14:21:30.795Z"
   },
   {
    "duration": 12,
    "start_time": "2022-11-09T14:21:32.511Z"
   },
   {
    "duration": 7,
    "start_time": "2022-11-09T14:21:35.257Z"
   },
   {
    "duration": 6,
    "start_time": "2022-11-09T14:21:35.675Z"
   },
   {
    "duration": 5,
    "start_time": "2022-11-09T14:21:36.873Z"
   },
   {
    "duration": 5,
    "start_time": "2022-11-09T14:21:37.302Z"
   },
   {
    "duration": 11,
    "start_time": "2022-11-09T14:21:39.097Z"
   },
   {
    "duration": 4,
    "start_time": "2022-11-09T14:21:39.849Z"
   },
   {
    "duration": 5,
    "start_time": "2022-11-09T14:21:47.306Z"
   },
   {
    "duration": 46,
    "start_time": "2022-11-09T14:21:48.255Z"
   },
   {
    "duration": 5,
    "start_time": "2022-11-09T14:21:48.739Z"
   },
   {
    "duration": 48,
    "start_time": "2022-11-09T14:21:50.990Z"
   },
   {
    "duration": 16,
    "start_time": "2022-11-09T14:21:51.460Z"
   },
   {
    "duration": 51,
    "start_time": "2022-11-09T14:21:53.309Z"
   },
   {
    "duration": 15,
    "start_time": "2022-11-09T14:21:55.042Z"
   },
   {
    "duration": 50,
    "start_time": "2022-11-09T14:21:55.881Z"
   },
   {
    "duration": 19,
    "start_time": "2022-11-09T14:21:57.549Z"
   },
   {
    "duration": 254,
    "start_time": "2022-11-09T14:21:59.592Z"
   },
   {
    "duration": 174,
    "start_time": "2022-11-09T14:22:03.595Z"
   },
   {
    "duration": 294,
    "start_time": "2022-11-09T14:22:05.789Z"
   },
   {
    "duration": 148,
    "start_time": "2022-11-09T14:22:08.413Z"
   },
   {
    "duration": 249,
    "start_time": "2022-11-09T14:22:10.486Z"
   },
   {
    "duration": 6,
    "start_time": "2022-11-09T14:22:13.312Z"
   },
   {
    "duration": 115,
    "start_time": "2022-11-09T14:22:15.148Z"
   },
   {
    "duration": 4,
    "start_time": "2022-11-09T14:22:18.199Z"
   },
   {
    "duration": 135,
    "start_time": "2022-11-09T14:22:19.931Z"
   },
   {
    "duration": 5,
    "start_time": "2022-11-09T14:22:22.713Z"
   },
   {
    "duration": 74,
    "start_time": "2022-11-09T14:22:25.085Z"
   },
   {
    "duration": 76,
    "start_time": "2022-11-09T14:22:25.543Z"
   },
   {
    "duration": 5,
    "start_time": "2022-11-09T14:22:27.615Z"
   },
   {
    "duration": 5,
    "start_time": "2022-11-09T14:22:29.316Z"
   },
   {
    "duration": 24,
    "start_time": "2022-11-09T14:22:30.114Z"
   },
   {
    "duration": 10,
    "start_time": "2022-11-09T14:22:32.368Z"
   },
   {
    "duration": 9,
    "start_time": "2022-11-09T14:22:34.267Z"
   },
   {
    "duration": 6,
    "start_time": "2022-11-09T14:22:37.014Z"
   },
   {
    "duration": 6,
    "start_time": "2022-11-09T14:22:38.122Z"
   },
   {
    "duration": 23,
    "start_time": "2022-11-09T14:22:40.655Z"
   },
   {
    "duration": 13,
    "start_time": "2022-11-09T14:22:42.832Z"
   },
   {
    "duration": 99,
    "start_time": "2022-11-09T14:25:56.042Z"
   },
   {
    "duration": 7,
    "start_time": "2022-11-09T14:26:32.927Z"
   },
   {
    "duration": 13,
    "start_time": "2022-11-09T14:26:49.307Z"
   },
   {
    "duration": 15,
    "start_time": "2022-11-09T14:27:22.512Z"
   },
   {
    "duration": 9,
    "start_time": "2022-11-09T14:29:30.760Z"
   },
   {
    "duration": 13,
    "start_time": "2022-11-09T14:29:44.136Z"
   },
   {
    "duration": 8,
    "start_time": "2022-11-09T14:29:55.481Z"
   },
   {
    "duration": 9,
    "start_time": "2022-11-09T14:30:08.806Z"
   },
   {
    "duration": 8,
    "start_time": "2022-11-09T14:32:15.720Z"
   },
   {
    "duration": 11,
    "start_time": "2022-11-09T14:32:26.240Z"
   },
   {
    "duration": 18,
    "start_time": "2022-11-09T14:34:03.638Z"
   },
   {
    "duration": 3,
    "start_time": "2022-11-09T14:36:39.360Z"
   },
   {
    "duration": 11,
    "start_time": "2022-11-09T14:37:35.836Z"
   },
   {
    "duration": 11,
    "start_time": "2022-11-09T14:37:43.539Z"
   },
   {
    "duration": 2,
    "start_time": "2022-11-09T14:37:52.077Z"
   },
   {
    "duration": 3,
    "start_time": "2022-11-09T14:37:52.444Z"
   },
   {
    "duration": 3,
    "start_time": "2022-11-09T14:37:52.824Z"
   },
   {
    "duration": 2,
    "start_time": "2022-11-09T14:37:53.119Z"
   },
   {
    "duration": 3,
    "start_time": "2022-11-09T14:37:53.433Z"
   },
   {
    "duration": 25,
    "start_time": "2022-11-09T14:37:53.685Z"
   },
   {
    "duration": 8,
    "start_time": "2022-11-09T14:37:53.896Z"
   },
   {
    "duration": 12,
    "start_time": "2022-11-09T14:37:54.166Z"
   },
   {
    "duration": 4,
    "start_time": "2022-11-09T14:37:54.725Z"
   },
   {
    "duration": 8,
    "start_time": "2022-11-09T14:37:55.158Z"
   },
   {
    "duration": 10,
    "start_time": "2022-11-09T14:37:55.678Z"
   },
   {
    "duration": 43,
    "start_time": "2022-11-09T14:37:56.785Z"
   },
   {
    "duration": 15,
    "start_time": "2022-11-09T14:37:57.006Z"
   },
   {
    "duration": 9,
    "start_time": "2022-11-09T14:37:58.011Z"
   },
   {
    "duration": 12,
    "start_time": "2022-11-09T14:37:58.444Z"
   },
   {
    "duration": 8,
    "start_time": "2022-11-09T14:37:58.714Z"
   },
   {
    "duration": 11,
    "start_time": "2022-11-09T14:37:58.989Z"
   },
   {
    "duration": 7,
    "start_time": "2022-11-09T14:38:00.550Z"
   },
   {
    "duration": 6,
    "start_time": "2022-11-09T14:38:02.432Z"
   },
   {
    "duration": 6,
    "start_time": "2022-11-09T14:38:02.736Z"
   },
   {
    "duration": 5,
    "start_time": "2022-11-09T14:38:02.998Z"
   },
   {
    "duration": 13,
    "start_time": "2022-11-09T14:38:04.927Z"
   },
   {
    "duration": 4,
    "start_time": "2022-11-09T14:38:05.192Z"
   },
   {
    "duration": 3,
    "start_time": "2022-11-09T14:38:05.465Z"
   },
   {
    "duration": 13,
    "start_time": "2022-11-09T14:38:09.182Z"
   },
   {
    "duration": 6,
    "start_time": "2022-11-09T14:38:47.389Z"
   },
   {
    "duration": 48,
    "start_time": "2022-11-09T14:38:52.434Z"
   },
   {
    "duration": 7,
    "start_time": "2022-11-09T14:38:53.047Z"
   },
   {
    "duration": 45,
    "start_time": "2022-11-09T14:38:56.150Z"
   },
   {
    "duration": 14,
    "start_time": "2022-11-09T14:38:56.890Z"
   },
   {
    "duration": 17,
    "start_time": "2022-11-09T14:39:18.510Z"
   },
   {
    "duration": 15,
    "start_time": "2022-11-09T14:39:27.878Z"
   },
   {
    "duration": 50,
    "start_time": "2022-11-09T14:39:31.614Z"
   },
   {
    "duration": 13,
    "start_time": "2022-11-09T14:39:48.749Z"
   },
   {
    "duration": 67,
    "start_time": "2022-11-09T14:39:52.957Z"
   },
   {
    "duration": 20,
    "start_time": "2022-11-09T14:39:54.284Z"
   },
   {
    "duration": 175,
    "start_time": "2022-11-09T14:39:59.386Z"
   },
   {
    "duration": 243,
    "start_time": "2022-11-09T14:40:09.219Z"
   },
   {
    "duration": 307,
    "start_time": "2022-11-09T14:40:13.462Z"
   },
   {
    "duration": 151,
    "start_time": "2022-11-09T14:40:18.286Z"
   },
   {
    "duration": 5,
    "start_time": "2022-11-09T14:43:57.293Z"
   },
   {
    "duration": 5,
    "start_time": "2022-11-09T14:44:20.626Z"
   },
   {
    "duration": 132,
    "start_time": "2022-11-09T14:44:40.099Z"
   },
   {
    "duration": 136,
    "start_time": "2022-11-09T14:44:49.774Z"
   },
   {
    "duration": 136,
    "start_time": "2022-11-09T14:45:05.385Z"
   },
   {
    "duration": 150,
    "start_time": "2022-11-09T14:45:11.646Z"
   },
   {
    "duration": 132,
    "start_time": "2022-11-09T14:45:16.701Z"
   },
   {
    "duration": 149,
    "start_time": "2022-11-09T14:45:24.621Z"
   },
   {
    "duration": 144,
    "start_time": "2022-11-09T14:45:28.111Z"
   },
   {
    "duration": 129,
    "start_time": "2022-11-09T14:45:32.392Z"
   },
   {
    "duration": 227,
    "start_time": "2022-11-09T14:45:44.825Z"
   },
   {
    "duration": 302,
    "start_time": "2022-11-09T14:46:06.505Z"
   },
   {
    "duration": 15,
    "start_time": "2022-11-09T14:48:06.402Z"
   },
   {
    "duration": 7,
    "start_time": "2022-11-09T14:48:25.405Z"
   },
   {
    "duration": 115,
    "start_time": "2022-11-09T14:49:02.887Z"
   },
   {
    "duration": 4,
    "start_time": "2022-11-09T14:49:35.534Z"
   },
   {
    "duration": 142,
    "start_time": "2022-11-09T14:49:37.559Z"
   },
   {
    "duration": 4,
    "start_time": "2022-11-09T14:49:53.314Z"
   },
   {
    "duration": 97,
    "start_time": "2022-11-09T14:50:24.587Z"
   },
   {
    "duration": 68,
    "start_time": "2022-11-09T14:50:36.024Z"
   },
   {
    "duration": 6,
    "start_time": "2022-11-09T14:50:39.789Z"
   },
   {
    "duration": 5,
    "start_time": "2022-11-09T14:50:41.581Z"
   },
   {
    "duration": 25,
    "start_time": "2022-11-09T14:50:42.936Z"
   },
   {
    "duration": 11,
    "start_time": "2022-11-09T14:50:50.895Z"
   },
   {
    "duration": 728,
    "start_time": "2022-11-09T14:57:12.650Z"
   },
   {
    "duration": 0,
    "start_time": "2022-11-09T14:57:13.380Z"
   },
   {
    "duration": 25,
    "start_time": "2022-11-09T14:57:13.942Z"
   },
   {
    "duration": 6,
    "start_time": "2022-11-09T15:05:54.795Z"
   },
   {
    "duration": 6,
    "start_time": "2022-11-09T15:06:01.525Z"
   },
   {
    "duration": 25,
    "start_time": "2022-11-09T15:06:03.031Z"
   },
   {
    "duration": 805,
    "start_time": "2022-11-09T15:06:06.873Z"
   },
   {
    "duration": 13,
    "start_time": "2022-11-09T15:06:28.325Z"
   },
   {
    "duration": 415,
    "start_time": "2022-11-09T19:12:00.679Z"
   },
   {
    "duration": 497,
    "start_time": "2022-11-09T19:12:01.097Z"
   },
   {
    "duration": 3,
    "start_time": "2022-11-09T19:12:01.596Z"
   },
   {
    "duration": 30,
    "start_time": "2022-11-09T19:12:01.601Z"
   },
   {
    "duration": 239,
    "start_time": "2022-11-09T19:12:01.634Z"
   },
   {
    "duration": 116,
    "start_time": "2022-11-09T19:12:01.875Z"
   },
   {
    "duration": 13,
    "start_time": "2022-11-09T19:12:01.993Z"
   },
   {
    "duration": 30,
    "start_time": "2022-11-09T19:12:02.008Z"
   },
   {
    "duration": 23,
    "start_time": "2022-11-09T19:12:02.040Z"
   },
   {
    "duration": 31,
    "start_time": "2022-11-09T19:12:02.065Z"
   },
   {
    "duration": 41,
    "start_time": "2022-11-09T19:12:02.098Z"
   },
   {
    "duration": 94,
    "start_time": "2022-11-09T19:12:02.141Z"
   },
   {
    "duration": 54,
    "start_time": "2022-11-09T19:12:02.237Z"
   },
   {
    "duration": 12,
    "start_time": "2022-11-09T19:12:02.295Z"
   },
   {
    "duration": 39,
    "start_time": "2022-11-09T19:12:02.309Z"
   },
   {
    "duration": 23,
    "start_time": "2022-11-09T19:12:02.350Z"
   },
   {
    "duration": 17,
    "start_time": "2022-11-09T19:12:02.374Z"
   },
   {
    "duration": 13,
    "start_time": "2022-11-09T19:12:02.393Z"
   },
   {
    "duration": 29,
    "start_time": "2022-11-09T19:12:02.408Z"
   },
   {
    "duration": 29,
    "start_time": "2022-11-09T19:12:02.438Z"
   },
   {
    "duration": 31,
    "start_time": "2022-11-09T19:12:02.469Z"
   },
   {
    "duration": 24,
    "start_time": "2022-11-09T19:12:02.502Z"
   },
   {
    "duration": 31,
    "start_time": "2022-11-09T19:12:02.528Z"
   },
   {
    "duration": 37,
    "start_time": "2022-11-09T19:12:02.561Z"
   },
   {
    "duration": 39,
    "start_time": "2022-11-09T19:12:02.599Z"
   },
   {
    "duration": 7,
    "start_time": "2022-11-09T19:12:02.640Z"
   },
   {
    "duration": 71,
    "start_time": "2022-11-09T19:12:02.648Z"
   },
   {
    "duration": 5,
    "start_time": "2022-11-09T19:12:02.720Z"
   },
   {
    "duration": 50,
    "start_time": "2022-11-09T19:12:02.726Z"
   },
   {
    "duration": 19,
    "start_time": "2022-11-09T19:12:02.778Z"
   },
   {
    "duration": 66,
    "start_time": "2022-11-09T19:12:02.799Z"
   },
   {
    "duration": 25,
    "start_time": "2022-11-09T19:12:02.867Z"
   },
   {
    "duration": 47,
    "start_time": "2022-11-09T19:12:02.894Z"
   },
   {
    "duration": 41,
    "start_time": "2022-11-09T19:12:02.943Z"
   },
   {
    "duration": 275,
    "start_time": "2022-11-09T19:12:02.985Z"
   },
   {
    "duration": 194,
    "start_time": "2022-11-09T19:12:03.261Z"
   },
   {
    "duration": 288,
    "start_time": "2022-11-09T19:12:03.457Z"
   },
   {
    "duration": 5,
    "start_time": "2022-11-09T19:12:03.747Z"
   },
   {
    "duration": 187,
    "start_time": "2022-11-09T19:12:03.754Z"
   },
   {
    "duration": 342,
    "start_time": "2022-11-09T19:12:03.943Z"
   },
   {
    "duration": 7,
    "start_time": "2022-11-09T19:12:04.290Z"
   },
   {
    "duration": 134,
    "start_time": "2022-11-09T19:12:04.299Z"
   },
   {
    "duration": 4,
    "start_time": "2022-11-09T19:12:04.435Z"
   },
   {
    "duration": 173,
    "start_time": "2022-11-09T19:12:04.441Z"
   },
   {
    "duration": 4,
    "start_time": "2022-11-09T19:12:04.616Z"
   },
   {
    "duration": 78,
    "start_time": "2022-11-09T19:12:04.630Z"
   },
   {
    "duration": 81,
    "start_time": "2022-11-09T19:12:04.710Z"
   },
   {
    "duration": 5,
    "start_time": "2022-11-09T19:12:04.793Z"
   },
   {
    "duration": 13,
    "start_time": "2022-11-09T19:12:04.800Z"
   },
   {
    "duration": 36,
    "start_time": "2022-11-09T19:12:04.815Z"
   },
   {
    "duration": 17,
    "start_time": "2022-11-09T19:12:04.852Z"
   },
   {
    "duration": 1247,
    "start_time": "2022-11-09T19:12:04.870Z"
   },
   {
    "duration": 0,
    "start_time": "2022-11-09T19:12:06.120Z"
   },
   {
    "duration": 0,
    "start_time": "2022-11-09T19:12:06.121Z"
   },
   {
    "duration": 0,
    "start_time": "2022-11-09T19:12:06.123Z"
   },
   {
    "duration": 0,
    "start_time": "2022-11-09T19:12:06.124Z"
   },
   {
    "duration": 54,
    "start_time": "2022-11-10T10:54:08.358Z"
   },
   {
    "duration": 379,
    "start_time": "2022-11-10T10:54:14.713Z"
   },
   {
    "duration": 485,
    "start_time": "2022-11-10T10:54:15.430Z"
   },
   {
    "duration": 3,
    "start_time": "2022-11-10T10:54:16.547Z"
   },
   {
    "duration": 4,
    "start_time": "2022-11-10T10:54:27.076Z"
   },
   {
    "duration": 385,
    "start_time": "2022-11-10T10:54:27.745Z"
   },
   {
    "duration": 155,
    "start_time": "2022-11-10T10:54:32.293Z"
   },
   {
    "duration": 14,
    "start_time": "2022-11-10T10:54:32.819Z"
   },
   {
    "duration": 11,
    "start_time": "2022-11-10T10:54:35.541Z"
   },
   {
    "duration": 3,
    "start_time": "2022-11-10T10:54:36.748Z"
   },
   {
    "duration": 10,
    "start_time": "2022-11-10T10:54:37.995Z"
   },
   {
    "duration": 10,
    "start_time": "2022-11-10T10:54:42.300Z"
   },
   {
    "duration": 16,
    "start_time": "2022-11-10T10:54:57.176Z"
   },
   {
    "duration": 21,
    "start_time": "2022-11-10T10:55:06.569Z"
   },
   {
    "duration": 122,
    "start_time": "2022-11-10T10:55:39.968Z"
   },
   {
    "duration": 64,
    "start_time": "2022-11-10T10:55:40.714Z"
   },
   {
    "duration": 9,
    "start_time": "2022-11-10T10:55:41.424Z"
   },
   {
    "duration": 10,
    "start_time": "2022-11-10T10:55:43.899Z"
   },
   {
    "duration": 8,
    "start_time": "2022-11-10T10:55:44.534Z"
   },
   {
    "duration": 11,
    "start_time": "2022-11-10T10:55:47.316Z"
   },
   {
    "duration": 7,
    "start_time": "2022-11-10T10:55:49.018Z"
   },
   {
    "duration": 7,
    "start_time": "2022-11-10T10:55:49.390Z"
   },
   {
    "duration": 7,
    "start_time": "2022-11-10T10:55:49.690Z"
   },
   {
    "duration": 5,
    "start_time": "2022-11-10T10:55:50.069Z"
   },
   {
    "duration": 13,
    "start_time": "2022-11-10T10:55:53.441Z"
   },
   {
    "duration": 4,
    "start_time": "2022-11-10T10:56:01.126Z"
   },
   {
    "duration": 4,
    "start_time": "2022-11-10T10:56:03.106Z"
   },
   {
    "duration": 15,
    "start_time": "2022-11-10T10:56:09.894Z"
   },
   {
    "duration": 8,
    "start_time": "2022-11-10T10:56:21.178Z"
   },
   {
    "duration": 48,
    "start_time": "2022-11-10T10:56:22.311Z"
   },
   {
    "duration": 5,
    "start_time": "2022-11-10T10:56:22.887Z"
   },
   {
    "duration": 46,
    "start_time": "2022-11-10T10:56:24.030Z"
   },
   {
    "duration": 26,
    "start_time": "2022-11-10T10:56:24.234Z"
   },
   {
    "duration": 48,
    "start_time": "2022-11-10T10:56:26.594Z"
   },
   {
    "duration": 15,
    "start_time": "2022-11-10T10:56:27.246Z"
   },
   {
    "duration": 50,
    "start_time": "2022-11-10T10:56:28.413Z"
   },
   {
    "duration": 21,
    "start_time": "2022-11-10T10:56:30.380Z"
   },
   {
    "duration": 265,
    "start_time": "2022-11-10T10:56:31.654Z"
   },
   {
    "duration": 361,
    "start_time": "2022-11-10T10:57:39.940Z"
   },
   {
    "duration": 6,
    "start_time": "2022-11-10T10:57:43.866Z"
   },
   {
    "duration": 156,
    "start_time": "2022-11-10T10:57:46.752Z"
   },
   {
    "duration": 282,
    "start_time": "2022-11-10T10:58:03.136Z"
   },
   {
    "duration": 8,
    "start_time": "2022-11-10T10:58:14.968Z"
   },
   {
    "duration": 133,
    "start_time": "2022-11-10T10:58:16.173Z"
   },
   {
    "duration": 139,
    "start_time": "2022-11-10T10:58:22.892Z"
   },
   {
    "duration": 71,
    "start_time": "2022-11-10T10:58:48.363Z"
   },
   {
    "duration": 91,
    "start_time": "2022-11-10T10:58:48.927Z"
   },
   {
    "duration": 5,
    "start_time": "2022-11-10T10:58:49.907Z"
   },
   {
    "duration": 7,
    "start_time": "2022-11-10T10:58:52.631Z"
   },
   {
    "duration": 26,
    "start_time": "2022-11-10T10:59:07.037Z"
   },
   {
    "duration": 10,
    "start_time": "2022-11-10T10:59:10.890Z"
   },
   {
    "duration": 845,
    "start_time": "2022-11-10T10:59:33.366Z"
   },
   {
    "duration": 1260,
    "start_time": "2022-11-10T11:00:03.166Z"
   },
   {
    "duration": 645,
    "start_time": "2022-11-10T11:00:18.621Z"
   },
   {
    "duration": 9,
    "start_time": "2022-11-10T11:00:40.465Z"
   },
   {
    "duration": 7,
    "start_time": "2022-11-10T11:00:46.642Z"
   },
   {
    "duration": 6,
    "start_time": "2022-11-10T11:00:47.436Z"
   },
   {
    "duration": 23,
    "start_time": "2022-11-10T11:00:51.003Z"
   },
   {
    "duration": 16,
    "start_time": "2022-11-10T11:00:53.537Z"
   },
   {
    "duration": 3,
    "start_time": "2022-11-10T11:55:51.401Z"
   },
   {
    "duration": 3,
    "start_time": "2022-11-10T11:55:51.906Z"
   },
   {
    "duration": 4,
    "start_time": "2022-11-10T11:55:52.494Z"
   },
   {
    "duration": 3,
    "start_time": "2022-11-10T11:55:52.933Z"
   },
   {
    "duration": 3,
    "start_time": "2022-11-10T11:55:53.457Z"
   },
   {
    "duration": 28,
    "start_time": "2022-11-10T11:55:54.219Z"
   },
   {
    "duration": 8,
    "start_time": "2022-11-10T11:55:54.463Z"
   },
   {
    "duration": 10,
    "start_time": "2022-11-10T11:55:54.664Z"
   },
   {
    "duration": 3,
    "start_time": "2022-11-10T11:55:55.106Z"
   },
   {
    "duration": 11,
    "start_time": "2022-11-10T11:55:55.547Z"
   },
   {
    "duration": 13,
    "start_time": "2022-11-10T11:55:56.247Z"
   },
   {
    "duration": 57,
    "start_time": "2022-11-10T11:55:59.146Z"
   },
   {
    "duration": 16,
    "start_time": "2022-11-10T11:55:59.347Z"
   },
   {
    "duration": 8,
    "start_time": "2022-11-10T11:55:59.539Z"
   },
   {
    "duration": 10,
    "start_time": "2022-11-10T11:55:59.754Z"
   },
   {
    "duration": 9,
    "start_time": "2022-11-10T11:55:59.993Z"
   },
   {
    "duration": 10,
    "start_time": "2022-11-10T11:56:00.238Z"
   },
   {
    "duration": 6,
    "start_time": "2022-11-10T11:56:01.253Z"
   },
   {
    "duration": 8,
    "start_time": "2022-11-10T11:56:01.678Z"
   },
   {
    "duration": 6,
    "start_time": "2022-11-10T11:56:02.990Z"
   },
   {
    "duration": 6,
    "start_time": "2022-11-10T11:56:03.297Z"
   },
   {
    "duration": 18,
    "start_time": "2022-11-10T11:56:03.973Z"
   },
   {
    "duration": 4,
    "start_time": "2022-11-10T11:56:04.236Z"
   },
   {
    "duration": 4,
    "start_time": "2022-11-10T11:56:06.690Z"
   },
   {
    "duration": 15,
    "start_time": "2022-11-10T11:56:08.248Z"
   },
   {
    "duration": 5,
    "start_time": "2022-11-10T11:56:15.530Z"
   },
   {
    "duration": 53,
    "start_time": "2022-11-10T11:56:17.576Z"
   },
   {
    "duration": 5,
    "start_time": "2022-11-10T11:56:17.925Z"
   },
   {
    "duration": 49,
    "start_time": "2022-11-10T11:56:18.444Z"
   },
   {
    "duration": 17,
    "start_time": "2022-11-10T11:56:20.176Z"
   },
   {
    "duration": 64,
    "start_time": "2022-11-10T11:56:20.632Z"
   },
   {
    "duration": 14,
    "start_time": "2022-11-10T11:56:20.832Z"
   },
   {
    "duration": 50,
    "start_time": "2022-11-10T11:56:21.224Z"
   },
   {
    "duration": 22,
    "start_time": "2022-11-10T11:56:22.333Z"
   },
   {
    "duration": 49,
    "start_time": "2022-11-10T11:56:43.527Z"
   },
   {
    "duration": 218,
    "start_time": "2022-11-10T11:57:05.328Z"
   },
   {
    "duration": 211,
    "start_time": "2022-11-10T11:57:55.419Z"
   },
   {
    "duration": 278,
    "start_time": "2022-11-10T11:58:30.946Z"
   },
   {
    "duration": 294,
    "start_time": "2022-11-10T12:01:04.838Z"
   },
   {
    "duration": 293,
    "start_time": "2022-11-10T12:01:13.544Z"
   },
   {
    "duration": 5,
    "start_time": "2022-11-10T12:01:23.142Z"
   },
   {
    "duration": 197,
    "start_time": "2022-11-10T12:02:24.691Z"
   },
   {
    "duration": 320,
    "start_time": "2022-11-10T12:04:37.198Z"
   },
   {
    "duration": 57,
    "start_time": "2022-11-10T12:11:08.948Z"
   },
   {
    "duration": 6,
    "start_time": "2022-11-10T12:11:38.525Z"
   },
   {
    "duration": 306,
    "start_time": "2022-11-10T12:12:00.492Z"
   },
   {
    "duration": 12,
    "start_time": "2022-11-10T12:13:31.920Z"
   },
   {
    "duration": 6,
    "start_time": "2022-11-10T12:13:46.358Z"
   },
   {
    "duration": 129,
    "start_time": "2022-11-10T12:13:57.780Z"
   },
   {
    "duration": 4,
    "start_time": "2022-11-10T12:14:05.542Z"
   },
   {
    "duration": 173,
    "start_time": "2022-11-10T12:14:48.622Z"
   },
   {
    "duration": 12,
    "start_time": "2022-11-10T12:15:10.897Z"
   },
   {
    "duration": 154,
    "start_time": "2022-11-10T12:15:52.231Z"
   },
   {
    "duration": 135,
    "start_time": "2022-11-10T12:16:09.022Z"
   },
   {
    "duration": 73,
    "start_time": "2022-11-10T12:16:45.099Z"
   },
   {
    "duration": 90,
    "start_time": "2022-11-10T12:16:45.316Z"
   },
   {
    "duration": 14,
    "start_time": "2022-11-10T12:16:45.778Z"
   },
   {
    "duration": 4,
    "start_time": "2022-11-10T12:16:46.049Z"
   },
   {
    "duration": 23,
    "start_time": "2022-11-10T12:16:46.923Z"
   },
   {
    "duration": 30,
    "start_time": "2022-11-10T12:17:37.278Z"
   },
   {
    "duration": 26,
    "start_time": "2022-11-10T12:17:48.890Z"
   },
   {
    "duration": 10,
    "start_time": "2022-11-10T12:18:57.825Z"
   },
   {
    "duration": 12,
    "start_time": "2022-11-10T12:20:32.885Z"
   },
   {
    "duration": 6,
    "start_time": "2022-11-10T12:21:17.716Z"
   },
   {
    "duration": 5,
    "start_time": "2022-11-10T12:21:18.307Z"
   },
   {
    "duration": 25,
    "start_time": "2022-11-10T12:21:21.390Z"
   },
   {
    "duration": 22,
    "start_time": "2022-11-10T12:21:59.320Z"
   },
   {
    "duration": 16,
    "start_time": "2022-11-10T12:22:22.605Z"
   },
   {
    "duration": 412,
    "start_time": "2022-11-10T21:19:10.104Z"
   },
   {
    "duration": 454,
    "start_time": "2022-11-10T21:19:10.518Z"
   },
   {
    "duration": 3,
    "start_time": "2022-11-10T21:19:10.973Z"
   },
   {
    "duration": 5,
    "start_time": "2022-11-10T21:19:10.977Z"
   },
   {
    "duration": 179,
    "start_time": "2022-11-10T21:19:10.984Z"
   },
   {
    "duration": 127,
    "start_time": "2022-11-10T21:19:11.165Z"
   },
   {
    "duration": 11,
    "start_time": "2022-11-10T21:19:11.293Z"
   },
   {
    "duration": 10,
    "start_time": "2022-11-10T21:19:11.306Z"
   },
   {
    "duration": 8,
    "start_time": "2022-11-10T21:19:11.317Z"
   },
   {
    "duration": 13,
    "start_time": "2022-11-10T21:19:11.326Z"
   },
   {
    "duration": 10,
    "start_time": "2022-11-10T21:19:11.341Z"
   },
   {
    "duration": 97,
    "start_time": "2022-11-10T21:19:11.352Z"
   },
   {
    "duration": 60,
    "start_time": "2022-11-10T21:19:11.451Z"
   },
   {
    "duration": 12,
    "start_time": "2022-11-10T21:19:11.515Z"
   },
   {
    "duration": 11,
    "start_time": "2022-11-10T21:19:11.528Z"
   },
   {
    "duration": 10,
    "start_time": "2022-11-10T21:19:11.540Z"
   },
   {
    "duration": 16,
    "start_time": "2022-11-10T21:19:11.551Z"
   },
   {
    "duration": 31,
    "start_time": "2022-11-10T21:19:11.569Z"
   },
   {
    "duration": 10,
    "start_time": "2022-11-10T21:19:11.602Z"
   },
   {
    "duration": 12,
    "start_time": "2022-11-10T21:19:11.614Z"
   },
   {
    "duration": 17,
    "start_time": "2022-11-10T21:19:11.628Z"
   },
   {
    "duration": 17,
    "start_time": "2022-11-10T21:19:11.647Z"
   },
   {
    "duration": 19,
    "start_time": "2022-11-10T21:19:11.666Z"
   },
   {
    "duration": 11,
    "start_time": "2022-11-10T21:19:11.686Z"
   },
   {
    "duration": 18,
    "start_time": "2022-11-10T21:19:11.698Z"
   },
   {
    "duration": 5,
    "start_time": "2022-11-10T21:19:11.717Z"
   },
   {
    "duration": 51,
    "start_time": "2022-11-10T21:19:11.723Z"
   },
   {
    "duration": 4,
    "start_time": "2022-11-10T21:19:11.776Z"
   },
   {
    "duration": 48,
    "start_time": "2022-11-10T21:19:11.782Z"
   },
   {
    "duration": 17,
    "start_time": "2022-11-10T21:19:11.831Z"
   },
   {
    "duration": 47,
    "start_time": "2022-11-10T21:19:11.849Z"
   },
   {
    "duration": 17,
    "start_time": "2022-11-10T21:19:11.898Z"
   },
   {
    "duration": 54,
    "start_time": "2022-11-10T21:19:11.917Z"
   },
   {
    "duration": 20,
    "start_time": "2022-11-10T21:19:11.972Z"
   },
   {
    "duration": 271,
    "start_time": "2022-11-10T21:19:11.993Z"
   },
   {
    "duration": 192,
    "start_time": "2022-11-10T21:19:12.266Z"
   },
   {
    "duration": 310,
    "start_time": "2022-11-10T21:19:12.460Z"
   },
   {
    "duration": 5,
    "start_time": "2022-11-10T21:19:12.772Z"
   },
   {
    "duration": 167,
    "start_time": "2022-11-10T21:19:12.778Z"
   },
   {
    "duration": 303,
    "start_time": "2022-11-10T21:19:12.946Z"
   },
   {
    "duration": 7,
    "start_time": "2022-11-10T21:19:13.252Z"
   },
   {
    "duration": 125,
    "start_time": "2022-11-10T21:19:13.260Z"
   },
   {
    "duration": 4,
    "start_time": "2022-11-10T21:19:13.387Z"
   },
   {
    "duration": 151,
    "start_time": "2022-11-10T21:19:13.393Z"
   },
   {
    "duration": 4,
    "start_time": "2022-11-10T21:19:13.546Z"
   },
   {
    "duration": 77,
    "start_time": "2022-11-10T21:19:13.552Z"
   },
   {
    "duration": 69,
    "start_time": "2022-11-10T21:19:13.631Z"
   },
   {
    "duration": 5,
    "start_time": "2022-11-10T21:19:13.701Z"
   },
   {
    "duration": 22,
    "start_time": "2022-11-10T21:19:13.708Z"
   },
   {
    "duration": 22,
    "start_time": "2022-11-10T21:19:13.731Z"
   },
   {
    "duration": 9,
    "start_time": "2022-11-10T21:19:13.755Z"
   },
   {
    "duration": 15,
    "start_time": "2022-11-10T21:19:13.766Z"
   },
   {
    "duration": 9,
    "start_time": "2022-11-10T21:19:13.783Z"
   },
   {
    "duration": 12,
    "start_time": "2022-11-10T21:19:13.793Z"
   },
   {
    "duration": 40,
    "start_time": "2022-11-10T21:19:13.806Z"
   },
   {
    "duration": 14,
    "start_time": "2022-11-10T21:19:13.848Z"
   }
  ],
  "kernelspec": {
   "display_name": "Python 3 (ipykernel)",
   "language": "python",
   "name": "python3"
  },
  "language_info": {
   "codemirror_mode": {
    "name": "ipython",
    "version": 3
   },
   "file_extension": ".py",
   "mimetype": "text/x-python",
   "name": "python",
   "nbconvert_exporter": "python",
   "pygments_lexer": "ipython3",
   "version": "3.9.14"
  },
  "toc": {
   "base_numbering": 1,
   "nav_menu": {},
   "number_sections": false,
   "sideBar": true,
   "skip_h1_title": false,
   "title_cell": "Table of Contents",
   "title_sidebar": "Contents",
   "toc_cell": true,
   "toc_position": {},
   "toc_section_display": true,
   "toc_window_display": true
  }
 },
 "nbformat": 4,
 "nbformat_minor": 2
}
