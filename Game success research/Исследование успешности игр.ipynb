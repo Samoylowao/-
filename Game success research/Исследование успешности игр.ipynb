{
 "cells": [
  {
   "cell_type": "markdown",
   "metadata": {},
   "source": [
    "# Исследование успешности игр"
   ]
  },
  {
   "cell_type": "markdown",
   "metadata": {},
   "source": [
    "Основные задачи:"
   ]
  },
  {
   "cell_type": "markdown",
   "metadata": {},
   "source": [
    "1. Открытие файла и изучение основной информации(первые 5 строк таблицы, info, гистограммы всего датасета) \n",
    "2. Предобработка данных: \n",
    "- Замена названий столбцов\n",
    "- Преобразование типов данных \n",
    "- Обработка пропусков\n",
    "- Посчитать суммарные продажи во всех регионах и запись их в отдельный столбец\n",
    "3. Иследовательский анализ данных:\n",
    "- сколько игр выпускалось в разные годы\n",
    "- Какие платформы лидируют по продажам, растут или падают\n",
    "- График «ящик с усами» по глобальным продажам игр\n",
    "- Как влияют на продажи внутри одной популярной платформы отзывы пользователей и критиков. \n",
    "- Выделяются ли жанры с высокими и низкими продажами?\n",
    "4. Портрет пользователя каждого региона\n",
    "- Самые популярные платформы (топ-5). \n",
    "- Самые популярные жанры (топ-5). Поясните разницу.\n",
    "- Влияет ли рейтинг ESRB на продажи в отдельном регионе?\n",
    "5. Проверка гипотез:\n",
    "- Средние пользовательские рейтинги платформ Xbox One и PC одинаковые;\n",
    "- Средние пользовательские рейтинги жанров Action и Sports разные."
   ]
  },
  {
   "cell_type": "markdown",
   "metadata": {},
   "source": [
    "### Откройте файл с данными и изучите общую информацию"
   ]
  },
  {
   "cell_type": "code",
   "execution_count": 1,
   "metadata": {},
   "outputs": [],
   "source": [
    "import pandas as pd"
   ]
  },
  {
   "cell_type": "code",
   "execution_count": 2,
   "metadata": {},
   "outputs": [],
   "source": [
    "import matplotlib.pyplot as plt"
   ]
  },
  {
   "cell_type": "code",
   "execution_count": 3,
   "metadata": {},
   "outputs": [],
   "source": [
    "import seaborn as sb"
   ]
  },
  {
   "cell_type": "code",
   "execution_count": 4,
   "metadata": {},
   "outputs": [],
   "source": [
    "data = pd.read_csv('/datasets/games.csv')"
   ]
  },
  {
   "cell_type": "code",
   "execution_count": 5,
   "metadata": {},
   "outputs": [
    {
     "data": {
      "text/html": [
       "<div>\n",
       "<style scoped>\n",
       "    .dataframe tbody tr th:only-of-type {\n",
       "        vertical-align: middle;\n",
       "    }\n",
       "\n",
       "    .dataframe tbody tr th {\n",
       "        vertical-align: top;\n",
       "    }\n",
       "\n",
       "    .dataframe thead th {\n",
       "        text-align: right;\n",
       "    }\n",
       "</style>\n",
       "<table border=\"1\" class=\"dataframe\">\n",
       "  <thead>\n",
       "    <tr style=\"text-align: right;\">\n",
       "      <th></th>\n",
       "      <th>Name</th>\n",
       "      <th>Platform</th>\n",
       "      <th>Year_of_Release</th>\n",
       "      <th>Genre</th>\n",
       "      <th>NA_sales</th>\n",
       "      <th>EU_sales</th>\n",
       "      <th>JP_sales</th>\n",
       "      <th>Other_sales</th>\n",
       "      <th>Critic_Score</th>\n",
       "      <th>User_Score</th>\n",
       "      <th>Rating</th>\n",
       "    </tr>\n",
       "  </thead>\n",
       "  <tbody>\n",
       "    <tr>\n",
       "      <th>0</th>\n",
       "      <td>Wii Sports</td>\n",
       "      <td>Wii</td>\n",
       "      <td>2006.0</td>\n",
       "      <td>Sports</td>\n",
       "      <td>41.36</td>\n",
       "      <td>28.96</td>\n",
       "      <td>3.77</td>\n",
       "      <td>8.45</td>\n",
       "      <td>76.0</td>\n",
       "      <td>8</td>\n",
       "      <td>E</td>\n",
       "    </tr>\n",
       "    <tr>\n",
       "      <th>1</th>\n",
       "      <td>Super Mario Bros.</td>\n",
       "      <td>NES</td>\n",
       "      <td>1985.0</td>\n",
       "      <td>Platform</td>\n",
       "      <td>29.08</td>\n",
       "      <td>3.58</td>\n",
       "      <td>6.81</td>\n",
       "      <td>0.77</td>\n",
       "      <td>NaN</td>\n",
       "      <td>NaN</td>\n",
       "      <td>NaN</td>\n",
       "    </tr>\n",
       "    <tr>\n",
       "      <th>2</th>\n",
       "      <td>Mario Kart Wii</td>\n",
       "      <td>Wii</td>\n",
       "      <td>2008.0</td>\n",
       "      <td>Racing</td>\n",
       "      <td>15.68</td>\n",
       "      <td>12.76</td>\n",
       "      <td>3.79</td>\n",
       "      <td>3.29</td>\n",
       "      <td>82.0</td>\n",
       "      <td>8.3</td>\n",
       "      <td>E</td>\n",
       "    </tr>\n",
       "    <tr>\n",
       "      <th>3</th>\n",
       "      <td>Wii Sports Resort</td>\n",
       "      <td>Wii</td>\n",
       "      <td>2009.0</td>\n",
       "      <td>Sports</td>\n",
       "      <td>15.61</td>\n",
       "      <td>10.93</td>\n",
       "      <td>3.28</td>\n",
       "      <td>2.95</td>\n",
       "      <td>80.0</td>\n",
       "      <td>8</td>\n",
       "      <td>E</td>\n",
       "    </tr>\n",
       "    <tr>\n",
       "      <th>4</th>\n",
       "      <td>Pokemon Red/Pokemon Blue</td>\n",
       "      <td>GB</td>\n",
       "      <td>1996.0</td>\n",
       "      <td>Role-Playing</td>\n",
       "      <td>11.27</td>\n",
       "      <td>8.89</td>\n",
       "      <td>10.22</td>\n",
       "      <td>1.00</td>\n",
       "      <td>NaN</td>\n",
       "      <td>NaN</td>\n",
       "      <td>NaN</td>\n",
       "    </tr>\n",
       "  </tbody>\n",
       "</table>\n",
       "</div>"
      ],
      "text/plain": [
       "                       Name Platform  Year_of_Release         Genre  NA_sales  \\\n",
       "0                Wii Sports      Wii           2006.0        Sports     41.36   \n",
       "1         Super Mario Bros.      NES           1985.0      Platform     29.08   \n",
       "2            Mario Kart Wii      Wii           2008.0        Racing     15.68   \n",
       "3         Wii Sports Resort      Wii           2009.0        Sports     15.61   \n",
       "4  Pokemon Red/Pokemon Blue       GB           1996.0  Role-Playing     11.27   \n",
       "\n",
       "   EU_sales  JP_sales  Other_sales  Critic_Score User_Score Rating  \n",
       "0     28.96      3.77         8.45          76.0          8      E  \n",
       "1      3.58      6.81         0.77           NaN        NaN    NaN  \n",
       "2     12.76      3.79         3.29          82.0        8.3      E  \n",
       "3     10.93      3.28         2.95          80.0          8      E  \n",
       "4      8.89     10.22         1.00           NaN        NaN    NaN  "
      ]
     },
     "metadata": {},
     "output_type": "display_data"
    }
   ],
   "source": [
    "display(data.head()) # выводим первые 5 строк таблицы"
   ]
  },
  {
   "cell_type": "code",
   "execution_count": 6,
   "metadata": {},
   "outputs": [
    {
     "data": {
      "image/png": "[encoded data removed]",
      "text/plain": [
       "<Figure size 1080x1440 with 6 Axes>"
      ]
     },
     "metadata": {
      "needs_background": "light"
     },
     "output_type": "display_data"
    }
   ],
   "source": [
    "data.hist(figsize=(15, 20)); #изучение основной информации "
   ]
  },
  {
   "cell_type": "code",
   "execution_count": 7,
   "metadata": {},
   "outputs": [
    {
     "name": "stdout",
     "output_type": "stream",
     "text": [
      "<class 'pandas.core.frame.DataFrame'>\n",
      "RangeIndex: 16715 entries, 0 to 16714\n",
      "Data columns (total 11 columns):\n",
      " #   Column           Non-Null Count  Dtype  \n",
      "---  ------           --------------  -----  \n",
      " 0   Name             16713 non-null  object \n",
      " 1   Platform         16715 non-null  object \n",
      " 2   Year_of_Release  16446 non-null  float64\n",
      " 3   Genre            16713 non-null  object \n",
      " 4   NA_sales         16715 non-null  float64\n",
      " 5   EU_sales         16715 non-null  float64\n",
      " 6   JP_sales         16715 non-null  float64\n",
      " 7   Other_sales      16715 non-null  float64\n",
      " 8   Critic_Score     8137 non-null   float64\n",
      " 9   User_Score       10014 non-null  object \n",
      " 10  Rating           9949 non-null   object \n",
      "dtypes: float64(6), object(5)\n",
      "memory usage: 1.4+ MB\n"
     ]
    }
   ],
   "source": [
    "data.info()"
   ]
  },
  {
   "cell_type": "markdown",
   "metadata": {},
   "source": [
    "### Предобработка данных"
   ]
  },
  {
   "cell_type": "code",
   "execution_count": 8,
   "metadata": {},
   "outputs": [],
   "source": [
    "data.columns = data.columns.str.lower() #приведем названия столбцов к нижнему регистру"
   ]
  },
  {
   "cell_type": "code",
   "execution_count": 9,
   "metadata": {},
   "outputs": [
    {
     "data": {
      "text/plain": [
       "name                  2\n",
       "platform              0\n",
       "year_of_release     269\n",
       "genre                 2\n",
       "na_sales              0\n",
       "eu_sales              0\n",
       "jp_sales              0\n",
       "other_sales           0\n",
       "critic_score       8578\n",
       "user_score         6701\n",
       "rating             6766\n",
       "dtype: int64"
      ]
     },
     "execution_count": 9,
     "metadata": {},
     "output_type": "execute_result"
    }
   ],
   "source": [
    "data.isna().sum() #к-во пропусков в каждом столбце"
   ]
  },
  {
   "cell_type": "code",
   "execution_count": 10,
   "metadata": {},
   "outputs": [],
   "source": [
    "# check\n",
    "# пропущенные значения бары\n",
    "\n",
    "def pass_value_barh(df):\n",
    "    try:\n",
    "        (\n",
    "            (df.isna().mean()*100)\n",
    "            .to_frame()\n",
    "            .rename(columns = {0:'space'})\n",
    "            .query('space > 0')\n",
    "            .sort_values(by = 'space', ascending = True)\n",
    "            .plot(kind= 'barh', figsize=(19,6), rot = -5, legend = False, fontsize = 16)\n",
    "            .set_title('Количество пропусков' + \"\\n\", fontsize = 22, color = 'SteelBlue')    \n",
    "        );    \n",
    "    except:\n",
    "        print('пропусков не осталось :) ')"
   ]
  },
  {
   "cell_type": "code",
   "execution_count": 11,
   "metadata": {
    "scrolled": false
   },
   "outputs": [
    {
     "data": {
      "image/png": "[encoded data removed]",
      "text/plain": [
       "<Figure size 1368x432 with 1 Axes>"
      ]
     },
     "metadata": {
      "needs_background": "light"
     },
     "output_type": "display_data"
    }
   ],
   "source": [
    "pass_value_barh(data)"
   ]
  },
  {
   "cell_type": "markdown",
   "metadata": {},
   "source": [
    "Пропуски в столбце genre и name это одни и те же строчки, тк их всего 2, то их можно удалить. На дальнейший анализ они не повлияют"
   ]
  },
  {
   "cell_type": "code",
   "execution_count": 12,
   "metadata": {},
   "outputs": [
    {
     "data": {
      "text/html": [
       "<div>\n",
       "<style scoped>\n",
       "    .dataframe tbody tr th:only-of-type {\n",
       "        vertical-align: middle;\n",
       "    }\n",
       "\n",
       "    .dataframe tbody tr th {\n",
       "        vertical-align: top;\n",
       "    }\n",
       "\n",
       "    .dataframe thead th {\n",
       "        text-align: right;\n",
       "    }\n",
       "</style>\n",
       "<table border=\"1\" class=\"dataframe\">\n",
       "  <thead>\n",
       "    <tr style=\"text-align: right;\">\n",
       "      <th></th>\n",
       "      <th>name</th>\n",
       "      <th>platform</th>\n",
       "      <th>year_of_release</th>\n",
       "      <th>genre</th>\n",
       "      <th>na_sales</th>\n",
       "      <th>eu_sales</th>\n",
       "      <th>jp_sales</th>\n",
       "      <th>other_sales</th>\n",
       "      <th>critic_score</th>\n",
       "      <th>user_score</th>\n",
       "      <th>rating</th>\n",
       "    </tr>\n",
       "  </thead>\n",
       "  <tbody>\n",
       "    <tr>\n",
       "      <th>659</th>\n",
       "      <td>NaN</td>\n",
       "      <td>GEN</td>\n",
       "      <td>1993.0</td>\n",
       "      <td>NaN</td>\n",
       "      <td>1.78</td>\n",
       "      <td>0.53</td>\n",
       "      <td>0.00</td>\n",
       "      <td>0.08</td>\n",
       "      <td>NaN</td>\n",
       "      <td>NaN</td>\n",
       "      <td>NaN</td>\n",
       "    </tr>\n",
       "    <tr>\n",
       "      <th>14244</th>\n",
       "      <td>NaN</td>\n",
       "      <td>GEN</td>\n",
       "      <td>1993.0</td>\n",
       "      <td>NaN</td>\n",
       "      <td>0.00</td>\n",
       "      <td>0.00</td>\n",
       "      <td>0.03</td>\n",
       "      <td>0.00</td>\n",
       "      <td>NaN</td>\n",
       "      <td>NaN</td>\n",
       "      <td>NaN</td>\n",
       "    </tr>\n",
       "  </tbody>\n",
       "</table>\n",
       "</div>"
      ],
      "text/plain": [
       "      name platform  year_of_release genre  na_sales  eu_sales  jp_sales  \\\n",
       "659    NaN      GEN           1993.0   NaN      1.78      0.53      0.00   \n",
       "14244  NaN      GEN           1993.0   NaN      0.00      0.00      0.03   \n",
       "\n",
       "       other_sales  critic_score user_score rating  \n",
       "659           0.08           NaN        NaN    NaN  \n",
       "14244         0.00           NaN        NaN    NaN  "
      ]
     },
     "execution_count": 12,
     "metadata": {},
     "output_type": "execute_result"
    }
   ],
   "source": [
    "data[data['name'].isna()]"
   ]
  },
  {
   "cell_type": "code",
   "execution_count": 13,
   "metadata": {},
   "outputs": [],
   "source": [
    "#удалим пропуски в столбце name,т.к. их к-во совершенно небольшое\n",
    "data = data.dropna(subset=['name'])"
   ]
  },
  {
   "cell_type": "code",
   "execution_count": 14,
   "metadata": {},
   "outputs": [
    {
     "data": {
      "text/plain": [
       "(16713, 11)"
      ]
     },
     "execution_count": 14,
     "metadata": {},
     "output_type": "execute_result"
    }
   ],
   "source": [
    "# check\n",
    "data.shape"
   ]
  },
  {
   "cell_type": "markdown",
   "metadata": {},
   "source": [
    "Можно заметить множество пропусков в столбцах с оценкой критиков и пользователей, однако удалить их = потерять большое количество данных, поэтому заменим их на \"заглушку\" для удобства "
   ]
  },
  {
   "cell_type": "markdown",
   "metadata": {},
   "source": [
    "Пропуски в столбце critic_score могут означать, что критики не выставили оценки к этим играм или же могла быть какая то ошибка при выгрузке данных например."
   ]
  },
  {
   "cell_type": "code",
   "execution_count": 15,
   "metadata": {},
   "outputs": [],
   "source": [
    "data['critic_score'] = data['critic_score'].fillna(-1)#заменим пропуски на -1"
   ]
  },
  {
   "cell_type": "code",
   "execution_count": 16,
   "metadata": {},
   "outputs": [
    {
     "data": {
      "text/html": [
       "<div>\n",
       "<style scoped>\n",
       "    .dataframe tbody tr th:only-of-type {\n",
       "        vertical-align: middle;\n",
       "    }\n",
       "\n",
       "    .dataframe tbody tr th {\n",
       "        vertical-align: top;\n",
       "    }\n",
       "\n",
       "    .dataframe thead th {\n",
       "        text-align: right;\n",
       "    }\n",
       "</style>\n",
       "<table border=\"1\" class=\"dataframe\">\n",
       "  <thead>\n",
       "    <tr style=\"text-align: right;\">\n",
       "      <th></th>\n",
       "      <th>name</th>\n",
       "      <th>platform</th>\n",
       "      <th>year_of_release</th>\n",
       "      <th>genre</th>\n",
       "      <th>na_sales</th>\n",
       "      <th>eu_sales</th>\n",
       "      <th>jp_sales</th>\n",
       "      <th>other_sales</th>\n",
       "      <th>critic_score</th>\n",
       "      <th>user_score</th>\n",
       "      <th>rating</th>\n",
       "    </tr>\n",
       "  </thead>\n",
       "  <tbody>\n",
       "    <tr>\n",
       "      <th>119</th>\n",
       "      <td>Zumba Fitness</td>\n",
       "      <td>Wii</td>\n",
       "      <td>2010.0</td>\n",
       "      <td>Sports</td>\n",
       "      <td>3.45</td>\n",
       "      <td>2.59</td>\n",
       "      <td>0.0</td>\n",
       "      <td>0.66</td>\n",
       "      <td>-1.0</td>\n",
       "      <td>tbd</td>\n",
       "      <td>E</td>\n",
       "    </tr>\n",
       "    <tr>\n",
       "      <th>301</th>\n",
       "      <td>Namco Museum: 50th Anniversary</td>\n",
       "      <td>PS2</td>\n",
       "      <td>2005.0</td>\n",
       "      <td>Misc</td>\n",
       "      <td>2.08</td>\n",
       "      <td>1.35</td>\n",
       "      <td>0.0</td>\n",
       "      <td>0.54</td>\n",
       "      <td>61.0</td>\n",
       "      <td>tbd</td>\n",
       "      <td>E10+</td>\n",
       "    </tr>\n",
       "    <tr>\n",
       "      <th>520</th>\n",
       "      <td>Zumba Fitness 2</td>\n",
       "      <td>Wii</td>\n",
       "      <td>2011.0</td>\n",
       "      <td>Sports</td>\n",
       "      <td>1.51</td>\n",
       "      <td>1.03</td>\n",
       "      <td>0.0</td>\n",
       "      <td>0.27</td>\n",
       "      <td>-1.0</td>\n",
       "      <td>tbd</td>\n",
       "      <td>T</td>\n",
       "    </tr>\n",
       "    <tr>\n",
       "      <th>645</th>\n",
       "      <td>uDraw Studio</td>\n",
       "      <td>Wii</td>\n",
       "      <td>2010.0</td>\n",
       "      <td>Misc</td>\n",
       "      <td>1.65</td>\n",
       "      <td>0.57</td>\n",
       "      <td>0.0</td>\n",
       "      <td>0.20</td>\n",
       "      <td>71.0</td>\n",
       "      <td>tbd</td>\n",
       "      <td>E</td>\n",
       "    </tr>\n",
       "    <tr>\n",
       "      <th>657</th>\n",
       "      <td>Frogger's Adventures: Temple of the Frog</td>\n",
       "      <td>GBA</td>\n",
       "      <td>NaN</td>\n",
       "      <td>Adventure</td>\n",
       "      <td>2.15</td>\n",
       "      <td>0.18</td>\n",
       "      <td>0.0</td>\n",
       "      <td>0.07</td>\n",
       "      <td>73.0</td>\n",
       "      <td>tbd</td>\n",
       "      <td>E</td>\n",
       "    </tr>\n",
       "    <tr>\n",
       "      <th>...</th>\n",
       "      <td>...</td>\n",
       "      <td>...</td>\n",
       "      <td>...</td>\n",
       "      <td>...</td>\n",
       "      <td>...</td>\n",
       "      <td>...</td>\n",
       "      <td>...</td>\n",
       "      <td>...</td>\n",
       "      <td>...</td>\n",
       "      <td>...</td>\n",
       "      <td>...</td>\n",
       "    </tr>\n",
       "    <tr>\n",
       "      <th>16695</th>\n",
       "      <td>Planet Monsters</td>\n",
       "      <td>GBA</td>\n",
       "      <td>2001.0</td>\n",
       "      <td>Action</td>\n",
       "      <td>0.01</td>\n",
       "      <td>0.00</td>\n",
       "      <td>0.0</td>\n",
       "      <td>0.00</td>\n",
       "      <td>67.0</td>\n",
       "      <td>tbd</td>\n",
       "      <td>E</td>\n",
       "    </tr>\n",
       "    <tr>\n",
       "      <th>16697</th>\n",
       "      <td>Bust-A-Move 3000</td>\n",
       "      <td>GC</td>\n",
       "      <td>2003.0</td>\n",
       "      <td>Puzzle</td>\n",
       "      <td>0.01</td>\n",
       "      <td>0.00</td>\n",
       "      <td>0.0</td>\n",
       "      <td>0.00</td>\n",
       "      <td>53.0</td>\n",
       "      <td>tbd</td>\n",
       "      <td>E</td>\n",
       "    </tr>\n",
       "    <tr>\n",
       "      <th>16698</th>\n",
       "      <td>Mega Brain Boost</td>\n",
       "      <td>DS</td>\n",
       "      <td>2008.0</td>\n",
       "      <td>Puzzle</td>\n",
       "      <td>0.01</td>\n",
       "      <td>0.00</td>\n",
       "      <td>0.0</td>\n",
       "      <td>0.00</td>\n",
       "      <td>48.0</td>\n",
       "      <td>tbd</td>\n",
       "      <td>E</td>\n",
       "    </tr>\n",
       "    <tr>\n",
       "      <th>16704</th>\n",
       "      <td>Plushees</td>\n",
       "      <td>DS</td>\n",
       "      <td>2008.0</td>\n",
       "      <td>Simulation</td>\n",
       "      <td>0.01</td>\n",
       "      <td>0.00</td>\n",
       "      <td>0.0</td>\n",
       "      <td>0.00</td>\n",
       "      <td>-1.0</td>\n",
       "      <td>tbd</td>\n",
       "      <td>E</td>\n",
       "    </tr>\n",
       "    <tr>\n",
       "      <th>16706</th>\n",
       "      <td>Men in Black II: Alien Escape</td>\n",
       "      <td>GC</td>\n",
       "      <td>2003.0</td>\n",
       "      <td>Shooter</td>\n",
       "      <td>0.01</td>\n",
       "      <td>0.00</td>\n",
       "      <td>0.0</td>\n",
       "      <td>0.00</td>\n",
       "      <td>-1.0</td>\n",
       "      <td>tbd</td>\n",
       "      <td>T</td>\n",
       "    </tr>\n",
       "  </tbody>\n",
       "</table>\n",
       "<p>2424 rows × 11 columns</p>\n",
       "</div>"
      ],
      "text/plain": [
       "                                           name platform  year_of_release  \\\n",
       "119                               Zumba Fitness      Wii           2010.0   \n",
       "301              Namco Museum: 50th Anniversary      PS2           2005.0   \n",
       "520                             Zumba Fitness 2      Wii           2011.0   \n",
       "645                                uDraw Studio      Wii           2010.0   \n",
       "657    Frogger's Adventures: Temple of the Frog      GBA              NaN   \n",
       "...                                         ...      ...              ...   \n",
       "16695                           Planet Monsters      GBA           2001.0   \n",
       "16697                          Bust-A-Move 3000       GC           2003.0   \n",
       "16698                          Mega Brain Boost       DS           2008.0   \n",
       "16704                                  Plushees       DS           2008.0   \n",
       "16706             Men in Black II: Alien Escape       GC           2003.0   \n",
       "\n",
       "            genre  na_sales  eu_sales  jp_sales  other_sales  critic_score  \\\n",
       "119        Sports      3.45      2.59       0.0         0.66          -1.0   \n",
       "301          Misc      2.08      1.35       0.0         0.54          61.0   \n",
       "520        Sports      1.51      1.03       0.0         0.27          -1.0   \n",
       "645          Misc      1.65      0.57       0.0         0.20          71.0   \n",
       "657     Adventure      2.15      0.18       0.0         0.07          73.0   \n",
       "...           ...       ...       ...       ...          ...           ...   \n",
       "16695      Action      0.01      0.00       0.0         0.00          67.0   \n",
       "16697      Puzzle      0.01      0.00       0.0         0.00          53.0   \n",
       "16698      Puzzle      0.01      0.00       0.0         0.00          48.0   \n",
       "16704  Simulation      0.01      0.00       0.0         0.00          -1.0   \n",
       "16706     Shooter      0.01      0.00       0.0         0.00          -1.0   \n",
       "\n",
       "      user_score rating  \n",
       "119          tbd      E  \n",
       "301          tbd   E10+  \n",
       "520          tbd      T  \n",
       "645          tbd      E  \n",
       "657          tbd      E  \n",
       "...          ...    ...  \n",
       "16695        tbd      E  \n",
       "16697        tbd      E  \n",
       "16698        tbd      E  \n",
       "16704        tbd      E  \n",
       "16706        tbd      T  \n",
       "\n",
       "[2424 rows x 11 columns]"
      ]
     },
     "execution_count": 16,
     "metadata": {},
     "output_type": "execute_result"
    }
   ],
   "source": [
    "data[data['user_score'] == 'tbd'] #проверим к-во строк с 'tbd'"
   ]
  },
  {
   "cell_type": "markdown",
   "metadata": {},
   "source": [
    "В столбце user_score можно заметить значение 'tbd'. 'tbd'или же  To Be Determined - означает что информация еще не определена или решение еще не принято. Поэтому можно его фактически считать неизвестным нам значением. Другие же пропуски могут означать, что пользователи не ставили им оценки, ошибка при выгрузке данных. "
   ]
  },
  {
   "cell_type": "markdown",
   "metadata": {},
   "source": [
    "Тип столбца user_score - odject, однако поскольку это оценка пользователя, т.е. имеет числовое значение, мы должны заменить его на float."
   ]
  },
  {
   "cell_type": "code",
   "execution_count": 17,
   "metadata": {},
   "outputs": [],
   "source": [
    "data['user_score'] = data['user_score'].replace('tbd', -1) #заменим tbd на -1\n",
    "data['user_score'] = data['user_score'].fillna(-1).astype('float') #заменим пропуски на -1 и изменим тип данных"
   ]
  },
  {
   "cell_type": "markdown",
   "metadata": {},
   "source": [
    "Количество пропусков в столбце year_of_release меньше 2% поэтому можно их удалить. Пропуски могут быть связаны с тем, что либо год во все не указали, либо могла быть проблема с данными при выгрузке например."
   ]
  },
  {
   "cell_type": "code",
   "execution_count": 18,
   "metadata": {},
   "outputs": [],
   "source": [
    "#удалим пропуски в столбце\n",
    "data = data.dropna(subset=['year_of_release'])"
   ]
  },
  {
   "cell_type": "code",
   "execution_count": 19,
   "metadata": {},
   "outputs": [],
   "source": [
    "# Изменим тип данных в столбце year_of_release \n",
    "data['year_of_release'] = data['year_of_release'].astype('Int64')"
   ]
  },
  {
   "cell_type": "markdown",
   "metadata": {},
   "source": [
    "Мы не можем удалить пропуски в столбце rating, тк иначе потеряем большое количество данных, поэтому заменим их заглушкой. Пропуски в этом столбце говорят о том, что могут быть игры у которых нет рейтинга или его по просту забыли указать."
   ]
  },
  {
   "cell_type": "code",
   "execution_count": 20,
   "metadata": {},
   "outputs": [],
   "source": [
    "#заменим пропуски на -1\n",
    "data['rating'] = data['rating'].fillna(-1)"
   ]
  },
  {
   "cell_type": "code",
   "execution_count": 21,
   "metadata": {
    "scrolled": false
   },
   "outputs": [
    {
     "name": "stdout",
     "output_type": "stream",
     "text": [
      "пропусков не осталось :) \n"
     ]
    },
    {
     "data": {
      "image/png": "[encoded data removed]",
      "text/plain": [
       "<Figure size 1368x432 with 1 Axes>"
      ]
     },
     "metadata": {
      "needs_background": "light"
     },
     "output_type": "display_data"
    }
   ],
   "source": [
    "#check\n",
    "pass_value_barh(data)"
   ]
  },
  {
   "cell_type": "markdown",
   "metadata": {},
   "source": [
    "Создадим отдельный столбец для суммарных продаж во всех регионах"
   ]
  },
  {
   "cell_type": "code",
   "execution_count": 22,
   "metadata": {},
   "outputs": [],
   "source": [
    "data['total_sales'] = data[['na_sales','eu_sales','jp_sales', 'other_sales']].sum(axis = 1)"
   ]
  },
  {
   "cell_type": "markdown",
   "metadata": {},
   "source": [
    "###  Иследовательский анализ данных"
   ]
  },
  {
   "cell_type": "markdown",
   "metadata": {},
   "source": [
    "#### Сколько игр выпускалось в разные годы"
   ]
  },
  {
   "cell_type": "code",
   "execution_count": 23,
   "metadata": {
    "scrolled": false
   },
   "outputs": [
    {
     "data": {
      "image/png": "[encoded data removed]",
      "text/plain": [
       "<Figure size 504x360 with 1 Axes>"
      ]
     },
     "metadata": {
      "needs_background": "light"
     },
     "output_type": "display_data"
    }
   ],
   "source": [
    "year_games = data.pivot_table(index='year_of_release', values='name', aggfunc='count')\n",
    "year_games.plot(figsize=(7,5))\n",
    "plt.ylim(0,2000)\n",
    "plt.title(\"Количество игр по годам\")\n",
    "plt.xlabel(\"Год выпуска\")\n",
    "plt.ylabel(\"Количество выпущенных игр\")\n",
    "plt.show()"
   ]
  },
  {
   "cell_type": "markdown",
   "metadata": {},
   "source": [
    "Вывод: Можно заметить что до 2000 количество выпускаемых игр было не очень большим, но примерно с 2000-2002 начался заметный рост. Максимальное количество выпущенных игр было в 2008-2009 годах, после чего мы также можем наблюдать спад.\n",
    "Можно сказать, что нет не важны данные за все периоды. В период с 1980 по 1994 можно наблюдать очень маленькое количество выпускаемых игр."
   ]
  },
  {
   "cell_type": "markdown",
   "metadata": {},
   "source": [
    "#### как менялись продажи по платформам"
   ]
  },
  {
   "cell_type": "markdown",
   "metadata": {},
   "source": [
    "Сделаем сводную таблицу и построим по ней график, чтобы выбрать платформы с наибольшими продажами"
   ]
  },
  {
   "cell_type": "code",
   "execution_count": 24,
   "metadata": {},
   "outputs": [
    {
     "data": {
      "image/png": "[encoded data removed]",
      "text/plain": [
       "<Figure size 504x360 with 1 Axes>"
      ]
     },
     "metadata": {
      "needs_background": "light"
     },
     "output_type": "display_data"
    }
   ],
   "source": [
    "platform_sal = data.pivot_table(index='platform', values='total_sales', aggfunc='sum').sort_values(\n",
    "    by='total_sales', ascending=False)\n",
    "\n",
    "platform_sal.plot(kind='bar', figsize=(7,5))\n",
    "plt.title(\"Продажи по платформам\")\n",
    "plt.xlabel(\"Платформа\")\n",
    "plt.ylabel(\"Количество продаж\")\n",
    "plt.show()"
   ]
  },
  {
   "cell_type": "markdown",
   "metadata": {},
   "source": [
    "Вывод: судя по графику, можно сделать вывод, что платформы с наибольшими суммарными продажами это PS2, X360, Ps3, Wii, DS, PS. Однако лидером из них однозначно является PS2"
   ]
  },
  {
   "cell_type": "code",
   "execution_count": 25,
   "metadata": {
    "scrolled": true
   },
   "outputs": [],
   "source": [
    "#Создадим новый список с 6 платформами с наибольшим к-вом продаж\n",
    "good_platforms = list(platform_sal.index[:6])\n"
   ]
  },
  {
   "cell_type": "code",
   "execution_count": 26,
   "metadata": {},
   "outputs": [
    {
     "name": "stdout",
     "output_type": "stream",
     "text": [
      "                          total_sales\n",
      "platform year_of_release             \n",
      "PS2      2000                   39.17\n",
      "         2001                  166.43\n",
      "         2002                  205.38\n",
      "         2003                  184.31\n",
      "         2004                  211.81\n",
      "         2005                  160.66\n",
      "         2006                  103.42\n",
      "         2007                   75.99\n",
      "         2008                   53.90\n",
      "         2009                   26.40\n",
      "         2010                    5.64\n",
      "         2011                    0.45\n",
      "\n",
      "                          total_sales\n",
      "platform year_of_release             \n",
      "X360     2005                    8.25\n",
      "         2006                   51.62\n",
      "         2007                   95.41\n",
      "         2008                  135.26\n",
      "         2009                  120.29\n",
      "         2010                  170.03\n",
      "         2011                  143.84\n",
      "         2012                   99.74\n",
      "         2013                   88.58\n",
      "         2014                   34.74\n",
      "         2015                   11.96\n",
      "         2016                    1.52\n",
      "\n",
      "                          total_sales\n",
      "platform year_of_release             \n",
      "PS3      2006                   20.96\n",
      "         2007                   73.19\n",
      "         2008                  118.52\n",
      "         2009                  130.93\n",
      "         2010                  142.17\n",
      "         2011                  156.78\n",
      "         2012                  107.36\n",
      "         2013                  113.25\n",
      "         2014                   47.76\n",
      "         2015                   16.82\n",
      "         2016                    3.60\n",
      "\n",
      "                          total_sales\n",
      "platform year_of_release             \n",
      "Wii      2006                  137.15\n",
      "         2007                  152.77\n",
      "         2008                  171.32\n",
      "         2009                  206.97\n",
      "         2010                  127.95\n",
      "         2011                   59.65\n",
      "         2012                   21.71\n",
      "         2013                    8.59\n",
      "         2014                    3.75\n",
      "         2015                    1.14\n",
      "         2016                    0.18\n",
      "\n",
      "                          total_sales\n",
      "platform year_of_release             \n",
      "DS       1985                    0.02\n",
      "         2004                   17.27\n",
      "         2005                  130.14\n",
      "         2006                  119.81\n",
      "         2007                  146.94\n",
      "         2008                  145.31\n",
      "         2009                  119.54\n",
      "         2010                   85.02\n",
      "         2011                   26.18\n",
      "         2012                   11.01\n",
      "         2013                    1.54\n",
      "\n",
      "                          total_sales\n",
      "platform year_of_release             \n",
      "PS       1994                    6.03\n",
      "         1995                   35.96\n",
      "         1996                   94.70\n",
      "         1997                  136.17\n",
      "         1998                  169.49\n",
      "         1999                  144.53\n",
      "         2000                   96.37\n",
      "         2001                   35.59\n",
      "         2002                    6.67\n",
      "         2003                    2.07\n",
      "\n"
     ]
    }
   ],
   "source": [
    "#цикл выводящий распредление по годами для 6 платформ\n",
    "for platform in good_platforms:\n",
    "    years_platform = pd.pivot_table(data.query('platform == @platform'), index=['platform','year_of_release'], values='total_sales', aggfunc='sum')\n",
    "    print(years_platform)\n",
    "    print(\"\")"
   ]
  },
  {
   "cell_type": "markdown",
   "metadata": {},
   "source": [
    "Вывод: Исходя из сводных таблиц можно сделать вывод, что платформы с наиболее высокими суммарными продажами (PS2, X360, Ps3, Wii DS, PS) в среднем функционируют около 8 лет. Поэтому можно сделать вывод, что компании  запускают новые платформы каждые 5-7 лет, давая старым около 2-3 до того момента пока они не перестанут функционировать. "
   ]
  },
  {
   "cell_type": "code",
   "execution_count": 27,
   "metadata": {
    "scrolled": true
   },
   "outputs": [
    {
     "data": {
      "text/plain": [
       "<AxesSubplot:>"
      ]
     },
     "execution_count": 27,
     "metadata": {},
     "output_type": "execute_result"
    },
    {
     "data": {
      "image/png": "[encoded data removed]",
      "text/plain": [
       "<Figure size 504x360 with 1 Axes>"
      ]
     },
     "metadata": {
      "needs_background": "light"
     },
     "output_type": "display_data"
    }
   ],
   "source": [
    "data['year_of_release'].hist(bins=60, figsize=(7,5))"
   ]
  },
  {
   "cell_type": "markdown",
   "metadata": {},
   "source": [
    "Пиком по количеству выпуска игр можно считать 2008-2009 года. Продажи в 2010-2011 годах все еще были достаточно высокими, а с 2012 года продажи держатся примерно на одном уровне с небольшими скачками. Поэтому возьмем за актуальный период с 2013 по 2016 года."
   ]
  },
  {
   "cell_type": "code",
   "execution_count": 28,
   "metadata": {},
   "outputs": [
    {
     "data": {
      "text/html": [
       "<div>\n",
       "<style scoped>\n",
       "    .dataframe tbody tr th:only-of-type {\n",
       "        vertical-align: middle;\n",
       "    }\n",
       "\n",
       "    .dataframe tbody tr th {\n",
       "        vertical-align: top;\n",
       "    }\n",
       "\n",
       "    .dataframe thead th {\n",
       "        text-align: right;\n",
       "    }\n",
       "</style>\n",
       "<table border=\"1\" class=\"dataframe\">\n",
       "  <thead>\n",
       "    <tr style=\"text-align: right;\">\n",
       "      <th></th>\n",
       "      <th>name</th>\n",
       "      <th>platform</th>\n",
       "      <th>year_of_release</th>\n",
       "      <th>genre</th>\n",
       "      <th>na_sales</th>\n",
       "      <th>eu_sales</th>\n",
       "      <th>jp_sales</th>\n",
       "      <th>other_sales</th>\n",
       "      <th>critic_score</th>\n",
       "      <th>user_score</th>\n",
       "      <th>rating</th>\n",
       "      <th>total_sales</th>\n",
       "    </tr>\n",
       "  </thead>\n",
       "  <tbody>\n",
       "    <tr>\n",
       "      <th>16</th>\n",
       "      <td>Grand Theft Auto V</td>\n",
       "      <td>PS3</td>\n",
       "      <td>2013</td>\n",
       "      <td>Action</td>\n",
       "      <td>7.02</td>\n",
       "      <td>9.09</td>\n",
       "      <td>0.98</td>\n",
       "      <td>3.96</td>\n",
       "      <td>97.0</td>\n",
       "      <td>8.2</td>\n",
       "      <td>M</td>\n",
       "      <td>21.05</td>\n",
       "    </tr>\n",
       "    <tr>\n",
       "      <th>23</th>\n",
       "      <td>Grand Theft Auto V</td>\n",
       "      <td>X360</td>\n",
       "      <td>2013</td>\n",
       "      <td>Action</td>\n",
       "      <td>9.66</td>\n",
       "      <td>5.14</td>\n",
       "      <td>0.06</td>\n",
       "      <td>1.41</td>\n",
       "      <td>97.0</td>\n",
       "      <td>8.1</td>\n",
       "      <td>M</td>\n",
       "      <td>16.27</td>\n",
       "    </tr>\n",
       "    <tr>\n",
       "      <th>31</th>\n",
       "      <td>Call of Duty: Black Ops 3</td>\n",
       "      <td>PS4</td>\n",
       "      <td>2015</td>\n",
       "      <td>Shooter</td>\n",
       "      <td>6.03</td>\n",
       "      <td>5.86</td>\n",
       "      <td>0.36</td>\n",
       "      <td>2.38</td>\n",
       "      <td>-1.0</td>\n",
       "      <td>-1.0</td>\n",
       "      <td>-1</td>\n",
       "      <td>14.63</td>\n",
       "    </tr>\n",
       "    <tr>\n",
       "      <th>33</th>\n",
       "      <td>Pokemon X/Pokemon Y</td>\n",
       "      <td>3DS</td>\n",
       "      <td>2013</td>\n",
       "      <td>Role-Playing</td>\n",
       "      <td>5.28</td>\n",
       "      <td>4.19</td>\n",
       "      <td>4.35</td>\n",
       "      <td>0.78</td>\n",
       "      <td>-1.0</td>\n",
       "      <td>-1.0</td>\n",
       "      <td>-1</td>\n",
       "      <td>14.60</td>\n",
       "    </tr>\n",
       "    <tr>\n",
       "      <th>42</th>\n",
       "      <td>Grand Theft Auto V</td>\n",
       "      <td>PS4</td>\n",
       "      <td>2014</td>\n",
       "      <td>Action</td>\n",
       "      <td>3.96</td>\n",
       "      <td>6.31</td>\n",
       "      <td>0.38</td>\n",
       "      <td>1.97</td>\n",
       "      <td>97.0</td>\n",
       "      <td>8.3</td>\n",
       "      <td>M</td>\n",
       "      <td>12.62</td>\n",
       "    </tr>\n",
       "  </tbody>\n",
       "</table>\n",
       "</div>"
      ],
      "text/plain": [
       "                         name platform  year_of_release         genre  \\\n",
       "16         Grand Theft Auto V      PS3             2013        Action   \n",
       "23         Grand Theft Auto V     X360             2013        Action   \n",
       "31  Call of Duty: Black Ops 3      PS4             2015       Shooter   \n",
       "33        Pokemon X/Pokemon Y      3DS             2013  Role-Playing   \n",
       "42         Grand Theft Auto V      PS4             2014        Action   \n",
       "\n",
       "    na_sales  eu_sales  jp_sales  other_sales  critic_score  user_score  \\\n",
       "16      7.02      9.09      0.98         3.96          97.0         8.2   \n",
       "23      9.66      5.14      0.06         1.41          97.0         8.1   \n",
       "31      6.03      5.86      0.36         2.38          -1.0        -1.0   \n",
       "33      5.28      4.19      4.35         0.78          -1.0        -1.0   \n",
       "42      3.96      6.31      0.38         1.97          97.0         8.3   \n",
       "\n",
       "   rating  total_sales  \n",
       "16      M        21.05  \n",
       "23      M        16.27  \n",
       "31     -1        14.63  \n",
       "33     -1        14.60  \n",
       "42      M        12.62  "
      ]
     },
     "metadata": {},
     "output_type": "display_data"
    }
   ],
   "source": [
    "current_period = data.query('year_of_release >= 2013')\n",
    "display(current_period.head())"
   ]
  },
  {
   "cell_type": "code",
   "execution_count": 29,
   "metadata": {},
   "outputs": [
    {
     "data": {
      "text/html": [
       "<div>\n",
       "<style scoped>\n",
       "    .dataframe tbody tr th:only-of-type {\n",
       "        vertical-align: middle;\n",
       "    }\n",
       "\n",
       "    .dataframe tbody tr th {\n",
       "        vertical-align: top;\n",
       "    }\n",
       "\n",
       "    .dataframe thead th {\n",
       "        text-align: right;\n",
       "    }\n",
       "</style>\n",
       "<table border=\"1\" class=\"dataframe\">\n",
       "  <thead>\n",
       "    <tr style=\"text-align: right;\">\n",
       "      <th></th>\n",
       "      <th></th>\n",
       "      <th>total_sales</th>\n",
       "    </tr>\n",
       "    <tr>\n",
       "      <th>platform</th>\n",
       "      <th>year_of_release</th>\n",
       "      <th></th>\n",
       "    </tr>\n",
       "  </thead>\n",
       "  <tbody>\n",
       "    <tr>\n",
       "      <th rowspan=\"4\" valign=\"top\">3DS</th>\n",
       "      <th>2013</th>\n",
       "      <td>56.57</td>\n",
       "    </tr>\n",
       "    <tr>\n",
       "      <th>2014</th>\n",
       "      <td>43.76</td>\n",
       "    </tr>\n",
       "    <tr>\n",
       "      <th>2015</th>\n",
       "      <td>27.78</td>\n",
       "    </tr>\n",
       "    <tr>\n",
       "      <th>2016</th>\n",
       "      <td>15.14</td>\n",
       "    </tr>\n",
       "    <tr>\n",
       "      <th>DS</th>\n",
       "      <th>2013</th>\n",
       "      <td>1.54</td>\n",
       "    </tr>\n",
       "    <tr>\n",
       "      <th rowspan=\"4\" valign=\"top\">PC</th>\n",
       "      <th>2013</th>\n",
       "      <td>12.38</td>\n",
       "    </tr>\n",
       "    <tr>\n",
       "      <th>2014</th>\n",
       "      <td>13.28</td>\n",
       "    </tr>\n",
       "    <tr>\n",
       "      <th>2015</th>\n",
       "      <td>8.52</td>\n",
       "    </tr>\n",
       "    <tr>\n",
       "      <th>2016</th>\n",
       "      <td>5.25</td>\n",
       "    </tr>\n",
       "    <tr>\n",
       "      <th rowspan=\"4\" valign=\"top\">PS3</th>\n",
       "      <th>2013</th>\n",
       "      <td>113.25</td>\n",
       "    </tr>\n",
       "    <tr>\n",
       "      <th>2014</th>\n",
       "      <td>47.76</td>\n",
       "    </tr>\n",
       "    <tr>\n",
       "      <th>2015</th>\n",
       "      <td>16.82</td>\n",
       "    </tr>\n",
       "    <tr>\n",
       "      <th>2016</th>\n",
       "      <td>3.60</td>\n",
       "    </tr>\n",
       "    <tr>\n",
       "      <th rowspan=\"4\" valign=\"top\">PS4</th>\n",
       "      <th>2013</th>\n",
       "      <td>25.99</td>\n",
       "    </tr>\n",
       "    <tr>\n",
       "      <th>2014</th>\n",
       "      <td>100.00</td>\n",
       "    </tr>\n",
       "    <tr>\n",
       "      <th>2015</th>\n",
       "      <td>118.90</td>\n",
       "    </tr>\n",
       "    <tr>\n",
       "      <th>2016</th>\n",
       "      <td>69.25</td>\n",
       "    </tr>\n",
       "    <tr>\n",
       "      <th rowspan=\"3\" valign=\"top\">PSP</th>\n",
       "      <th>2013</th>\n",
       "      <td>3.14</td>\n",
       "    </tr>\n",
       "    <tr>\n",
       "      <th>2014</th>\n",
       "      <td>0.24</td>\n",
       "    </tr>\n",
       "    <tr>\n",
       "      <th>2015</th>\n",
       "      <td>0.12</td>\n",
       "    </tr>\n",
       "    <tr>\n",
       "      <th rowspan=\"4\" valign=\"top\">PSV</th>\n",
       "      <th>2013</th>\n",
       "      <td>10.59</td>\n",
       "    </tr>\n",
       "    <tr>\n",
       "      <th>2014</th>\n",
       "      <td>11.90</td>\n",
       "    </tr>\n",
       "    <tr>\n",
       "      <th>2015</th>\n",
       "      <td>6.25</td>\n",
       "    </tr>\n",
       "    <tr>\n",
       "      <th>2016</th>\n",
       "      <td>4.25</td>\n",
       "    </tr>\n",
       "    <tr>\n",
       "      <th rowspan=\"4\" valign=\"top\">Wii</th>\n",
       "      <th>2013</th>\n",
       "      <td>8.59</td>\n",
       "    </tr>\n",
       "    <tr>\n",
       "      <th>2014</th>\n",
       "      <td>3.75</td>\n",
       "    </tr>\n",
       "    <tr>\n",
       "      <th>2015</th>\n",
       "      <td>1.14</td>\n",
       "    </tr>\n",
       "    <tr>\n",
       "      <th>2016</th>\n",
       "      <td>0.18</td>\n",
       "    </tr>\n",
       "    <tr>\n",
       "      <th rowspan=\"2\" valign=\"top\">WiiU</th>\n",
       "      <th>2013</th>\n",
       "      <td>21.65</td>\n",
       "    </tr>\n",
       "    <tr>\n",
       "      <th>2014</th>\n",
       "      <td>22.03</td>\n",
       "    </tr>\n",
       "  </tbody>\n",
       "</table>\n",
       "</div>"
      ],
      "text/plain": [
       "                          total_sales\n",
       "platform year_of_release             \n",
       "3DS      2013                   56.57\n",
       "         2014                   43.76\n",
       "         2015                   27.78\n",
       "         2016                   15.14\n",
       "DS       2013                    1.54\n",
       "PC       2013                   12.38\n",
       "         2014                   13.28\n",
       "         2015                    8.52\n",
       "         2016                    5.25\n",
       "PS3      2013                  113.25\n",
       "         2014                   47.76\n",
       "         2015                   16.82\n",
       "         2016                    3.60\n",
       "PS4      2013                   25.99\n",
       "         2014                  100.00\n",
       "         2015                  118.90\n",
       "         2016                   69.25\n",
       "PSP      2013                    3.14\n",
       "         2014                    0.24\n",
       "         2015                    0.12\n",
       "PSV      2013                   10.59\n",
       "         2014                   11.90\n",
       "         2015                    6.25\n",
       "         2016                    4.25\n",
       "Wii      2013                    8.59\n",
       "         2014                    3.75\n",
       "         2015                    1.14\n",
       "         2016                    0.18\n",
       "WiiU     2013                   21.65\n",
       "         2014                   22.03"
      ]
     },
     "metadata": {},
     "output_type": "display_data"
    }
   ],
   "source": [
    "cur_top_platform = pd.pivot_table(current_period, index=['platform','year_of_release'], \n",
    "                                     values='total_sales', aggfunc = 'sum')\n",
    "\n",
    "display(cur_top_platform.head(30))"
   ]
  },
  {
   "cell_type": "code",
   "execution_count": 30,
   "metadata": {},
   "outputs": [
    {
     "data": {
      "text/html": [
       "<div>\n",
       "<style scoped>\n",
       "    .dataframe tbody tr th:only-of-type {\n",
       "        vertical-align: middle;\n",
       "    }\n",
       "\n",
       "    .dataframe tbody tr th {\n",
       "        vertical-align: top;\n",
       "    }\n",
       "\n",
       "    .dataframe thead th {\n",
       "        text-align: right;\n",
       "    }\n",
       "</style>\n",
       "<table border=\"1\" class=\"dataframe\">\n",
       "  <thead>\n",
       "    <tr style=\"text-align: right;\">\n",
       "      <th></th>\n",
       "      <th></th>\n",
       "      <th>total_sales</th>\n",
       "    </tr>\n",
       "    <tr>\n",
       "      <th>platform</th>\n",
       "      <th>year_of_release</th>\n",
       "      <th></th>\n",
       "    </tr>\n",
       "  </thead>\n",
       "  <tbody>\n",
       "    <tr>\n",
       "      <th rowspan=\"4\" valign=\"top\">PC</th>\n",
       "      <th>2013</th>\n",
       "      <td>12.38</td>\n",
       "    </tr>\n",
       "    <tr>\n",
       "      <th>2014</th>\n",
       "      <td>13.28</td>\n",
       "    </tr>\n",
       "    <tr>\n",
       "      <th>2015</th>\n",
       "      <td>8.52</td>\n",
       "    </tr>\n",
       "    <tr>\n",
       "      <th>2016</th>\n",
       "      <td>5.25</td>\n",
       "    </tr>\n",
       "    <tr>\n",
       "      <th rowspan=\"4\" valign=\"top\">PS3</th>\n",
       "      <th>2013</th>\n",
       "      <td>113.25</td>\n",
       "    </tr>\n",
       "    <tr>\n",
       "      <th>2014</th>\n",
       "      <td>47.76</td>\n",
       "    </tr>\n",
       "    <tr>\n",
       "      <th>2015</th>\n",
       "      <td>16.82</td>\n",
       "    </tr>\n",
       "    <tr>\n",
       "      <th>2016</th>\n",
       "      <td>3.60</td>\n",
       "    </tr>\n",
       "    <tr>\n",
       "      <th rowspan=\"4\" valign=\"top\">PS4</th>\n",
       "      <th>2013</th>\n",
       "      <td>25.99</td>\n",
       "    </tr>\n",
       "    <tr>\n",
       "      <th>2014</th>\n",
       "      <td>100.00</td>\n",
       "    </tr>\n",
       "    <tr>\n",
       "      <th>2015</th>\n",
       "      <td>118.90</td>\n",
       "    </tr>\n",
       "    <tr>\n",
       "      <th>2016</th>\n",
       "      <td>69.25</td>\n",
       "    </tr>\n",
       "    <tr>\n",
       "      <th rowspan=\"3\" valign=\"top\">PSP</th>\n",
       "      <th>2013</th>\n",
       "      <td>3.14</td>\n",
       "    </tr>\n",
       "    <tr>\n",
       "      <th>2014</th>\n",
       "      <td>0.24</td>\n",
       "    </tr>\n",
       "    <tr>\n",
       "      <th>2015</th>\n",
       "      <td>0.12</td>\n",
       "    </tr>\n",
       "    <tr>\n",
       "      <th rowspan=\"4\" valign=\"top\">PSV</th>\n",
       "      <th>2013</th>\n",
       "      <td>10.59</td>\n",
       "    </tr>\n",
       "    <tr>\n",
       "      <th>2014</th>\n",
       "      <td>11.90</td>\n",
       "    </tr>\n",
       "    <tr>\n",
       "      <th>2015</th>\n",
       "      <td>6.25</td>\n",
       "    </tr>\n",
       "    <tr>\n",
       "      <th>2016</th>\n",
       "      <td>4.25</td>\n",
       "    </tr>\n",
       "    <tr>\n",
       "      <th rowspan=\"4\" valign=\"top\">Wii</th>\n",
       "      <th>2013</th>\n",
       "      <td>8.59</td>\n",
       "    </tr>\n",
       "    <tr>\n",
       "      <th>2014</th>\n",
       "      <td>3.75</td>\n",
       "    </tr>\n",
       "    <tr>\n",
       "      <th>2015</th>\n",
       "      <td>1.14</td>\n",
       "    </tr>\n",
       "    <tr>\n",
       "      <th>2016</th>\n",
       "      <td>0.18</td>\n",
       "    </tr>\n",
       "    <tr>\n",
       "      <th rowspan=\"4\" valign=\"top\">WiiU</th>\n",
       "      <th>2013</th>\n",
       "      <td>21.65</td>\n",
       "    </tr>\n",
       "    <tr>\n",
       "      <th>2014</th>\n",
       "      <td>22.03</td>\n",
       "    </tr>\n",
       "    <tr>\n",
       "      <th>2015</th>\n",
       "      <td>16.35</td>\n",
       "    </tr>\n",
       "    <tr>\n",
       "      <th>2016</th>\n",
       "      <td>4.60</td>\n",
       "    </tr>\n",
       "    <tr>\n",
       "      <th rowspan=\"4\" valign=\"top\">X360</th>\n",
       "      <th>2013</th>\n",
       "      <td>88.58</td>\n",
       "    </tr>\n",
       "    <tr>\n",
       "      <th>2014</th>\n",
       "      <td>34.74</td>\n",
       "    </tr>\n",
       "    <tr>\n",
       "      <th>2015</th>\n",
       "      <td>11.96</td>\n",
       "    </tr>\n",
       "    <tr>\n",
       "      <th>2016</th>\n",
       "      <td>1.52</td>\n",
       "    </tr>\n",
       "    <tr>\n",
       "      <th rowspan=\"4\" valign=\"top\">XOne</th>\n",
       "      <th>2013</th>\n",
       "      <td>18.96</td>\n",
       "    </tr>\n",
       "    <tr>\n",
       "      <th>2014</th>\n",
       "      <td>54.07</td>\n",
       "    </tr>\n",
       "    <tr>\n",
       "      <th>2015</th>\n",
       "      <td>60.14</td>\n",
       "    </tr>\n",
       "    <tr>\n",
       "      <th>2016</th>\n",
       "      <td>26.15</td>\n",
       "    </tr>\n",
       "  </tbody>\n",
       "</table>\n",
       "</div>"
      ],
      "text/plain": [
       "                          total_sales\n",
       "platform year_of_release             \n",
       "PC       2013                   12.38\n",
       "         2014                   13.28\n",
       "         2015                    8.52\n",
       "         2016                    5.25\n",
       "PS3      2013                  113.25\n",
       "         2014                   47.76\n",
       "         2015                   16.82\n",
       "         2016                    3.60\n",
       "PS4      2013                   25.99\n",
       "         2014                  100.00\n",
       "         2015                  118.90\n",
       "         2016                   69.25\n",
       "PSP      2013                    3.14\n",
       "         2014                    0.24\n",
       "         2015                    0.12\n",
       "PSV      2013                   10.59\n",
       "         2014                   11.90\n",
       "         2015                    6.25\n",
       "         2016                    4.25\n",
       "Wii      2013                    8.59\n",
       "         2014                    3.75\n",
       "         2015                    1.14\n",
       "         2016                    0.18\n",
       "WiiU     2013                   21.65\n",
       "         2014                   22.03\n",
       "         2015                   16.35\n",
       "         2016                    4.60\n",
       "X360     2013                   88.58\n",
       "         2014                   34.74\n",
       "         2015                   11.96\n",
       "         2016                    1.52\n",
       "XOne     2013                   18.96\n",
       "         2014                   54.07\n",
       "         2015                   60.14\n",
       "         2016                   26.15"
      ]
     },
     "metadata": {},
     "output_type": "display_data"
    }
   ],
   "source": [
    "display(cur_top_platform.tail(35))"
   ]
  },
  {
   "cell_type": "markdown",
   "metadata": {},
   "source": [
    "Вывод: Можно заметить рост продаж у 3Ds,PS4,XOne. Их можно назвать потенциально прибыльными платформами. Падение же продаж можно заметить у PS3,WiiU,X360,PSP."
   ]
  },
  {
   "cell_type": "code",
   "execution_count": 31,
   "metadata": {},
   "outputs": [
    {
     "data": {
      "text/html": [
       "<div>\n",
       "<style scoped>\n",
       "    .dataframe tbody tr th:only-of-type {\n",
       "        vertical-align: middle;\n",
       "    }\n",
       "\n",
       "    .dataframe tbody tr th {\n",
       "        vertical-align: top;\n",
       "    }\n",
       "\n",
       "    .dataframe thead th {\n",
       "        text-align: right;\n",
       "    }\n",
       "</style>\n",
       "<table border=\"1\" class=\"dataframe\">\n",
       "  <thead>\n",
       "    <tr style=\"text-align: right;\">\n",
       "      <th></th>\n",
       "      <th>total_sales</th>\n",
       "    </tr>\n",
       "    <tr>\n",
       "      <th>platform</th>\n",
       "      <th></th>\n",
       "    </tr>\n",
       "  </thead>\n",
       "  <tbody>\n",
       "    <tr>\n",
       "      <th>PS4</th>\n",
       "      <td>314.14</td>\n",
       "    </tr>\n",
       "    <tr>\n",
       "      <th>PS3</th>\n",
       "      <td>181.43</td>\n",
       "    </tr>\n",
       "    <tr>\n",
       "      <th>XOne</th>\n",
       "      <td>159.32</td>\n",
       "    </tr>\n",
       "    <tr>\n",
       "      <th>3DS</th>\n",
       "      <td>143.25</td>\n",
       "    </tr>\n",
       "    <tr>\n",
       "      <th>X360</th>\n",
       "      <td>136.80</td>\n",
       "    </tr>\n",
       "    <tr>\n",
       "      <th>WiiU</th>\n",
       "      <td>64.63</td>\n",
       "    </tr>\n",
       "    <tr>\n",
       "      <th>PC</th>\n",
       "      <td>39.43</td>\n",
       "    </tr>\n",
       "    <tr>\n",
       "      <th>PSV</th>\n",
       "      <td>32.99</td>\n",
       "    </tr>\n",
       "    <tr>\n",
       "      <th>Wii</th>\n",
       "      <td>13.66</td>\n",
       "    </tr>\n",
       "    <tr>\n",
       "      <th>PSP</th>\n",
       "      <td>3.50</td>\n",
       "    </tr>\n",
       "    <tr>\n",
       "      <th>DS</th>\n",
       "      <td>1.54</td>\n",
       "    </tr>\n",
       "  </tbody>\n",
       "</table>\n",
       "</div>"
      ],
      "text/plain": [
       "          total_sales\n",
       "platform             \n",
       "PS4            314.14\n",
       "PS3            181.43\n",
       "XOne           159.32\n",
       "3DS            143.25\n",
       "X360           136.80\n",
       "WiiU            64.63\n",
       "PC              39.43\n",
       "PSV             32.99\n",
       "Wii             13.66\n",
       "PSP              3.50\n",
       "DS               1.54"
      ]
     },
     "execution_count": 31,
     "metadata": {},
     "output_type": "execute_result"
    }
   ],
   "source": [
    "#сводная таблица для определения лидеров продаж\n",
    "lider_platform = pd.pivot_table(current_period, index='platform', \n",
    "                                     values='total_sales', aggfunc = 'sum')\n",
    "lider_platform.sort_values('total_sales', ascending=False)"
   ]
  },
  {
   "cell_type": "markdown",
   "metadata": {},
   "source": [
    "Вывод: Можно сделать вывод, что по продажам лидируют PS4, PS3, Xone, 3DS,X360."
   ]
  },
  {
   "cell_type": "markdown",
   "metadata": {},
   "source": [
    "#### График «ящик с усами» по глобальным продажам игр в разбивке по платформам. "
   ]
  },
  {
   "cell_type": "code",
   "execution_count": 32,
   "metadata": {
    "scrolled": false
   },
   "outputs": [
    {
     "data": {
      "text/plain": [
       "count    303.000000\n",
       "mean       0.472772\n",
       "std        1.381347\n",
       "min        0.010000\n",
       "25%        0.040000\n",
       "50%        0.090000\n",
       "75%        0.280000\n",
       "max       14.600000\n",
       "Name: total_sales, dtype: float64"
      ]
     },
     "execution_count": 32,
     "metadata": {},
     "output_type": "execute_result"
    },
    {
     "data": {
      "image/png": "[encoded data removed]",
      "text/plain": [
       "<Figure size 432x288 with 1 Axes>"
      ]
     },
     "metadata": {
      "needs_background": "light"
     },
     "output_type": "display_data"
    }
   ],
   "source": [
    "_3DS = current_period.query('platform ==\"3DS\"')\n",
    "_3DS.boxplot(column = 'total_sales')\n",
    "_3DS['total_sales'].describe()"
   ]
  },
  {
   "cell_type": "markdown",
   "metadata": {},
   "source": [
    "Вывод: для платформы 3DS максимальная сумма продаж составляет 14.6 млн, средняя же сумма продаж составляет около 472 тысяч"
   ]
  },
  {
   "cell_type": "code",
   "execution_count": 33,
   "metadata": {},
   "outputs": [
    {
     "data": {
      "text/plain": [
       "count    345.000000\n",
       "mean       0.525884\n",
       "std        1.451939\n",
       "min        0.010000\n",
       "25%        0.040000\n",
       "50%        0.150000\n",
       "75%        0.510000\n",
       "max       21.050000\n",
       "Name: total_sales, dtype: float64"
      ]
     },
     "execution_count": 33,
     "metadata": {},
     "output_type": "execute_result"
    },
    {
     "data": {
      "image/png": "[encoded data removed]",
      "text/plain": [
       "<Figure size 432x288 with 1 Axes>"
      ]
     },
     "metadata": {
      "needs_background": "light"
     },
     "output_type": "display_data"
    }
   ],
   "source": [
    "PS3 = current_period.query('platform ==\"PS3\"')\n",
    "PS3.boxplot(column = 'total_sales')\n",
    "PS3['total_sales'].describe()"
   ]
  },
  {
   "cell_type": "markdown",
   "metadata": {},
   "source": [
    "Вывод: Для платформы PS3 максимальная сумма продаж составляет 21 млн, средняя сумма продаж составляет около 525 тысяч"
   ]
  },
  {
   "cell_type": "code",
   "execution_count": 34,
   "metadata": {
    "scrolled": false
   },
   "outputs": [
    {
     "data": {
      "text/plain": [
       "count    186.000000\n",
       "mean       0.735484\n",
       "std        1.663275\n",
       "min        0.010000\n",
       "25%        0.080000\n",
       "50%        0.265000\n",
       "75%        0.795000\n",
       "max       16.270000\n",
       "Name: total_sales, dtype: float64"
      ]
     },
     "execution_count": 34,
     "metadata": {},
     "output_type": "execute_result"
    },
    {
     "data": {
      "image/png": "[encoded data removed]",
      "text/plain": [
       "<Figure size 432x288 with 1 Axes>"
      ]
     },
     "metadata": {
      "needs_background": "light"
     },
     "output_type": "display_data"
    }
   ],
   "source": [
    "X360 = current_period.query('platform ==\"X360\"')\n",
    "X360.boxplot(column = 'total_sales')\n",
    "X360['total_sales'].describe()"
   ]
  },
  {
   "cell_type": "markdown",
   "metadata": {},
   "source": [
    "Вывод: Для платформы X360 максимальная сумма продаж составляет 16.27 млн, средняя же сумма продаж составляет около 735 тысяч. "
   ]
  },
  {
   "cell_type": "code",
   "execution_count": 35,
   "metadata": {},
   "outputs": [
    {
     "data": {
      "text/plain": [
       "count    392.000000\n",
       "mean       0.801378\n",
       "std        1.609456\n",
       "min        0.010000\n",
       "25%        0.060000\n",
       "50%        0.200000\n",
       "75%        0.730000\n",
       "max       14.630000\n",
       "Name: total_sales, dtype: float64"
      ]
     },
     "execution_count": 35,
     "metadata": {},
     "output_type": "execute_result"
    },
    {
     "data": {
      "image/png": "[encoded data removed]",
      "text/plain": [
       "<Figure size 432x288 with 1 Axes>"
      ]
     },
     "metadata": {
      "needs_background": "light"
     },
     "output_type": "display_data"
    }
   ],
   "source": [
    "PS4 = current_period.query('platform ==\"PS4\"')\n",
    "PS4.boxplot(column = 'total_sales')\n",
    "PS4['total_sales'].describe()"
   ]
  },
  {
   "cell_type": "markdown",
   "metadata": {},
   "source": [
    "Вывод: Для платформы PS4 максимальная сумма продаж составляет 14.63 млн, средняя же сумма продаж составляет 803 тысячи."
   ]
  },
  {
   "cell_type": "code",
   "execution_count": 36,
   "metadata": {},
   "outputs": [
    {
     "data": {
      "text/plain": [
       "count    247.000000\n",
       "mean       0.645020\n",
       "std        1.036139\n",
       "min        0.010000\n",
       "25%        0.060000\n",
       "50%        0.220000\n",
       "75%        0.685000\n",
       "max        7.390000\n",
       "Name: total_sales, dtype: float64"
      ]
     },
     "execution_count": 36,
     "metadata": {},
     "output_type": "execute_result"
    },
    {
     "data": {
      "image/png": "[encoded data removed]",
      "text/plain": [
       "<Figure size 432x288 with 1 Axes>"
      ]
     },
     "metadata": {
      "needs_background": "light"
     },
     "output_type": "display_data"
    }
   ],
   "source": [
    "XOne = current_period.query('platform ==\"XOne\"')\n",
    "XOne.boxplot(column = 'total_sales')\n",
    "XOne['total_sales'].describe()"
   ]
  },
  {
   "cell_type": "markdown",
   "metadata": {},
   "source": [
    "Вывод: Для платформы XOne максимальная сумма продаж составляет 7.39 млн, средняя же сумма продаж составляет около 645 тысяч."
   ]
  },
  {
   "cell_type": "markdown",
   "metadata": {},
   "source": [
    "Вывод: Можно выделить платформы x360 (16.27, 735к) и PS3(21 млн, 525к), как платформы с наибольшей максимальной суммой продаж и наибольшими средними суммами продаж.Также можно заметить платформы с наименьшими суммами продаж и наименьшими средними, а именно Xone (7.39 млн, 645 тысяч).\n"
   ]
  },
  {
   "cell_type": "markdown",
   "metadata": {},
   "source": [
    "#### как влияют на продажи внутри одной популярной платформы отзывы пользователей и критиков. "
   ]
  },
  {
   "cell_type": "markdown",
   "metadata": {},
   "source": [
    "Возьмем платформу PS3, потому как она является одним из лидеров как за предыдущие годы, так и за актуальный период."
   ]
  },
  {
   "cell_type": "code",
   "execution_count": 37,
   "metadata": {},
   "outputs": [
    {
     "data": {
      "text/html": [
       "<div>\n",
       "<style scoped>\n",
       "    .dataframe tbody tr th:only-of-type {\n",
       "        vertical-align: middle;\n",
       "    }\n",
       "\n",
       "    .dataframe tbody tr th {\n",
       "        vertical-align: top;\n",
       "    }\n",
       "\n",
       "    .dataframe thead th {\n",
       "        text-align: right;\n",
       "    }\n",
       "</style>\n",
       "<table border=\"1\" class=\"dataframe\">\n",
       "  <thead>\n",
       "    <tr style=\"text-align: right;\">\n",
       "      <th></th>\n",
       "      <th>name</th>\n",
       "      <th>platform</th>\n",
       "      <th>year_of_release</th>\n",
       "      <th>genre</th>\n",
       "      <th>na_sales</th>\n",
       "      <th>eu_sales</th>\n",
       "      <th>jp_sales</th>\n",
       "      <th>other_sales</th>\n",
       "      <th>critic_score</th>\n",
       "      <th>user_score</th>\n",
       "      <th>rating</th>\n",
       "      <th>total_sales</th>\n",
       "    </tr>\n",
       "  </thead>\n",
       "  <tbody>\n",
       "    <tr>\n",
       "      <th>16</th>\n",
       "      <td>Grand Theft Auto V</td>\n",
       "      <td>PS3</td>\n",
       "      <td>2013</td>\n",
       "      <td>Action</td>\n",
       "      <td>7.02</td>\n",
       "      <td>9.09</td>\n",
       "      <td>0.98</td>\n",
       "      <td>3.96</td>\n",
       "      <td>97.0</td>\n",
       "      <td>8.2</td>\n",
       "      <td>M</td>\n",
       "      <td>21.05</td>\n",
       "    </tr>\n",
       "    <tr>\n",
       "      <th>34</th>\n",
       "      <td>Call of Duty: Black Ops II</td>\n",
       "      <td>PS3</td>\n",
       "      <td>2012</td>\n",
       "      <td>Shooter</td>\n",
       "      <td>4.99</td>\n",
       "      <td>5.73</td>\n",
       "      <td>0.65</td>\n",
       "      <td>2.42</td>\n",
       "      <td>83.0</td>\n",
       "      <td>5.3</td>\n",
       "      <td>M</td>\n",
       "      <td>13.79</td>\n",
       "    </tr>\n",
       "    <tr>\n",
       "      <th>37</th>\n",
       "      <td>Call of Duty: Modern Warfare 3</td>\n",
       "      <td>PS3</td>\n",
       "      <td>2011</td>\n",
       "      <td>Shooter</td>\n",
       "      <td>5.54</td>\n",
       "      <td>5.73</td>\n",
       "      <td>0.49</td>\n",
       "      <td>1.57</td>\n",
       "      <td>88.0</td>\n",
       "      <td>3.2</td>\n",
       "      <td>M</td>\n",
       "      <td>13.33</td>\n",
       "    </tr>\n",
       "    <tr>\n",
       "      <th>41</th>\n",
       "      <td>Call of Duty: Black Ops</td>\n",
       "      <td>PS3</td>\n",
       "      <td>2010</td>\n",
       "      <td>Shooter</td>\n",
       "      <td>5.99</td>\n",
       "      <td>4.37</td>\n",
       "      <td>0.48</td>\n",
       "      <td>1.79</td>\n",
       "      <td>88.0</td>\n",
       "      <td>6.4</td>\n",
       "      <td>M</td>\n",
       "      <td>12.63</td>\n",
       "    </tr>\n",
       "    <tr>\n",
       "      <th>54</th>\n",
       "      <td>Gran Turismo 5</td>\n",
       "      <td>PS3</td>\n",
       "      <td>2010</td>\n",
       "      <td>Racing</td>\n",
       "      <td>2.96</td>\n",
       "      <td>4.82</td>\n",
       "      <td>0.81</td>\n",
       "      <td>2.11</td>\n",
       "      <td>84.0</td>\n",
       "      <td>7.5</td>\n",
       "      <td>E</td>\n",
       "      <td>10.70</td>\n",
       "    </tr>\n",
       "    <tr>\n",
       "      <th>...</th>\n",
       "      <td>...</td>\n",
       "      <td>...</td>\n",
       "      <td>...</td>\n",
       "      <td>...</td>\n",
       "      <td>...</td>\n",
       "      <td>...</td>\n",
       "      <td>...</td>\n",
       "      <td>...</td>\n",
       "      <td>...</td>\n",
       "      <td>...</td>\n",
       "      <td>...</td>\n",
       "      <td>...</td>\n",
       "    </tr>\n",
       "    <tr>\n",
       "      <th>15649</th>\n",
       "      <td>Darksiders</td>\n",
       "      <td>PS3</td>\n",
       "      <td>2010</td>\n",
       "      <td>Action</td>\n",
       "      <td>0.01</td>\n",
       "      <td>0.00</td>\n",
       "      <td>0.00</td>\n",
       "      <td>0.00</td>\n",
       "      <td>82.0</td>\n",
       "      <td>7.9</td>\n",
       "      <td>M</td>\n",
       "      <td>0.01</td>\n",
       "    </tr>\n",
       "    <tr>\n",
       "      <th>15742</th>\n",
       "      <td>Invizimals: The Lost Kingdom</td>\n",
       "      <td>PS3</td>\n",
       "      <td>2013</td>\n",
       "      <td>Action</td>\n",
       "      <td>0.00</td>\n",
       "      <td>0.02</td>\n",
       "      <td>0.00</td>\n",
       "      <td>0.00</td>\n",
       "      <td>50.0</td>\n",
       "      <td>5.0</td>\n",
       "      <td>E10+</td>\n",
       "      <td>0.02</td>\n",
       "    </tr>\n",
       "    <tr>\n",
       "      <th>15880</th>\n",
       "      <td>Turbo: Super Stunt Squad</td>\n",
       "      <td>PS3</td>\n",
       "      <td>2013</td>\n",
       "      <td>Sports</td>\n",
       "      <td>0.00</td>\n",
       "      <td>0.01</td>\n",
       "      <td>0.00</td>\n",
       "      <td>0.00</td>\n",
       "      <td>38.0</td>\n",
       "      <td>-1.0</td>\n",
       "      <td>E</td>\n",
       "      <td>0.01</td>\n",
       "    </tr>\n",
       "    <tr>\n",
       "      <th>16146</th>\n",
       "      <td>Don Bradman Cricket 14</td>\n",
       "      <td>PS3</td>\n",
       "      <td>2014</td>\n",
       "      <td>Sports</td>\n",
       "      <td>0.00</td>\n",
       "      <td>0.01</td>\n",
       "      <td>0.00</td>\n",
       "      <td>0.00</td>\n",
       "      <td>73.0</td>\n",
       "      <td>6.9</td>\n",
       "      <td>E</td>\n",
       "      <td>0.01</td>\n",
       "    </tr>\n",
       "    <tr>\n",
       "      <th>16230</th>\n",
       "      <td>Madden NFL 13</td>\n",
       "      <td>PS3</td>\n",
       "      <td>2012</td>\n",
       "      <td>Sports</td>\n",
       "      <td>0.00</td>\n",
       "      <td>0.01</td>\n",
       "      <td>0.00</td>\n",
       "      <td>0.00</td>\n",
       "      <td>83.0</td>\n",
       "      <td>5.5</td>\n",
       "      <td>E</td>\n",
       "      <td>0.01</td>\n",
       "    </tr>\n",
       "  </tbody>\n",
       "</table>\n",
       "<p>804 rows × 12 columns</p>\n",
       "</div>"
      ],
      "text/plain": [
       "                                 name platform  year_of_release    genre  \\\n",
       "16                 Grand Theft Auto V      PS3             2013   Action   \n",
       "34         Call of Duty: Black Ops II      PS3             2012  Shooter   \n",
       "37     Call of Duty: Modern Warfare 3      PS3             2011  Shooter   \n",
       "41            Call of Duty: Black Ops      PS3             2010  Shooter   \n",
       "54                     Gran Turismo 5      PS3             2010   Racing   \n",
       "...                               ...      ...              ...      ...   \n",
       "15649                      Darksiders      PS3             2010   Action   \n",
       "15742    Invizimals: The Lost Kingdom      PS3             2013   Action   \n",
       "15880        Turbo: Super Stunt Squad      PS3             2013   Sports   \n",
       "16146          Don Bradman Cricket 14      PS3             2014   Sports   \n",
       "16230                   Madden NFL 13      PS3             2012   Sports   \n",
       "\n",
       "       na_sales  eu_sales  jp_sales  other_sales  critic_score  user_score  \\\n",
       "16         7.02      9.09      0.98         3.96          97.0         8.2   \n",
       "34         4.99      5.73      0.65         2.42          83.0         5.3   \n",
       "37         5.54      5.73      0.49         1.57          88.0         3.2   \n",
       "41         5.99      4.37      0.48         1.79          88.0         6.4   \n",
       "54         2.96      4.82      0.81         2.11          84.0         7.5   \n",
       "...         ...       ...       ...          ...           ...         ...   \n",
       "15649      0.01      0.00      0.00         0.00          82.0         7.9   \n",
       "15742      0.00      0.02      0.00         0.00          50.0         5.0   \n",
       "15880      0.00      0.01      0.00         0.00          38.0        -1.0   \n",
       "16146      0.00      0.01      0.00         0.00          73.0         6.9   \n",
       "16230      0.00      0.01      0.00         0.00          83.0         5.5   \n",
       "\n",
       "      rating  total_sales  \n",
       "16         M        21.05  \n",
       "34         M        13.79  \n",
       "37         M        13.33  \n",
       "41         M        12.63  \n",
       "54         E        10.70  \n",
       "...      ...          ...  \n",
       "15649      M         0.01  \n",
       "15742   E10+         0.02  \n",
       "15880      E         0.01  \n",
       "16146      E         0.01  \n",
       "16230      E         0.01  \n",
       "\n",
       "[804 rows x 12 columns]"
      ]
     },
     "metadata": {},
     "output_type": "display_data"
    }
   ],
   "source": [
    "#сделаем срез данных для платформы PS3 и оценки критиков\n",
    "PS3_platform = data.query('(platform == \"PS3\") & (critic_score > 0)')\n",
    "display(PS3_platform)"
   ]
  },
  {
   "cell_type": "code",
   "execution_count": 38,
   "metadata": {},
   "outputs": [
    {
     "data": {
      "text/plain": [
       "<AxesSubplot:xlabel='critic_score', ylabel='total_sales'>"
      ]
     },
     "execution_count": 38,
     "metadata": {},
     "output_type": "execute_result"
    },
    {
     "data": {
      "image/png": "[encoded data removed]",
      "text/plain": [
       "<Figure size 432x288 with 1 Axes>"
      ]
     },
     "metadata": {
      "needs_background": "light"
     },
     "output_type": "display_data"
    }
   ],
   "source": [
    "#создадим диаграмму \n",
    "PS3_platform.plot(x='critic_score', y='total_sales', kind='scatter')"
   ]
  },
  {
   "cell_type": "markdown",
   "metadata": {},
   "source": [
    "Вывод: можно заметить, что с ростом оценок от критиков растут и продажи по платформе."
   ]
  },
  {
   "cell_type": "code",
   "execution_count": 39,
   "metadata": {
    "scrolled": false
   },
   "outputs": [
    {
     "data": {
      "text/html": [
       "<div>\n",
       "<style scoped>\n",
       "    .dataframe tbody tr th:only-of-type {\n",
       "        vertical-align: middle;\n",
       "    }\n",
       "\n",
       "    .dataframe tbody tr th {\n",
       "        vertical-align: top;\n",
       "    }\n",
       "\n",
       "    .dataframe thead th {\n",
       "        text-align: right;\n",
       "    }\n",
       "</style>\n",
       "<table border=\"1\" class=\"dataframe\">\n",
       "  <thead>\n",
       "    <tr style=\"text-align: right;\">\n",
       "      <th></th>\n",
       "      <th>name</th>\n",
       "      <th>platform</th>\n",
       "      <th>year_of_release</th>\n",
       "      <th>genre</th>\n",
       "      <th>na_sales</th>\n",
       "      <th>eu_sales</th>\n",
       "      <th>jp_sales</th>\n",
       "      <th>other_sales</th>\n",
       "      <th>critic_score</th>\n",
       "      <th>user_score</th>\n",
       "      <th>rating</th>\n",
       "      <th>total_sales</th>\n",
       "    </tr>\n",
       "  </thead>\n",
       "  <tbody>\n",
       "    <tr>\n",
       "      <th>16</th>\n",
       "      <td>Grand Theft Auto V</td>\n",
       "      <td>PS3</td>\n",
       "      <td>2013</td>\n",
       "      <td>Action</td>\n",
       "      <td>7.02</td>\n",
       "      <td>9.09</td>\n",
       "      <td>0.98</td>\n",
       "      <td>3.96</td>\n",
       "      <td>97.0</td>\n",
       "      <td>8.2</td>\n",
       "      <td>M</td>\n",
       "      <td>21.05</td>\n",
       "    </tr>\n",
       "    <tr>\n",
       "      <th>34</th>\n",
       "      <td>Call of Duty: Black Ops II</td>\n",
       "      <td>PS3</td>\n",
       "      <td>2012</td>\n",
       "      <td>Shooter</td>\n",
       "      <td>4.99</td>\n",
       "      <td>5.73</td>\n",
       "      <td>0.65</td>\n",
       "      <td>2.42</td>\n",
       "      <td>83.0</td>\n",
       "      <td>5.3</td>\n",
       "      <td>M</td>\n",
       "      <td>13.79</td>\n",
       "    </tr>\n",
       "    <tr>\n",
       "      <th>37</th>\n",
       "      <td>Call of Duty: Modern Warfare 3</td>\n",
       "      <td>PS3</td>\n",
       "      <td>2011</td>\n",
       "      <td>Shooter</td>\n",
       "      <td>5.54</td>\n",
       "      <td>5.73</td>\n",
       "      <td>0.49</td>\n",
       "      <td>1.57</td>\n",
       "      <td>88.0</td>\n",
       "      <td>3.2</td>\n",
       "      <td>M</td>\n",
       "      <td>13.33</td>\n",
       "    </tr>\n",
       "    <tr>\n",
       "      <th>41</th>\n",
       "      <td>Call of Duty: Black Ops</td>\n",
       "      <td>PS3</td>\n",
       "      <td>2010</td>\n",
       "      <td>Shooter</td>\n",
       "      <td>5.99</td>\n",
       "      <td>4.37</td>\n",
       "      <td>0.48</td>\n",
       "      <td>1.79</td>\n",
       "      <td>88.0</td>\n",
       "      <td>6.4</td>\n",
       "      <td>M</td>\n",
       "      <td>12.63</td>\n",
       "    </tr>\n",
       "    <tr>\n",
       "      <th>54</th>\n",
       "      <td>Gran Turismo 5</td>\n",
       "      <td>PS3</td>\n",
       "      <td>2010</td>\n",
       "      <td>Racing</td>\n",
       "      <td>2.96</td>\n",
       "      <td>4.82</td>\n",
       "      <td>0.81</td>\n",
       "      <td>2.11</td>\n",
       "      <td>84.0</td>\n",
       "      <td>7.5</td>\n",
       "      <td>E</td>\n",
       "      <td>10.70</td>\n",
       "    </tr>\n",
       "    <tr>\n",
       "      <th>...</th>\n",
       "      <td>...</td>\n",
       "      <td>...</td>\n",
       "      <td>...</td>\n",
       "      <td>...</td>\n",
       "      <td>...</td>\n",
       "      <td>...</td>\n",
       "      <td>...</td>\n",
       "      <td>...</td>\n",
       "      <td>...</td>\n",
       "      <td>...</td>\n",
       "      <td>...</td>\n",
       "      <td>...</td>\n",
       "    </tr>\n",
       "    <tr>\n",
       "      <th>15567</th>\n",
       "      <td>Tom Clancy's Splinter Cell Classic Trilogy HD</td>\n",
       "      <td>PS3</td>\n",
       "      <td>2011</td>\n",
       "      <td>Action</td>\n",
       "      <td>0.02</td>\n",
       "      <td>0.00</td>\n",
       "      <td>0.00</td>\n",
       "      <td>0.00</td>\n",
       "      <td>67.0</td>\n",
       "      <td>6.8</td>\n",
       "      <td>M</td>\n",
       "      <td>0.02</td>\n",
       "    </tr>\n",
       "    <tr>\n",
       "      <th>15649</th>\n",
       "      <td>Darksiders</td>\n",
       "      <td>PS3</td>\n",
       "      <td>2010</td>\n",
       "      <td>Action</td>\n",
       "      <td>0.01</td>\n",
       "      <td>0.00</td>\n",
       "      <td>0.00</td>\n",
       "      <td>0.00</td>\n",
       "      <td>82.0</td>\n",
       "      <td>7.9</td>\n",
       "      <td>M</td>\n",
       "      <td>0.01</td>\n",
       "    </tr>\n",
       "    <tr>\n",
       "      <th>15742</th>\n",
       "      <td>Invizimals: The Lost Kingdom</td>\n",
       "      <td>PS3</td>\n",
       "      <td>2013</td>\n",
       "      <td>Action</td>\n",
       "      <td>0.00</td>\n",
       "      <td>0.02</td>\n",
       "      <td>0.00</td>\n",
       "      <td>0.00</td>\n",
       "      <td>50.0</td>\n",
       "      <td>5.0</td>\n",
       "      <td>E10+</td>\n",
       "      <td>0.02</td>\n",
       "    </tr>\n",
       "    <tr>\n",
       "      <th>16146</th>\n",
       "      <td>Don Bradman Cricket 14</td>\n",
       "      <td>PS3</td>\n",
       "      <td>2014</td>\n",
       "      <td>Sports</td>\n",
       "      <td>0.00</td>\n",
       "      <td>0.01</td>\n",
       "      <td>0.00</td>\n",
       "      <td>0.00</td>\n",
       "      <td>73.0</td>\n",
       "      <td>6.9</td>\n",
       "      <td>E</td>\n",
       "      <td>0.01</td>\n",
       "    </tr>\n",
       "    <tr>\n",
       "      <th>16230</th>\n",
       "      <td>Madden NFL 13</td>\n",
       "      <td>PS3</td>\n",
       "      <td>2012</td>\n",
       "      <td>Sports</td>\n",
       "      <td>0.00</td>\n",
       "      <td>0.01</td>\n",
       "      <td>0.00</td>\n",
       "      <td>0.00</td>\n",
       "      <td>83.0</td>\n",
       "      <td>5.5</td>\n",
       "      <td>E</td>\n",
       "      <td>0.01</td>\n",
       "    </tr>\n",
       "  </tbody>\n",
       "</table>\n",
       "<p>861 rows × 12 columns</p>\n",
       "</div>"
      ],
      "text/plain": [
       "                                                name platform  \\\n",
       "16                                Grand Theft Auto V      PS3   \n",
       "34                        Call of Duty: Black Ops II      PS3   \n",
       "37                    Call of Duty: Modern Warfare 3      PS3   \n",
       "41                           Call of Duty: Black Ops      PS3   \n",
       "54                                    Gran Turismo 5      PS3   \n",
       "...                                              ...      ...   \n",
       "15567  Tom Clancy's Splinter Cell Classic Trilogy HD      PS3   \n",
       "15649                                     Darksiders      PS3   \n",
       "15742                   Invizimals: The Lost Kingdom      PS3   \n",
       "16146                         Don Bradman Cricket 14      PS3   \n",
       "16230                                  Madden NFL 13      PS3   \n",
       "\n",
       "       year_of_release    genre  na_sales  eu_sales  jp_sales  other_sales  \\\n",
       "16                2013   Action      7.02      9.09      0.98         3.96   \n",
       "34                2012  Shooter      4.99      5.73      0.65         2.42   \n",
       "37                2011  Shooter      5.54      5.73      0.49         1.57   \n",
       "41                2010  Shooter      5.99      4.37      0.48         1.79   \n",
       "54                2010   Racing      2.96      4.82      0.81         2.11   \n",
       "...                ...      ...       ...       ...       ...          ...   \n",
       "15567             2011   Action      0.02      0.00      0.00         0.00   \n",
       "15649             2010   Action      0.01      0.00      0.00         0.00   \n",
       "15742             2013   Action      0.00      0.02      0.00         0.00   \n",
       "16146             2014   Sports      0.00      0.01      0.00         0.00   \n",
       "16230             2012   Sports      0.00      0.01      0.00         0.00   \n",
       "\n",
       "       critic_score  user_score rating  total_sales  \n",
       "16             97.0         8.2      M        21.05  \n",
       "34             83.0         5.3      M        13.79  \n",
       "37             88.0         3.2      M        13.33  \n",
       "41             88.0         6.4      M        12.63  \n",
       "54             84.0         7.5      E        10.70  \n",
       "...             ...         ...    ...          ...  \n",
       "15567          67.0         6.8      M         0.02  \n",
       "15649          82.0         7.9      M         0.01  \n",
       "15742          50.0         5.0   E10+         0.02  \n",
       "16146          73.0         6.9      E         0.01  \n",
       "16230          83.0         5.5      E         0.01  \n",
       "\n",
       "[861 rows x 12 columns]"
      ]
     },
     "metadata": {},
     "output_type": "display_data"
    }
   ],
   "source": [
    "#сделаем срез данных для платформы PS3 и оценки пользователей\n",
    "PS3_platform = data.query('(platform == \"PS3\") & (user_score > 0)')\n",
    "display(PS3_platform)"
   ]
  },
  {
   "cell_type": "code",
   "execution_count": 40,
   "metadata": {},
   "outputs": [
    {
     "data": {
      "text/plain": [
       "<AxesSubplot:xlabel='user_score', ylabel='total_sales'>"
      ]
     },
     "execution_count": 40,
     "metadata": {},
     "output_type": "execute_result"
    },
    {
     "data": {
      "image/png": "[encoded data removed]",
      "text/plain": [
       "<Figure size 432x288 with 1 Axes>"
      ]
     },
     "metadata": {
      "needs_background": "light"
     },
     "output_type": "display_data"
    }
   ],
   "source": [
    "#создадим диаграмму \n",
    "PS3_platform.plot(x='user_score', y='total_sales', kind='scatter')"
   ]
  },
  {
   "cell_type": "markdown",
   "metadata": {},
   "source": [
    "Вывод: Зависимость роста продаж и роста оценок от пользователя аналогична предыдущей. Чем выше оценки пользователей, тем выше продажи у игры."
   ]
  },
  {
   "cell_type": "code",
   "execution_count": 41,
   "metadata": {},
   "outputs": [
    {
     "data": {
      "text/html": [
       "<div>\n",
       "<style scoped>\n",
       "    .dataframe tbody tr th:only-of-type {\n",
       "        vertical-align: middle;\n",
       "    }\n",
       "\n",
       "    .dataframe tbody tr th {\n",
       "        vertical-align: top;\n",
       "    }\n",
       "\n",
       "    .dataframe thead th {\n",
       "        text-align: right;\n",
       "    }\n",
       "</style>\n",
       "<table border=\"1\" class=\"dataframe\">\n",
       "  <thead>\n",
       "    <tr style=\"text-align: right;\">\n",
       "      <th></th>\n",
       "      <th>total_sales</th>\n",
       "      <th>critic_score</th>\n",
       "      <th>user_score</th>\n",
       "    </tr>\n",
       "  </thead>\n",
       "  <tbody>\n",
       "    <tr>\n",
       "      <th>total_sales</th>\n",
       "      <td>1.000000</td>\n",
       "      <td>0.299975</td>\n",
       "      <td>0.128416</td>\n",
       "    </tr>\n",
       "    <tr>\n",
       "      <th>critic_score</th>\n",
       "      <td>0.299975</td>\n",
       "      <td>1.000000</td>\n",
       "      <td>0.418592</td>\n",
       "    </tr>\n",
       "    <tr>\n",
       "      <th>user_score</th>\n",
       "      <td>0.128416</td>\n",
       "      <td>0.418592</td>\n",
       "      <td>1.000000</td>\n",
       "    </tr>\n",
       "  </tbody>\n",
       "</table>\n",
       "</div>"
      ],
      "text/plain": [
       "              total_sales  critic_score  user_score\n",
       "total_sales      1.000000      0.299975    0.128416\n",
       "critic_score     0.299975      1.000000    0.418592\n",
       "user_score       0.128416      0.418592    1.000000"
      ]
     },
     "execution_count": 41,
     "metadata": {},
     "output_type": "execute_result"
    }
   ],
   "source": [
    "PS3_corr = PS3_platform[['total_sales' ,'critic_score', 'user_score']]\n",
    "PS3_corr.corr()"
   ]
  },
  {
   "cell_type": "markdown",
   "metadata": {},
   "source": [
    "Вывод: Исходя из значений, можно сказать, что между продажами и оценкой критиков наблюдается умеренная взаимосвязь, а между продажами и оценкой пользователей слабая. Однако можно также заметить умеренную взаимосвязь между оценками пользователей и критиков."
   ]
  },
  {
   "cell_type": "markdown",
   "metadata": {},
   "source": [
    "Как пример, можем рассмотреть еще одну популярную платформу, чтобы посмотреть кардинально ли изменяется зависимость продаж от оценок критиков и пользователей."
   ]
  },
  {
   "cell_type": "code",
   "execution_count": 42,
   "metadata": {},
   "outputs": [
    {
     "data": {
      "text/html": [
       "<div>\n",
       "<style scoped>\n",
       "    .dataframe tbody tr th:only-of-type {\n",
       "        vertical-align: middle;\n",
       "    }\n",
       "\n",
       "    .dataframe tbody tr th {\n",
       "        vertical-align: top;\n",
       "    }\n",
       "\n",
       "    .dataframe thead th {\n",
       "        text-align: right;\n",
       "    }\n",
       "</style>\n",
       "<table border=\"1\" class=\"dataframe\">\n",
       "  <thead>\n",
       "    <tr style=\"text-align: right;\">\n",
       "      <th></th>\n",
       "      <th>name</th>\n",
       "      <th>platform</th>\n",
       "      <th>year_of_release</th>\n",
       "      <th>genre</th>\n",
       "      <th>na_sales</th>\n",
       "      <th>eu_sales</th>\n",
       "      <th>jp_sales</th>\n",
       "      <th>other_sales</th>\n",
       "      <th>critic_score</th>\n",
       "      <th>user_score</th>\n",
       "      <th>rating</th>\n",
       "      <th>total_sales</th>\n",
       "    </tr>\n",
       "  </thead>\n",
       "  <tbody>\n",
       "    <tr>\n",
       "      <th>42</th>\n",
       "      <td>Grand Theft Auto V</td>\n",
       "      <td>PS4</td>\n",
       "      <td>2014</td>\n",
       "      <td>Action</td>\n",
       "      <td>3.96</td>\n",
       "      <td>6.31</td>\n",
       "      <td>0.38</td>\n",
       "      <td>1.97</td>\n",
       "      <td>97.0</td>\n",
       "      <td>8.3</td>\n",
       "      <td>M</td>\n",
       "      <td>12.62</td>\n",
       "    </tr>\n",
       "    <tr>\n",
       "      <th>77</th>\n",
       "      <td>FIFA 16</td>\n",
       "      <td>PS4</td>\n",
       "      <td>2015</td>\n",
       "      <td>Sports</td>\n",
       "      <td>1.12</td>\n",
       "      <td>6.12</td>\n",
       "      <td>0.06</td>\n",
       "      <td>1.28</td>\n",
       "      <td>82.0</td>\n",
       "      <td>4.3</td>\n",
       "      <td>E</td>\n",
       "      <td>8.58</td>\n",
       "    </tr>\n",
       "    <tr>\n",
       "      <th>92</th>\n",
       "      <td>Call of Duty: Advanced Warfare</td>\n",
       "      <td>PS4</td>\n",
       "      <td>2014</td>\n",
       "      <td>Shooter</td>\n",
       "      <td>2.81</td>\n",
       "      <td>3.48</td>\n",
       "      <td>0.14</td>\n",
       "      <td>1.23</td>\n",
       "      <td>83.0</td>\n",
       "      <td>5.7</td>\n",
       "      <td>M</td>\n",
       "      <td>7.66</td>\n",
       "    </tr>\n",
       "    <tr>\n",
       "      <th>94</th>\n",
       "      <td>FIFA 17</td>\n",
       "      <td>PS4</td>\n",
       "      <td>2016</td>\n",
       "      <td>Sports</td>\n",
       "      <td>0.66</td>\n",
       "      <td>5.75</td>\n",
       "      <td>0.08</td>\n",
       "      <td>1.11</td>\n",
       "      <td>85.0</td>\n",
       "      <td>5.0</td>\n",
       "      <td>E</td>\n",
       "      <td>7.60</td>\n",
       "    </tr>\n",
       "    <tr>\n",
       "      <th>105</th>\n",
       "      <td>Fallout 4</td>\n",
       "      <td>PS4</td>\n",
       "      <td>2015</td>\n",
       "      <td>Role-Playing</td>\n",
       "      <td>2.53</td>\n",
       "      <td>3.27</td>\n",
       "      <td>0.24</td>\n",
       "      <td>1.13</td>\n",
       "      <td>87.0</td>\n",
       "      <td>6.5</td>\n",
       "      <td>M</td>\n",
       "      <td>7.17</td>\n",
       "    </tr>\n",
       "    <tr>\n",
       "      <th>...</th>\n",
       "      <td>...</td>\n",
       "      <td>...</td>\n",
       "      <td>...</td>\n",
       "      <td>...</td>\n",
       "      <td>...</td>\n",
       "      <td>...</td>\n",
       "      <td>...</td>\n",
       "      <td>...</td>\n",
       "      <td>...</td>\n",
       "      <td>...</td>\n",
       "      <td>...</td>\n",
       "      <td>...</td>\n",
       "    </tr>\n",
       "    <tr>\n",
       "      <th>16486</th>\n",
       "      <td>Super Dungeon Bros</td>\n",
       "      <td>PS4</td>\n",
       "      <td>2016</td>\n",
       "      <td>Action</td>\n",
       "      <td>0.01</td>\n",
       "      <td>0.00</td>\n",
       "      <td>0.00</td>\n",
       "      <td>0.00</td>\n",
       "      <td>42.0</td>\n",
       "      <td>2.3</td>\n",
       "      <td>E10+</td>\n",
       "      <td>0.01</td>\n",
       "    </tr>\n",
       "    <tr>\n",
       "      <th>16499</th>\n",
       "      <td>Sherlock Holmes: The Devil's Daughter</td>\n",
       "      <td>PS4</td>\n",
       "      <td>2016</td>\n",
       "      <td>Adventure</td>\n",
       "      <td>0.01</td>\n",
       "      <td>0.00</td>\n",
       "      <td>0.00</td>\n",
       "      <td>0.00</td>\n",
       "      <td>70.0</td>\n",
       "      <td>6.8</td>\n",
       "      <td>T</td>\n",
       "      <td>0.01</td>\n",
       "    </tr>\n",
       "    <tr>\n",
       "      <th>16500</th>\n",
       "      <td>Root Letter</td>\n",
       "      <td>PS4</td>\n",
       "      <td>2016</td>\n",
       "      <td>Adventure</td>\n",
       "      <td>0.00</td>\n",
       "      <td>0.00</td>\n",
       "      <td>0.01</td>\n",
       "      <td>0.00</td>\n",
       "      <td>69.0</td>\n",
       "      <td>7.5</td>\n",
       "      <td>-1</td>\n",
       "      <td>0.01</td>\n",
       "    </tr>\n",
       "    <tr>\n",
       "      <th>16526</th>\n",
       "      <td>Dungeons 2</td>\n",
       "      <td>PS4</td>\n",
       "      <td>2016</td>\n",
       "      <td>Role-Playing</td>\n",
       "      <td>0.01</td>\n",
       "      <td>0.00</td>\n",
       "      <td>0.00</td>\n",
       "      <td>0.00</td>\n",
       "      <td>61.0</td>\n",
       "      <td>7.9</td>\n",
       "      <td>T</td>\n",
       "      <td>0.01</td>\n",
       "    </tr>\n",
       "    <tr>\n",
       "      <th>16530</th>\n",
       "      <td>Carmageddon: Max Damage</td>\n",
       "      <td>PS4</td>\n",
       "      <td>2016</td>\n",
       "      <td>Action</td>\n",
       "      <td>0.01</td>\n",
       "      <td>0.00</td>\n",
       "      <td>0.00</td>\n",
       "      <td>0.00</td>\n",
       "      <td>51.0</td>\n",
       "      <td>5.5</td>\n",
       "      <td>M</td>\n",
       "      <td>0.01</td>\n",
       "    </tr>\n",
       "  </tbody>\n",
       "</table>\n",
       "<p>252 rows × 12 columns</p>\n",
       "</div>"
      ],
      "text/plain": [
       "                                        name platform  year_of_release  \\\n",
       "42                        Grand Theft Auto V      PS4             2014   \n",
       "77                                   FIFA 16      PS4             2015   \n",
       "92            Call of Duty: Advanced Warfare      PS4             2014   \n",
       "94                                   FIFA 17      PS4             2016   \n",
       "105                                Fallout 4      PS4             2015   \n",
       "...                                      ...      ...              ...   \n",
       "16486                     Super Dungeon Bros      PS4             2016   \n",
       "16499  Sherlock Holmes: The Devil's Daughter      PS4             2016   \n",
       "16500                            Root Letter      PS4             2016   \n",
       "16526                             Dungeons 2      PS4             2016   \n",
       "16530                Carmageddon: Max Damage      PS4             2016   \n",
       "\n",
       "              genre  na_sales  eu_sales  jp_sales  other_sales  critic_score  \\\n",
       "42           Action      3.96      6.31      0.38         1.97          97.0   \n",
       "77           Sports      1.12      6.12      0.06         1.28          82.0   \n",
       "92          Shooter      2.81      3.48      0.14         1.23          83.0   \n",
       "94           Sports      0.66      5.75      0.08         1.11          85.0   \n",
       "105    Role-Playing      2.53      3.27      0.24         1.13          87.0   \n",
       "...             ...       ...       ...       ...          ...           ...   \n",
       "16486        Action      0.01      0.00      0.00         0.00          42.0   \n",
       "16499     Adventure      0.01      0.00      0.00         0.00          70.0   \n",
       "16500     Adventure      0.00      0.00      0.01         0.00          69.0   \n",
       "16526  Role-Playing      0.01      0.00      0.00         0.00          61.0   \n",
       "16530        Action      0.01      0.00      0.00         0.00          51.0   \n",
       "\n",
       "       user_score rating  total_sales  \n",
       "42            8.3      M        12.62  \n",
       "77            4.3      E         8.58  \n",
       "92            5.7      M         7.66  \n",
       "94            5.0      E         7.60  \n",
       "105           6.5      M         7.17  \n",
       "...           ...    ...          ...  \n",
       "16486         2.3   E10+         0.01  \n",
       "16499         6.8      T         0.01  \n",
       "16500         7.5     -1         0.01  \n",
       "16526         7.9      T         0.01  \n",
       "16530         5.5      M         0.01  \n",
       "\n",
       "[252 rows x 12 columns]"
      ]
     },
     "metadata": {},
     "output_type": "display_data"
    }
   ],
   "source": [
    "# сделаем срез данных для платформы 3DS и оценок критиков\n",
    "PS4_platform = data.query('(platform == \"PS4\") & (critic_score > 0)')\n",
    "display(PS4_platform)"
   ]
  },
  {
   "cell_type": "code",
   "execution_count": 43,
   "metadata": {},
   "outputs": [
    {
     "data": {
      "text/plain": [
       "<AxesSubplot:xlabel='critic_score', ylabel='total_sales'>"
      ]
     },
     "execution_count": 43,
     "metadata": {},
     "output_type": "execute_result"
    },
    {
     "data": {
      "image/png": "[encoded data removed]",
      "text/plain": [
       "<Figure size 432x288 with 1 Axes>"
      ]
     },
     "metadata": {
      "needs_background": "light"
     },
     "output_type": "display_data"
    }
   ],
   "source": [
    "#создадим диаграмму \n",
    "PS4_platform.plot(x='critic_score', y='total_sales', kind='scatter')"
   ]
  },
  {
   "cell_type": "markdown",
   "metadata": {},
   "source": [
    "Можно также заметить тенденцию между ростом оценок критиков и ростом продаж."
   ]
  },
  {
   "cell_type": "code",
   "execution_count": 44,
   "metadata": {},
   "outputs": [
    {
     "data": {
      "text/html": [
       "<div>\n",
       "<style scoped>\n",
       "    .dataframe tbody tr th:only-of-type {\n",
       "        vertical-align: middle;\n",
       "    }\n",
       "\n",
       "    .dataframe tbody tr th {\n",
       "        vertical-align: top;\n",
       "    }\n",
       "\n",
       "    .dataframe thead th {\n",
       "        text-align: right;\n",
       "    }\n",
       "</style>\n",
       "<table border=\"1\" class=\"dataframe\">\n",
       "  <thead>\n",
       "    <tr style=\"text-align: right;\">\n",
       "      <th></th>\n",
       "      <th>name</th>\n",
       "      <th>platform</th>\n",
       "      <th>year_of_release</th>\n",
       "      <th>genre</th>\n",
       "      <th>na_sales</th>\n",
       "      <th>eu_sales</th>\n",
       "      <th>jp_sales</th>\n",
       "      <th>other_sales</th>\n",
       "      <th>critic_score</th>\n",
       "      <th>user_score</th>\n",
       "      <th>rating</th>\n",
       "      <th>total_sales</th>\n",
       "    </tr>\n",
       "  </thead>\n",
       "  <tbody>\n",
       "    <tr>\n",
       "      <th>42</th>\n",
       "      <td>Grand Theft Auto V</td>\n",
       "      <td>PS4</td>\n",
       "      <td>2014</td>\n",
       "      <td>Action</td>\n",
       "      <td>3.96</td>\n",
       "      <td>6.31</td>\n",
       "      <td>0.38</td>\n",
       "      <td>1.97</td>\n",
       "      <td>97.0</td>\n",
       "      <td>8.3</td>\n",
       "      <td>M</td>\n",
       "      <td>12.62</td>\n",
       "    </tr>\n",
       "    <tr>\n",
       "      <th>77</th>\n",
       "      <td>FIFA 16</td>\n",
       "      <td>PS4</td>\n",
       "      <td>2015</td>\n",
       "      <td>Sports</td>\n",
       "      <td>1.12</td>\n",
       "      <td>6.12</td>\n",
       "      <td>0.06</td>\n",
       "      <td>1.28</td>\n",
       "      <td>82.0</td>\n",
       "      <td>4.3</td>\n",
       "      <td>E</td>\n",
       "      <td>8.58</td>\n",
       "    </tr>\n",
       "    <tr>\n",
       "      <th>92</th>\n",
       "      <td>Call of Duty: Advanced Warfare</td>\n",
       "      <td>PS4</td>\n",
       "      <td>2014</td>\n",
       "      <td>Shooter</td>\n",
       "      <td>2.81</td>\n",
       "      <td>3.48</td>\n",
       "      <td>0.14</td>\n",
       "      <td>1.23</td>\n",
       "      <td>83.0</td>\n",
       "      <td>5.7</td>\n",
       "      <td>M</td>\n",
       "      <td>7.66</td>\n",
       "    </tr>\n",
       "    <tr>\n",
       "      <th>94</th>\n",
       "      <td>FIFA 17</td>\n",
       "      <td>PS4</td>\n",
       "      <td>2016</td>\n",
       "      <td>Sports</td>\n",
       "      <td>0.66</td>\n",
       "      <td>5.75</td>\n",
       "      <td>0.08</td>\n",
       "      <td>1.11</td>\n",
       "      <td>85.0</td>\n",
       "      <td>5.0</td>\n",
       "      <td>E</td>\n",
       "      <td>7.60</td>\n",
       "    </tr>\n",
       "    <tr>\n",
       "      <th>105</th>\n",
       "      <td>Fallout 4</td>\n",
       "      <td>PS4</td>\n",
       "      <td>2015</td>\n",
       "      <td>Role-Playing</td>\n",
       "      <td>2.53</td>\n",
       "      <td>3.27</td>\n",
       "      <td>0.24</td>\n",
       "      <td>1.13</td>\n",
       "      <td>87.0</td>\n",
       "      <td>6.5</td>\n",
       "      <td>M</td>\n",
       "      <td>7.17</td>\n",
       "    </tr>\n",
       "    <tr>\n",
       "      <th>...</th>\n",
       "      <td>...</td>\n",
       "      <td>...</td>\n",
       "      <td>...</td>\n",
       "      <td>...</td>\n",
       "      <td>...</td>\n",
       "      <td>...</td>\n",
       "      <td>...</td>\n",
       "      <td>...</td>\n",
       "      <td>...</td>\n",
       "      <td>...</td>\n",
       "      <td>...</td>\n",
       "      <td>...</td>\n",
       "    </tr>\n",
       "    <tr>\n",
       "      <th>16486</th>\n",
       "      <td>Super Dungeon Bros</td>\n",
       "      <td>PS4</td>\n",
       "      <td>2016</td>\n",
       "      <td>Action</td>\n",
       "      <td>0.01</td>\n",
       "      <td>0.00</td>\n",
       "      <td>0.00</td>\n",
       "      <td>0.00</td>\n",
       "      <td>42.0</td>\n",
       "      <td>2.3</td>\n",
       "      <td>E10+</td>\n",
       "      <td>0.01</td>\n",
       "    </tr>\n",
       "    <tr>\n",
       "      <th>16499</th>\n",
       "      <td>Sherlock Holmes: The Devil's Daughter</td>\n",
       "      <td>PS4</td>\n",
       "      <td>2016</td>\n",
       "      <td>Adventure</td>\n",
       "      <td>0.01</td>\n",
       "      <td>0.00</td>\n",
       "      <td>0.00</td>\n",
       "      <td>0.00</td>\n",
       "      <td>70.0</td>\n",
       "      <td>6.8</td>\n",
       "      <td>T</td>\n",
       "      <td>0.01</td>\n",
       "    </tr>\n",
       "    <tr>\n",
       "      <th>16500</th>\n",
       "      <td>Root Letter</td>\n",
       "      <td>PS4</td>\n",
       "      <td>2016</td>\n",
       "      <td>Adventure</td>\n",
       "      <td>0.00</td>\n",
       "      <td>0.00</td>\n",
       "      <td>0.01</td>\n",
       "      <td>0.00</td>\n",
       "      <td>69.0</td>\n",
       "      <td>7.5</td>\n",
       "      <td>-1</td>\n",
       "      <td>0.01</td>\n",
       "    </tr>\n",
       "    <tr>\n",
       "      <th>16526</th>\n",
       "      <td>Dungeons 2</td>\n",
       "      <td>PS4</td>\n",
       "      <td>2016</td>\n",
       "      <td>Role-Playing</td>\n",
       "      <td>0.01</td>\n",
       "      <td>0.00</td>\n",
       "      <td>0.00</td>\n",
       "      <td>0.00</td>\n",
       "      <td>61.0</td>\n",
       "      <td>7.9</td>\n",
       "      <td>T</td>\n",
       "      <td>0.01</td>\n",
       "    </tr>\n",
       "    <tr>\n",
       "      <th>16530</th>\n",
       "      <td>Carmageddon: Max Damage</td>\n",
       "      <td>PS4</td>\n",
       "      <td>2016</td>\n",
       "      <td>Action</td>\n",
       "      <td>0.01</td>\n",
       "      <td>0.00</td>\n",
       "      <td>0.00</td>\n",
       "      <td>0.00</td>\n",
       "      <td>51.0</td>\n",
       "      <td>5.5</td>\n",
       "      <td>M</td>\n",
       "      <td>0.01</td>\n",
       "    </tr>\n",
       "  </tbody>\n",
       "</table>\n",
       "<p>257 rows × 12 columns</p>\n",
       "</div>"
      ],
      "text/plain": [
       "                                        name platform  year_of_release  \\\n",
       "42                        Grand Theft Auto V      PS4             2014   \n",
       "77                                   FIFA 16      PS4             2015   \n",
       "92            Call of Duty: Advanced Warfare      PS4             2014   \n",
       "94                                   FIFA 17      PS4             2016   \n",
       "105                                Fallout 4      PS4             2015   \n",
       "...                                      ...      ...              ...   \n",
       "16486                     Super Dungeon Bros      PS4             2016   \n",
       "16499  Sherlock Holmes: The Devil's Daughter      PS4             2016   \n",
       "16500                            Root Letter      PS4             2016   \n",
       "16526                             Dungeons 2      PS4             2016   \n",
       "16530                Carmageddon: Max Damage      PS4             2016   \n",
       "\n",
       "              genre  na_sales  eu_sales  jp_sales  other_sales  critic_score  \\\n",
       "42           Action      3.96      6.31      0.38         1.97          97.0   \n",
       "77           Sports      1.12      6.12      0.06         1.28          82.0   \n",
       "92          Shooter      2.81      3.48      0.14         1.23          83.0   \n",
       "94           Sports      0.66      5.75      0.08         1.11          85.0   \n",
       "105    Role-Playing      2.53      3.27      0.24         1.13          87.0   \n",
       "...             ...       ...       ...       ...          ...           ...   \n",
       "16486        Action      0.01      0.00      0.00         0.00          42.0   \n",
       "16499     Adventure      0.01      0.00      0.00         0.00          70.0   \n",
       "16500     Adventure      0.00      0.00      0.01         0.00          69.0   \n",
       "16526  Role-Playing      0.01      0.00      0.00         0.00          61.0   \n",
       "16530        Action      0.01      0.00      0.00         0.00          51.0   \n",
       "\n",
       "       user_score rating  total_sales  \n",
       "42            8.3      M        12.62  \n",
       "77            4.3      E         8.58  \n",
       "92            5.7      M         7.66  \n",
       "94            5.0      E         7.60  \n",
       "105           6.5      M         7.17  \n",
       "...           ...    ...          ...  \n",
       "16486         2.3   E10+         0.01  \n",
       "16499         6.8      T         0.01  \n",
       "16500         7.5     -1         0.01  \n",
       "16526         7.9      T         0.01  \n",
       "16530         5.5      M         0.01  \n",
       "\n",
       "[257 rows x 12 columns]"
      ]
     },
     "metadata": {},
     "output_type": "display_data"
    }
   ],
   "source": [
    "# сделаем срез данных для платформы 3DS и оценок пользователей\n",
    "PS4_platform = data.query('(platform == \"PS4\") & (user_score > 0)')\n",
    "display(PS4_platform)"
   ]
  },
  {
   "cell_type": "code",
   "execution_count": 45,
   "metadata": {},
   "outputs": [
    {
     "data": {
      "text/plain": [
       "<AxesSubplot:xlabel='user_score', ylabel='total_sales'>"
      ]
     },
     "execution_count": 45,
     "metadata": {},
     "output_type": "execute_result"
    },
    {
     "data": {
      "image/png": "[encoded data removed]",
      "text/plain": [
       "<Figure size 432x288 with 1 Axes>"
      ]
     },
     "metadata": {
      "needs_background": "light"
     },
     "output_type": "display_data"
    }
   ],
   "source": [
    "#создадим диаграмму \n",
    "PS4_platform.plot(x='user_score', y='total_sales', kind='scatter')"
   ]
  },
  {
   "cell_type": "code",
   "execution_count": 46,
   "metadata": {},
   "outputs": [
    {
     "data": {
      "text/html": [
       "<div>\n",
       "<style scoped>\n",
       "    .dataframe tbody tr th:only-of-type {\n",
       "        vertical-align: middle;\n",
       "    }\n",
       "\n",
       "    .dataframe tbody tr th {\n",
       "        vertical-align: top;\n",
       "    }\n",
       "\n",
       "    .dataframe thead th {\n",
       "        text-align: right;\n",
       "    }\n",
       "</style>\n",
       "<table border=\"1\" class=\"dataframe\">\n",
       "  <thead>\n",
       "    <tr style=\"text-align: right;\">\n",
       "      <th></th>\n",
       "      <th>total_sales</th>\n",
       "      <th>critic_score</th>\n",
       "      <th>user_score</th>\n",
       "    </tr>\n",
       "  </thead>\n",
       "  <tbody>\n",
       "    <tr>\n",
       "      <th>total_sales</th>\n",
       "      <td>1.000000</td>\n",
       "      <td>0.350407</td>\n",
       "      <td>-0.031957</td>\n",
       "    </tr>\n",
       "    <tr>\n",
       "      <th>critic_score</th>\n",
       "      <td>0.350407</td>\n",
       "      <td>1.000000</td>\n",
       "      <td>0.385579</td>\n",
       "    </tr>\n",
       "    <tr>\n",
       "      <th>user_score</th>\n",
       "      <td>-0.031957</td>\n",
       "      <td>0.385579</td>\n",
       "      <td>1.000000</td>\n",
       "    </tr>\n",
       "  </tbody>\n",
       "</table>\n",
       "</div>"
      ],
      "text/plain": [
       "              total_sales  critic_score  user_score\n",
       "total_sales      1.000000      0.350407   -0.031957\n",
       "critic_score     0.350407      1.000000    0.385579\n",
       "user_score      -0.031957      0.385579    1.000000"
      ]
     },
     "execution_count": 46,
     "metadata": {},
     "output_type": "execute_result"
    }
   ],
   "source": [
    "PS4_corr = PS4_platform[['total_sales' ,'critic_score', 'user_score']]\n",
    "PS4_corr.corr()"
   ]
  },
  {
   "cell_type": "markdown",
   "metadata": {},
   "source": [
    "Для платформы PS4 мы можем заметить аналогичную ситуацию как у платформы PS3. Можем ожидать схожую ситуацию и для других популярных платформ. Однако для этой платформы мы можем увидеть умеренную взаимосвязь между оценками критиков и продажами, также видно умеренную взаимосвязь между оценками критиков и оценками пользователей. Однако практически нет связи между оценками пользователей и продажами. "
   ]
  },
  {
   "cell_type": "markdown",
   "metadata": {},
   "source": [
    "Вывод:Можно сказать, что продажи игр на других платформах также зависят от оценок критиков и пользователей, что вполне логично. Люди более вероятно купят игру с более высокими оценками от других пользователей и критиков, чем с низкими. "
   ]
  },
  {
   "cell_type": "markdown",
   "metadata": {},
   "source": [
    "#### Общее распределение игр по жанрам"
   ]
  },
  {
   "cell_type": "code",
   "execution_count": 47,
   "metadata": {},
   "outputs": [
    {
     "data": {
      "text/html": [
       "<div>\n",
       "<style scoped>\n",
       "    .dataframe tbody tr th:only-of-type {\n",
       "        vertical-align: middle;\n",
       "    }\n",
       "\n",
       "    .dataframe tbody tr th {\n",
       "        vertical-align: top;\n",
       "    }\n",
       "\n",
       "    .dataframe thead th {\n",
       "        text-align: right;\n",
       "    }\n",
       "</style>\n",
       "<table border=\"1\" class=\"dataframe\">\n",
       "  <thead>\n",
       "    <tr style=\"text-align: right;\">\n",
       "      <th></th>\n",
       "      <th>total_sales</th>\n",
       "    </tr>\n",
       "    <tr>\n",
       "      <th>genre</th>\n",
       "      <th></th>\n",
       "    </tr>\n",
       "  </thead>\n",
       "  <tbody>\n",
       "    <tr>\n",
       "      <th>Shooter</th>\n",
       "      <td>0.450</td>\n",
       "    </tr>\n",
       "    <tr>\n",
       "      <th>Sports</th>\n",
       "      <td>0.240</td>\n",
       "    </tr>\n",
       "    <tr>\n",
       "      <th>Platform</th>\n",
       "      <td>0.225</td>\n",
       "    </tr>\n",
       "    <tr>\n",
       "      <th>Role-Playing</th>\n",
       "      <td>0.125</td>\n",
       "    </tr>\n",
       "    <tr>\n",
       "      <th>Fighting</th>\n",
       "      <td>0.125</td>\n",
       "    </tr>\n",
       "    <tr>\n",
       "      <th>Racing</th>\n",
       "      <td>0.120</td>\n",
       "    </tr>\n",
       "    <tr>\n",
       "      <th>Action</th>\n",
       "      <td>0.110</td>\n",
       "    </tr>\n",
       "    <tr>\n",
       "      <th>Simulation</th>\n",
       "      <td>0.100</td>\n",
       "    </tr>\n",
       "    <tr>\n",
       "      <th>Misc</th>\n",
       "      <td>0.100</td>\n",
       "    </tr>\n",
       "    <tr>\n",
       "      <th>Strategy</th>\n",
       "      <td>0.080</td>\n",
       "    </tr>\n",
       "    <tr>\n",
       "      <th>Puzzle</th>\n",
       "      <td>0.060</td>\n",
       "    </tr>\n",
       "    <tr>\n",
       "      <th>Adventure</th>\n",
       "      <td>0.030</td>\n",
       "    </tr>\n",
       "  </tbody>\n",
       "</table>\n",
       "</div>"
      ],
      "text/plain": [
       "              total_sales\n",
       "genre                    \n",
       "Shooter             0.450\n",
       "Sports              0.240\n",
       "Platform            0.225\n",
       "Role-Playing        0.125\n",
       "Fighting            0.125\n",
       "Racing              0.120\n",
       "Action              0.110\n",
       "Simulation          0.100\n",
       "Misc                0.100\n",
       "Strategy            0.080\n",
       "Puzzle              0.060\n",
       "Adventure           0.030"
      ]
     },
     "metadata": {},
     "output_type": "display_data"
    }
   ],
   "source": [
    "#Создадим сводную таблицу с жанрами и продажами\n",
    "genre_distribution = pd.pivot_table(current_period, index='genre', values='total_sales', aggfunc='median')\n",
    "genre_distribution = genre_distribution.sort_values('total_sales', ascending=False)\n",
    "display(genre_distribution)"
   ]
  },
  {
   "cell_type": "markdown",
   "metadata": {},
   "source": [
    "Вывод: Самыми прибыльными жанрами можно назвать  Shooter, sports, Platform,  Role-Playing. Можно однозначно выделить Shooter как самый прибыльный жанр, можно увидеть значительный отрыв от остальных прибыльных жанров. Самыми не прибыльными жанрами можно назвать Adventure и Puzzle."
   ]
  },
  {
   "cell_type": "markdown",
   "metadata": {},
   "source": [
    "### Портрет пользователя каждого региона"
   ]
  },
  {
   "cell_type": "markdown",
   "metadata": {},
   "source": [
    "#### Самые популярные платформы (топ-5)"
   ]
  },
  {
   "cell_type": "markdown",
   "metadata": {},
   "source": [
    "Создадим сводную таблицу платформ и продаж для Северной Америки. Выделим топ 5 платформ."
   ]
  },
  {
   "cell_type": "code",
   "execution_count": 48,
   "metadata": {},
   "outputs": [
    {
     "data": {
      "text/html": [
       "<div>\n",
       "<style scoped>\n",
       "    .dataframe tbody tr th:only-of-type {\n",
       "        vertical-align: middle;\n",
       "    }\n",
       "\n",
       "    .dataframe tbody tr th {\n",
       "        vertical-align: top;\n",
       "    }\n",
       "\n",
       "    .dataframe thead th {\n",
       "        text-align: right;\n",
       "    }\n",
       "</style>\n",
       "<table border=\"1\" class=\"dataframe\">\n",
       "  <thead>\n",
       "    <tr style=\"text-align: right;\">\n",
       "      <th></th>\n",
       "      <th>na_sales</th>\n",
       "    </tr>\n",
       "    <tr>\n",
       "      <th>platform</th>\n",
       "      <th></th>\n",
       "    </tr>\n",
       "  </thead>\n",
       "  <tbody>\n",
       "    <tr>\n",
       "      <th>X360</th>\n",
       "      <td>595.74</td>\n",
       "    </tr>\n",
       "    <tr>\n",
       "      <th>PS2</th>\n",
       "      <td>572.92</td>\n",
       "    </tr>\n",
       "    <tr>\n",
       "      <th>Wii</th>\n",
       "      <td>486.87</td>\n",
       "    </tr>\n",
       "    <tr>\n",
       "      <th>PS3</th>\n",
       "      <td>390.13</td>\n",
       "    </tr>\n",
       "    <tr>\n",
       "      <th>DS</th>\n",
       "      <td>380.31</td>\n",
       "    </tr>\n",
       "  </tbody>\n",
       "</table>\n",
       "</div>"
      ],
      "text/plain": [
       "          na_sales\n",
       "platform          \n",
       "X360        595.74\n",
       "PS2         572.92\n",
       "Wii         486.87\n",
       "PS3         390.13\n",
       "DS          380.31"
      ]
     },
     "metadata": {},
     "output_type": "display_data"
    }
   ],
   "source": [
    "na_platform = pd.pivot_table(data, index='platform', values='na_sales', aggfunc='sum').sort_values('na_sales', ascending=False)\n",
    "na_platform = na_platform[:5]\n",
    "display(na_platform)"
   ]
  },
  {
   "cell_type": "markdown",
   "metadata": {},
   "source": [
    "Создадим сводную таблицу платформ и продаж для Европы. Выделим топ 5 платформ."
   ]
  },
  {
   "cell_type": "code",
   "execution_count": 49,
   "metadata": {
    "scrolled": false
   },
   "outputs": [
    {
     "data": {
      "text/html": [
       "<div>\n",
       "<style scoped>\n",
       "    .dataframe tbody tr th:only-of-type {\n",
       "        vertical-align: middle;\n",
       "    }\n",
       "\n",
       "    .dataframe tbody tr th {\n",
       "        vertical-align: top;\n",
       "    }\n",
       "\n",
       "    .dataframe thead th {\n",
       "        text-align: right;\n",
       "    }\n",
       "</style>\n",
       "<table border=\"1\" class=\"dataframe\">\n",
       "  <thead>\n",
       "    <tr style=\"text-align: right;\">\n",
       "      <th></th>\n",
       "      <th>eu_sales</th>\n",
       "    </tr>\n",
       "    <tr>\n",
       "      <th>platform</th>\n",
       "      <th></th>\n",
       "    </tr>\n",
       "  </thead>\n",
       "  <tbody>\n",
       "    <tr>\n",
       "      <th>PS2</th>\n",
       "      <td>332.63</td>\n",
       "    </tr>\n",
       "    <tr>\n",
       "      <th>PS3</th>\n",
       "      <td>327.21</td>\n",
       "    </tr>\n",
       "    <tr>\n",
       "      <th>X360</th>\n",
       "      <td>268.32</td>\n",
       "    </tr>\n",
       "    <tr>\n",
       "      <th>Wii</th>\n",
       "      <td>258.32</td>\n",
       "    </tr>\n",
       "    <tr>\n",
       "      <th>PS</th>\n",
       "      <td>212.39</td>\n",
       "    </tr>\n",
       "  </tbody>\n",
       "</table>\n",
       "</div>"
      ],
      "text/plain": [
       "          eu_sales\n",
       "platform          \n",
       "PS2         332.63\n",
       "PS3         327.21\n",
       "X360        268.32\n",
       "Wii         258.32\n",
       "PS          212.39"
      ]
     },
     "metadata": {},
     "output_type": "display_data"
    }
   ],
   "source": [
    "eu_platform = pd.pivot_table(data, index='platform', values='eu_sales', aggfunc='sum').sort_values('eu_sales', ascending=False)\n",
    "eu_platform = eu_platform[:5]\n",
    "display(eu_platform)"
   ]
  },
  {
   "cell_type": "markdown",
   "metadata": {},
   "source": [
    "Создадим сводную таблицу платформ и продаж для Японии. Выделим топ 5 платформ."
   ]
  },
  {
   "cell_type": "code",
   "execution_count": 50,
   "metadata": {},
   "outputs": [
    {
     "data": {
      "text/html": [
       "<div>\n",
       "<style scoped>\n",
       "    .dataframe tbody tr th:only-of-type {\n",
       "        vertical-align: middle;\n",
       "    }\n",
       "\n",
       "    .dataframe tbody tr th {\n",
       "        vertical-align: top;\n",
       "    }\n",
       "\n",
       "    .dataframe thead th {\n",
       "        text-align: right;\n",
       "    }\n",
       "</style>\n",
       "<table border=\"1\" class=\"dataframe\">\n",
       "  <thead>\n",
       "    <tr style=\"text-align: right;\">\n",
       "      <th></th>\n",
       "      <th>jp_sales</th>\n",
       "    </tr>\n",
       "    <tr>\n",
       "      <th>platform</th>\n",
       "      <th></th>\n",
       "    </tr>\n",
       "  </thead>\n",
       "  <tbody>\n",
       "    <tr>\n",
       "      <th>DS</th>\n",
       "      <td>175.02</td>\n",
       "    </tr>\n",
       "    <tr>\n",
       "      <th>PS</th>\n",
       "      <td>139.78</td>\n",
       "    </tr>\n",
       "    <tr>\n",
       "      <th>PS2</th>\n",
       "      <td>137.54</td>\n",
       "    </tr>\n",
       "    <tr>\n",
       "      <th>SNES</th>\n",
       "      <td>116.55</td>\n",
       "    </tr>\n",
       "    <tr>\n",
       "      <th>3DS</th>\n",
       "      <td>100.62</td>\n",
       "    </tr>\n",
       "  </tbody>\n",
       "</table>\n",
       "</div>"
      ],
      "text/plain": [
       "          jp_sales\n",
       "platform          \n",
       "DS          175.02\n",
       "PS          139.78\n",
       "PS2         137.54\n",
       "SNES        116.55\n",
       "3DS         100.62"
      ]
     },
     "metadata": {},
     "output_type": "display_data"
    }
   ],
   "source": [
    "jp_platform  = pd.pivot_table(data, index='platform', values='jp_sales', aggfunc='sum').sort_values('jp_sales', ascending=False)\n",
    "jp_platform = jp_platform[:5]\n",
    "display(jp_platform)"
   ]
  },
  {
   "cell_type": "markdown",
   "metadata": {},
   "source": [
    "Вывод: Можно заметить сходство в топ 5 платформ между европой и северной америкой. PS2 в обоих топах занимает высокие позиции( 1 место в Европе, 2 место в Северной Америке). Также можно заметить что топ 5 платформ для Северной Америки и европы схож по платформам, но отличается по продажам.\n",
    "Топ 5 платформ в Японии  отличается. Лидерами топа для Японии являются DS и PS, которые замыкают топ 5 для Северной америки и европы. \n",
    "Можно также заметить значительную разницу в продажах. Самые высокие суммы продаж в Северной Америке, после в Европе и в Японии соотвественно. \n",
    "Например, продажи платформы PS2 в Северной Америке больше примерно в 1,7 раз чем в Европе. При том что эта платформа занимает в европе 1 место по продажам. Продажи PS2 в Северной Америке превышают продажи PS2 в Японии примерно в 4,15 раз."
   ]
  },
  {
   "cell_type": "markdown",
   "metadata": {},
   "source": [
    "#### Самые популярные жанры (топ-5). "
   ]
  },
  {
   "cell_type": "markdown",
   "metadata": {},
   "source": [
    "Создадим сводную таблицу для жанров и продаж в Северной Америке"
   ]
  },
  {
   "cell_type": "code",
   "execution_count": 51,
   "metadata": {},
   "outputs": [
    {
     "data": {
      "text/html": [
       "<div>\n",
       "<style scoped>\n",
       "    .dataframe tbody tr th:only-of-type {\n",
       "        vertical-align: middle;\n",
       "    }\n",
       "\n",
       "    .dataframe tbody tr th {\n",
       "        vertical-align: top;\n",
       "    }\n",
       "\n",
       "    .dataframe thead th {\n",
       "        text-align: right;\n",
       "    }\n",
       "</style>\n",
       "<table border=\"1\" class=\"dataframe\">\n",
       "  <thead>\n",
       "    <tr style=\"text-align: right;\">\n",
       "      <th></th>\n",
       "      <th>na_sales</th>\n",
       "    </tr>\n",
       "    <tr>\n",
       "      <th>genre</th>\n",
       "      <th></th>\n",
       "    </tr>\n",
       "  </thead>\n",
       "  <tbody>\n",
       "    <tr>\n",
       "      <th>Action</th>\n",
       "      <td>863.17</td>\n",
       "    </tr>\n",
       "    <tr>\n",
       "      <th>Sports</th>\n",
       "      <td>671.20</td>\n",
       "    </tr>\n",
       "    <tr>\n",
       "      <th>Shooter</th>\n",
       "      <td>584.83</td>\n",
       "    </tr>\n",
       "    <tr>\n",
       "      <th>Platform</th>\n",
       "      <td>444.44</td>\n",
       "    </tr>\n",
       "    <tr>\n",
       "      <th>Misc</th>\n",
       "      <td>399.57</td>\n",
       "    </tr>\n",
       "  </tbody>\n",
       "</table>\n",
       "</div>"
      ],
      "text/plain": [
       "          na_sales\n",
       "genre             \n",
       "Action      863.17\n",
       "Sports      671.20\n",
       "Shooter     584.83\n",
       "Platform    444.44\n",
       "Misc        399.57"
      ]
     },
     "metadata": {},
     "output_type": "display_data"
    }
   ],
   "source": [
    "na_genre = pd.pivot_table(data, index='genre', values='na_sales', aggfunc='sum').sort_values('na_sales', ascending=False)\n",
    "na_genre = na_genre[:5]\n",
    "display(na_genre)"
   ]
  },
  {
   "cell_type": "code",
   "execution_count": 52,
   "metadata": {},
   "outputs": [
    {
     "data": {
      "image/png": "[encoded data removed]",
      "text/plain": [
       "<Figure size 432x288 with 1 Axes>"
      ]
     },
     "metadata": {
      "needs_background": "light"
     },
     "output_type": "display_data"
    }
   ],
   "source": [
    "na_genre.plot(kind='bar')\n",
    "plt.title(\"Жанры в Северной Америке\")\n",
    "plt.xlabel(\"Жанр\")\n",
    "plt.ylabel(\"Количество продаж\")\n",
    "plt.show()"
   ]
  },
  {
   "cell_type": "markdown",
   "metadata": {},
   "source": [
    "Создадим сводную таблицу для жанров и продаж в Европе"
   ]
  },
  {
   "cell_type": "code",
   "execution_count": 53,
   "metadata": {
    "scrolled": true
   },
   "outputs": [
    {
     "data": {
      "text/html": [
       "<div>\n",
       "<style scoped>\n",
       "    .dataframe tbody tr th:only-of-type {\n",
       "        vertical-align: middle;\n",
       "    }\n",
       "\n",
       "    .dataframe tbody tr th {\n",
       "        vertical-align: top;\n",
       "    }\n",
       "\n",
       "    .dataframe thead th {\n",
       "        text-align: right;\n",
       "    }\n",
       "</style>\n",
       "<table border=\"1\" class=\"dataframe\">\n",
       "  <thead>\n",
       "    <tr style=\"text-align: right;\">\n",
       "      <th></th>\n",
       "      <th>eu_sales</th>\n",
       "    </tr>\n",
       "    <tr>\n",
       "      <th>genre</th>\n",
       "      <th></th>\n",
       "    </tr>\n",
       "  </thead>\n",
       "  <tbody>\n",
       "    <tr>\n",
       "      <th>Action</th>\n",
       "      <td>510.99</td>\n",
       "    </tr>\n",
       "    <tr>\n",
       "      <th>Sports</th>\n",
       "      <td>371.33</td>\n",
       "    </tr>\n",
       "    <tr>\n",
       "      <th>Shooter</th>\n",
       "      <td>314.52</td>\n",
       "    </tr>\n",
       "    <tr>\n",
       "      <th>Racing</th>\n",
       "      <td>234.49</td>\n",
       "    </tr>\n",
       "    <tr>\n",
       "      <th>Misc</th>\n",
       "      <td>210.60</td>\n",
       "    </tr>\n",
       "  </tbody>\n",
       "</table>\n",
       "</div>"
      ],
      "text/plain": [
       "         eu_sales\n",
       "genre            \n",
       "Action     510.99\n",
       "Sports     371.33\n",
       "Shooter    314.52\n",
       "Racing     234.49\n",
       "Misc       210.60"
      ]
     },
     "metadata": {},
     "output_type": "display_data"
    }
   ],
   "source": [
    "eu_genre = pd.pivot_table(data, index='genre', values='eu_sales', aggfunc='sum').sort_values('eu_sales', ascending=False)\n",
    "eu_genre = eu_genre[:5]\n",
    "display(eu_genre)"
   ]
  },
  {
   "cell_type": "code",
   "execution_count": 54,
   "metadata": {},
   "outputs": [
    {
     "data": {
      "image/png": "[encoded data removed]",
      "text/plain": [
       "<Figure size 432x288 with 1 Axes>"
      ]
     },
     "metadata": {
      "needs_background": "light"
     },
     "output_type": "display_data"
    }
   ],
   "source": [
    "eu_genre.plot(kind='bar')\n",
    "plt.title(\"Жанры в Европе\")\n",
    "plt.xlabel(\"Жанр\")\n",
    "plt.ylabel(\"Количество продаж\")\n",
    "plt.show()"
   ]
  },
  {
   "cell_type": "markdown",
   "metadata": {},
   "source": [
    "Создадим сводную таблицу для жанров и продаж в Японии"
   ]
  },
  {
   "cell_type": "code",
   "execution_count": 55,
   "metadata": {},
   "outputs": [
    {
     "data": {
      "text/html": [
       "<div>\n",
       "<style scoped>\n",
       "    .dataframe tbody tr th:only-of-type {\n",
       "        vertical-align: middle;\n",
       "    }\n",
       "\n",
       "    .dataframe tbody tr th {\n",
       "        vertical-align: top;\n",
       "    }\n",
       "\n",
       "    .dataframe thead th {\n",
       "        text-align: right;\n",
       "    }\n",
       "</style>\n",
       "<table border=\"1\" class=\"dataframe\">\n",
       "  <thead>\n",
       "    <tr style=\"text-align: right;\">\n",
       "      <th></th>\n",
       "      <th>jp_sales</th>\n",
       "    </tr>\n",
       "    <tr>\n",
       "      <th>genre</th>\n",
       "      <th></th>\n",
       "    </tr>\n",
       "  </thead>\n",
       "  <tbody>\n",
       "    <tr>\n",
       "      <th>Role-Playing</th>\n",
       "      <td>353.39</td>\n",
       "    </tr>\n",
       "    <tr>\n",
       "      <th>Action</th>\n",
       "      <td>160.14</td>\n",
       "    </tr>\n",
       "    <tr>\n",
       "      <th>Sports</th>\n",
       "      <td>134.93</td>\n",
       "    </tr>\n",
       "    <tr>\n",
       "      <th>Platform</th>\n",
       "      <td>130.71</td>\n",
       "    </tr>\n",
       "    <tr>\n",
       "      <th>Misc</th>\n",
       "      <td>107.02</td>\n",
       "    </tr>\n",
       "  </tbody>\n",
       "</table>\n",
       "</div>"
      ],
      "text/plain": [
       "              jp_sales\n",
       "genre                 \n",
       "Role-Playing    353.39\n",
       "Action          160.14\n",
       "Sports          134.93\n",
       "Platform        130.71\n",
       "Misc            107.02"
      ]
     },
     "metadata": {},
     "output_type": "display_data"
    }
   ],
   "source": [
    "jp_genre  = pd.pivot_table(data, index='genre', values='jp_sales', aggfunc='sum').sort_values('jp_sales', ascending=False)\n",
    "jp_genre = jp_genre[:5]\n",
    "display(jp_genre)"
   ]
  },
  {
   "cell_type": "code",
   "execution_count": 56,
   "metadata": {},
   "outputs": [
    {
     "data": {
      "image/png": "[encoded data removed]",
      "text/plain": [
       "<Figure size 432x288 with 1 Axes>"
      ]
     },
     "metadata": {
      "needs_background": "light"
     },
     "output_type": "display_data"
    }
   ],
   "source": [
    "jp_genre.plot(kind='bar')\n",
    "plt.title(\"Жанры в Японии\")\n",
    "plt.xlabel(\"Жанр\")\n",
    "plt.ylabel(\"Количество продаж\")\n",
    "plt.show()"
   ]
  },
  {
   "cell_type": "markdown",
   "metadata": {},
   "source": [
    "Вывод: Самым прибыльным жанром в Северной Америке и Европе является Action. Продажи составляют 863 и 510 соотвественно. Продажи Action в Северной Америке превышают примерно в 1,7 раз продажи в Европе\n",
    "Для Японии самым прибыльным жанром является Role-Playing, однако Action занимает 2 место.( 160.14). Продажи Action в Северной Америке превышают примерно в в 5,4 раз продажи в Японии.\n",
    "Топ 5 жанров в Северной Америке и Европе очень похожи, отличаются лишь суммой продаж. (в европе продажи ниже). Топ 5 жанров в японии отличается лишь тем, что самым популярным жанром является Role-Playing. Однако в целом в каждом топе Action остается популярным и занимает лидирующие позиции."
   ]
  },
  {
   "cell_type": "markdown",
   "metadata": {},
   "source": [
    "#### Влияет ли рейтинг ESRB на продажи в отдельном регионе?"
   ]
  },
  {
   "cell_type": "markdown",
   "metadata": {},
   "source": [
    "Создадим сводную таблицу для взаимосвязи рейтингов и продаж в Северной Америке"
   ]
  },
  {
   "cell_type": "code",
   "execution_count": 57,
   "metadata": {
    "scrolled": false
   },
   "outputs": [
    {
     "data": {
      "text/html": [
       "<div>\n",
       "<style scoped>\n",
       "    .dataframe tbody tr th:only-of-type {\n",
       "        vertical-align: middle;\n",
       "    }\n",
       "\n",
       "    .dataframe tbody tr th {\n",
       "        vertical-align: top;\n",
       "    }\n",
       "\n",
       "    .dataframe thead th {\n",
       "        text-align: right;\n",
       "    }\n",
       "</style>\n",
       "<table border=\"1\" class=\"dataframe\">\n",
       "  <thead>\n",
       "    <tr style=\"text-align: right;\">\n",
       "      <th></th>\n",
       "      <th>na_sales</th>\n",
       "    </tr>\n",
       "    <tr>\n",
       "      <th>rating</th>\n",
       "      <th></th>\n",
       "    </tr>\n",
       "  </thead>\n",
       "  <tbody>\n",
       "    <tr>\n",
       "      <th>E</th>\n",
       "      <td>1274.24</td>\n",
       "    </tr>\n",
       "    <tr>\n",
       "      <th>-1</th>\n",
       "      <td>1225.84</td>\n",
       "    </tr>\n",
       "    <tr>\n",
       "      <th>T</th>\n",
       "      <td>747.60</td>\n",
       "    </tr>\n",
       "    <tr>\n",
       "      <th>M</th>\n",
       "      <td>742.89</td>\n",
       "    </tr>\n",
       "    <tr>\n",
       "      <th>E10+</th>\n",
       "      <td>345.50</td>\n",
       "    </tr>\n",
       "    <tr>\n",
       "      <th>K-A</th>\n",
       "      <td>2.56</td>\n",
       "    </tr>\n",
       "    <tr>\n",
       "      <th>EC</th>\n",
       "      <td>1.53</td>\n",
       "    </tr>\n",
       "    <tr>\n",
       "      <th>AO</th>\n",
       "      <td>1.26</td>\n",
       "    </tr>\n",
       "    <tr>\n",
       "      <th>RP</th>\n",
       "      <td>0.00</td>\n",
       "    </tr>\n",
       "  </tbody>\n",
       "</table>\n",
       "</div>"
      ],
      "text/plain": [
       "        na_sales\n",
       "rating          \n",
       "E        1274.24\n",
       "-1       1225.84\n",
       "T         747.60\n",
       "M         742.89\n",
       "E10+      345.50\n",
       "K-A         2.56\n",
       "EC          1.53\n",
       "AO          1.26\n",
       "RP          0.00"
      ]
     },
     "metadata": {},
     "output_type": "display_data"
    }
   ],
   "source": [
    "na_rating = pd.pivot_table(data, index='rating', values='na_sales', aggfunc='sum').sort_values('na_sales', ascending=False)\n",
    "display(na_rating)"
   ]
  },
  {
   "cell_type": "code",
   "execution_count": 58,
   "metadata": {},
   "outputs": [
    {
     "data": {
      "image/png": "[encoded data removed]",
      "text/plain": [
       "<Figure size 432x288 with 1 Axes>"
      ]
     },
     "metadata": {
      "needs_background": "light"
     },
     "output_type": "display_data"
    }
   ],
   "source": [
    "na_rating.plot(kind='bar')\n",
    "plt.title(\"Рейтинг в Северной Америке\")\n",
    "plt.xlabel(\"Рейтинг\")\n",
    "plt.ylabel(\"Количество продаж\")\n",
    "plt.show()"
   ]
  },
  {
   "cell_type": "markdown",
   "metadata": {},
   "source": [
    "Создадим сводную таблицу для взаимосвязи рейтингов и продаж в Европе"
   ]
  },
  {
   "cell_type": "code",
   "execution_count": 59,
   "metadata": {
    "scrolled": false
   },
   "outputs": [
    {
     "data": {
      "text/html": [
       "<div>\n",
       "<style scoped>\n",
       "    .dataframe tbody tr th:only-of-type {\n",
       "        vertical-align: middle;\n",
       "    }\n",
       "\n",
       "    .dataframe tbody tr th {\n",
       "        vertical-align: top;\n",
       "    }\n",
       "\n",
       "    .dataframe thead th {\n",
       "        text-align: right;\n",
       "    }\n",
       "</style>\n",
       "<table border=\"1\" class=\"dataframe\">\n",
       "  <thead>\n",
       "    <tr style=\"text-align: right;\">\n",
       "      <th></th>\n",
       "      <th>eu_sales</th>\n",
       "    </tr>\n",
       "    <tr>\n",
       "      <th>rating</th>\n",
       "      <th></th>\n",
       "    </tr>\n",
       "  </thead>\n",
       "  <tbody>\n",
       "    <tr>\n",
       "      <th>E</th>\n",
       "      <td>703.87</td>\n",
       "    </tr>\n",
       "    <tr>\n",
       "      <th>-1</th>\n",
       "      <td>609.65</td>\n",
       "    </tr>\n",
       "    <tr>\n",
       "      <th>M</th>\n",
       "      <td>480.00</td>\n",
       "    </tr>\n",
       "    <tr>\n",
       "      <th>T</th>\n",
       "      <td>421.79</td>\n",
       "    </tr>\n",
       "    <tr>\n",
       "      <th>E10+</th>\n",
       "      <td>183.35</td>\n",
       "    </tr>\n",
       "    <tr>\n",
       "      <th>AO</th>\n",
       "      <td>0.61</td>\n",
       "    </tr>\n",
       "    <tr>\n",
       "      <th>K-A</th>\n",
       "      <td>0.27</td>\n",
       "    </tr>\n",
       "    <tr>\n",
       "      <th>EC</th>\n",
       "      <td>0.11</td>\n",
       "    </tr>\n",
       "    <tr>\n",
       "      <th>RP</th>\n",
       "      <td>0.03</td>\n",
       "    </tr>\n",
       "  </tbody>\n",
       "</table>\n",
       "</div>"
      ],
      "text/plain": [
       "        eu_sales\n",
       "rating          \n",
       "E         703.87\n",
       "-1        609.65\n",
       "M         480.00\n",
       "T         421.79\n",
       "E10+      183.35\n",
       "AO          0.61\n",
       "K-A         0.27\n",
       "EC          0.11\n",
       "RP          0.03"
      ]
     },
     "metadata": {},
     "output_type": "display_data"
    }
   ],
   "source": [
    "eu_rating = pd.pivot_table(data, index='rating', values='eu_sales', aggfunc='sum').sort_values('eu_sales', ascending=False)\n",
    "display(eu_rating)"
   ]
  },
  {
   "cell_type": "code",
   "execution_count": 60,
   "metadata": {},
   "outputs": [
    {
     "data": {
      "image/png": "[encoded data removed]",
      "text/plain": [
       "<Figure size 432x288 with 1 Axes>"
      ]
     },
     "metadata": {
      "needs_background": "light"
     },
     "output_type": "display_data"
    }
   ],
   "source": [
    "eu_rating.plot(kind='bar')\n",
    "plt.title(\"Рейтинг в Европе\")\n",
    "plt.xlabel(\"Рейтинг\")\n",
    "plt.ylabel(\"Количество продаж\")\n",
    "plt.show()"
   ]
  },
  {
   "cell_type": "markdown",
   "metadata": {},
   "source": [
    "Создадим сводную таблицу для взаимосвязи рейтингов и продаж в Японии"
   ]
  },
  {
   "cell_type": "code",
   "execution_count": 61,
   "metadata": {},
   "outputs": [
    {
     "data": {
      "text/html": [
       "<div>\n",
       "<style scoped>\n",
       "    .dataframe tbody tr th:only-of-type {\n",
       "        vertical-align: middle;\n",
       "    }\n",
       "\n",
       "    .dataframe tbody tr th {\n",
       "        vertical-align: top;\n",
       "    }\n",
       "\n",
       "    .dataframe thead th {\n",
       "        text-align: right;\n",
       "    }\n",
       "</style>\n",
       "<table border=\"1\" class=\"dataframe\">\n",
       "  <thead>\n",
       "    <tr style=\"text-align: right;\">\n",
       "      <th></th>\n",
       "      <th>jp_sales</th>\n",
       "    </tr>\n",
       "    <tr>\n",
       "      <th>rating</th>\n",
       "      <th></th>\n",
       "    </tr>\n",
       "  </thead>\n",
       "  <tbody>\n",
       "    <tr>\n",
       "      <th>-1</th>\n",
       "      <td>836.74</td>\n",
       "    </tr>\n",
       "    <tr>\n",
       "      <th>E</th>\n",
       "      <td>197.96</td>\n",
       "    </tr>\n",
       "    <tr>\n",
       "      <th>T</th>\n",
       "      <td>150.70</td>\n",
       "    </tr>\n",
       "    <tr>\n",
       "      <th>M</th>\n",
       "      <td>63.58</td>\n",
       "    </tr>\n",
       "    <tr>\n",
       "      <th>E10+</th>\n",
       "      <td>40.20</td>\n",
       "    </tr>\n",
       "    <tr>\n",
       "      <th>K-A</th>\n",
       "      <td>1.46</td>\n",
       "    </tr>\n",
       "    <tr>\n",
       "      <th>AO</th>\n",
       "      <td>0.00</td>\n",
       "    </tr>\n",
       "    <tr>\n",
       "      <th>EC</th>\n",
       "      <td>0.00</td>\n",
       "    </tr>\n",
       "    <tr>\n",
       "      <th>RP</th>\n",
       "      <td>0.00</td>\n",
       "    </tr>\n",
       "  </tbody>\n",
       "</table>\n",
       "</div>"
      ],
      "text/plain": [
       "        jp_sales\n",
       "rating          \n",
       "-1        836.74\n",
       "E         197.96\n",
       "T         150.70\n",
       "M          63.58\n",
       "E10+       40.20\n",
       "K-A         1.46\n",
       "AO          0.00\n",
       "EC          0.00\n",
       "RP          0.00"
      ]
     },
     "metadata": {},
     "output_type": "display_data"
    }
   ],
   "source": [
    "jp_rating = pd.pivot_table(data, index='rating', values='jp_sales', aggfunc='sum').sort_values('jp_sales', ascending=False)\n",
    "display(jp_rating)"
   ]
  },
  {
   "cell_type": "code",
   "execution_count": 62,
   "metadata": {},
   "outputs": [
    {
     "data": {
      "image/png": "[encoded data removed]",
      "text/plain": [
       "<Figure size 432x288 with 1 Axes>"
      ]
     },
     "metadata": {
      "needs_background": "light"
     },
     "output_type": "display_data"
    }
   ],
   "source": [
    "jp_rating.plot(kind='bar')\n",
    "plt.title(\"Рейтинг в Японии\")\n",
    "plt.xlabel(\"Рейтинг\")\n",
    "plt.ylabel(\"Количество продаж\")\n",
    "plt.show()"
   ]
  },
  {
   "cell_type": "markdown",
   "metadata": {},
   "source": [
    "Вывод: можно сказать, что для Северной Америки и Европы лидирует рейтинг E, что вполне логично ведь это игры подходящие для всех возрастов. Лидирующие позиции также занимают рейтинги T и M для каждого региона. Однако можно заметить, что в Японии больше всего игр без рейтинга, а такде они занимают 2 место по продажам в Европе и Америке. В целом ситуация в рейтингах достаточно схожая отличается лишь суммой продаж. \n",
    "Возможно, производители игр в японии в силу не стремятся получить для своей игры какой-либо рейтинг. Это видно по огромной разнице в продажах. Продажи игр без рейтинга больше почти в 4 раза продаж игр с самыми популярными рейтингами. В Северной Америке и Европе все же лидирует рейтинг E, однако отрыв между ними и играми без рейтинга невелик. Можно сказать, что В Японии наиболее популярны игры без рейтинга, а Европе и Америке в равной мере предпочитают игры как с рейтингом Е так и игры без рейтинга вовсе.\n"
   ]
  },
  {
   "cell_type": "markdown",
   "metadata": {},
   "source": [
    "### Проверьте гипотезы"
   ]
  },
  {
   "cell_type": "markdown",
   "metadata": {},
   "source": [
    "Для проверки гипотез был выбран t-тест, потому что выборки достаточно велики и равны по размеру между собой, значит и дисперсии генеральных совокупностей должны быть равны. Поэтому мы можем сравнивать средние этим тестом."
   ]
  },
  {
   "cell_type": "markdown",
   "metadata": {},
   "source": [
    "#### Средние пользовательские рейтинги платформ Xbox One и PC одинаковые;"
   ]
  },
  {
   "cell_type": "code",
   "execution_count": 63,
   "metadata": {},
   "outputs": [],
   "source": [
    "XOne_rating = current_period.query('platform == \"XOne\"')['user_score']"
   ]
  },
  {
   "cell_type": "code",
   "execution_count": 64,
   "metadata": {},
   "outputs": [],
   "source": [
    "PC_rating = current_period.query('platform == \"PC\"')['user_score']"
   ]
  },
  {
   "cell_type": "markdown",
   "metadata": {},
   "source": [
    "Нулевая гипотеза: Средние пользовательские рейтинги платформы Xbox One =  Средние пользовательские рейтинги платформы PC "
   ]
  },
  {
   "cell_type": "markdown",
   "metadata": {},
   "source": [
    "Альтернативная гипотеза: Средние пользовательские рейтинги платформы Xbox One ≠ Средние пользовательские рейтинги платформы PC "
   ]
  },
  {
   "cell_type": "code",
   "execution_count": 65,
   "metadata": {},
   "outputs": [],
   "source": [
    "from scipy import stats as st"
   ]
  },
  {
   "cell_type": "code",
   "execution_count": 66,
   "metadata": {},
   "outputs": [
    {
     "name": "stdout",
     "output_type": "stream",
     "text": [
      "0.20111399900783597\n",
      "Не получилось отвергнуть нулевую гипотезу\n"
     ]
    }
   ],
   "source": [
    "results = st.ttest_ind(XOne_rating, PC_rating)\n",
    "# alpha = задайте значение уровня значимости\n",
    "alpha = 0.05\n",
    "# вывод значения p-value на экран \n",
    "print(results.pvalue)\n",
    "# условный оператор с выводом строки с ответом\n",
    "if results.pvalue < alpha:\n",
    "    print(\"Отвергаем нулевую гипотезу\")\n",
    "else:\n",
    "    print(\"Не получилось отвергнуть нулевую гипотезу\") "
   ]
  },
  {
   "cell_type": "markdown",
   "metadata": {},
   "source": [
    "Вывод: таким образом, можно сделать вывод, что нулевая гипотеза верна. Т.е. Средние пользовательские рейтинги платформы Xbox One = средним пользовательским рейтингам платформы PC. "
   ]
  },
  {
   "cell_type": "markdown",
   "metadata": {},
   "source": [
    "#### Средние пользовательские рейтинги жанров Action и Sports разные."
   ]
  },
  {
   "cell_type": "code",
   "execution_count": 67,
   "metadata": {},
   "outputs": [],
   "source": [
    "action_rating = current_period.query('genre == \"Action\"')['user_score']"
   ]
  },
  {
   "cell_type": "code",
   "execution_count": 68,
   "metadata": {},
   "outputs": [],
   "source": [
    "sports_rating = current_period.query('genre == \"Sports\"')['user_score']"
   ]
  },
  {
   "cell_type": "markdown",
   "metadata": {},
   "source": [
    "Нулевая гипотеза: Средние пользовательские рейтинги жанра Action = Средние пользовательские рейтинги жанра Sports ."
   ]
  },
  {
   "cell_type": "markdown",
   "metadata": {},
   "source": [
    "Альтернативная гипотеза: Средние пользовательские рейтинги жанра Action ≠ Средние пользовательские рейтинги жанра Sports."
   ]
  },
  {
   "cell_type": "code",
   "execution_count": 69,
   "metadata": {},
   "outputs": [
    {
     "name": "stdout",
     "output_type": "stream",
     "text": [
      "0.02193663336455412\n",
      "Отвергаем нулевую гипотезу\n"
     ]
    }
   ],
   "source": [
    "results = st.ttest_ind( action_rating, sports_rating)\n",
    "# alpha = задайте значение уровня значимости\n",
    "alpha = 0.05\n",
    "# вывод значения p-value на экран \n",
    "print(results.pvalue)\n",
    "# условный оператор с выводом строки с ответом\n",
    "if results.pvalue < alpha:\n",
    "    print(\"Отвергаем нулевую гипотезу\")\n",
    "else:\n",
    "    print(\"Не получилось отвергнуть нулевую гипотезу\") "
   ]
  },
  {
   "cell_type": "markdown",
   "metadata": {},
   "source": [
    "Вывод: таким образом, нулевую гипотезу нужно отвергнуть. Значит, Средние пользовательские рейтинги жанра Action ≠ Средние пользовательские рейтинги жанра Sports."
   ]
  },
  {
   "cell_type": "markdown",
   "metadata": {},
   "source": [
    "Для ревьювера:  я верно поняла, что нулевая гипотеза должна быть равенством или что-то еще должно быть? "
   ]
  },
  {
   "cell_type": "markdown",
   "metadata": {},
   "source": [
    "### Общий вывод"
   ]
  },
  {
   "cell_type": "markdown",
   "metadata": {},
   "source": [
    "Вывод:В ходе работы над проектом проводилось исследование продаж игр. Была проведена предобработка данных, где были удалены пропуски(2 строчки и пропуски в столбце year_of_release), заменены нижним регистром заголовки таблицы, добавлены \"заглушки\" в столбцы, где это требовалось, а также изменен тип данных. \n",
    "\n",
    "В ходе исследовательского анализа удалось узнать сколько игр выпускалось в разные годы. Можно заметить что до 2000 количество выпускаемых игр было не очень большим, но примерно с 2000-2002 начался заметный рост. Максимальное количество выпущенных игр было в 2008-2009 годах(1427,1426 игр в год соотвественно), после чего мы также можем наблюдать спад. К 2016 году стало около 502 игр в год. Было проведено исследование как менялись продажи по платформам. Удалось выяснить, что платформы с наиболее высокими суммарными продажами - PS,X360,PS3,Wii,DS,PS. В среднем платформа функционирует около 8 лет. Компании запускают новые платформы каждые 5-7 лет, давая старым дожить 2-3 года.\n",
    "\n",
    "За актуальный период был принят период с 2013 по 2016 года, потому как 2008-2009 года был пик продаж. Продажи в 2010-2012 годах также были достататочно высокими, а после этого ситуация немного выравнялась. Потенциально прибыльными платформами были выбраны 3DS,PS4,Xone. Для актуального периода также были отобраны лидеры среди платформ - PS3,X360,PS4,3DS, XOne. Для лидеров были построены 'ящики с усами' на их основании можно выделить платформы с наибольшими суммарными продажами (X360 - 16.27 млн, PS3 - 21 млн), а также с наименьшими суммарными продажами Xone (7.39 млн - максимальная продажа, 645тысяч - средние продажи).\n",
    "\n",
    "Было проведено исследование как влияют на продажи отзывы критиков и пользователей. Оказалось, что чем выше оценки пользователей и критиков, тем выше продажи на платформе. Также удалось выяснить самые популярные жанры - Shooter, Sports, Platform, Role-Playing. Самыми неприбыльными жанрами являются - Adventure и Puzzle. Жанр Shooter является самым прибыльным с достаточным отрывом.\n",
    "\n",
    "Исследовалось также портрет пользователя для каждого региона. Для Северной Америки, Европы и Японии были вычислены топ 5 платформ. Топ 5 платформ очень схожи у Северной Америки и Европы. Топ платформ для Японии немного отличается.Лидером продаж для Северной Америки и Европы считается PS2(1 место в Европе, 2 место в Северной Америке). Лидерами продаж в Японии же являются платформы Ds, PS. Они в свою очередь замыкают топ для Северной Америки и Европы.\n",
    "\n",
    "Были выявлены топ 5 жанров для каждого региона. Для Северной Америки и Европы топы достачно похожи, первое место занимает Action. Для Японии первое место занимает Role-Playing, однако на 2 месте также стоит Action.\n",
    "\n",
    "Однако было выявлено что для Северной Америки и Европы лидирует рейтинг E, что вполне логично, эти игры предназначены для людей любых возрастов. Однако в Японии со значительным отрывом лидирют игры без рейтинга, также игры без рейтинга занимают второе метсо по популярности в Европе и Северной Америке. В целом популярность рейтингов довольно схожа для регионов, отличается лишь ценой на продажи.\n",
    " \n",
    "В ходе работы над проектом была также проведена проверка гипотез. Для первой гипотезы была сформулирована нулевая гипотеза:  Средние пользовательские рейтинги платформы Xbox One = Средние пользовательские рейтинги платформы PC. А также альтернативная: Средние пользовательские рейтинги платформы Xbox One ≠ Средние пользовательские рейтинги платформы PC. В ходе исследование оказалось, что нулевую гипотезу нельзя опровергнуть.\n",
    "\n",
    "Для второй гипотезы была сформулирована нулевая гипотеза: Средние пользовательские рейтинги жанра Action = Средние пользовательские рейтинги жанра Sports .\n",
    "А также альтернативная гипотеза: Средние пользовательские рейтинги жанра Action ≠ Средние пользовательские рейтинги жанра Sports. В ходе исследование оказалось, что мы отвергаем нулевую гипотезу."
   ]
  }
 ],
 "metadata": {
  "ExecuteTimeLog": [
   {
    "duration": 342,
    "start_time": "2022-09-05T12:59:36.809Z"
   },
   {
    "duration": 93,
    "start_time": "2022-09-05T13:00:01.163Z"
   },
   {
    "duration": 20,
    "start_time": "2022-09-05T13:00:22.096Z"
   },
   {
    "duration": 1096,
    "start_time": "2022-09-05T13:01:51.611Z"
   },
   {
    "duration": 15,
    "start_time": "2022-09-05T13:02:32.135Z"
   },
   {
    "duration": 9,
    "start_time": "2022-09-05T13:03:23.599Z"
   },
   {
    "duration": 56,
    "start_time": "2022-09-05T13:03:51.728Z"
   },
   {
    "duration": 4,
    "start_time": "2022-09-05T13:04:35.914Z"
   },
   {
    "duration": 161,
    "start_time": "2022-09-05T13:04:37.520Z"
   },
   {
    "duration": 3,
    "start_time": "2022-09-05T13:06:02.557Z"
   },
   {
    "duration": 13,
    "start_time": "2022-09-05T13:06:50.121Z"
   },
   {
    "duration": 3,
    "start_time": "2022-09-05T13:12:38.051Z"
   },
   {
    "duration": 8,
    "start_time": "2022-09-05T13:12:38.697Z"
   },
   {
    "duration": 4,
    "start_time": "2022-09-05T13:12:39.515Z"
   },
   {
    "duration": 161,
    "start_time": "2022-09-05T13:12:41.132Z"
   },
   {
    "duration": 2,
    "start_time": "2022-09-05T13:15:07.980Z"
   },
   {
    "duration": 47,
    "start_time": "2022-09-05T13:15:08.631Z"
   },
   {
    "duration": 15,
    "start_time": "2022-09-05T13:15:09.311Z"
   },
   {
    "duration": 772,
    "start_time": "2022-09-05T13:15:10.095Z"
   },
   {
    "duration": 14,
    "start_time": "2022-09-05T13:15:10.870Z"
   },
   {
    "duration": 4,
    "start_time": "2022-09-05T13:15:17.008Z"
   },
   {
    "duration": 9,
    "start_time": "2022-09-05T13:15:17.882Z"
   },
   {
    "duration": 4,
    "start_time": "2022-09-05T13:15:20.210Z"
   },
   {
    "duration": 161,
    "start_time": "2022-09-05T13:15:22.424Z"
   },
   {
    "duration": 6,
    "start_time": "2022-09-05T13:15:44.026Z"
   },
   {
    "duration": 4,
    "start_time": "2022-09-05T13:16:33.283Z"
   },
   {
    "duration": 16,
    "start_time": "2022-09-05T13:17:16.628Z"
   },
   {
    "duration": 19,
    "start_time": "2022-09-05T13:20:20.742Z"
   },
   {
    "duration": 5,
    "start_time": "2022-09-05T13:20:51.555Z"
   },
   {
    "duration": 4,
    "start_time": "2022-09-05T13:21:01.425Z"
   },
   {
    "duration": 6,
    "start_time": "2022-09-05T13:22:29.301Z"
   },
   {
    "duration": 4,
    "start_time": "2022-09-05T13:22:35.830Z"
   },
   {
    "duration": 5,
    "start_time": "2022-09-05T13:22:47.618Z"
   },
   {
    "duration": 7,
    "start_time": "2022-09-05T13:28:55.402Z"
   },
   {
    "duration": 4,
    "start_time": "2022-09-05T13:28:56.647Z"
   },
   {
    "duration": 9,
    "start_time": "2022-09-05T13:29:12.707Z"
   },
   {
    "duration": 4,
    "start_time": "2022-09-05T13:32:06.524Z"
   },
   {
    "duration": 5,
    "start_time": "2022-09-05T13:32:56.850Z"
   },
   {
    "duration": 75,
    "start_time": "2022-09-05T13:35:36.882Z"
   },
   {
    "duration": 5,
    "start_time": "2022-09-05T13:37:47.252Z"
   },
   {
    "duration": 7,
    "start_time": "2022-09-05T13:37:58.258Z"
   },
   {
    "duration": 6,
    "start_time": "2022-09-05T13:41:23.661Z"
   },
   {
    "duration": 9,
    "start_time": "2022-09-05T13:41:45.981Z"
   },
   {
    "duration": 8,
    "start_time": "2022-09-05T13:41:59.278Z"
   },
   {
    "duration": 6,
    "start_time": "2022-09-05T13:42:07.615Z"
   },
   {
    "duration": 5,
    "start_time": "2022-09-05T13:42:16.343Z"
   },
   {
    "duration": 81,
    "start_time": "2022-09-05T13:42:24.020Z"
   },
   {
    "duration": 10,
    "start_time": "2022-09-05T13:42:52.212Z"
   },
   {
    "duration": 156,
    "start_time": "2022-09-05T13:50:18.396Z"
   },
   {
    "duration": 6,
    "start_time": "2022-09-05T13:52:14.587Z"
   },
   {
    "duration": 8,
    "start_time": "2022-09-05T13:53:08.772Z"
   },
   {
    "duration": 8,
    "start_time": "2022-09-05T13:54:53.089Z"
   },
   {
    "duration": 8,
    "start_time": "2022-09-05T13:55:09.735Z"
   },
   {
    "duration": 11,
    "start_time": "2022-09-05T13:55:25.576Z"
   },
   {
    "duration": 6,
    "start_time": "2022-09-05T13:57:48.495Z"
   },
   {
    "duration": 25,
    "start_time": "2022-09-05T14:08:58.291Z"
   },
   {
    "duration": 7,
    "start_time": "2022-09-05T14:09:27.617Z"
   },
   {
    "duration": 9,
    "start_time": "2022-09-05T14:09:54.896Z"
   },
   {
    "duration": 9,
    "start_time": "2022-09-05T14:10:06.907Z"
   },
   {
    "duration": 24,
    "start_time": "2022-09-05T14:11:05.069Z"
   },
   {
    "duration": 16,
    "start_time": "2022-09-05T14:11:39.528Z"
   },
   {
    "duration": 15,
    "start_time": "2022-09-05T14:13:34.711Z"
   },
   {
    "duration": 16,
    "start_time": "2022-09-05T14:13:49.147Z"
   },
   {
    "duration": 10,
    "start_time": "2022-09-05T14:14:19.396Z"
   },
   {
    "duration": 14,
    "start_time": "2022-09-05T14:14:32.814Z"
   },
   {
    "duration": 16,
    "start_time": "2022-09-05T14:14:44.278Z"
   },
   {
    "duration": 15,
    "start_time": "2022-09-05T14:14:56.027Z"
   },
   {
    "duration": 16,
    "start_time": "2022-09-05T14:15:07.003Z"
   },
   {
    "duration": 17,
    "start_time": "2022-09-05T14:20:08.093Z"
   },
   {
    "duration": 15,
    "start_time": "2022-09-05T14:20:22.878Z"
   },
   {
    "duration": 16,
    "start_time": "2022-09-05T14:20:35.742Z"
   },
   {
    "duration": 434,
    "start_time": "2022-09-05T14:22:28.802Z"
   },
   {
    "duration": 154,
    "start_time": "2022-09-05T14:23:24.684Z"
   },
   {
    "duration": 3,
    "start_time": "2022-09-05T14:29:07.630Z"
   },
   {
    "duration": 4,
    "start_time": "2022-09-05T14:37:54.704Z"
   },
   {
    "duration": 167,
    "start_time": "2022-09-05T14:37:58.053Z"
   },
   {
    "duration": 4,
    "start_time": "2022-09-05T14:38:10.244Z"
   },
   {
    "duration": 143,
    "start_time": "2022-09-05T14:38:13.189Z"
   },
   {
    "duration": 2,
    "start_time": "2022-09-05T14:39:47.325Z"
   },
   {
    "duration": 197,
    "start_time": "2022-09-05T14:40:08.003Z"
   },
   {
    "duration": 141,
    "start_time": "2022-09-05T14:40:17.578Z"
   },
   {
    "duration": 173,
    "start_time": "2022-09-05T14:40:35.073Z"
   },
   {
    "duration": 138,
    "start_time": "2022-09-05T14:40:48.729Z"
   },
   {
    "duration": 4,
    "start_time": "2022-09-05T14:40:55.323Z"
   },
   {
    "duration": 138,
    "start_time": "2022-09-05T14:41:02.048Z"
   },
   {
    "duration": 4,
    "start_time": "2022-09-05T14:41:28.340Z"
   },
   {
    "duration": 12,
    "start_time": "2022-09-05T14:41:34.947Z"
   },
   {
    "duration": 4,
    "start_time": "2022-09-05T14:41:43.761Z"
   },
   {
    "duration": 3,
    "start_time": "2022-09-05T14:42:02.607Z"
   },
   {
    "duration": 3,
    "start_time": "2022-09-05T14:42:12.129Z"
   },
   {
    "duration": 144,
    "start_time": "2022-09-05T14:42:14.999Z"
   },
   {
    "duration": 216,
    "start_time": "2022-09-05T14:42:40.521Z"
   },
   {
    "duration": 241,
    "start_time": "2022-09-05T14:43:28.589Z"
   },
   {
    "duration": 239,
    "start_time": "2022-09-05T14:43:38.352Z"
   },
   {
    "duration": 143,
    "start_time": "2022-09-05T14:43:56.051Z"
   },
   {
    "duration": 137,
    "start_time": "2022-09-05T14:44:07.136Z"
   },
   {
    "duration": 32,
    "start_time": "2022-09-05T14:44:54.781Z"
   },
   {
    "duration": 217,
    "start_time": "2022-09-05T14:45:10.005Z"
   },
   {
    "duration": 153,
    "start_time": "2022-09-05T14:46:52.160Z"
   },
   {
    "duration": 140,
    "start_time": "2022-09-05T14:47:59.646Z"
   },
   {
    "duration": 4,
    "start_time": "2022-09-05T14:49:16.676Z"
   },
   {
    "duration": 150,
    "start_time": "2022-09-05T14:49:19.305Z"
   },
   {
    "duration": 4,
    "start_time": "2022-09-05T14:49:26.775Z"
   },
   {
    "duration": 148,
    "start_time": "2022-09-05T14:49:29.902Z"
   },
   {
    "duration": 5,
    "start_time": "2022-09-05T14:49:35.837Z"
   },
   {
    "duration": 148,
    "start_time": "2022-09-05T14:49:37.982Z"
   },
   {
    "duration": 127,
    "start_time": "2022-09-05T14:52:06.547Z"
   },
   {
    "duration": 20,
    "start_time": "2022-09-05T14:52:31.378Z"
   },
   {
    "duration": 153,
    "start_time": "2022-09-05T14:53:30.575Z"
   },
   {
    "duration": 24,
    "start_time": "2022-09-05T14:55:02.834Z"
   },
   {
    "duration": 144,
    "start_time": "2022-09-05T14:55:15.411Z"
   },
   {
    "duration": 150,
    "start_time": "2022-09-05T14:55:53.810Z"
   },
   {
    "duration": 223,
    "start_time": "2022-09-05T14:56:22.246Z"
   },
   {
    "duration": 154,
    "start_time": "2022-09-05T14:56:59.130Z"
   },
   {
    "duration": 156,
    "start_time": "2022-09-05T14:59:43.882Z"
   },
   {
    "duration": 10,
    "start_time": "2022-09-05T15:02:55.177Z"
   },
   {
    "duration": 1189,
    "start_time": "2022-09-05T15:03:08.723Z"
   },
   {
    "duration": 4,
    "start_time": "2022-09-05T15:03:49.890Z"
   },
   {
    "duration": 5061,
    "start_time": "2022-09-05T15:05:27.950Z"
   },
   {
    "duration": 7,
    "start_time": "2022-09-05T15:15:03.150Z"
   },
   {
    "duration": 7,
    "start_time": "2022-09-05T15:17:17.461Z"
   },
   {
    "duration": 6,
    "start_time": "2022-09-05T15:19:41.416Z"
   },
   {
    "duration": 6,
    "start_time": "2022-09-05T15:22:50.400Z"
   },
   {
    "duration": 10,
    "start_time": "2022-09-05T15:24:34.493Z"
   },
   {
    "duration": 9,
    "start_time": "2022-09-05T15:24:40.095Z"
   },
   {
    "duration": 596,
    "start_time": "2022-09-05T15:26:03.505Z"
   },
   {
    "duration": 35,
    "start_time": "2022-09-05T15:26:11.024Z"
   },
   {
    "duration": 14,
    "start_time": "2022-09-05T15:26:18.685Z"
   },
   {
    "duration": 3,
    "start_time": "2022-09-05T16:17:31.140Z"
   },
   {
    "duration": 3,
    "start_time": "2022-09-05T16:17:31.785Z"
   },
   {
    "duration": 2,
    "start_time": "2022-09-05T16:17:32.555Z"
   },
   {
    "duration": 51,
    "start_time": "2022-09-05T16:17:33.202Z"
   },
   {
    "duration": 13,
    "start_time": "2022-09-05T16:17:33.852Z"
   },
   {
    "duration": 770,
    "start_time": "2022-09-05T16:17:34.536Z"
   },
   {
    "duration": 15,
    "start_time": "2022-09-05T16:17:35.309Z"
   },
   {
    "duration": 3,
    "start_time": "2022-09-05T16:17:36.947Z"
   },
   {
    "duration": 8,
    "start_time": "2022-09-05T16:17:37.623Z"
   },
   {
    "duration": 4,
    "start_time": "2022-09-05T16:17:39.473Z"
   },
   {
    "duration": 149,
    "start_time": "2022-09-05T16:17:41.376Z"
   },
   {
    "duration": 18,
    "start_time": "2022-09-05T16:17:45.596Z"
   },
   {
    "duration": 7,
    "start_time": "2022-09-05T16:17:46.895Z"
   },
   {
    "duration": 3,
    "start_time": "2022-09-05T16:17:47.587Z"
   },
   {
    "duration": 5,
    "start_time": "2022-09-05T16:17:51.629Z"
   },
   {
    "duration": 23,
    "start_time": "2022-09-05T16:17:52.075Z"
   },
   {
    "duration": 7,
    "start_time": "2022-09-05T16:17:57.140Z"
   },
   {
    "duration": 140,
    "start_time": "2022-09-05T16:17:58.104Z"
   },
   {
    "duration": 6,
    "start_time": "2022-09-05T16:18:02.447Z"
   },
   {
    "duration": 281,
    "start_time": "2022-09-05T16:18:05.067Z"
   },
   {
    "duration": 165,
    "start_time": "2022-09-05T16:19:22.104Z"
   },
   {
    "duration": 151,
    "start_time": "2022-09-05T16:19:36.906Z"
   },
   {
    "duration": 51,
    "start_time": "2022-09-05T16:21:25.464Z"
   },
   {
    "duration": 147,
    "start_time": "2022-09-05T16:21:42.901Z"
   },
   {
    "duration": 138,
    "start_time": "2022-09-05T16:23:09.818Z"
   },
   {
    "duration": 149,
    "start_time": "2022-09-05T16:27:04.597Z"
   },
   {
    "duration": 296,
    "start_time": "2022-09-05T16:27:15.030Z"
   },
   {
    "duration": 2,
    "start_time": "2022-09-05T16:44:55.150Z"
   },
   {
    "duration": 3,
    "start_time": "2022-09-05T16:45:10.371Z"
   },
   {
    "duration": 3,
    "start_time": "2022-09-05T16:45:17.434Z"
   },
   {
    "duration": 3,
    "start_time": "2022-09-05T16:45:27.336Z"
   },
   {
    "duration": 5,
    "start_time": "2022-09-05T16:53:05.524Z"
   },
   {
    "duration": 90,
    "start_time": "2022-09-05T16:54:44.337Z"
   },
   {
    "duration": 19,
    "start_time": "2022-09-05T16:55:48.953Z"
   },
   {
    "duration": 17,
    "start_time": "2022-09-05T16:55:54.477Z"
   },
   {
    "duration": 16,
    "start_time": "2022-09-05T16:56:21.153Z"
   },
   {
    "duration": 8,
    "start_time": "2022-09-05T16:56:49.201Z"
   },
   {
    "duration": 13,
    "start_time": "2022-09-05T16:57:06.481Z"
   },
   {
    "duration": 3,
    "start_time": "2022-09-05T16:57:17.271Z"
   },
   {
    "duration": 4,
    "start_time": "2022-09-05T16:57:19.964Z"
   },
   {
    "duration": 11,
    "start_time": "2022-09-05T16:57:25.851Z"
   },
   {
    "duration": 2,
    "start_time": "2022-09-05T16:58:03.622Z"
   },
   {
    "duration": 9,
    "start_time": "2022-09-05T16:59:04.603Z"
   },
   {
    "duration": 13,
    "start_time": "2022-09-05T16:59:23.837Z"
   },
   {
    "duration": 60,
    "start_time": "2022-09-05T16:59:41.675Z"
   },
   {
    "duration": 21,
    "start_time": "2022-09-05T17:00:47.449Z"
   },
   {
    "duration": 20,
    "start_time": "2022-09-05T17:01:11.662Z"
   },
   {
    "duration": 21,
    "start_time": "2022-09-05T17:01:31.017Z"
   },
   {
    "duration": 67,
    "start_time": "2022-09-05T17:02:19.136Z"
   },
   {
    "duration": 121,
    "start_time": "2022-09-05T17:11:23.626Z"
   },
   {
    "duration": 57,
    "start_time": "2022-09-05T17:12:01.616Z"
   },
   {
    "duration": 319,
    "start_time": "2022-09-05T17:12:08.793Z"
   },
   {
    "duration": 195,
    "start_time": "2022-09-05T17:12:15.961Z"
   },
   {
    "duration": 199,
    "start_time": "2022-09-05T17:12:23.266Z"
   },
   {
    "duration": 18,
    "start_time": "2022-09-05T17:14:08.864Z"
   },
   {
    "duration": 307,
    "start_time": "2022-09-05T17:16:02.199Z"
   },
   {
    "duration": 1097,
    "start_time": "2022-09-05T17:17:48.245Z"
   },
   {
    "duration": 1356,
    "start_time": "2022-09-05T17:18:14.818Z"
   },
   {
    "duration": 19,
    "start_time": "2022-09-05T17:18:43.459Z"
   },
   {
    "duration": 19,
    "start_time": "2022-09-05T17:19:23.136Z"
   },
   {
    "duration": 13,
    "start_time": "2022-09-05T17:27:30.503Z"
   },
   {
    "duration": 116,
    "start_time": "2022-09-05T17:37:25.571Z"
   },
   {
    "duration": 4,
    "start_time": "2022-09-05T17:38:32.880Z"
   },
   {
    "duration": 104,
    "start_time": "2022-09-05T17:40:08.846Z"
   },
   {
    "duration": 9,
    "start_time": "2022-09-05T17:41:50.584Z"
   },
   {
    "duration": 19,
    "start_time": "2022-09-05T17:42:13.914Z"
   },
   {
    "duration": 98,
    "start_time": "2022-09-05T17:44:37.140Z"
   },
   {
    "duration": 92,
    "start_time": "2022-09-05T17:45:13.353Z"
   },
   {
    "duration": 126,
    "start_time": "2022-09-05T17:45:45.401Z"
   },
   {
    "duration": 99,
    "start_time": "2022-09-05T17:46:16.016Z"
   },
   {
    "duration": 114,
    "start_time": "2022-09-05T17:46:51.402Z"
   },
   {
    "duration": 64,
    "start_time": "2022-09-06T06:13:55.621Z"
   },
   {
    "duration": 376,
    "start_time": "2022-09-06T06:14:06.752Z"
   },
   {
    "duration": 419,
    "start_time": "2022-09-06T06:14:07.427Z"
   },
   {
    "duration": 533,
    "start_time": "2022-09-06T06:14:08.052Z"
   },
   {
    "duration": 103,
    "start_time": "2022-09-06T06:14:08.698Z"
   },
   {
    "duration": 19,
    "start_time": "2022-09-06T06:14:09.333Z"
   },
   {
    "duration": 838,
    "start_time": "2022-09-06T06:14:09.939Z"
   },
   {
    "duration": 26,
    "start_time": "2022-09-06T06:14:10.780Z"
   },
   {
    "duration": 64,
    "start_time": "2022-09-06T06:14:11.808Z"
   },
   {
    "duration": 10,
    "start_time": "2022-09-06T06:14:12.371Z"
   },
   {
    "duration": 4,
    "start_time": "2022-09-06T06:14:21.121Z"
   },
   {
    "duration": 16,
    "start_time": "2022-09-06T06:14:22.113Z"
   },
   {
    "duration": 6,
    "start_time": "2022-09-06T06:14:22.868Z"
   },
   {
    "duration": 197,
    "start_time": "2022-09-06T06:14:23.587Z"
   },
   {
    "duration": 15,
    "start_time": "2022-09-06T06:14:25.664Z"
   },
   {
    "duration": 8,
    "start_time": "2022-09-06T06:14:26.415Z"
   },
   {
    "duration": 4,
    "start_time": "2022-09-06T06:14:27.377Z"
   },
   {
    "duration": 4,
    "start_time": "2022-09-06T06:14:29.001Z"
   },
   {
    "duration": 23,
    "start_time": "2022-09-06T06:14:29.802Z"
   },
   {
    "duration": 8,
    "start_time": "2022-09-06T06:14:32.667Z"
   },
   {
    "duration": 157,
    "start_time": "2022-09-06T06:14:33.349Z"
   },
   {
    "duration": 15,
    "start_time": "2022-09-06T06:14:37.379Z"
   },
   {
    "duration": 6,
    "start_time": "2022-09-06T06:14:56.757Z"
   },
   {
    "duration": 172,
    "start_time": "2022-09-06T06:15:02.049Z"
   },
   {
    "duration": 359,
    "start_time": "2022-09-06T06:15:06.024Z"
   },
   {
    "duration": 3,
    "start_time": "2022-09-06T06:15:09.926Z"
   },
   {
    "duration": 162,
    "start_time": "2022-09-06T06:15:10.959Z"
   },
   {
    "duration": 218,
    "start_time": "2022-09-06T06:15:14.917Z"
   },
   {
    "duration": 19,
    "start_time": "2022-09-06T06:15:19.100Z"
   },
   {
    "duration": 21,
    "start_time": "2022-09-06T06:15:21.549Z"
   },
   {
    "duration": 21,
    "start_time": "2022-09-06T06:15:24.902Z"
   },
   {
    "duration": 158,
    "start_time": "2022-09-06T06:15:28.326Z"
   },
   {
    "duration": 103,
    "start_time": "2022-09-06T06:15:32.735Z"
   },
   {
    "duration": 108,
    "start_time": "2022-09-06T06:15:35.975Z"
   },
   {
    "duration": 112,
    "start_time": "2022-09-06T06:15:38.801Z"
   },
   {
    "duration": 122,
    "start_time": "2022-09-06T06:15:41.986Z"
   },
   {
    "duration": 107,
    "start_time": "2022-09-06T06:15:45.120Z"
   },
   {
    "duration": 9,
    "start_time": "2022-09-06T06:15:49.702Z"
   },
   {
    "duration": 7,
    "start_time": "2022-09-06T06:15:56.424Z"
   },
   {
    "duration": 8,
    "start_time": "2022-09-06T06:15:57.760Z"
   },
   {
    "duration": 138,
    "start_time": "2022-09-06T06:16:07.525Z"
   },
   {
    "duration": 5,
    "start_time": "2022-09-06T06:16:31.570Z"
   },
   {
    "duration": 116,
    "start_time": "2022-09-06T06:16:32.617Z"
   },
   {
    "duration": 20,
    "start_time": "2022-09-06T06:16:50.681Z"
   },
   {
    "duration": 30,
    "start_time": "2022-09-06T06:17:34.316Z"
   },
   {
    "duration": 28,
    "start_time": "2022-09-06T06:17:52.710Z"
   },
   {
    "duration": 6,
    "start_time": "2022-09-06T06:18:01.537Z"
   },
   {
    "duration": 138,
    "start_time": "2022-09-06T06:18:03.676Z"
   },
   {
    "duration": 11,
    "start_time": "2022-09-06T06:18:27.073Z"
   },
   {
    "duration": 11,
    "start_time": "2022-09-06T06:18:35.423Z"
   },
   {
    "duration": 30,
    "start_time": "2022-09-06T06:18:42.820Z"
   },
   {
    "duration": 29,
    "start_time": "2022-09-06T06:18:47.878Z"
   },
   {
    "duration": 25,
    "start_time": "2022-09-06T06:18:53.323Z"
   },
   {
    "duration": 25,
    "start_time": "2022-09-06T06:19:31.713Z"
   },
   {
    "duration": 204,
    "start_time": "2022-09-06T06:19:34.210Z"
   },
   {
    "duration": 27,
    "start_time": "2022-09-06T06:23:00.427Z"
   },
   {
    "duration": 36,
    "start_time": "2022-09-06T06:23:06.351Z"
   },
   {
    "duration": 28,
    "start_time": "2022-09-06T06:23:12.274Z"
   },
   {
    "duration": 129,
    "start_time": "2022-09-06T06:23:37.539Z"
   },
   {
    "duration": 27,
    "start_time": "2022-09-06T06:27:32.895Z"
   },
   {
    "duration": 108,
    "start_time": "2022-09-06T06:27:38.841Z"
   },
   {
    "duration": 3,
    "start_time": "2022-09-06T06:27:55.182Z"
   },
   {
    "duration": 10,
    "start_time": "2022-09-06T06:28:31.801Z"
   },
   {
    "duration": 14,
    "start_time": "2022-09-06T06:49:18.566Z"
   },
   {
    "duration": 1163,
    "start_time": "2022-09-06T06:51:04.856Z"
   },
   {
    "duration": 19,
    "start_time": "2022-09-06T06:51:45.236Z"
   },
   {
    "duration": 437,
    "start_time": "2022-09-06T06:52:03.699Z"
   },
   {
    "duration": 369,
    "start_time": "2022-09-06T06:52:16.834Z"
   },
   {
    "duration": 14,
    "start_time": "2022-09-06T06:52:32.942Z"
   },
   {
    "duration": 17,
    "start_time": "2022-09-06T06:53:45.380Z"
   },
   {
    "duration": 14,
    "start_time": "2022-09-06T06:54:11.009Z"
   },
   {
    "duration": 30,
    "start_time": "2022-09-06T07:01:53.604Z"
   },
   {
    "duration": 147,
    "start_time": "2022-09-06T07:02:37.082Z"
   },
   {
    "duration": 26,
    "start_time": "2022-09-06T07:03:51.057Z"
   },
   {
    "duration": 140,
    "start_time": "2022-09-06T07:04:10.866Z"
   },
   {
    "duration": 9,
    "start_time": "2022-09-06T07:04:51.336Z"
   },
   {
    "duration": 26,
    "start_time": "2022-09-06T07:05:31.954Z"
   },
   {
    "duration": 167,
    "start_time": "2022-09-06T07:05:40.742Z"
   },
   {
    "duration": 25,
    "start_time": "2022-09-06T07:05:59.217Z"
   },
   {
    "duration": 137,
    "start_time": "2022-09-06T07:06:07.049Z"
   },
   {
    "duration": 13,
    "start_time": "2022-09-06T07:06:21.918Z"
   },
   {
    "duration": 18,
    "start_time": "2022-09-06T07:12:15.378Z"
   },
   {
    "duration": 24,
    "start_time": "2022-09-06T07:13:03.075Z"
   },
   {
    "duration": 9,
    "start_time": "2022-09-06T07:15:15.222Z"
   },
   {
    "duration": 14,
    "start_time": "2022-09-06T07:15:24.337Z"
   },
   {
    "duration": 18,
    "start_time": "2022-09-06T07:16:59.201Z"
   },
   {
    "duration": 16,
    "start_time": "2022-09-06T07:17:11.301Z"
   },
   {
    "duration": 19,
    "start_time": "2022-09-06T07:18:16.779Z"
   },
   {
    "duration": 18,
    "start_time": "2022-09-06T07:34:22.950Z"
   },
   {
    "duration": 24,
    "start_time": "2022-09-06T07:36:03.774Z"
   },
   {
    "duration": 14,
    "start_time": "2022-09-06T07:37:24.923Z"
   },
   {
    "duration": 17,
    "start_time": "2022-09-06T07:47:24.932Z"
   },
   {
    "duration": 13,
    "start_time": "2022-09-06T07:48:17.065Z"
   },
   {
    "duration": 19,
    "start_time": "2022-09-06T07:48:40.102Z"
   },
   {
    "duration": 15,
    "start_time": "2022-09-06T07:49:42.333Z"
   },
   {
    "duration": 16,
    "start_time": "2022-09-06T07:55:49.503Z"
   },
   {
    "duration": 15,
    "start_time": "2022-09-06T07:55:55.950Z"
   },
   {
    "duration": 154,
    "start_time": "2022-09-06T07:57:28.032Z"
   },
   {
    "duration": 157,
    "start_time": "2022-09-06T07:58:19.044Z"
   },
   {
    "duration": 150,
    "start_time": "2022-09-06T07:58:48.331Z"
   },
   {
    "duration": 153,
    "start_time": "2022-09-06T07:59:11.241Z"
   },
   {
    "duration": 152,
    "start_time": "2022-09-06T08:00:05.280Z"
   },
   {
    "duration": 219,
    "start_time": "2022-09-06T08:00:28.202Z"
   },
   {
    "duration": 129,
    "start_time": "2022-09-06T08:00:49.653Z"
   },
   {
    "duration": 6,
    "start_time": "2022-09-06T08:25:30.525Z"
   },
   {
    "duration": 5,
    "start_time": "2022-09-06T08:26:08.825Z"
   },
   {
    "duration": 10,
    "start_time": "2022-09-06T08:26:39.178Z"
   },
   {
    "duration": 3,
    "start_time": "2022-09-06T08:27:39.815Z"
   },
   {
    "duration": 5,
    "start_time": "2022-09-06T08:27:40.674Z"
   },
   {
    "duration": 6,
    "start_time": "2022-09-06T08:32:54.827Z"
   },
   {
    "duration": 5,
    "start_time": "2022-09-06T08:33:50.087Z"
   },
   {
    "duration": 6,
    "start_time": "2022-09-06T08:34:18.859Z"
   },
   {
    "duration": 5,
    "start_time": "2022-09-06T08:34:48.326Z"
   },
   {
    "duration": 9,
    "start_time": "2022-09-06T08:52:31.655Z"
   },
   {
    "duration": 380,
    "start_time": "2022-09-06T17:32:55.584Z"
   },
   {
    "duration": 398,
    "start_time": "2022-09-06T17:32:56.291Z"
   },
   {
    "duration": 505,
    "start_time": "2022-09-06T17:32:57.475Z"
   },
   {
    "duration": 99,
    "start_time": "2022-09-06T17:32:58.224Z"
   },
   {
    "duration": 17,
    "start_time": "2022-09-06T17:32:59.073Z"
   },
   {
    "duration": 13,
    "start_time": "2022-09-06T17:33:02.730Z"
   },
   {
    "duration": 3,
    "start_time": "2022-09-06T17:33:06.731Z"
   },
   {
    "duration": 9,
    "start_time": "2022-09-06T17:33:07.425Z"
   },
   {
    "duration": 5,
    "start_time": "2022-09-06T17:33:08.281Z"
   },
   {
    "duration": 26,
    "start_time": "2022-09-06T17:33:11.201Z"
   },
   {
    "duration": 8,
    "start_time": "2022-09-06T17:33:12.050Z"
   },
   {
    "duration": 7,
    "start_time": "2022-09-06T17:33:12.822Z"
   },
   {
    "duration": 3,
    "start_time": "2022-09-06T17:33:15.986Z"
   },
   {
    "duration": 21,
    "start_time": "2022-09-06T17:33:16.930Z"
   },
   {
    "duration": 7,
    "start_time": "2022-09-06T17:33:20.724Z"
   },
   {
    "duration": 174,
    "start_time": "2022-09-06T17:33:21.450Z"
   },
   {
    "duration": 4,
    "start_time": "2022-09-06T17:33:25.399Z"
   },
   {
    "duration": 151,
    "start_time": "2022-09-06T17:33:27.649Z"
   },
   {
    "duration": 285,
    "start_time": "2022-09-06T17:33:32.336Z"
   },
   {
    "duration": 3,
    "start_time": "2022-09-06T17:33:35.859Z"
   },
   {
    "duration": 15,
    "start_time": "2022-09-06T17:33:42.684Z"
   },
   {
    "duration": 3,
    "start_time": "2022-09-06T17:33:51.929Z"
   },
   {
    "duration": 63,
    "start_time": "2022-09-06T17:33:52.724Z"
   },
   {
    "duration": 182,
    "start_time": "2022-09-06T17:33:59.253Z"
   },
   {
    "duration": 18,
    "start_time": "2022-09-06T17:34:02.582Z"
   },
   {
    "duration": 17,
    "start_time": "2022-09-06T17:34:05.828Z"
   },
   {
    "duration": 12,
    "start_time": "2022-09-06T17:34:06.624Z"
   },
   {
    "duration": 15,
    "start_time": "2022-09-06T17:34:09.232Z"
   },
   {
    "duration": 114,
    "start_time": "2022-09-06T17:34:13.050Z"
   },
   {
    "duration": 92,
    "start_time": "2022-09-06T17:34:17.030Z"
   },
   {
    "duration": 138,
    "start_time": "2022-09-06T17:34:21.299Z"
   },
   {
    "duration": 98,
    "start_time": "2022-09-06T17:34:26.126Z"
   },
   {
    "duration": 96,
    "start_time": "2022-09-06T17:34:30.582Z"
   },
   {
    "duration": 102,
    "start_time": "2022-09-06T17:34:34.358Z"
   },
   {
    "duration": 23,
    "start_time": "2022-09-06T17:34:39.501Z"
   },
   {
    "duration": 106,
    "start_time": "2022-09-06T17:34:42.096Z"
   },
   {
    "duration": 22,
    "start_time": "2022-09-06T17:34:46.228Z"
   },
   {
    "duration": 106,
    "start_time": "2022-09-06T17:34:49.481Z"
   },
   {
    "duration": 14,
    "start_time": "2022-09-06T17:34:52.815Z"
   },
   {
    "duration": 33,
    "start_time": "2022-09-06T17:35:15.023Z"
   },
   {
    "duration": 134,
    "start_time": "2022-09-06T17:35:17.798Z"
   },
   {
    "duration": 21,
    "start_time": "2022-09-06T17:35:21.554Z"
   },
   {
    "duration": 117,
    "start_time": "2022-09-06T17:35:24.178Z"
   },
   {
    "duration": 9,
    "start_time": "2022-09-06T17:35:26.854Z"
   },
   {
    "duration": 18,
    "start_time": "2022-09-06T17:35:30.654Z"
   },
   {
    "duration": 13,
    "start_time": "2022-09-06T17:35:34.560Z"
   },
   {
    "duration": 12,
    "start_time": "2022-09-06T17:35:37.381Z"
   },
   {
    "duration": 15,
    "start_time": "2022-09-06T17:35:40.389Z"
   },
   {
    "duration": 14,
    "start_time": "2022-09-06T17:35:45.536Z"
   },
   {
    "duration": 124,
    "start_time": "2022-09-06T17:35:47.690Z"
   },
   {
    "duration": 14,
    "start_time": "2022-09-06T17:35:51.025Z"
   },
   {
    "duration": 119,
    "start_time": "2022-09-06T17:35:53.054Z"
   },
   {
    "duration": 15,
    "start_time": "2022-09-06T17:35:56.526Z"
   },
   {
    "duration": 134,
    "start_time": "2022-09-06T17:35:57.483Z"
   },
   {
    "duration": 13,
    "start_time": "2022-09-06T17:36:01.894Z"
   },
   {
    "duration": 160,
    "start_time": "2022-09-06T17:36:02.697Z"
   },
   {
    "duration": 20,
    "start_time": "2022-09-06T17:36:06.597Z"
   },
   {
    "duration": 198,
    "start_time": "2022-09-06T17:36:09.457Z"
   },
   {
    "duration": 12,
    "start_time": "2022-09-06T17:36:17.833Z"
   },
   {
    "duration": 139,
    "start_time": "2022-09-06T17:36:20.029Z"
   },
   {
    "duration": 5,
    "start_time": "2022-09-06T17:37:04.930Z"
   },
   {
    "duration": 6,
    "start_time": "2022-09-06T17:37:05.624Z"
   },
   {
    "duration": 2,
    "start_time": "2022-09-06T17:37:09.095Z"
   },
   {
    "duration": 4,
    "start_time": "2022-09-06T17:37:09.862Z"
   },
   {
    "duration": 5,
    "start_time": "2022-09-06T17:37:15.028Z"
   },
   {
    "duration": 5,
    "start_time": "2022-09-06T17:37:15.724Z"
   },
   {
    "duration": 5,
    "start_time": "2022-09-06T17:37:19.829Z"
   },
   {
    "duration": 4,
    "start_time": "2022-09-06T17:39:28.497Z"
   },
   {
    "duration": 172,
    "start_time": "2022-09-06T17:39:32.359Z"
   },
   {
    "duration": 12,
    "start_time": "2022-09-06T17:39:47.631Z"
   },
   {
    "duration": 3,
    "start_time": "2022-09-06T17:40:02.833Z"
   },
   {
    "duration": 3,
    "start_time": "2022-09-06T17:40:03.328Z"
   },
   {
    "duration": 2,
    "start_time": "2022-09-06T17:40:03.968Z"
   },
   {
    "duration": 58,
    "start_time": "2022-09-06T17:40:04.582Z"
   },
   {
    "duration": 11,
    "start_time": "2022-09-06T17:40:05.227Z"
   },
   {
    "duration": 661,
    "start_time": "2022-09-06T17:40:07.279Z"
   },
   {
    "duration": 12,
    "start_time": "2022-09-06T17:40:09.979Z"
   },
   {
    "duration": 3,
    "start_time": "2022-09-06T17:40:14.858Z"
   },
   {
    "duration": 9,
    "start_time": "2022-09-06T17:40:15.555Z"
   },
   {
    "duration": 4,
    "start_time": "2022-09-06T17:40:16.637Z"
   },
   {
    "duration": 12,
    "start_time": "2022-09-06T17:40:19.599Z"
   },
   {
    "duration": 7,
    "start_time": "2022-09-06T17:40:20.331Z"
   },
   {
    "duration": 3,
    "start_time": "2022-09-06T17:40:20.997Z"
   },
   {
    "duration": 3,
    "start_time": "2022-09-06T17:40:23.730Z"
   },
   {
    "duration": 20,
    "start_time": "2022-09-06T17:40:24.386Z"
   },
   {
    "duration": 8,
    "start_time": "2022-09-06T17:40:27.692Z"
   },
   {
    "duration": 4,
    "start_time": "2022-09-06T17:40:28.550Z"
   },
   {
    "duration": 16,
    "start_time": "2022-09-06T17:40:29.398Z"
   },
   {
    "duration": 6,
    "start_time": "2022-09-06T17:42:29.255Z"
   },
   {
    "duration": 11,
    "start_time": "2022-09-06T17:42:30.725Z"
   },
   {
    "duration": 4,
    "start_time": "2022-09-06T17:42:48.235Z"
   },
   {
    "duration": 134,
    "start_time": "2022-09-06T17:43:05.825Z"
   },
   {
    "duration": 4,
    "start_time": "2022-09-06T17:43:18.982Z"
   },
   {
    "duration": 3,
    "start_time": "2022-09-06T17:43:19.836Z"
   },
   {
    "duration": 2,
    "start_time": "2022-09-06T17:43:27.038Z"
   },
   {
    "duration": 3,
    "start_time": "2022-09-06T17:43:27.753Z"
   },
   {
    "duration": 12,
    "start_time": "2022-09-06T17:43:28.634Z"
   },
   {
    "duration": 3,
    "start_time": "2022-09-06T17:45:33.641Z"
   },
   {
    "duration": 4,
    "start_time": "2022-09-06T17:45:35.081Z"
   },
   {
    "duration": 12,
    "start_time": "2022-09-06T17:45:36.085Z"
   },
   {
    "duration": 2,
    "start_time": "2022-09-06T17:46:57.583Z"
   },
   {
    "duration": 2,
    "start_time": "2022-09-06T17:46:58.233Z"
   },
   {
    "duration": 2,
    "start_time": "2022-09-06T17:46:58.830Z"
   },
   {
    "duration": 49,
    "start_time": "2022-09-06T17:46:59.427Z"
   },
   {
    "duration": 12,
    "start_time": "2022-09-06T17:47:00.039Z"
   },
   {
    "duration": 662,
    "start_time": "2022-09-06T17:47:00.941Z"
   },
   {
    "duration": 13,
    "start_time": "2022-09-06T17:47:03.871Z"
   },
   {
    "duration": 3,
    "start_time": "2022-09-06T17:47:12.930Z"
   },
   {
    "duration": 9,
    "start_time": "2022-09-06T17:47:13.731Z"
   },
   {
    "duration": 3,
    "start_time": "2022-09-06T17:47:15.791Z"
   },
   {
    "duration": 270,
    "start_time": "2022-09-06T17:47:16.490Z"
   },
   {
    "duration": 12,
    "start_time": "2022-09-06T17:47:20.029Z"
   },
   {
    "duration": 6,
    "start_time": "2022-09-06T17:47:20.889Z"
   },
   {
    "duration": 3,
    "start_time": "2022-09-06T17:47:21.676Z"
   },
   {
    "duration": 4,
    "start_time": "2022-09-06T17:47:25.627Z"
   },
   {
    "duration": 18,
    "start_time": "2022-09-06T17:47:26.348Z"
   },
   {
    "duration": 7,
    "start_time": "2022-09-06T17:47:29.592Z"
   },
   {
    "duration": 4,
    "start_time": "2022-09-06T17:47:33.078Z"
   },
   {
    "duration": 4,
    "start_time": "2022-09-06T17:47:34.129Z"
   },
   {
    "duration": 11,
    "start_time": "2022-09-06T17:47:35.779Z"
   },
   {
    "duration": 150,
    "start_time": "2022-09-06T17:47:55.276Z"
   },
   {
    "duration": 5,
    "start_time": "2022-09-06T17:47:59.549Z"
   },
   {
    "duration": 192,
    "start_time": "2022-09-06T17:48:02.477Z"
   },
   {
    "duration": 173,
    "start_time": "2022-09-06T17:48:23.567Z"
   },
   {
    "duration": 149,
    "start_time": "2022-09-06T17:48:34.458Z"
   },
   {
    "duration": 241,
    "start_time": "2022-09-06T17:48:39.064Z"
   },
   {
    "duration": 3,
    "start_time": "2022-09-06T17:48:43.829Z"
   },
   {
    "duration": 65,
    "start_time": "2022-09-06T17:48:44.776Z"
   },
   {
    "duration": 176,
    "start_time": "2022-09-06T17:48:49.192Z"
   },
   {
    "duration": 30,
    "start_time": "2022-09-06T17:48:52.798Z"
   },
   {
    "duration": 15,
    "start_time": "2022-09-06T17:48:53.864Z"
   },
   {
    "duration": 13,
    "start_time": "2022-09-06T17:48:57.830Z"
   },
   {
    "duration": 97,
    "start_time": "2022-09-06T17:49:01.143Z"
   },
   {
    "duration": 85,
    "start_time": "2022-09-06T17:49:04.444Z"
   },
   {
    "duration": 149,
    "start_time": "2022-09-06T17:49:07.449Z"
   },
   {
    "duration": 127,
    "start_time": "2022-09-06T17:49:10.403Z"
   },
   {
    "duration": 99,
    "start_time": "2022-09-06T17:49:13.725Z"
   },
   {
    "duration": 103,
    "start_time": "2022-09-06T17:49:16.835Z"
   },
   {
    "duration": 32,
    "start_time": "2022-09-06T17:49:20.690Z"
   },
   {
    "duration": 126,
    "start_time": "2022-09-06T17:49:23.539Z"
   },
   {
    "duration": 22,
    "start_time": "2022-09-06T17:49:26.775Z"
   },
   {
    "duration": 110,
    "start_time": "2022-09-06T17:49:28.980Z"
   },
   {
    "duration": 9,
    "start_time": "2022-09-06T17:49:31.932Z"
   },
   {
    "duration": 22,
    "start_time": "2022-09-06T17:49:34.588Z"
   },
   {
    "duration": 125,
    "start_time": "2022-09-06T17:49:36.830Z"
   },
   {
    "duration": 30,
    "start_time": "2022-09-06T17:49:41.095Z"
   },
   {
    "duration": 131,
    "start_time": "2022-09-06T17:49:43.201Z"
   },
   {
    "duration": 8,
    "start_time": "2022-09-06T17:49:45.175Z"
   },
   {
    "duration": 13,
    "start_time": "2022-09-06T17:49:47.980Z"
   },
   {
    "duration": 12,
    "start_time": "2022-09-06T17:49:51.161Z"
   },
   {
    "duration": 16,
    "start_time": "2022-09-06T17:49:52.782Z"
   },
   {
    "duration": 12,
    "start_time": "2022-09-06T17:49:55.679Z"
   },
   {
    "duration": 12,
    "start_time": "2022-09-06T17:49:58.457Z"
   },
   {
    "duration": 116,
    "start_time": "2022-09-06T17:49:59.291Z"
   },
   {
    "duration": 28,
    "start_time": "2022-09-06T17:50:02.798Z"
   },
   {
    "duration": 125,
    "start_time": "2022-09-06T17:50:03.638Z"
   },
   {
    "duration": 17,
    "start_time": "2022-09-06T17:50:07.356Z"
   },
   {
    "duration": 129,
    "start_time": "2022-09-06T17:50:08.287Z"
   },
   {
    "duration": 14,
    "start_time": "2022-09-06T17:50:12.076Z"
   },
   {
    "duration": 143,
    "start_time": "2022-09-06T17:50:12.902Z"
   },
   {
    "duration": 14,
    "start_time": "2022-09-06T17:50:16.576Z"
   },
   {
    "duration": 141,
    "start_time": "2022-09-06T17:50:18.680Z"
   },
   {
    "duration": 13,
    "start_time": "2022-09-06T17:50:20.737Z"
   },
   {
    "duration": 202,
    "start_time": "2022-09-06T17:50:21.599Z"
   },
   {
    "duration": 5,
    "start_time": "2022-09-06T17:50:25.871Z"
   },
   {
    "duration": 5,
    "start_time": "2022-09-06T17:50:26.496Z"
   },
   {
    "duration": 2,
    "start_time": "2022-09-06T17:50:29.333Z"
   },
   {
    "duration": 4,
    "start_time": "2022-09-06T17:50:30.831Z"
   },
   {
    "duration": 368,
    "start_time": "2022-09-07T15:11:18.350Z"
   },
   {
    "duration": 391,
    "start_time": "2022-09-07T15:11:19.174Z"
   },
   {
    "duration": 496,
    "start_time": "2022-09-07T15:11:20.453Z"
   },
   {
    "duration": 105,
    "start_time": "2022-09-07T15:11:21.305Z"
   },
   {
    "duration": 16,
    "start_time": "2022-09-07T15:11:21.990Z"
   },
   {
    "duration": 651,
    "start_time": "2022-09-07T15:11:23.783Z"
   },
   {
    "duration": 12,
    "start_time": "2022-09-07T15:11:27.640Z"
   },
   {
    "duration": 3,
    "start_time": "2022-09-07T15:11:31.391Z"
   },
   {
    "duration": 10,
    "start_time": "2022-09-07T15:11:34.715Z"
   },
   {
    "duration": 4,
    "start_time": "2022-09-07T15:11:36.806Z"
   },
   {
    "duration": 158,
    "start_time": "2022-09-07T15:11:37.623Z"
   },
   {
    "duration": 12,
    "start_time": "2022-09-07T15:11:41.091Z"
   },
   {
    "duration": 7,
    "start_time": "2022-09-07T15:11:41.972Z"
   },
   {
    "duration": 4,
    "start_time": "2022-09-07T15:12:16.661Z"
   },
   {
    "duration": 8,
    "start_time": "2022-09-07T15:12:22.002Z"
   },
   {
    "duration": 19,
    "start_time": "2022-09-07T15:12:23.021Z"
   },
   {
    "duration": 8,
    "start_time": "2022-09-07T15:12:26.309Z"
   },
   {
    "duration": 7,
    "start_time": "2022-09-07T15:12:30.103Z"
   },
   {
    "duration": 4,
    "start_time": "2022-09-07T15:12:31.066Z"
   },
   {
    "duration": 4,
    "start_time": "2022-09-07T15:12:32.057Z"
   },
   {
    "duration": 132,
    "start_time": "2022-09-07T15:12:33.060Z"
   },
   {
    "duration": 4,
    "start_time": "2022-09-07T15:12:45.672Z"
   },
   {
    "duration": 4,
    "start_time": "2022-09-07T15:14:26.860Z"
   },
   {
    "duration": 5,
    "start_time": "2022-09-07T15:26:55.575Z"
   },
   {
    "duration": 144,
    "start_time": "2022-09-07T15:26:59.695Z"
   },
   {
    "duration": 337,
    "start_time": "2022-09-07T15:27:09.444Z"
   },
   {
    "duration": 2,
    "start_time": "2022-09-07T15:27:16.679Z"
   },
   {
    "duration": 58,
    "start_time": "2022-09-07T15:27:17.612Z"
   },
   {
    "duration": 170,
    "start_time": "2022-09-07T15:27:24.817Z"
   },
   {
    "duration": 15,
    "start_time": "2022-09-07T15:29:02.296Z"
   },
   {
    "duration": 95,
    "start_time": "2022-09-07T15:30:23.992Z"
   },
   {
    "duration": 15,
    "start_time": "2022-09-07T15:30:40.719Z"
   },
   {
    "duration": 11,
    "start_time": "2022-09-07T15:30:44.361Z"
   },
   {
    "duration": 11,
    "start_time": "2022-09-07T15:32:07.134Z"
   },
   {
    "duration": 99,
    "start_time": "2022-09-07T15:33:00.978Z"
   },
   {
    "duration": 88,
    "start_time": "2022-09-07T15:33:18.462Z"
   },
   {
    "duration": 106,
    "start_time": "2022-09-07T15:33:56.824Z"
   },
   {
    "duration": 91,
    "start_time": "2022-09-07T15:34:30.805Z"
   },
   {
    "duration": 97,
    "start_time": "2022-09-07T15:35:01.070Z"
   },
   {
    "duration": 27,
    "start_time": "2022-09-07T15:37:22.648Z"
   },
   {
    "duration": 106,
    "start_time": "2022-09-07T15:37:25.471Z"
   },
   {
    "duration": 28,
    "start_time": "2022-09-07T15:37:32.557Z"
   },
   {
    "duration": 161,
    "start_time": "2022-09-07T15:37:35.050Z"
   },
   {
    "duration": 7,
    "start_time": "2022-09-07T15:37:38.646Z"
   },
   {
    "duration": 22,
    "start_time": "2022-09-07T15:38:10.324Z"
   },
   {
    "duration": 118,
    "start_time": "2022-09-07T15:38:12.890Z"
   },
   {
    "duration": 21,
    "start_time": "2022-09-07T15:38:16.230Z"
   },
   {
    "duration": 125,
    "start_time": "2022-09-07T15:38:18.592Z"
   },
   {
    "duration": 8,
    "start_time": "2022-09-07T15:38:20.957Z"
   },
   {
    "duration": 21,
    "start_time": "2022-09-07T15:40:59.297Z"
   },
   {
    "duration": 105,
    "start_time": "2022-09-07T15:41:00.130Z"
   },
   {
    "duration": 22,
    "start_time": "2022-09-07T15:41:05.930Z"
   },
   {
    "duration": 109,
    "start_time": "2022-09-07T15:41:09.705Z"
   },
   {
    "duration": 12,
    "start_time": "2022-09-07T15:41:13.812Z"
   },
   {
    "duration": 21,
    "start_time": "2022-09-07T15:41:19.032Z"
   },
   {
    "duration": 119,
    "start_time": "2022-09-07T15:41:22.039Z"
   },
   {
    "duration": 21,
    "start_time": "2022-09-07T15:41:26.363Z"
   },
   {
    "duration": 115,
    "start_time": "2022-09-07T15:41:29.286Z"
   },
   {
    "duration": 10,
    "start_time": "2022-09-07T15:41:32.587Z"
   },
   {
    "duration": 14,
    "start_time": "2022-09-07T15:45:52.901Z"
   },
   {
    "duration": 12,
    "start_time": "2022-09-07T15:46:09.335Z"
   },
   {
    "duration": 13,
    "start_time": "2022-09-07T15:46:33.378Z"
   },
   {
    "duration": 12,
    "start_time": "2022-09-07T15:48:27.736Z"
   },
   {
    "duration": 15,
    "start_time": "2022-09-07T15:48:33.823Z"
   },
   {
    "duration": 12,
    "start_time": "2022-09-07T15:52:05.871Z"
   },
   {
    "duration": 25,
    "start_time": "2022-09-07T15:53:02.905Z"
   },
   {
    "duration": 12,
    "start_time": "2022-09-07T15:53:07.758Z"
   },
   {
    "duration": 12,
    "start_time": "2022-09-07T15:53:11.855Z"
   },
   {
    "duration": 41,
    "start_time": "2022-09-07T15:55:17.231Z"
   },
   {
    "duration": 139,
    "start_time": "2022-09-07T15:55:19.583Z"
   },
   {
    "duration": 12,
    "start_time": "2022-09-07T15:56:29.013Z"
   },
   {
    "duration": 12,
    "start_time": "2022-09-07T15:56:31.924Z"
   },
   {
    "duration": 12,
    "start_time": "2022-09-07T15:56:34.466Z"
   },
   {
    "duration": 13,
    "start_time": "2022-09-07T15:56:37.624Z"
   },
   {
    "duration": 120,
    "start_time": "2022-09-07T15:56:40.180Z"
   },
   {
    "duration": 13,
    "start_time": "2022-09-07T15:56:44.023Z"
   },
   {
    "duration": 122,
    "start_time": "2022-09-07T15:56:45.934Z"
   },
   {
    "duration": 16,
    "start_time": "2022-09-07T15:56:48.690Z"
   },
   {
    "duration": 132,
    "start_time": "2022-09-07T15:56:51.172Z"
   },
   {
    "duration": 25,
    "start_time": "2022-09-07T15:56:54.810Z"
   },
   {
    "duration": 140,
    "start_time": "2022-09-07T15:56:58.985Z"
   },
   {
    "duration": 22,
    "start_time": "2022-09-07T15:57:04.504Z"
   },
   {
    "duration": 198,
    "start_time": "2022-09-07T15:57:06.987Z"
   },
   {
    "duration": 15,
    "start_time": "2022-09-07T15:57:10.621Z"
   },
   {
    "duration": 166,
    "start_time": "2022-09-07T15:57:12.863Z"
   },
   {
    "duration": 5,
    "start_time": "2022-09-07T16:09:08.726Z"
   },
   {
    "duration": 5,
    "start_time": "2022-09-07T16:09:09.461Z"
   },
   {
    "duration": 5,
    "start_time": "2022-09-07T16:16:10.056Z"
   },
   {
    "duration": 5,
    "start_time": "2022-09-07T16:16:10.760Z"
   },
   {
    "duration": 2,
    "start_time": "2022-09-07T16:16:13.147Z"
   },
   {
    "duration": 5,
    "start_time": "2022-09-07T16:16:16.078Z"
   },
   {
    "duration": 5,
    "start_time": "2022-09-07T16:18:05.643Z"
   },
   {
    "duration": 5,
    "start_time": "2022-09-07T16:18:06.235Z"
   },
   {
    "duration": 4,
    "start_time": "2022-09-07T16:18:08.360Z"
   },
   {
    "duration": 13,
    "start_time": "2022-09-07T16:25:06.948Z"
   },
   {
    "duration": 12,
    "start_time": "2022-09-07T16:25:08.826Z"
   },
   {
    "duration": 16,
    "start_time": "2022-09-07T16:25:12.604Z"
   },
   {
    "duration": 13,
    "start_time": "2022-09-07T16:25:16.615Z"
   },
   {
    "duration": 122,
    "start_time": "2022-09-07T16:25:19.034Z"
   },
   {
    "duration": 16,
    "start_time": "2022-09-07T16:25:22.578Z"
   },
   {
    "duration": 114,
    "start_time": "2022-09-07T16:25:24.077Z"
   },
   {
    "duration": 13,
    "start_time": "2022-09-07T16:25:27.287Z"
   },
   {
    "duration": 13,
    "start_time": "2022-09-07T16:27:14.200Z"
   },
   {
    "duration": 155,
    "start_time": "2022-09-07T16:29:40.476Z"
   },
   {
    "duration": 7,
    "start_time": "2022-09-07T16:29:48.889Z"
   },
   {
    "duration": 13,
    "start_time": "2022-09-07T16:41:02.089Z"
   },
   {
    "duration": 14,
    "start_time": "2022-09-07T16:41:14.521Z"
   },
   {
    "duration": 12,
    "start_time": "2022-09-07T16:41:29.316Z"
   },
   {
    "duration": 12,
    "start_time": "2022-09-07T16:41:47.888Z"
   },
   {
    "duration": 12,
    "start_time": "2022-09-07T16:41:57.768Z"
   },
   {
    "duration": 12,
    "start_time": "2022-09-07T16:42:07.783Z"
   },
   {
    "duration": 427,
    "start_time": "2022-09-08T10:22:57.853Z"
   },
   {
    "duration": 426,
    "start_time": "2022-09-08T10:22:58.560Z"
   },
   {
    "duration": 583,
    "start_time": "2022-09-08T10:22:59.508Z"
   },
   {
    "duration": 111,
    "start_time": "2022-09-08T10:23:00.469Z"
   },
   {
    "duration": 30,
    "start_time": "2022-09-08T10:23:01.229Z"
   },
   {
    "duration": 773,
    "start_time": "2022-09-08T10:23:02.457Z"
   },
   {
    "duration": 19,
    "start_time": "2022-09-08T10:23:03.461Z"
   },
   {
    "duration": 3,
    "start_time": "2022-09-08T10:23:12.499Z"
   },
   {
    "duration": 10,
    "start_time": "2022-09-08T10:23:14.159Z"
   },
   {
    "duration": 5,
    "start_time": "2022-09-08T10:23:16.385Z"
   },
   {
    "duration": 243,
    "start_time": "2022-09-08T10:23:17.329Z"
   },
   {
    "duration": 15,
    "start_time": "2022-09-08T10:23:21.795Z"
   },
   {
    "duration": 7,
    "start_time": "2022-09-08T10:23:22.787Z"
   },
   {
    "duration": 5,
    "start_time": "2022-09-08T10:23:23.586Z"
   },
   {
    "duration": 4,
    "start_time": "2022-09-08T10:23:28.418Z"
   },
   {
    "duration": 21,
    "start_time": "2022-09-08T10:23:29.079Z"
   },
   {
    "duration": 8,
    "start_time": "2022-09-08T10:23:32.987Z"
   },
   {
    "duration": 6,
    "start_time": "2022-09-08T10:23:37.726Z"
   },
   {
    "duration": 5,
    "start_time": "2022-09-08T10:23:38.418Z"
   },
   {
    "duration": 5,
    "start_time": "2022-09-08T10:23:42.086Z"
   },
   {
    "duration": 147,
    "start_time": "2022-09-08T10:23:42.818Z"
   },
   {
    "duration": 6,
    "start_time": "2022-09-08T10:23:47.017Z"
   },
   {
    "duration": 199,
    "start_time": "2022-09-08T10:23:50.523Z"
   },
   {
    "duration": 316,
    "start_time": "2022-09-08T10:23:54.472Z"
   },
   {
    "duration": 2,
    "start_time": "2022-09-08T10:24:40.613Z"
   },
   {
    "duration": 146,
    "start_time": "2022-09-08T10:24:41.601Z"
   },
   {
    "duration": 200,
    "start_time": "2022-09-08T10:24:47.888Z"
   },
   {
    "duration": 21,
    "start_time": "2022-09-08T10:24:51.133Z"
   },
   {
    "duration": 17,
    "start_time": "2022-09-08T10:25:08.397Z"
   },
   {
    "duration": 9,
    "start_time": "2022-09-08T10:25:11.499Z"
   },
   {
    "duration": 15,
    "start_time": "2022-09-08T10:25:16.369Z"
   },
   {
    "duration": 109,
    "start_time": "2022-09-08T10:25:31.490Z"
   },
   {
    "duration": 110,
    "start_time": "2022-09-08T10:25:34.978Z"
   },
   {
    "duration": 119,
    "start_time": "2022-09-08T10:25:38.760Z"
   },
   {
    "duration": 113,
    "start_time": "2022-09-08T10:25:43.577Z"
   },
   {
    "duration": 128,
    "start_time": "2022-09-08T10:25:47.297Z"
   },
   {
    "duration": 23,
    "start_time": "2022-09-08T10:25:52.269Z"
   },
   {
    "duration": 126,
    "start_time": "2022-09-08T10:25:55.088Z"
   },
   {
    "duration": 22,
    "start_time": "2022-09-08T10:25:58.489Z"
   },
   {
    "duration": 126,
    "start_time": "2022-09-08T10:26:01.787Z"
   },
   {
    "duration": 10,
    "start_time": "2022-09-08T10:26:05.559Z"
   },
   {
    "duration": 24,
    "start_time": "2022-09-08T10:26:09.056Z"
   },
   {
    "duration": 142,
    "start_time": "2022-09-08T10:26:11.789Z"
   },
   {
    "duration": 24,
    "start_time": "2022-09-08T10:26:15.899Z"
   },
   {
    "duration": 158,
    "start_time": "2022-09-08T10:26:18.529Z"
   },
   {
    "duration": 10,
    "start_time": "2022-09-08T10:26:21.599Z"
   },
   {
    "duration": 13,
    "start_time": "2022-09-08T10:26:24.912Z"
   },
   {
    "duration": 23,
    "start_time": "2022-09-08T10:26:29.241Z"
   },
   {
    "duration": 15,
    "start_time": "2022-09-08T10:26:34.126Z"
   },
   {
    "duration": 15,
    "start_time": "2022-09-08T10:26:38.408Z"
   },
   {
    "duration": 15,
    "start_time": "2022-09-08T10:26:42.459Z"
   },
   {
    "duration": 233,
    "start_time": "2022-09-08T10:26:43.263Z"
   },
   {
    "duration": 20,
    "start_time": "2022-09-08T10:26:47.298Z"
   },
   {
    "duration": 149,
    "start_time": "2022-09-08T10:26:48.229Z"
   },
   {
    "duration": 13,
    "start_time": "2022-09-08T10:26:51.569Z"
   },
   {
    "duration": 135,
    "start_time": "2022-09-08T10:26:52.490Z"
   },
   {
    "duration": 14,
    "start_time": "2022-09-08T10:26:58.319Z"
   },
   {
    "duration": 171,
    "start_time": "2022-09-08T10:26:59.397Z"
   },
   {
    "duration": 14,
    "start_time": "2022-09-08T10:27:03.819Z"
   },
   {
    "duration": 163,
    "start_time": "2022-09-08T10:27:04.543Z"
   },
   {
    "duration": 14,
    "start_time": "2022-09-08T10:27:09.008Z"
   },
   {
    "duration": 179,
    "start_time": "2022-09-08T10:27:09.723Z"
   },
   {
    "duration": 5,
    "start_time": "2022-09-08T10:27:14.578Z"
   },
   {
    "duration": 5,
    "start_time": "2022-09-08T10:27:17.208Z"
   },
   {
    "duration": 3,
    "start_time": "2022-09-08T10:27:19.968Z"
   },
   {
    "duration": 4,
    "start_time": "2022-09-08T10:27:20.819Z"
   },
   {
    "duration": 6,
    "start_time": "2022-09-08T10:27:32.298Z"
   },
   {
    "duration": 5,
    "start_time": "2022-09-08T10:27:33.068Z"
   },
   {
    "duration": 6,
    "start_time": "2022-09-08T10:27:35.405Z"
   }
  ],
  "kernelspec": {
   "display_name": "Python 3 (ipykernel)",
   "language": "python",
   "name": "python3"
  },
  "language_info": {
   "codemirror_mode": {
    "name": "ipython",
    "version": 3
   },
   "file_extension": ".py",
   "mimetype": "text/x-python",
   "name": "python",
   "nbconvert_exporter": "python",
   "pygments_lexer": "ipython3",
   "version": "3.9.13"
  },
  "toc": {
   "base_numbering": 1,
   "nav_menu": {},
   "number_sections": true,
   "sideBar": true,
   "skip_h1_title": true,
   "title_cell": "Table of Contents",
   "title_sidebar": "Contents",
   "toc_cell": false,
   "toc_position": {},
   "toc_section_display": true,
   "toc_window_display": false
  }
 },
 "nbformat": 4,
 "nbformat_minor": 2
}
